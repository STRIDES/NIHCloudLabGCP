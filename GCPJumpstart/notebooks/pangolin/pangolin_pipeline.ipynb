{
 "cells": [
  {
   "cell_type": "markdown",
   "id": "adca1daf",
   "metadata": {},
   "source": [
    "# <span style=\"color:gray\">Pangolin SARS-CoV-2 Pipeline Notebook</span>"
   ]
  },
  {
   "cell_type": "markdown",
   "id": "a167c0c2-543f-41c1-8e54-5878b3eee2c5",
   "metadata": {},
   "source": [
    "We are going to run a standard covid bioinformatics pipeline using the Pangolin workflow. https://cov-lineages.org/resources/pangolin/usage.html"
   ]
  },
  {
   "cell_type": "markdown",
   "id": "11656fbb",
   "metadata": {},
   "source": [
    "### Required software"
   ]
  },
  {
   "cell_type": "code",
   "execution_count": 17,
   "id": "a4d96648-27e6-4c01-a5d9-d1c1041a5206",
   "metadata": {},
   "outputs": [],
   "source": [
    "#change this depending on how many threads are available in your notebook\n",
    "CPU=4"
   ]
  },
  {
   "cell_type": "code",
   "execution_count": 1,
   "id": "ea2ead6d",
   "metadata": {},
   "outputs": [
    {
     "name": "stderr",
     "output_type": "stream",
     "text": [
      "  % Total    % Received % Xferd  Average Speed   Time    Time     Time  Current\n",
      "                                 Dload  Upload   Total   Spent    Left  Speed\n",
      "100   161  100   161    0     0   1047      0 --:--:-- --:--:-- --:--:--  1052\n",
      "100   665  100   665    0     0   2923      0 --:--:-- --:--:-- --:--:--  2923\n",
      "100 88.9M  100 88.9M    0     0  57.4M      0  0:00:01  0:00:01 --:--:-- 80.3M\n",
      "ERROR: File or directory already exists: '/home/jupyter/mambaforge'\n",
      "If you want to update an existing installation, use the -u option.\n"
     ]
    }
   ],
   "source": [
    "%%bash\n",
    "\n",
    "#install Mamba\n",
    "curl -L -O https://github.com/conda-forge/miniforge/releases/latest/download/Mambaforge-$(uname)-$(uname -m).sh\n",
    "bash Mambaforge-$(uname)-$(uname -m).sh -b -p $HOME/mambaforge\n",
    "rm Mamba*"
   ]
  },
  {
   "cell_type": "code",
   "execution_count": 2,
   "id": "c91b4c87-2ab7-44c5-9219-2d0e32480224",
   "metadata": {},
   "outputs": [],
   "source": [
    "%%bash\n",
    "\n",
    "#move mamba executable to your path\n",
    "cp /home/jupyter/mambaforge/bin/mamba /opt/conda/bin"
   ]
  },
  {
   "cell_type": "code",
   "execution_count": 3,
   "id": "3c5379eb-8e87-4319-84dd-2585607587d3",
   "metadata": {},
   "outputs": [
    {
     "name": "stdout",
     "output_type": "stream",
     "text": [
      "Requirement already satisfied: biopython in /opt/conda/lib/python3.7/site-packages (1.79)\n",
      "Requirement already satisfied: numpy in /opt/conda/lib/python3.7/site-packages (from biopython) (1.19.5)\n"
     ]
    }
   ],
   "source": [
    "%%bash\n",
    "\n",
    "#install biopython to import packages below\n",
    "pip install biopython"
   ]
  },
  {
   "cell_type": "markdown",
   "id": "6c2a5998-1ce2-4238-b7d2-c2870bb65cb2",
   "metadata": {},
   "source": [
    "Now we want to create a conda/mamba env that has all of our necessary dependencies"
   ]
  },
  {
   "cell_type": "code",
   "execution_count": 4,
   "id": "fe383c5a-3733-4cc1-a114-caf2032abd98",
   "metadata": {},
   "outputs": [
    {
     "name": "stdout",
     "output_type": "stream",
     "text": [
      "name: pangolin\n",
      "channels:\n",
      "  - bioconda\n",
      "  - conda-forge\n",
      "  - defaults\n",
      "  - eaton-lab\n",
      "  \n",
      "dependencies:\n",
      "  - sra-tools\n",
      "  - ipyrad\n",
      "  - toytree\n",
      "  - pangolin\n",
      "  - iqtree\n"
     ]
    }
   ],
   "source": [
    "#you can look at the yaml file that specifies which programs we want to install\n",
    "#you can also specify specific versions, here we just use the latest conda versionå\n",
    "#for example, - sra-tools=2.11.0\n",
    "!cat pangolin.yaml"
   ]
  },
  {
   "cell_type": "code",
   "execution_count": 5,
   "id": "347da4fc-49db-4a0d-9816-9853cf396776",
   "metadata": {},
   "outputs": [
    {
     "name": "stdout",
     "output_type": "stream",
     "text": [
      "\n",
      "CondaValueError: prefix already exists: /home/jupyter/mambaforge/envs/pangolin\n",
      "\n"
     ]
    }
   ],
   "source": [
    "#create the environment. Here we use mamba because it is faster than conda\n",
    "!mamba env create -f pangolin.yaml"
   ]
  },
  {
   "cell_type": "code",
   "execution_count": 6,
   "id": "816ea9e2-07dd-4ac3-adce-3ce6dfb8a759",
   "metadata": {},
   "outputs": [],
   "source": [
    "#give it the whole path to the env because otherwise it can't find the env\n",
    "#if you want to play with it add a cell and type 'conda activate pangolin' \n",
    "#or 'source activate pangolin'\n",
    "!source activate /home/jupyter/mambaforge/envs/pangolin"
   ]
  },
  {
   "cell_type": "code",
   "execution_count": 7,
   "id": "24b2958b-73c1-4051-ac9e-d1d67d0d720d",
   "metadata": {},
   "outputs": [
    {
     "name": "stdout",
     "output_type": "stream",
     "text": [
      "IQ-TREE multicore version 2.1.4-beta COVID-edition for Linux 64-bit built Jun 24 2021\n",
      "Developed by Bui Quang Minh, James Barbetti, Nguyen Lam Tung,\n",
      "Olga Chernomor, Heiko Schmidt, Dominik Schrempf, Michael Woodhams.\n",
      "\n",
      "Command-line examples (replace 'iqtree2 ...' by actual path to executable):\n",
      "\n",
      "1. Infer maximum-likelihood tree from a sequence alignment (example.phy)\n",
      "   with the best-fit model automatically selected by ModelFinder:\n",
      "     iqtree2 -s example.phy\n",
      "\n",
      "2. Perform ModelFinder without subsequent tree inference:\n",
      "     iqtree2 -s example.phy -m MF\n",
      "   (use '-m TEST' to resemble jModelTest/ProtTest)\n",
      "\n",
      "3. Combine ModelFinder, tree search, ultrafast bootstrap and SH-aLRT test:\n",
      "     iqtree2 -s example.phy --alrt 1000 -B 1000\n",
      "\n",
      "4. Perform edge-linked proportional partition model (example.nex):\n",
      "     iqtree2 -s example.phy -p example.nex\n",
      "   (replace '-p' by '-Q' for edge-unlinked model)\n",
      "\n",
      "5. Find best partition scheme by possibly merging partitions:\n",
      "     iqtree2 -s example.phy -p example.nex -m MF+MERGE\n",
      "   (use '-m TESTMERGEONLY' to resemble PartitionFinder)\n",
      "\n",
      "6. Find best partition scheme followed by tree inference and bootstrap:\n",
      "     iqtree2 -s example.phy -p example.nex -m MFP+MERGE -B 1000\n",
      "\n",
      "7. Use 4 CPU cores to speed up computation: add '-T 4' option\n",
      "\n",
      "8. Polymorphism-aware model with HKY nucleotide model and Gamma rate:\n",
      "     iqtree2 -s counts_file.cf -m HKY+P+G\n",
      "\n",
      "9. PoMo mixture with virtual popsize 5 and weighted binomial sampling:\n",
      "     iqtree2 -s counts_file.cf -m \"MIX{HKY+P{EMP},JC+P}+N5+WB\"\n",
      "\n",
      "To show all available options: run 'iqtree2 -h'\n",
      "\n",
      "Have a look at the tutorial and manual for more information:\n",
      "     http://www.iqtree.org\n",
      "\n"
     ]
    }
   ],
   "source": [
    "!iqtree"
   ]
  },
  {
   "cell_type": "code",
   "execution_count": 25,
   "id": "34e5e64f",
   "metadata": {},
   "outputs": [],
   "source": [
    "#import libraries\n",
    "import os\n",
    "import pandas as pd\n",
    "from Bio import SeqIO\n",
    "from Bio import Entrez\n",
    "import toytree\n",
    "import ipyrad.analysis as ipa"
   ]
  },
  {
   "cell_type": "markdown",
   "id": "638bc1bc",
   "metadata": {},
   "source": [
    "### Set up your directory structure and remove files from previous runs if they exist"
   ]
  },
  {
   "cell_type": "code",
   "execution_count": 9,
   "id": "8ab848a7-3d45-4378-a55d-01e292db4b4d",
   "metadata": {},
   "outputs": [
    {
     "name": "stdout",
     "output_type": "stream",
     "text": [
      "/home/jupyter/cloud-lab-training/GCP/notebooks/pangolin\n"
     ]
    }
   ],
   "source": [
    "cd /home/jupyter/cloud-lab-training/GCP/notebooks/pangolin/"
   ]
  },
  {
   "cell_type": "code",
   "execution_count": 10,
   "id": "6d5ab225",
   "metadata": {},
   "outputs": [],
   "source": [
    "if not os.path.exists('pangolin_analysis'):\n",
    "    os.mkdir('pangolin_analysis')\n",
    "os.chdir('pangolin_analysis')"
   ]
  },
  {
   "cell_type": "code",
   "execution_count": 11,
   "id": "be537b3c",
   "metadata": {},
   "outputs": [
    {
     "name": "stdout",
     "output_type": "stream",
     "text": [
      "rm: cannot remove 'sarscov2_*': No such file or directory\n",
      "rm: cannot remove 'lineage_report.csv': No such file or directory\n"
     ]
    }
   ],
   "source": [
    "if os.path.exists('sarscov2_sequences.fasta'):\n",
    "    os.remove('sarscov2_sequences.fasta')\n",
    "!rm sarscov2_*\n",
    "!rm lineage_report.csv"
   ]
  },
  {
   "cell_type": "markdown",
   "id": "e1c2dbbc",
   "metadata": {},
   "source": [
    "### Fetch viral sequences using a list of accession IDs"
   ]
  },
  {
   "cell_type": "code",
   "execution_count": 12,
   "id": "08e308bf",
   "metadata": {},
   "outputs": [
    {
     "name": "stdout",
     "output_type": "stream",
     "text": [
      "the number of sequences we will analyze =  18\n"
     ]
    }
   ],
   "source": [
    "#give a list of accession number for covid sequences\n",
    "acc_nums=['NC_045512','LR757995','LR757996','OL698718','OL677199','OL672836','MZ914912','MZ916499','MZ908464','MW580573','MW580574','MW580576','MW991906','MW931310','MW932027','MW424864','MW453109','MW453110']\n",
    "print('the number of sequences we will analyze = ',len(acc_nums))"
   ]
  },
  {
   "cell_type": "markdown",
   "id": "dddfae18-362e-4b18-90bb-e5fa30c10951",
   "metadata": {},
   "source": [
    "Let this block run without going to the next until it finishes, otherwise you may get an error about too many requests. If that happens, reset your kernel and just rerun everything (except installing software)."
   ]
  },
  {
   "cell_type": "code",
   "execution_count": 13,
   "id": "e2c241d2",
   "metadata": {},
   "outputs": [
    {
     "name": "stdout",
     "output_type": "stream",
     "text": [
      "Saved NC_045512\n",
      "Saved LR757995\n",
      "Saved LR757996\n",
      "Saved OL698718\n",
      "Saved OL677199\n",
      "Saved OL672836\n",
      "Saved MZ914912\n",
      "Saved MZ916499\n",
      "Saved MZ908464\n",
      "Saved MW580573\n",
      "Saved MW580574\n",
      "Saved MW580576\n",
      "Saved MW991906\n",
      "Saved MW931310\n",
      "Saved MW932027\n",
      "Saved MW424864\n",
      "Saved MW453109\n",
      "Saved MW453110\n"
     ]
    }
   ],
   "source": [
    "#use the bio.entrez toolkit within biopython to download the accession numbers\n",
    "#save those sequences to a single fasta file\n",
    "Entrez.email = \"email@example.com\"  # Always tell NCBI who you are\n",
    "filename = \"sarscov2_seqs.fasta\"\n",
    "if not os.path.isfile(filename):\n",
    "    # Downloading...\n",
    "    for acc in acc_nums:\n",
    "        net_handle = Entrez.efetch(\n",
    "            db=\"nucleotide\", id=acc, rettype=\"fasta\", retmode=\"text\"\n",
    "        )\n",
    "        out_handle = open(filename, \"a\")\n",
    "        out_handle.write(net_handle.read())\n",
    "        out_handle.close()\n",
    "        net_handle.close()\n",
    "        print(\"Saved\",acc)"
   ]
  },
  {
   "cell_type": "code",
   "execution_count": 14,
   "id": "ae5857df-8fad-47db-b43d-bc28df6e6f22",
   "metadata": {},
   "outputs": [
    {
     "name": "stdout",
     "output_type": "stream",
     "text": [
      "the number of seqs in our fasta file: \n",
      "18\n"
     ]
    }
   ],
   "source": [
    "#make sure our fasta file has the same number of seqs as the acc_nums list\n",
    "print('the number of seqs in our fasta file: ')\n",
    "!grep '>' sarscov2_seqs.fasta | wc -l"
   ]
  },
  {
   "cell_type": "code",
   "execution_count": 15,
   "id": "882fd650-1e79-418f-9bf7-e2cb952c86b4",
   "metadata": {},
   "outputs": [
    {
     "name": "stdout",
     "output_type": "stream",
     "text": [
      ">NC_045512.2 Severe acute respiratory syndrome coronavirus 2 isolate Wuhan-Hu-1, complete genome\n",
      "ATTAAAGGTTTATACCTTCCCAGGTAACAAACCAACCAACTTTCGATCTCTTGTAGATCTGTTCTCTAAA\n",
      "CGAACTTTAAAATCTGTGTGGCTGTCACTCGGCTGCATGCTTAGTGCACTCACGCAGTATAATTAATAAC\n",
      "TAATTACTGTCGTTGACAGGACACGAGTAACTCGTCTATCTTCTGCAGGCTGCTTACGGTTTCGTCCGTG\n",
      "TTGCAGCCGATCATCAGCACATCTAGGTTTCGTCCGGGTGTGACCGAAAGGTAAGATGGAGAGCCTTGTC\n",
      "CCTGGTTTCAACGAGAAAACACACGTCCAACTCAGTTTGCCTGTTTTACAGGTTCGCGACGTGCTCGTAC\n",
      "GTGGCTTTGGAGACTCCGTGGAGGAGGTCTTATCAGAGGCACGTCAACATCTTAAAGATGGCACTTGTGG\n",
      "CTTAGTAGAAGTTGAAAAAGGCGTTTTGCCTCAACTTGAACAGCCCTATGTGTTCATCAAACGTTCGGAT\n",
      "GCTCGAACTGCACCTCATGGTCATGTTATGGTTGAGCTGGTAGCAGAACTCGAAGGCATTCAGTACGGTC\n",
      "GTAGTGGTGAGACACTTGGTGTCCTTGTCCCTCATGTGGGCGAAATACCAGTGGCTTACCGCAAGGTTCT\n"
     ]
    }
   ],
   "source": [
    "#let's peek at our new fasta file\n",
    "!head sarscov2_seqs.fasta"
   ]
  },
  {
   "cell_type": "markdown",
   "id": "9078dc71",
   "metadata": {
    "tags": []
   },
   "source": [
    "### Run pangolin to identify lineages and output alignment\n",
    "Here we call pangolin, give it our input sequences and the number of threads. We also tell it to output the alignment. The full list of pangolin parameters can be found in the [docs](https://cov-lineages.org/resources/pangolin/usage.html)."
   ]
  },
  {
   "cell_type": "code",
   "execution_count": 18,
   "id": "36951442",
   "metadata": {},
   "outputs": [
    {
     "name": "stdout",
     "output_type": "stream",
     "text": [
      "\u001b[32mAll dependencies satisfied.\u001b[0m\n",
      "\u001b[32mThe query file is:\u001b[0m/home/jupyter/cloud-lab-training/GCP/notebooks/pangolin/pangolin_analysis/sarscov2_seqs.fasta\n",
      "\u001b[32m** Running sequence QC **\u001b[0m\n",
      "\u001b[32mNumber of sequences detected: \u001b[0m18\n",
      "\u001b[32mTotal passing QC: \u001b[0m18\n",
      "\u001b[32m\n",
      "Data files found:\u001b[0m\n",
      "Trained model:\t/opt/conda/lib/python3.7/site-packages/pangoLEARN/data/decisionTree_v1.joblib\n",
      "Header file:\t/opt/conda/lib/python3.7/site-packages/pangoLEARN/data/decisionTreeHeaders_v1.joblib\n",
      "Designated hash:\t/opt/conda/lib/python3.7/site-packages/pangoLEARN/data/lineages.hash.csv\n",
      "\u001b[33mJob stats:\n",
      "job                     count    min threads    max threads\n",
      "--------------------  -------  -------------  -------------\n",
      "add_failed_seqs             1              1              1\n",
      "align_to_reference          1              1              1\n",
      "all                         1              1              1\n",
      "generate_report             1              1              1\n",
      "get_constellations          1              1              1\n",
      "hash_sequence_assign        1              1              1\n",
      "pangolearn                  1              1              1\n",
      "scorpio                     1              4              4\n",
      "total                       8              1              4\n",
      "\u001b[0m\n",
      "loading model 12/07/2021, 21:47:08\n",
      "/opt/conda/lib/python3.7/site-packages/sklearn/base.py:334: UserWarning: Trying to unpickle estimator DecisionTreeClassifier from version 0.24.2 when using version 0.23.1. This might lead to breaking code or invalid results. Use at your own risk.\n",
      "  UserWarning)\n",
      "processing block of 6 sequences 12/07/2021, 21:47:10\n",
      "complete 12/07/2021, 21:47:10\n",
      "\u001b[32mOutput file written to: \u001b[0m/home/jupyter/cloud-lab-training/GCP/notebooks/pangolin/pangolin_analysis/lineage_report.csv\n",
      "\u001b[32mOutput alignment written to: \u001b[0m/home/jupyter/cloud-lab-training/GCP/notebooks/pangolin/pangolin_analysis/sequences.aln.fasta\n"
     ]
    }
   ],
   "source": [
    "!pangolin sarscov2_seqs.fasta --alignment --threads $CPU"
   ]
  },
  {
   "cell_type": "code",
   "execution_count": 36,
   "id": "91ac1e88-869d-4e68-b221-073419fa4aec",
   "metadata": {},
   "outputs": [
    {
     "data": {
      "text/html": [
       "<div>\n",
       "<style scoped>\n",
       "    .dataframe tbody tr th:only-of-type {\n",
       "        vertical-align: middle;\n",
       "    }\n",
       "\n",
       "    .dataframe tbody tr th {\n",
       "        vertical-align: top;\n",
       "    }\n",
       "\n",
       "    .dataframe thead th {\n",
       "        text-align: right;\n",
       "    }\n",
       "</style>\n",
       "<table border=\"1\" class=\"dataframe\">\n",
       "  <thead>\n",
       "    <tr style=\"text-align: right;\">\n",
       "      <th></th>\n",
       "      <th>taxon</th>\n",
       "      <th>lineage</th>\n",
       "      <th>conflict</th>\n",
       "      <th>ambiguity_score</th>\n",
       "      <th>scorpio_call</th>\n",
       "      <th>scorpio_support</th>\n",
       "      <th>scorpio_conflict</th>\n",
       "      <th>version</th>\n",
       "      <th>pangolin_version</th>\n",
       "      <th>pangoLEARN_version</th>\n",
       "      <th>pango_version</th>\n",
       "      <th>status</th>\n",
       "      <th>note</th>\n",
       "    </tr>\n",
       "  </thead>\n",
       "  <tbody>\n",
       "    <tr>\n",
       "      <th>0</th>\n",
       "      <td>NC_045512.2_Severe_acute_respiratory_syndrome_coronavirus_2_isolate_Wuhan-Hu-1__complete_genome</td>\n",
       "      <td>B</td>\n",
       "      <td>NaN</td>\n",
       "      <td>NaN</td>\n",
       "      <td>NaN</td>\n",
       "      <td>NaN</td>\n",
       "      <td>NaN</td>\n",
       "      <td>PANGO-v1.2.97</td>\n",
       "      <td>3.1.16</td>\n",
       "      <td>2021-11-18</td>\n",
       "      <td>v1.2.97</td>\n",
       "      <td>passed_qc</td>\n",
       "      <td>Assigned from designation hash.</td>\n",
       "    </tr>\n",
       "    <tr>\n",
       "      <th>1</th>\n",
       "      <td>LR757995.1_Severe_acute_respiratory_syndrome_coronavirus_2_genome_assembly__chromosome:_whole_genome</td>\n",
       "      <td>A</td>\n",
       "      <td>NaN</td>\n",
       "      <td>NaN</td>\n",
       "      <td>NaN</td>\n",
       "      <td>NaN</td>\n",
       "      <td>NaN</td>\n",
       "      <td>PANGO-v1.2.97</td>\n",
       "      <td>3.1.16</td>\n",
       "      <td>2021-11-18</td>\n",
       "      <td>v1.2.97</td>\n",
       "      <td>passed_qc</td>\n",
       "      <td>Assigned from designation hash.</td>\n",
       "    </tr>\n",
       "    <tr>\n",
       "      <th>2</th>\n",
       "      <td>LR757996.1_Severe_acute_respiratory_syndrome_coronavirus_2_genome_assembly__chromosome:_whole_genome</td>\n",
       "      <td>B</td>\n",
       "      <td>NaN</td>\n",
       "      <td>NaN</td>\n",
       "      <td>NaN</td>\n",
       "      <td>NaN</td>\n",
       "      <td>NaN</td>\n",
       "      <td>PANGO-v1.2.97</td>\n",
       "      <td>3.1.16</td>\n",
       "      <td>2021-11-18</td>\n",
       "      <td>v1.2.97</td>\n",
       "      <td>passed_qc</td>\n",
       "      <td>Assigned from designation hash.</td>\n",
       "    </tr>\n",
       "    <tr>\n",
       "      <th>3</th>\n",
       "      <td>MW580573.1_Severe_acute_respiratory_syndrome_coronavirus_2_isolate_SARS-CoV-2/human/USA/MD-MDH-0830/2021_ORF1ab_polyprotein_(ORF1ab)__ORF1a_polyprotein_(ORF1ab)__surface_glycoprotein_(S)__ORF3a_protein_(ORF3a)__envelope_protein_(E)__membrane_glyc...</td>\n",
       "      <td>B.1.351</td>\n",
       "      <td>NaN</td>\n",
       "      <td>NaN</td>\n",
       "      <td>Beta (B.1.351-like)</td>\n",
       "      <td>0.857</td>\n",
       "      <td>0.000</td>\n",
       "      <td>PANGO-v1.2.97</td>\n",
       "      <td>3.1.16</td>\n",
       "      <td>2021-11-18</td>\n",
       "      <td>v1.2.97</td>\n",
       "      <td>passed_qc</td>\n",
       "      <td>scorpio call: Alt alleles 12; Ref alleles 0; Amb alleles 0; Oth alleles 2</td>\n",
       "    </tr>\n",
       "    <tr>\n",
       "      <th>4</th>\n",
       "      <td>MW580574.1_Severe_acute_respiratory_syndrome_coronavirus_2_isolate_SARS-CoV-2/human/USA/MD-MDH-0831/2021__complete_genome</td>\n",
       "      <td>B.1.351</td>\n",
       "      <td>NaN</td>\n",
       "      <td>NaN</td>\n",
       "      <td>Beta (B.1.351-like)</td>\n",
       "      <td>0.857</td>\n",
       "      <td>0.000</td>\n",
       "      <td>PANGO-v1.2.97</td>\n",
       "      <td>3.1.16</td>\n",
       "      <td>2021-11-18</td>\n",
       "      <td>v1.2.97</td>\n",
       "      <td>passed_qc</td>\n",
       "      <td>scorpio call: Alt alleles 12; Ref alleles 0; Amb alleles 0; Oth alleles 2</td>\n",
       "    </tr>\n",
       "    <tr>\n",
       "      <th>5</th>\n",
       "      <td>MW580576.1_Severe_acute_respiratory_syndrome_coronavirus_2_isolate_SARS-CoV-2/human/USA/MD-MDH-0833/2021__complete_genome</td>\n",
       "      <td>B.1.351</td>\n",
       "      <td>NaN</td>\n",
       "      <td>NaN</td>\n",
       "      <td>Beta (B.1.351-like)</td>\n",
       "      <td>0.857</td>\n",
       "      <td>0.000</td>\n",
       "      <td>PANGO-v1.2.97</td>\n",
       "      <td>3.1.16</td>\n",
       "      <td>2021-11-18</td>\n",
       "      <td>v1.2.97</td>\n",
       "      <td>passed_qc</td>\n",
       "      <td>scorpio call: Alt alleles 12; Ref alleles 0; Amb alleles 0; Oth alleles 2</td>\n",
       "    </tr>\n",
       "    <tr>\n",
       "      <th>6</th>\n",
       "      <td>MW991906.1_Severe_acute_respiratory_syndrome_coronavirus_2_isolate_SARS-CoV-2/human/USA/CA-CDC-FG-021330/2021_ORF1ab_polyprotein_(ORF1ab)_and_ORF1a_polyprotein_(ORF1ab)_genes__partial_cds;_surface_glycoprotein_(S)__ORF3a_protein_(ORF3a)__envelope...</td>\n",
       "      <td>B.1.617.2</td>\n",
       "      <td>NaN</td>\n",
       "      <td>NaN</td>\n",
       "      <td>Delta (B.1.617.2-like)</td>\n",
       "      <td>1.000</td>\n",
       "      <td>0.000</td>\n",
       "      <td>PANGO-v1.2.97</td>\n",
       "      <td>3.1.16</td>\n",
       "      <td>2021-11-18</td>\n",
       "      <td>v1.2.97</td>\n",
       "      <td>passed_qc</td>\n",
       "      <td>scorpio call: Alt alleles 13; Ref alleles 0; Amb alleles 0; Oth alleles 0</td>\n",
       "    </tr>\n",
       "    <tr>\n",
       "      <th>7</th>\n",
       "      <td>MW931310.1_Severe_acute_respiratory_syndrome_coronavirus_2_isolate_SARS-CoV-2/human/USA/IN-CDC-STM-000045992/2021__complete_genome</td>\n",
       "      <td>B.1.617.2</td>\n",
       "      <td>NaN</td>\n",
       "      <td>NaN</td>\n",
       "      <td>Delta (B.1.617.2-like)</td>\n",
       "      <td>0.923</td>\n",
       "      <td>0.077</td>\n",
       "      <td>PANGO-v1.2.97</td>\n",
       "      <td>3.1.16</td>\n",
       "      <td>2021-11-18</td>\n",
       "      <td>v1.2.97</td>\n",
       "      <td>passed_qc</td>\n",
       "      <td>scorpio call: Alt alleles 12; Ref alleles 1; Amb alleles 0; Oth alleles 0</td>\n",
       "    </tr>\n",
       "    <tr>\n",
       "      <th>8</th>\n",
       "      <td>MW932027.1_Severe_acute_respiratory_syndrome_coronavirus_2_isolate_SARS-CoV-2/human/USA/MA-CDC-STM-000044850/2021_ORF1ab_polyprotein_(ORF1ab)__ORF1a_polyprotein_(ORF1ab)__surface_glycoprotein_(S)__ORF3a_protein_(ORF3a)__envelope_protein_(E)__memb...</td>\n",
       "      <td>B.1.617.2</td>\n",
       "      <td>NaN</td>\n",
       "      <td>NaN</td>\n",
       "      <td>Delta (B.1.617.2-like)</td>\n",
       "      <td>0.923</td>\n",
       "      <td>0.077</td>\n",
       "      <td>PANGO-v1.2.97</td>\n",
       "      <td>3.1.16</td>\n",
       "      <td>2021-11-18</td>\n",
       "      <td>v1.2.97</td>\n",
       "      <td>passed_qc</td>\n",
       "      <td>scorpio call: Alt alleles 12; Ref alleles 1; Amb alleles 0; Oth alleles 0</td>\n",
       "    </tr>\n",
       "    <tr>\n",
       "      <th>9</th>\n",
       "      <td>MW424864.1_Severe_acute_respiratory_syndrome_coronavirus_2_isolate_SARS-CoV-2/human/USA/CA-LACPHL-AF00051/2020__complete_genome</td>\n",
       "      <td>B.1.427</td>\n",
       "      <td>NaN</td>\n",
       "      <td>NaN</td>\n",
       "      <td>NaN</td>\n",
       "      <td>NaN</td>\n",
       "      <td>NaN</td>\n",
       "      <td>PANGO-v1.2.97</td>\n",
       "      <td>3.1.16</td>\n",
       "      <td>2021-11-18</td>\n",
       "      <td>v1.2.97</td>\n",
       "      <td>passed_qc</td>\n",
       "      <td>Assigned from designation hash.</td>\n",
       "    </tr>\n",
       "    <tr>\n",
       "      <th>10</th>\n",
       "      <td>MW453109.1_Severe_acute_respiratory_syndrome_coronavirus_2_isolate_SARS-CoV-2/human/USA/CA-LACPHL-AF00094/2020__complete_genome</td>\n",
       "      <td>B.1.427</td>\n",
       "      <td>NaN</td>\n",
       "      <td>NaN</td>\n",
       "      <td>NaN</td>\n",
       "      <td>NaN</td>\n",
       "      <td>NaN</td>\n",
       "      <td>PANGO-v1.2.97</td>\n",
       "      <td>3.1.16</td>\n",
       "      <td>2021-11-18</td>\n",
       "      <td>v1.2.97</td>\n",
       "      <td>passed_qc</td>\n",
       "      <td>Assigned from designation hash.</td>\n",
       "    </tr>\n",
       "    <tr>\n",
       "      <th>11</th>\n",
       "      <td>MW453110.1_Severe_acute_respiratory_syndrome_coronavirus_2_isolate_SARS-CoV-2/human/USA/CA-LACPHL-AF00093/2020__complete_genome</td>\n",
       "      <td>B.1.427</td>\n",
       "      <td>NaN</td>\n",
       "      <td>NaN</td>\n",
       "      <td>NaN</td>\n",
       "      <td>NaN</td>\n",
       "      <td>NaN</td>\n",
       "      <td>PANGO-v1.2.97</td>\n",
       "      <td>3.1.16</td>\n",
       "      <td>2021-11-18</td>\n",
       "      <td>v1.2.97</td>\n",
       "      <td>passed_qc</td>\n",
       "      <td>Assigned from designation hash.</td>\n",
       "    </tr>\n",
       "    <tr>\n",
       "      <th>12</th>\n",
       "      <td>OL698718.1_Severe_acute_respiratory_syndrome_coronavirus_2_isolate_SARS-CoV-2/human/USA/MN-MDH-18236/2021_ORF1ab_polyprotein_(ORF1ab)__ORF1a_polyprotein_(ORF1ab)__surface_glycoprotein_(S)__ORF3a_protein_(ORF3a)__envelope_protein_(E)__membrane_gly...</td>\n",
       "      <td>B.1.1.529</td>\n",
       "      <td>0.0</td>\n",
       "      <td>0.987</td>\n",
       "      <td>Omicron (B.1.1.529-like)</td>\n",
       "      <td>0.851</td>\n",
       "      <td>0.000</td>\n",
       "      <td>PLEARN-v1.2.97</td>\n",
       "      <td>3.1.16</td>\n",
       "      <td>2021-11-18</td>\n",
       "      <td>v1.2.97</td>\n",
       "      <td>passed_qc</td>\n",
       "      <td>scorpio call: Alt alleles 40; Ref alleles 0; Amb alleles 7; Oth alleles 0; scorpio replaced lineage assignment B.1.1.263</td>\n",
       "    </tr>\n",
       "    <tr>\n",
       "      <th>13</th>\n",
       "      <td>OL677199.1_Severe_acute_respiratory_syndrome_coronavirus_2_isolate_SARS-CoV-2/human/CAN/ON-NML-249359/2021_ORF1ab_polyprotein_(ORF1ab)__ORF1a_polyprotein_(ORF1ab)__surface_glycoprotein_(S)__ORF3a_protein_(ORF3a)__envelope_protein_(E)__membrane_gl...</td>\n",
       "      <td>B.1.1.529</td>\n",
       "      <td>0.0</td>\n",
       "      <td>0.998</td>\n",
       "      <td>Omicron (B.1.1.529-like)</td>\n",
       "      <td>0.979</td>\n",
       "      <td>0.000</td>\n",
       "      <td>PLEARN-v1.2.97</td>\n",
       "      <td>3.1.16</td>\n",
       "      <td>2021-11-18</td>\n",
       "      <td>v1.2.97</td>\n",
       "      <td>passed_qc</td>\n",
       "      <td>scorpio call: Alt alleles 46; Ref alleles 0; Amb alleles 1; Oth alleles 0; scorpio replaced lineage assignment AZ.2</td>\n",
       "    </tr>\n",
       "    <tr>\n",
       "      <th>14</th>\n",
       "      <td>OL672836.1_Severe_acute_respiratory_syndrome_coronavirus_2_isolate_SARS-CoV-2/human/BEL/rega-20174/2021__complete_genome</td>\n",
       "      <td>B.1.1.529</td>\n",
       "      <td>0.0</td>\n",
       "      <td>1.000</td>\n",
       "      <td>Omicron (B.1.1.529-like)</td>\n",
       "      <td>0.979</td>\n",
       "      <td>0.000</td>\n",
       "      <td>PLEARN-v1.2.97</td>\n",
       "      <td>3.1.16</td>\n",
       "      <td>2021-11-18</td>\n",
       "      <td>v1.2.97</td>\n",
       "      <td>passed_qc</td>\n",
       "      <td>scorpio call: Alt alleles 46; Ref alleles 0; Amb alleles 1; Oth alleles 0; scorpio replaced lineage assignment AZ.2</td>\n",
       "    </tr>\n",
       "    <tr>\n",
       "      <th>15</th>\n",
       "      <td>MZ914912.1_Severe_acute_respiratory_syndrome_coronavirus_2_isolate_SARS-CoV-2/human/USA/TG796484/2020_ORF1ab_polyprotein_(ORF1ab)__ORF1a_polyprotein_(ORF1ab)__surface_glycoprotein_(S)__ORF3a_protein_(ORF3a)__envelope_protein_(E)__membrane_glycopr...</td>\n",
       "      <td>B.1.1.70</td>\n",
       "      <td>0.0</td>\n",
       "      <td>0.993</td>\n",
       "      <td>NaN</td>\n",
       "      <td>NaN</td>\n",
       "      <td>NaN</td>\n",
       "      <td>PLEARN-v1.2.97</td>\n",
       "      <td>3.1.16</td>\n",
       "      <td>2021-11-18</td>\n",
       "      <td>v1.2.97</td>\n",
       "      <td>passed_qc</td>\n",
       "      <td>NaN</td>\n",
       "    </tr>\n",
       "    <tr>\n",
       "      <th>16</th>\n",
       "      <td>MZ916499.1_Severe_acute_respiratory_syndrome_coronavirus_2_isolate_SARS-CoV-2/human/USA/TG841289/2020_ORF1ab_polyprotein_(ORF1ab)_and_ORF1a_polyprotein_(ORF1ab)_genes__partial_cds;_and_surface_glycoprotein_(S)__ORF3a_protein_(ORF3a)__envelope_pro...</td>\n",
       "      <td>B.1.1.70</td>\n",
       "      <td>0.0</td>\n",
       "      <td>0.939</td>\n",
       "      <td>NaN</td>\n",
       "      <td>NaN</td>\n",
       "      <td>NaN</td>\n",
       "      <td>PLEARN-v1.2.97</td>\n",
       "      <td>3.1.16</td>\n",
       "      <td>2021-11-18</td>\n",
       "      <td>v1.2.97</td>\n",
       "      <td>passed_qc</td>\n",
       "      <td>NaN</td>\n",
       "    </tr>\n",
       "    <tr>\n",
       "      <th>17</th>\n",
       "      <td>MZ908464.1_Severe_acute_respiratory_syndrome_coronavirus_2_isolate_SARS-CoV-2/human/USA/TG769681/2020_ORF1ab_polyprotein_(ORF1ab)__ORF1a_polyprotein_(ORF1ab)__surface_glycoprotein_(S)__ORF3a_protein_(ORF3a)__envelope_protein_(E)__membrane_glycopr...</td>\n",
       "      <td>B.1.1.70</td>\n",
       "      <td>0.0</td>\n",
       "      <td>0.950</td>\n",
       "      <td>NaN</td>\n",
       "      <td>NaN</td>\n",
       "      <td>NaN</td>\n",
       "      <td>PLEARN-v1.2.97</td>\n",
       "      <td>3.1.16</td>\n",
       "      <td>2021-11-18</td>\n",
       "      <td>v1.2.97</td>\n",
       "      <td>passed_qc</td>\n",
       "      <td>NaN</td>\n",
       "    </tr>\n",
       "  </tbody>\n",
       "</table>\n",
       "</div>"
      ],
      "text/plain": [
       "                                                                                                                                                                                                                                                        taxon  \\\n",
       "0                                                                                                                                                             NC_045512.2_Severe_acute_respiratory_syndrome_coronavirus_2_isolate_Wuhan-Hu-1__complete_genome   \n",
       "1                                                                                                                                                        LR757995.1_Severe_acute_respiratory_syndrome_coronavirus_2_genome_assembly__chromosome:_whole_genome   \n",
       "2                                                                                                                                                        LR757996.1_Severe_acute_respiratory_syndrome_coronavirus_2_genome_assembly__chromosome:_whole_genome   \n",
       "3   MW580573.1_Severe_acute_respiratory_syndrome_coronavirus_2_isolate_SARS-CoV-2/human/USA/MD-MDH-0830/2021_ORF1ab_polyprotein_(ORF1ab)__ORF1a_polyprotein_(ORF1ab)__surface_glycoprotein_(S)__ORF3a_protein_(ORF3a)__envelope_protein_(E)__membrane_glyc...   \n",
       "4                                                                                                                                   MW580574.1_Severe_acute_respiratory_syndrome_coronavirus_2_isolate_SARS-CoV-2/human/USA/MD-MDH-0831/2021__complete_genome   \n",
       "5                                                                                                                                   MW580576.1_Severe_acute_respiratory_syndrome_coronavirus_2_isolate_SARS-CoV-2/human/USA/MD-MDH-0833/2021__complete_genome   \n",
       "6   MW991906.1_Severe_acute_respiratory_syndrome_coronavirus_2_isolate_SARS-CoV-2/human/USA/CA-CDC-FG-021330/2021_ORF1ab_polyprotein_(ORF1ab)_and_ORF1a_polyprotein_(ORF1ab)_genes__partial_cds;_surface_glycoprotein_(S)__ORF3a_protein_(ORF3a)__envelope...   \n",
       "7                                                                                                                          MW931310.1_Severe_acute_respiratory_syndrome_coronavirus_2_isolate_SARS-CoV-2/human/USA/IN-CDC-STM-000045992/2021__complete_genome   \n",
       "8   MW932027.1_Severe_acute_respiratory_syndrome_coronavirus_2_isolate_SARS-CoV-2/human/USA/MA-CDC-STM-000044850/2021_ORF1ab_polyprotein_(ORF1ab)__ORF1a_polyprotein_(ORF1ab)__surface_glycoprotein_(S)__ORF3a_protein_(ORF3a)__envelope_protein_(E)__memb...   \n",
       "9                                                                                                                             MW424864.1_Severe_acute_respiratory_syndrome_coronavirus_2_isolate_SARS-CoV-2/human/USA/CA-LACPHL-AF00051/2020__complete_genome   \n",
       "10                                                                                                                            MW453109.1_Severe_acute_respiratory_syndrome_coronavirus_2_isolate_SARS-CoV-2/human/USA/CA-LACPHL-AF00094/2020__complete_genome   \n",
       "11                                                                                                                            MW453110.1_Severe_acute_respiratory_syndrome_coronavirus_2_isolate_SARS-CoV-2/human/USA/CA-LACPHL-AF00093/2020__complete_genome   \n",
       "12  OL698718.1_Severe_acute_respiratory_syndrome_coronavirus_2_isolate_SARS-CoV-2/human/USA/MN-MDH-18236/2021_ORF1ab_polyprotein_(ORF1ab)__ORF1a_polyprotein_(ORF1ab)__surface_glycoprotein_(S)__ORF3a_protein_(ORF3a)__envelope_protein_(E)__membrane_gly...   \n",
       "13  OL677199.1_Severe_acute_respiratory_syndrome_coronavirus_2_isolate_SARS-CoV-2/human/CAN/ON-NML-249359/2021_ORF1ab_polyprotein_(ORF1ab)__ORF1a_polyprotein_(ORF1ab)__surface_glycoprotein_(S)__ORF3a_protein_(ORF3a)__envelope_protein_(E)__membrane_gl...   \n",
       "14                                                                                                                                   OL672836.1_Severe_acute_respiratory_syndrome_coronavirus_2_isolate_SARS-CoV-2/human/BEL/rega-20174/2021__complete_genome   \n",
       "15  MZ914912.1_Severe_acute_respiratory_syndrome_coronavirus_2_isolate_SARS-CoV-2/human/USA/TG796484/2020_ORF1ab_polyprotein_(ORF1ab)__ORF1a_polyprotein_(ORF1ab)__surface_glycoprotein_(S)__ORF3a_protein_(ORF3a)__envelope_protein_(E)__membrane_glycopr...   \n",
       "16  MZ916499.1_Severe_acute_respiratory_syndrome_coronavirus_2_isolate_SARS-CoV-2/human/USA/TG841289/2020_ORF1ab_polyprotein_(ORF1ab)_and_ORF1a_polyprotein_(ORF1ab)_genes__partial_cds;_and_surface_glycoprotein_(S)__ORF3a_protein_(ORF3a)__envelope_pro...   \n",
       "17  MZ908464.1_Severe_acute_respiratory_syndrome_coronavirus_2_isolate_SARS-CoV-2/human/USA/TG769681/2020_ORF1ab_polyprotein_(ORF1ab)__ORF1a_polyprotein_(ORF1ab)__surface_glycoprotein_(S)__ORF3a_protein_(ORF3a)__envelope_protein_(E)__membrane_glycopr...   \n",
       "\n",
       "      lineage  conflict  ambiguity_score              scorpio_call  \\\n",
       "0           B       NaN              NaN                       NaN   \n",
       "1           A       NaN              NaN                       NaN   \n",
       "2           B       NaN              NaN                       NaN   \n",
       "3     B.1.351       NaN              NaN       Beta (B.1.351-like)   \n",
       "4     B.1.351       NaN              NaN       Beta (B.1.351-like)   \n",
       "5     B.1.351       NaN              NaN       Beta (B.1.351-like)   \n",
       "6   B.1.617.2       NaN              NaN    Delta (B.1.617.2-like)   \n",
       "7   B.1.617.2       NaN              NaN    Delta (B.1.617.2-like)   \n",
       "8   B.1.617.2       NaN              NaN    Delta (B.1.617.2-like)   \n",
       "9     B.1.427       NaN              NaN                       NaN   \n",
       "10    B.1.427       NaN              NaN                       NaN   \n",
       "11    B.1.427       NaN              NaN                       NaN   \n",
       "12  B.1.1.529       0.0            0.987  Omicron (B.1.1.529-like)   \n",
       "13  B.1.1.529       0.0            0.998  Omicron (B.1.1.529-like)   \n",
       "14  B.1.1.529       0.0            1.000  Omicron (B.1.1.529-like)   \n",
       "15   B.1.1.70       0.0            0.993                       NaN   \n",
       "16   B.1.1.70       0.0            0.939                       NaN   \n",
       "17   B.1.1.70       0.0            0.950                       NaN   \n",
       "\n",
       "    scorpio_support  scorpio_conflict         version pangolin_version  \\\n",
       "0               NaN               NaN   PANGO-v1.2.97           3.1.16   \n",
       "1               NaN               NaN   PANGO-v1.2.97           3.1.16   \n",
       "2               NaN               NaN   PANGO-v1.2.97           3.1.16   \n",
       "3             0.857             0.000   PANGO-v1.2.97           3.1.16   \n",
       "4             0.857             0.000   PANGO-v1.2.97           3.1.16   \n",
       "5             0.857             0.000   PANGO-v1.2.97           3.1.16   \n",
       "6             1.000             0.000   PANGO-v1.2.97           3.1.16   \n",
       "7             0.923             0.077   PANGO-v1.2.97           3.1.16   \n",
       "8             0.923             0.077   PANGO-v1.2.97           3.1.16   \n",
       "9               NaN               NaN   PANGO-v1.2.97           3.1.16   \n",
       "10              NaN               NaN   PANGO-v1.2.97           3.1.16   \n",
       "11              NaN               NaN   PANGO-v1.2.97           3.1.16   \n",
       "12            0.851             0.000  PLEARN-v1.2.97           3.1.16   \n",
       "13            0.979             0.000  PLEARN-v1.2.97           3.1.16   \n",
       "14            0.979             0.000  PLEARN-v1.2.97           3.1.16   \n",
       "15              NaN               NaN  PLEARN-v1.2.97           3.1.16   \n",
       "16              NaN               NaN  PLEARN-v1.2.97           3.1.16   \n",
       "17              NaN               NaN  PLEARN-v1.2.97           3.1.16   \n",
       "\n",
       "   pangoLEARN_version pango_version     status  \\\n",
       "0          2021-11-18       v1.2.97  passed_qc   \n",
       "1          2021-11-18       v1.2.97  passed_qc   \n",
       "2          2021-11-18       v1.2.97  passed_qc   \n",
       "3          2021-11-18       v1.2.97  passed_qc   \n",
       "4          2021-11-18       v1.2.97  passed_qc   \n",
       "5          2021-11-18       v1.2.97  passed_qc   \n",
       "6          2021-11-18       v1.2.97  passed_qc   \n",
       "7          2021-11-18       v1.2.97  passed_qc   \n",
       "8          2021-11-18       v1.2.97  passed_qc   \n",
       "9          2021-11-18       v1.2.97  passed_qc   \n",
       "10         2021-11-18       v1.2.97  passed_qc   \n",
       "11         2021-11-18       v1.2.97  passed_qc   \n",
       "12         2021-11-18       v1.2.97  passed_qc   \n",
       "13         2021-11-18       v1.2.97  passed_qc   \n",
       "14         2021-11-18       v1.2.97  passed_qc   \n",
       "15         2021-11-18       v1.2.97  passed_qc   \n",
       "16         2021-11-18       v1.2.97  passed_qc   \n",
       "17         2021-11-18       v1.2.97  passed_qc   \n",
       "\n",
       "                                                                                                                        note  \n",
       "0                                                                                            Assigned from designation hash.  \n",
       "1                                                                                            Assigned from designation hash.  \n",
       "2                                                                                            Assigned from designation hash.  \n",
       "3                                                  scorpio call: Alt alleles 12; Ref alleles 0; Amb alleles 0; Oth alleles 2  \n",
       "4                                                  scorpio call: Alt alleles 12; Ref alleles 0; Amb alleles 0; Oth alleles 2  \n",
       "5                                                  scorpio call: Alt alleles 12; Ref alleles 0; Amb alleles 0; Oth alleles 2  \n",
       "6                                                  scorpio call: Alt alleles 13; Ref alleles 0; Amb alleles 0; Oth alleles 0  \n",
       "7                                                  scorpio call: Alt alleles 12; Ref alleles 1; Amb alleles 0; Oth alleles 0  \n",
       "8                                                  scorpio call: Alt alleles 12; Ref alleles 1; Amb alleles 0; Oth alleles 0  \n",
       "9                                                                                            Assigned from designation hash.  \n",
       "10                                                                                           Assigned from designation hash.  \n",
       "11                                                                                           Assigned from designation hash.  \n",
       "12  scorpio call: Alt alleles 40; Ref alleles 0; Amb alleles 7; Oth alleles 0; scorpio replaced lineage assignment B.1.1.263  \n",
       "13       scorpio call: Alt alleles 46; Ref alleles 0; Amb alleles 1; Oth alleles 0; scorpio replaced lineage assignment AZ.2  \n",
       "14       scorpio call: Alt alleles 46; Ref alleles 0; Amb alleles 1; Oth alleles 0; scorpio replaced lineage assignment AZ.2  \n",
       "15                                                                                                                       NaN  \n",
       "16                                                                                                                       NaN  \n",
       "17                                                                                                                       NaN  "
      ]
     },
     "execution_count": 36,
     "metadata": {},
     "output_type": "execute_result"
    }
   ],
   "source": [
    "df = pd.read_csv('lineage_report.csv')\n",
    "df"
   ]
  },
  {
   "cell_type": "code",
   "execution_count": 37,
   "id": "49956a51-5d3f-4665-ba07-3555c0f2d7fd",
   "metadata": {},
   "outputs": [
    {
     "data": {
      "text/html": [
       "<div>\n",
       "<style scoped>\n",
       "    .dataframe tbody tr th:only-of-type {\n",
       "        vertical-align: middle;\n",
       "    }\n",
       "\n",
       "    .dataframe tbody tr th {\n",
       "        vertical-align: top;\n",
       "    }\n",
       "\n",
       "    .dataframe thead th {\n",
       "        text-align: right;\n",
       "    }\n",
       "</style>\n",
       "<table border=\"1\" class=\"dataframe\">\n",
       "  <thead>\n",
       "    <tr style=\"text-align: right;\">\n",
       "      <th></th>\n",
       "      <th>taxon</th>\n",
       "      <th>lineage</th>\n",
       "      <th>scorpio_call</th>\n",
       "    </tr>\n",
       "  </thead>\n",
       "  <tbody>\n",
       "    <tr>\n",
       "      <th>0</th>\n",
       "      <td>NC_045512.2_Severe_acute_respiratory_syndrome_coronavirus_2_isolate_Wuhan-Hu-1__complete_genome</td>\n",
       "      <td>B</td>\n",
       "      <td>NaN</td>\n",
       "    </tr>\n",
       "    <tr>\n",
       "      <th>1</th>\n",
       "      <td>LR757995.1_Severe_acute_respiratory_syndrome_coronavirus_2_genome_assembly__chromosome:_whole_genome</td>\n",
       "      <td>A</td>\n",
       "      <td>NaN</td>\n",
       "    </tr>\n",
       "    <tr>\n",
       "      <th>2</th>\n",
       "      <td>LR757996.1_Severe_acute_respiratory_syndrome_coronavirus_2_genome_assembly__chromosome:_whole_genome</td>\n",
       "      <td>B</td>\n",
       "      <td>NaN</td>\n",
       "    </tr>\n",
       "    <tr>\n",
       "      <th>3</th>\n",
       "      <td>MW580573.1_Severe_acute_respiratory_syndrome_coronavirus_2_isolate_SARS-CoV-2/human/USA/MD-MDH-0830/2021_ORF1ab_polyprotein_(ORF1ab)__ORF1a_polyprotein_(ORF1ab)__surface_glycoprotein_(S)__ORF3a_protein_(ORF3a)__envelope_protein_(E)__membrane_glyc...</td>\n",
       "      <td>B.1.351</td>\n",
       "      <td>Beta (B.1.351-like)</td>\n",
       "    </tr>\n",
       "    <tr>\n",
       "      <th>4</th>\n",
       "      <td>MW580574.1_Severe_acute_respiratory_syndrome_coronavirus_2_isolate_SARS-CoV-2/human/USA/MD-MDH-0831/2021__complete_genome</td>\n",
       "      <td>B.1.351</td>\n",
       "      <td>Beta (B.1.351-like)</td>\n",
       "    </tr>\n",
       "  </tbody>\n",
       "</table>\n",
       "</div>"
      ],
      "text/plain": [
       "                                                                                                                                                                                                                                                       taxon  \\\n",
       "0                                                                                                                                                            NC_045512.2_Severe_acute_respiratory_syndrome_coronavirus_2_isolate_Wuhan-Hu-1__complete_genome   \n",
       "1                                                                                                                                                       LR757995.1_Severe_acute_respiratory_syndrome_coronavirus_2_genome_assembly__chromosome:_whole_genome   \n",
       "2                                                                                                                                                       LR757996.1_Severe_acute_respiratory_syndrome_coronavirus_2_genome_assembly__chromosome:_whole_genome   \n",
       "3  MW580573.1_Severe_acute_respiratory_syndrome_coronavirus_2_isolate_SARS-CoV-2/human/USA/MD-MDH-0830/2021_ORF1ab_polyprotein_(ORF1ab)__ORF1a_polyprotein_(ORF1ab)__surface_glycoprotein_(S)__ORF3a_protein_(ORF3a)__envelope_protein_(E)__membrane_glyc...   \n",
       "4                                                                                                                                  MW580574.1_Severe_acute_respiratory_syndrome_coronavirus_2_isolate_SARS-CoV-2/human/USA/MD-MDH-0831/2021__complete_genome   \n",
       "\n",
       "   lineage         scorpio_call  \n",
       "0        B                  NaN  \n",
       "1        A                  NaN  \n",
       "2        B                  NaN  \n",
       "3  B.1.351  Beta (B.1.351-like)  \n",
       "4  B.1.351  Beta (B.1.351-like)  "
      ]
     },
     "execution_count": 37,
     "metadata": {},
     "output_type": "execute_result"
    }
   ],
   "source": [
    "df=df[['taxon','lineage','scorpio_call']]\n",
    "df.head()"
   ]
  },
  {
   "cell_type": "code",
   "execution_count": 43,
   "id": "190b0648-12a3-4903-8de5-1b6e5ac07e46",
   "metadata": {},
   "outputs": [
    {
     "data": {
      "text/plain": [
       "(array([nan, 'Beta (B.1.351-like)', 'Delta (B.1.617.2-like)',\n",
       "        'Omicron (B.1.1.529-like)'], dtype=object),\n",
       " array(['B', 'A', 'B.1.351', 'B.1.617.2', 'B.1.427', 'B.1.1.529',\n",
       "        'B.1.1.70'], dtype=object))"
      ]
     },
     "execution_count": 43,
     "metadata": {},
     "output_type": "execute_result"
    }
   ],
   "source": [
    "#let's take a quick look at what lineages our dataset includes\n",
    "lineages=df.lineage.unique()\n",
    "call = df.scorpio_call.unique()\n",
    "call, lineages"
   ]
  },
  {
   "cell_type": "markdown",
   "id": "bea19ef9",
   "metadata": {},
   "source": [
    "You can view the output file from pangolin called lineage_report.csv (within pangolin_analysis folder) by double clicking on the file, or by right clicking and downloading. What lineages are present in the dataset? Is Omicron in there?"
   ]
  },
  {
   "cell_type": "markdown",
   "id": "8cdc627e",
   "metadata": {},
   "source": [
    "### Run iqtree to estimate maximum likelihood tree for our sequences\n",
    "iqtree can find the best nucleotide model for the data, but here we are going to assign a model to save time (HKY) and just estimate the phylogeny without any bootstrap support values. "
   ]
  },
  {
   "cell_type": "code",
   "execution_count": 44,
   "id": "b80f74d7",
   "metadata": {},
   "outputs": [
    {
     "name": "stdout",
     "output_type": "stream",
     "text": [
      "IQ-TREE multicore version 2.1.4-beta COVID-edition for Linux 64-bit built Jun 24 2021\n",
      "Developed by Bui Quang Minh, James Barbetti, Nguyen Lam Tung,\n",
      "Olga Chernomor, Heiko Schmidt, Dominik Schrempf, Michael Woodhams.\n",
      "\n",
      "Host:    cloud-lab-notebook (AVX2, FMA3, 14 GB RAM)\n",
      "Command: iqtree -s sequences.aln.fasta -nt 4 -m HKY --prefix sarscov2_tree --redo-tree\n",
      "Seed:    667446 (Using SPRNG - Scalable Parallel Random Number Generator)\n",
      "Time:    Tue Dec  7 22:34:48 2021\n",
      "Kernel:  AVX+FMA - 4 threads (4 CPU cores detected)\n",
      "\n",
      "Reading alignment file sequences.aln.fasta ... Fasta format detected\n",
      "Alignment most likely contains DNA/RNA sequences\n",
      "WARNING: 494 sites contain only gaps or ambiguous characters.\n",
      "Alignment has 18 sequences with 29903 columns, 193 distinct patterns\n",
      "109 parsimony-informative, 33 singleton sites, 29761 constant sites\n",
      "WARNING: Some sequence names are changed as follows:\n",
      "LR757995.1_Severe_acute_respiratory_syndrome_coronavirus_2_genome_assembly__chromosome:_whole_genome -> LR757995.1_Severe_acute_respiratory_syndrome_coronavirus_2_genome_assembly__chromosome__whole_genome\n",
      "LR757996.1_Severe_acute_respiratory_syndrome_coronavirus_2_genome_assembly__chromosome:_whole_genome -> LR757996.1_Severe_acute_respiratory_syndrome_coronavirus_2_genome_assembly__chromosome__whole_genome\n",
      "OL698718.1_Severe_acute_respiratory_syndrome_coronavirus_2_isolate_SARS-CoV-2/human/USA/MN-MDH-18236/2021_ORF1ab_polyprotein_(ORF1ab)__ORF1a_polyprotein_(ORF1ab)__surface_glycoprotein_(S)__ORF3a_protein_(ORF3a)__envelope_protein_(E)__membrane_glycoprotein_(M)__ORF6_protein_(ORF6)__ORF7a_protein_(ORF7a)__ORF7b_(ORF7b)__ORF8_protein_(ORF8)__nucleocapsid_phosphoprotein_(N)__and_ORF10_protein_(ORF10)_genes__complete_cds -> OL698718.1_Severe_acute_respiratory_syndrome_coronavirus_2_isolate_SARS-CoV-2/human/USA/MN-MDH-18236/2021_ORF1ab_polyprotein__ORF1ab___ORF1a_polyprotein__ORF1ab___surface_glycoprotein__S___ORF3a_protein__ORF3a___envelope_protein__E___membrane_glycoprotein__M___ORF6_protein__ORF6___ORF7a_protein__ORF7a___ORF7b__ORF7b___ORF8_protein__ORF8___nucleocapsid_phosphoprotein__N___and_ORF10_protein__ORF10__genes__complete_cds\n",
      "OL677199.1_Severe_acute_respiratory_syndrome_coronavirus_2_isolate_SARS-CoV-2/human/CAN/ON-NML-249359/2021_ORF1ab_polyprotein_(ORF1ab)__ORF1a_polyprotein_(ORF1ab)__surface_glycoprotein_(S)__ORF3a_protein_(ORF3a)__envelope_protein_(E)__membrane_glycoprotein_(M)__ORF6_protein_(ORF6)__and_ORF7a_protein_(ORF7a)_genes__complete_cds;_ORF7b_gene__complete_sequence;_and_ORF8_protein_(ORF8)__nucleocapsid_phosphoprotein_(N)__and_ORF10_protein_(ORF10)_genes__complete_cds -> OL677199.1_Severe_acute_respiratory_syndrome_coronavirus_2_isolate_SARS-CoV-2/human/CAN/ON-NML-249359/2021_ORF1ab_polyprotein__ORF1ab___ORF1a_polyprotein__ORF1ab___surface_glycoprotein__S___ORF3a_protein__ORF3a___envelope_protein__E___membrane_glycoprotein__M___ORF6_protein__ORF6___and_ORF7a_protein__ORF7a__genes__complete_cds__ORF7b_gene__complete_sequence__and_ORF8_protein__ORF8___nucleocapsid_phosphoprotein__N___and_ORF10_protein__ORF10__genes__complete_cds\n",
      "MZ914912.1_Severe_acute_respiratory_syndrome_coronavirus_2_isolate_SARS-CoV-2/human/USA/TG796484/2020_ORF1ab_polyprotein_(ORF1ab)__ORF1a_polyprotein_(ORF1ab)__surface_glycoprotein_(S)__ORF3a_protein_(ORF3a)__envelope_protein_(E)__membrane_glycoprotein_(M)__ORF6_protein_(ORF6)__ORF7a_protein_(ORF7a)__ORF7b_(ORF7b)__ORF8_protein_(ORF8)__nucleocapsid_phosphoprotein_(N)__and_ORF10_protein_(ORF10)_genes__complete_cds -> MZ914912.1_Severe_acute_respiratory_syndrome_coronavirus_2_isolate_SARS-CoV-2/human/USA/TG796484/2020_ORF1ab_polyprotein__ORF1ab___ORF1a_polyprotein__ORF1ab___surface_glycoprotein__S___ORF3a_protein__ORF3a___envelope_protein__E___membrane_glycoprotein__M___ORF6_protein__ORF6___ORF7a_protein__ORF7a___ORF7b__ORF7b___ORF8_protein__ORF8___nucleocapsid_phosphoprotein__N___and_ORF10_protein__ORF10__genes__complete_cds\n",
      "MZ916499.1_Severe_acute_respiratory_syndrome_coronavirus_2_isolate_SARS-CoV-2/human/USA/TG841289/2020_ORF1ab_polyprotein_(ORF1ab)_and_ORF1a_polyprotein_(ORF1ab)_genes__partial_cds;_and_surface_glycoprotein_(S)__ORF3a_protein_(ORF3a)__envelope_protein_(E)__membrane_glycoprotein_(M)__ORF6_protein_(ORF6)__ORF7a_protein_(ORF7a)__ORF7b_(ORF7b)__ORF8_protein_(ORF8)__nucleocapsid_phosphoprotein_(N)__and_ORF10_protein_(ORF10)_genes__complete_cds -> MZ916499.1_Severe_acute_respiratory_syndrome_coronavirus_2_isolate_SARS-CoV-2/human/USA/TG841289/2020_ORF1ab_polyprotein__ORF1ab__and_ORF1a_polyprotein__ORF1ab__genes__partial_cds__and_surface_glycoprotein__S___ORF3a_protein__ORF3a___envelope_protein__E___membrane_glycoprotein__M___ORF6_protein__ORF6___ORF7a_protein__ORF7a___ORF7b__ORF7b___ORF8_protein__ORF8___nucleocapsid_phosphoprotein__N___and_ORF10_protein__ORF10__genes__complete_cds\n",
      "MZ908464.1_Severe_acute_respiratory_syndrome_coronavirus_2_isolate_SARS-CoV-2/human/USA/TG769681/2020_ORF1ab_polyprotein_(ORF1ab)__ORF1a_polyprotein_(ORF1ab)__surface_glycoprotein_(S)__ORF3a_protein_(ORF3a)__envelope_protein_(E)__membrane_glycoprotein_(M)__and_ORF6_protein_(ORF6)_genes__complete_cds;_ORF7a_protein_(ORF7a)_and_ORF7b_(ORF7b)_genes__partial_cds;_and_ORF8_protein_(ORF8)__nucleocapsid_phosphoprotein_(N)__and_ORF10_protein_(ORF10)_genes__complete_cds -> MZ908464.1_Severe_acute_respiratory_syndrome_coronavirus_2_isolate_SARS-CoV-2/human/USA/TG769681/2020_ORF1ab_polyprotein__ORF1ab___ORF1a_polyprotein__ORF1ab___surface_glycoprotein__S___ORF3a_protein__ORF3a___envelope_protein__E___membrane_glycoprotein__M___and_ORF6_protein__ORF6__genes__complete_cds__ORF7a_protein__ORF7a__and_ORF7b__ORF7b__genes__partial_cds__and_ORF8_protein__ORF8___nucleocapsid_phosphoprotein__N___and_ORF10_protein__ORF10__genes__complete_cds\n",
      "MW580573.1_Severe_acute_respiratory_syndrome_coronavirus_2_isolate_SARS-CoV-2/human/USA/MD-MDH-0830/2021_ORF1ab_polyprotein_(ORF1ab)__ORF1a_polyprotein_(ORF1ab)__surface_glycoprotein_(S)__ORF3a_protein_(ORF3a)__envelope_protein_(E)__membrane_glycoprotein_(M)__ORF6_protein_(ORF6)__ORF7a_protein_(ORF7a)__ORF7b_(ORF7b)__ORF8_protein_(ORF8)__nucleocapsid_phosphoprotein_(N)__and_ORF10_protein_(ORF10)_genes__complete_cds -> MW580573.1_Severe_acute_respiratory_syndrome_coronavirus_2_isolate_SARS-CoV-2/human/USA/MD-MDH-0830/2021_ORF1ab_polyprotein__ORF1ab___ORF1a_polyprotein__ORF1ab___surface_glycoprotein__S___ORF3a_protein__ORF3a___envelope_protein__E___membrane_glycoprotein__M___ORF6_protein__ORF6___ORF7a_protein__ORF7a___ORF7b__ORF7b___ORF8_protein__ORF8___nucleocapsid_phosphoprotein__N___and_ORF10_protein__ORF10__genes__complete_cds\n",
      "MW991906.1_Severe_acute_respiratory_syndrome_coronavirus_2_isolate_SARS-CoV-2/human/USA/CA-CDC-FG-021330/2021_ORF1ab_polyprotein_(ORF1ab)_and_ORF1a_polyprotein_(ORF1ab)_genes__partial_cds;_surface_glycoprotein_(S)__ORF3a_protein_(ORF3a)__envelope_protein_(E)__membrane_glycoprotein_(M)__ORF6_protein_(ORF6)__ORF7a_protein_(ORF7a)__and_ORF7b_(ORF7b)_genes__complete_cds;_ORF8_gene__complete_sequence;_and_nucleocapsid_phosphoprotein_(N)_and_ORF10_protein_(ORF10)_genes__complete_cds -> MW991906.1_Severe_acute_respiratory_syndrome_coronavirus_2_isolate_SARS-CoV-2/human/USA/CA-CDC-FG-021330/2021_ORF1ab_polyprotein__ORF1ab__and_ORF1a_polyprotein__ORF1ab__genes__partial_cds__surface_glycoprotein__S___ORF3a_protein__ORF3a___envelope_protein__E___membrane_glycoprotein__M___ORF6_protein__ORF6___ORF7a_protein__ORF7a___and_ORF7b__ORF7b__genes__complete_cds__ORF8_gene__complete_sequence__and_nucleocapsid_phosphoprotein__N__and_ORF10_protein__ORF10__genes__complete_cds\n",
      "MW932027.1_Severe_acute_respiratory_syndrome_coronavirus_2_isolate_SARS-CoV-2/human/USA/MA-CDC-STM-000044850/2021_ORF1ab_polyprotein_(ORF1ab)__ORF1a_polyprotein_(ORF1ab)__surface_glycoprotein_(S)__ORF3a_protein_(ORF3a)__envelope_protein_(E)__membrane_glycoprotein_(M)__ORF6_protein_(ORF6)__ORF7a_protein_(ORF7a)__and_ORF7b_(ORF7b)_genes__complete_cds;_ORF8_gene__complete_sequence;_and_nucleocapsid_phosphoprotein_(N)_and_ORF10_protein_(ORF10)_genes__complete_cds -> MW932027.1_Severe_acute_respiratory_syndrome_coronavirus_2_isolate_SARS-CoV-2/human/USA/MA-CDC-STM-000044850/2021_ORF1ab_polyprotein__ORF1ab___ORF1a_polyprotein__ORF1ab___surface_glycoprotein__S___ORF3a_protein__ORF3a___envelope_protein__E___membrane_glycoprotein__M___ORF6_protein__ORF6___ORF7a_protein__ORF7a___and_ORF7b__ORF7b__genes__complete_cds__ORF8_gene__complete_sequence__and_nucleocapsid_phosphoprotein__N__and_ORF10_protein__ORF10__genes__complete_cds\n",
      "\n",
      "                                                                                                                                                                                                                                                                                                                                                                                                                                                                                                   Gap/Ambiguity  Composition  p-value\n",
      "   1  NC_045512.2_Severe_acute_respiratory_syndrome_coronavirus_2_isolate_Wuhan-Hu-1__complete_genome                                                                                                                                                                                                                                                                                                                                                                                                      1.65%    passed     99.98%\n",
      "   2  LR757995.1_Severe_acute_respiratory_syndrome_coronavirus_2_genome_assembly__chromosome__whole_genome                                                                                                                                                                                                                                                                                                                                                                                                 1.65%    passed     99.98%\n",
      "   3  LR757996.1_Severe_acute_respiratory_syndrome_coronavirus_2_genome_assembly__chromosome__whole_genome                                                                                                                                                                                                                                                                                                                                                                                                 1.65%    passed     99.98%\n",
      "   4  OL698718.1_Severe_acute_respiratory_syndrome_coronavirus_2_isolate_SARS-CoV-2/human/USA/MN-MDH-18236/2021_ORF1ab_polyprotein__ORF1ab___ORF1a_polyprotein__ORF1ab___surface_glycoprotein__S___ORF3a_protein__ORF3a___envelope_protein__E___membrane_glycoprotein__M___ORF6_protein__ORF6___ORF7a_protein__ORF7a___ORF7b__ORF7b___ORF8_protein__ORF8___nucleocapsid_phosphoprotein__N___and_ORF10_protein__ORF10__genes__complete_cds                                                                  3.28%    passed     99.65%\n",
      "   5  OL677199.1_Severe_acute_respiratory_syndrome_coronavirus_2_isolate_SARS-CoV-2/human/CAN/ON-NML-249359/2021_ORF1ab_polyprotein__ORF1ab___ORF1a_polyprotein__ORF1ab___surface_glycoprotein__S___ORF3a_protein__ORF3a___envelope_protein__E___membrane_glycoprotein__M___ORF6_protein__ORF6___and_ORF7a_protein__ORF7a__genes__complete_cds__ORF7b_gene__complete_sequence__and_ORF8_protein__ORF8___nucleocapsid_phosphoprotein__N___and_ORF10_protein__ORF10__genes__complete_cds                     1.82%    passed     99.91%\n",
      "   6  OL672836.1_Severe_acute_respiratory_syndrome_coronavirus_2_isolate_SARS-CoV-2/human/BEL/rega-20174/2021__complete_genome                                                                                                                                                                                                                                                                                                                                                                             1.78%    passed     99.96%\n",
      "   7  MZ914912.1_Severe_acute_respiratory_syndrome_coronavirus_2_isolate_SARS-CoV-2/human/USA/TG796484/2020_ORF1ab_polyprotein__ORF1ab___ORF1a_polyprotein__ORF1ab___surface_glycoprotein__S___ORF3a_protein__ORF3a___envelope_protein__E___membrane_glycoprotein__M___ORF6_protein__ORF6___ORF7a_protein__ORF7a___ORF7b__ORF7b___ORF8_protein__ORF8___nucleocapsid_phosphoprotein__N___and_ORF10_protein__ORF10__genes__complete_cds                                                                      2.69%    passed     99.99%\n",
      "   8  MZ916499.1_Severe_acute_respiratory_syndrome_coronavirus_2_isolate_SARS-CoV-2/human/USA/TG841289/2020_ORF1ab_polyprotein__ORF1ab__and_ORF1a_polyprotein__ORF1ab__genes__partial_cds__and_surface_glycoprotein__S___ORF3a_protein__ORF3a___envelope_protein__E___membrane_glycoprotein__M___ORF6_protein__ORF6___ORF7a_protein__ORF7a___ORF7b__ORF7b___ORF8_protein__ORF8___nucleocapsid_phosphoprotein__N___and_ORF10_protein__ORF10__genes__complete_cds                                            7.75%    passed     98.28%\n",
      "   9  MZ908464.1_Severe_acute_respiratory_syndrome_coronavirus_2_isolate_SARS-CoV-2/human/USA/TG769681/2020_ORF1ab_polyprotein__ORF1ab___ORF1a_polyprotein__ORF1ab___surface_glycoprotein__S___ORF3a_protein__ORF3a___envelope_protein__E___membrane_glycoprotein__M___and_ORF6_protein__ORF6__genes__complete_cds__ORF7a_protein__ORF7a__and_ORF7b__ORF7b__genes__partial_cds__and_ORF8_protein__ORF8___nucleocapsid_phosphoprotein__N___and_ORF10_protein__ORF10__genes__complete_cds                    5.93%    passed     96.00%\n",
      "  10  MW580573.1_Severe_acute_respiratory_syndrome_coronavirus_2_isolate_SARS-CoV-2/human/USA/MD-MDH-0830/2021_ORF1ab_polyprotein__ORF1ab___ORF1a_polyprotein__ORF1ab___surface_glycoprotein__S___ORF3a_protein__ORF3a___envelope_protein__E___membrane_glycoprotein__M___ORF6_protein__ORF6___ORF7a_protein__ORF7a___ORF7b__ORF7b___ORF8_protein__ORF8___nucleocapsid_phosphoprotein__N___and_ORF10_protein__ORF10__genes__complete_cds                                                                   2.26%    passed     99.99%\n",
      "  11  MW580574.1_Severe_acute_respiratory_syndrome_coronavirus_2_isolate_SARS-CoV-2/human/USA/MD-MDH-0831/2021__complete_genome                                                                                                                                                                                                                                                                                                                                                                            2.02%    passed     99.95%\n",
      "  12  MW580576.1_Severe_acute_respiratory_syndrome_coronavirus_2_isolate_SARS-CoV-2/human/USA/MD-MDH-0833/2021__complete_genome                                                                                                                                                                                                                                                                                                                                                                            1.98%    passed     99.93%\n",
      "  13  MW991906.1_Severe_acute_respiratory_syndrome_coronavirus_2_isolate_SARS-CoV-2/human/USA/CA-CDC-FG-021330/2021_ORF1ab_polyprotein__ORF1ab__and_ORF1a_polyprotein__ORF1ab__genes__partial_cds__surface_glycoprotein__S___ORF3a_protein__ORF3a___envelope_protein__E___membrane_glycoprotein__M___ORF6_protein__ORF6___ORF7a_protein__ORF7a___and_ORF7b__ORF7b__genes__complete_cds__ORF8_gene__complete_sequence__and_nucleocapsid_phosphoprotein__N__and_ORF10_protein__ORF10__genes__complete_cds    2.19%    passed     99.82%\n",
      "  14  MW931310.1_Severe_acute_respiratory_syndrome_coronavirus_2_isolate_SARS-CoV-2/human/USA/IN-CDC-STM-000045992/2021__complete_genome                                                                                                                                                                                                                                                                                                                                                                   1.68%    passed    100.00%\n",
      "  15  MW932027.1_Severe_acute_respiratory_syndrome_coronavirus_2_isolate_SARS-CoV-2/human/USA/MA-CDC-STM-000044850/2021_ORF1ab_polyprotein__ORF1ab___ORF1a_polyprotein__ORF1ab___surface_glycoprotein__S___ORF3a_protein__ORF3a___envelope_protein__E___membrane_glycoprotein__M___ORF6_protein__ORF6___ORF7a_protein__ORF7a___and_ORF7b__ORF7b__genes__complete_cds__ORF8_gene__complete_sequence__and_nucleocapsid_phosphoprotein__N__and_ORF10_protein__ORF10__genes__complete_cds                      1.70%    passed     99.98%\n",
      "  16  MW424864.1_Severe_acute_respiratory_syndrome_coronavirus_2_isolate_SARS-CoV-2/human/USA/CA-LACPHL-AF00051/2020__complete_genome                                                                                                                                                                                                                                                                                                                                                                      1.91%    passed     99.99%\n",
      "  17  MW453109.1_Severe_acute_respiratory_syndrome_coronavirus_2_isolate_SARS-CoV-2/human/USA/CA-LACPHL-AF00094/2020__complete_genome                                                                                                                                                                                                                                                                                                                                                                      2.13%    passed     99.99%\n",
      "  18  MW453110.1_Severe_acute_respiratory_syndrome_coronavirus_2_isolate_SARS-CoV-2/human/USA/CA-LACPHL-AF00093/2020__complete_genome                                                                                                                                                                                                                                                                                                                                                                      1.93%    passed     99.98%\n",
      "****  TOTAL                                                                                                                                                                                                                                                                                                                                                                                                                                                                                                2.56%  0 sequences failed composition chi2 test (p-value<5%; df=3)\n",
      "NOTE: LR757996.1_Severe_acute_respiratory_syndrome_coronavirus_2_genome_assembly__chromosome__whole_genome is identical to NC_045512.2_Severe_acute_respiratory_syndrome_coronavirus_2_isolate_Wuhan-Hu-1__complete_genome but kept for subsequent analysis\n",
      "Creating fast initial parsimony tree by random order stepwise addition...\n",
      "0.007 seconds, parsimony score: 154 (based on 142 sites)\n",
      "\n",
      "NOTE: 0 MB RAM (0 GB) is required!\n",
      "WARNING: Number of threads seems too high for short alignments. Use -T AUTO to determine best number of threads.\n",
      "Estimate model parameters (epsilon = 0.100)\n",
      "1. Initial log-likelihood: -41362.120\n",
      "2. Current log-likelihood: -41335.549\n",
      "3. Current log-likelihood: -41330.202\n",
      "4. Current log-likelihood: -41321.135\n",
      "5. Current log-likelihood: -41320.976\n",
      "Optimal log-likelihood: -41320.966\n",
      "Rate parameters:  A-C: 1.00000  A-G: 4.58202  A-T: 1.00000  C-G: 1.00000  C-T: 4.58202  G-T: 1.00000\n",
      "Base frequencies:  A: 0.299  C: 0.183  G: 0.196  T: 0.322\n",
      "Parameters optimization took 5 rounds (0.010 sec)\n",
      "Computing ML distances based on estimated model parameters...\n",
      "Computing ML distances took 0.002087 sec (of wall-clock time) 0.009540 sec(of CPU time)\n",
      "Computing RapidNJ tree took 0.027022 sec (of wall-clock time) 0.025901 sec (of CPU time)\n",
      "ERROR: Alignment sequence NC_045512.2_Severe_acute_respiratory_syndrome_coronavirus_2_isolate_Wuhan-Hu-1__complete_genome does not appear in the tree\n",
      "(MW424864.1_Severe_acute_respiratory_syndrome_coronavirus_2_isolate_SARS-CoV-2/human/USA/CA-LACPHL-AF00051/2020__complete_genome,(MW453110.1_Severe_acute_respiratory_syndrome_coronavirus_2_isolate_SARS-CoV-2/human/USA/CA-LACPHL-AF00093/2020__complete_genome,MW453109.1_Severe_acute_respiratory_syndrome_coronavirus_2_isolate_SARS-CoV-2/human/USA/CA-LACPHL-AF00094/2020__complete_genome),(((MW991906.1_Severe_acute_respiratory_syndrome_coronavirus_2_isolate_SARS-CoV-2/human/USA/CA-CDC-FG-021330/2021_ORF1ab_polyprotein__ORF1ab__and_ORF1a_polyprotein__ORF1ab__genes__partial_cds__surface_glycoprotein__S___ORF3a_protein__ORF3a___envelope_protein__E___membrane_glycoprotein__M___ORF6_protein__ORF6___ORF7a_protein__ORF7a___and_ORF7b__ORF7b__genes__complete_cds__ORF8_gene__complete_sequence__and_nucleocapsid_phosphoprotein__N__and_ORF10_protein__ORF10__genes__complete_cds,MW932027.1_Severe_acute_respiratory_syndrome_coronavirus_2_isolate_SARS-CoV-2/human/USA/MA-CDC-STM-000044850/2021_ORF1ab_polyprotein__ORF1ab___ORF1a_polyprotein__ORF1ab___surface_glycoprotein__S___ORF3a_protein__ORF3a___envelope_protein__E___membrane_glycoprotein__M___ORF6_protein__ORF6___ORF7a_protein__ORF7a___and_ORF7b__ORF7b__genes__complete_cds__ORF8_gene__complete_sequence__and_nucleocapsid_phosphoprotein__N__and_ORF10_protein__ORF10__genes__complete_cds),MW931310.1_Severe_acute_respiratory_syndrome_coronavirus_2_isolate_SARS-CoV-2/human/USA/IN-CDC-STM-000045992/2021__complete_genome),((LR757995.1_Severe_acute_respiratory_syndrome_coronavirus_2_genome_assembly__chromosome__whole_genome,(LR757996.1_Severe_acute_respiratory_syndrome_coronavirus_2_genome_assembly__chromosome__whole_genome,(MZ914912.1_Severe_acute_respiratory_syndrome_coronavirus_2_isolate_SARS-CoV-2/human/USA/TG796484/2020_ORF1ab_polyprotein__ORF1ab___ORF1a_polyprotein__ORF1ab___surface_glycoprotein__S___ORF3a_protein__ORF3a___envelope_protein__E___membrane_glycoprotein__M___ORF6_protein__ORF6___ORF7a_protein__ORF7a___ORF7b__ORF7b___ORF8_protein__ORF8___nucleocapsid_phosphoprotein__N___and_ORF10_protein__ORF10__genes__complete_cds,(MZ916499.1_Severe_acute_respiratory_syndrome_coronavirus_2_isolate_SARS-CoV-2/human/USA/TG841289/2020_ORF1ab_polyprotein__ORF1ab__and_ORF1a_polyprotein__ORF1ab__genes__partial_cds__and_surface_glycoprotein__S___ORF3a_protein__ORF3a___envelope_protein__E___membrane_glycoprotein__M___ORF6_protein__ORF6___ORF7a_protein__ORF7a___ORF7b__ORF7b___ORF8_protein__ORF8___nucleocapsid_phosphoprotein__N___and_ORF10_protein__ORF10__genes__complete_cds,MZ908464.1_Severe_acute_respiratory_syndrome_coronavirus_2_isolate_SARS-CoV-2/human/USA/TG769681/2020_ORF1ab_polyprotein__ORF1ab___ORF1a_polyprotein__ORF1ab___surface_glycoprotein__S___ORF3a_protein__ORF3a___envelope_protein__E___membrane_glycoprotein__M___and_ORF6_protein__ORF6__genes__complete_cds__ORF7a_protein__ORF7a__and_ORF7b__ORF7b__genes__partial_cds__and_ORF8_protein__ORF8___nucleocapsid_phosphoprotein__N___and_ORF10_protein__ORF10__genes__complete_cds)))),(((OL698718.1_Severe_acute_respiratory_syndrome_coronavirus_2_isolate_SARS-CoV-2/human/USA/MN-MDH-18236/2021_ORF1ab_polyprotein__ORF1ab___ORF1a_polyprotein__ORF1ab___surface_glycoprotein__S___ORF3a_protein__ORF3a___envelope_protein__E___membrane_glycoprotein__M___ORF6_protein__ORF6___ORF7a_protein__ORF7a___ORF7b__ORF7b___ORF8_protein__ORF8___nucleocapsid_phosphoprotein__N___and_ORF10_protein__ORF10__genes__complete_cds,OL677199.1_Severe_acute_respiratory_syndrome_coronavirus_2_isolate_SARS-CoV-2/human/CAN/ON-NML-249359/2021_ORF1ab_polyprotein__ORF1ab___ORF1a_polyprotein__ORF1ab___surface_glycoprotein__S___ORF3a_protein__ORF3a___envelope_protein__E___membrane_glycoprotein__M___ORF6_protein__ORF6___and_ORF7a_protein__ORF7a__genes__complete_cds__ORF7b_gene__complete_sequence__and_ORF8_protein__ORF8___nucleocapsid_phosphoprotein__N___and_ORF10_protein__ORF10__genes__complete_cds),OL672836.1_Severe_acute_respiratory_syndrome_coronavirus_2_isolate_SARS-CoV-2/human/BEL/rega-20174/2021__complete_genome),((MW580573.1_Severe_acute_respiratory_syndrome_coronavirus_2_isolate_SARS-CoV-2/human/USA/MD-MDH-0830/2021_ORF1ab_polyprotein__ORF1ab___ORF1a_polyprotein__ORF1ab___surface_glycoprotein__S___ORF3a_protein__ORF3a___envelope_protein__E___membrane_glycoprotein__M___ORF6_protein__ORF6___ORF7a_protein__ORF7a___ORF7b__ORF7b___ORF8_protein__ORF8___nucleocapsid_phosphoprotein__N___and_ORF10_protein__ORF10__genes__complete_cds,MW580574.1_Severe_acute_respiratory_syndrome_coronavirus_2_isolate_SARS-CoV-2/human/USA/MD-MDH-0831/2021__complete_genome),MW580576.1_Severe_acute_respiratory_syndrome_coronavirus_2_isolate_SARS-CoV-2/human/USA/MD-MDH-0833/2021__complete_genome)))));\n",
      "ERROR: Tree taxa and alignment sequence do not match (see above)\n"
     ]
    }
   ],
   "source": [
    "#run iqtree with threads = $CPU variable, if you exclude the -m it will do a phylogenetic model search before tree search\n",
    "!iqtree -s sequences.aln.fasta -nt $CPU -m HKY --prefix sarscov2_tree --redo-tree"
   ]
  },
  {
   "cell_type": "markdown",
   "id": "e3827766",
   "metadata": {},
   "source": [
    "### Visualize the tree with toytree"
   ]
  },
  {
   "cell_type": "code",
   "execution_count": 45,
   "id": "86b58187",
   "metadata": {},
   "outputs": [],
   "source": [
    "#Define the tree file\n",
    "tre = toytree.tree('sarscov2_tree.treefile')"
   ]
  },
  {
   "cell_type": "code",
   "execution_count": 52,
   "id": "79931acb-b433-4701-b898-a79b03d233a1",
   "metadata": {},
   "outputs": [
    {
     "data": {
      "text/html": [
       "<div>\n",
       "<style scoped>\n",
       "    .dataframe tbody tr th:only-of-type {\n",
       "        vertical-align: middle;\n",
       "    }\n",
       "\n",
       "    .dataframe tbody tr th {\n",
       "        vertical-align: top;\n",
       "    }\n",
       "\n",
       "    .dataframe thead th {\n",
       "        text-align: right;\n",
       "    }\n",
       "</style>\n",
       "<table border=\"1\" class=\"dataframe\">\n",
       "  <thead>\n",
       "    <tr style=\"text-align: right;\">\n",
       "      <th></th>\n",
       "      <th>taxon</th>\n",
       "      <th>lineage</th>\n",
       "      <th>scorpio_call</th>\n",
       "    </tr>\n",
       "  </thead>\n",
       "  <tbody>\n",
       "    <tr>\n",
       "      <th>12</th>\n",
       "      <td>OL698718.1_Severe_acute_respiratory_syndrome_coronavirus_2_isolate_SARS-CoV-2/human/USA/MN-MDH-18236/2021_ORF1ab_polyprotein_(ORF1ab)__ORF1a_polyprotein_(ORF1ab)__surface_glycoprotein_(S)__ORF3a_protein_(ORF3a)__envelope_protein_(E)__membrane_gly...</td>\n",
       "      <td>B.1.1.529</td>\n",
       "      <td>Omicron (B.1.1.529-like)</td>\n",
       "    </tr>\n",
       "    <tr>\n",
       "      <th>13</th>\n",
       "      <td>OL677199.1_Severe_acute_respiratory_syndrome_coronavirus_2_isolate_SARS-CoV-2/human/CAN/ON-NML-249359/2021_ORF1ab_polyprotein_(ORF1ab)__ORF1a_polyprotein_(ORF1ab)__surface_glycoprotein_(S)__ORF3a_protein_(ORF3a)__envelope_protein_(E)__membrane_gl...</td>\n",
       "      <td>B.1.1.529</td>\n",
       "      <td>Omicron (B.1.1.529-like)</td>\n",
       "    </tr>\n",
       "    <tr>\n",
       "      <th>14</th>\n",
       "      <td>OL672836.1_Severe_acute_respiratory_syndrome_coronavirus_2_isolate_SARS-CoV-2/human/BEL/rega-20174/2021__complete_genome</td>\n",
       "      <td>B.1.1.529</td>\n",
       "      <td>Omicron (B.1.1.529-like)</td>\n",
       "    </tr>\n",
       "  </tbody>\n",
       "</table>\n",
       "</div>"
      ],
      "text/plain": [
       "                                                                                                                                                                                                                                                        taxon  \\\n",
       "12  OL698718.1_Severe_acute_respiratory_syndrome_coronavirus_2_isolate_SARS-CoV-2/human/USA/MN-MDH-18236/2021_ORF1ab_polyprotein_(ORF1ab)__ORF1a_polyprotein_(ORF1ab)__surface_glycoprotein_(S)__ORF3a_protein_(ORF3a)__envelope_protein_(E)__membrane_gly...   \n",
       "13  OL677199.1_Severe_acute_respiratory_syndrome_coronavirus_2_isolate_SARS-CoV-2/human/CAN/ON-NML-249359/2021_ORF1ab_polyprotein_(ORF1ab)__ORF1a_polyprotein_(ORF1ab)__surface_glycoprotein_(S)__ORF3a_protein_(ORF3a)__envelope_protein_(E)__membrane_gl...   \n",
       "14                                                                                                                                   OL672836.1_Severe_acute_respiratory_syndrome_coronavirus_2_isolate_SARS-CoV-2/human/BEL/rega-20174/2021__complete_genome   \n",
       "\n",
       "      lineage              scorpio_call  \n",
       "12  B.1.1.529  Omicron (B.1.1.529-like)  \n",
       "13  B.1.1.529  Omicron (B.1.1.529-like)  \n",
       "14  B.1.1.529  Omicron (B.1.1.529-like)  "
      ]
     },
     "execution_count": 52,
     "metadata": {},
     "output_type": "execute_result"
    }
   ],
   "source": [
    "#let's see if any of our samples are Omicron\n",
    "omicron=df[df['scorpio_call'] == ('Omicron (B.1.1.529-like)')]\n",
    "omicron"
   ]
  },
  {
   "cell_type": "code",
   "execution_count": 46,
   "id": "95fb6cba",
   "metadata": {},
   "outputs": [
    {
     "data": {
      "text/html": [
       "<div class=\"toyplot\" id=\"t33b720a107e2422b9e7c6ed247b48eb8\" style=\"text-align:center\"><svg class=\"toyplot-canvas-Canvas\" height=\"324.0px\" id=\"t8adb6da17ec742268f36416c07a1f496\" preserveAspectRatio=\"xMidYMid meet\" style=\"background-color:transparent;border-color:#292724;border-style:none;border-width:1.0;fill:rgb(16.1%,15.3%,14.1%);fill-opacity:1.0;font-family:Helvetica;font-size:12px;opacity:1.0;stroke:rgb(16.1%,15.3%,14.1%);stroke-opacity:1.0;stroke-width:1.0\" viewBox=\"0 0 500.0 324.0\" width=\"500.0px\" xmlns=\"http://www.w3.org/2000/svg\" xmlns:toyplot=\"http://www.sandia.gov/toyplot\" xmlns:xlink=\"http://www.w3.org/1999/xlink\"><g class=\"toyplot-coordinates-Cartesian\" id=\"t501502a518134e0e8c3958f62fe08d95\"><clipPath id=\"t1c94dac0dd73458e8b43fa7009198263\"><rect height=\"264.0\" width=\"440.0\" x=\"30.0\" y=\"30.0\"></rect></clipPath><g clip-path=\"url(#t1c94dac0dd73458e8b43fa7009198263)\"><g class=\"toytree-mark-Toytree\" id=\"t14e017283ada4bf9995ccc6b4d3b7b3a\"><g class=\"toytree-Edges\" style=\"fill:none;stroke:rgb(14.9%,14.9%,14.9%);stroke-linecap:round;stroke-opacity:1;stroke-width:2\"><path d=\"M 50.1 104.6 L 50.1 70.2 L 62.5 70.2\" id=\"34,33\"></path><path d=\"M 50.1 104.6 L 50.1 139.1 L 62.5 139.1\" id=\"34,32\"></path><path d=\"M 62.5 70.2 L 62.5 79.1 L 62.5 79.1\" id=\"33,31\"></path><path d=\"M 62.5 139.1 L 62.5 105.7 L 69.0 105.7\" id=\"32,30\"></path><path d=\"M 62.5 139.1 L 62.5 172.4 L 63.2 172.4\" id=\"32,29\"></path><path d=\"M 69.0 105.7 L 69.0 114.6 L 71.0 114.6\" id=\"30,28\"></path><path d=\"M 63.2 172.4 L 63.2 141.3 L 64.7 141.3\" id=\"29,27\"></path><path d=\"M 63.2 172.4 L 63.2 203.5 L 64.2 203.5\" id=\"29,26\"></path><path d=\"M 64.7 141.3 L 64.7 150.2 L 64.7 150.2\" id=\"27,25\"></path><path d=\"M 64.2 203.5 L 64.2 176.8 L 69.8 176.8\" id=\"26,24\"></path><path d=\"M 64.2 203.5 L 64.2 230.1 L 64.2 230.1\" id=\"26,23\"></path><path d=\"M 69.8 176.8 L 69.8 185.7 L 73.3 185.7\" id=\"24,22\"></path><path d=\"M 64.2 230.1 L 64.2 212.3 L 68.3 212.3\" id=\"23,21\"></path><path d=\"M 64.2 230.1 L 64.2 247.9 L 72.3 247.9\" id=\"23,20\"></path><path d=\"M 68.3 212.3 L 68.3 221.2 L 68.8 221.2\" id=\"21,19\"></path><path d=\"M 72.3 247.9 L 72.3 256.8 L 72.3 256.8\" id=\"20,18\"></path><path d=\"M 62.5 70.2 L 62.5 61.3 L 62.5 61.3\" id=\"33,17\"></path><path d=\"M 62.5 79.1 L 62.5 73.2 L 63.5 73.2\" id=\"31,16\"></path><path d=\"M 62.5 79.1 L 62.5 85.0 L 62.5 85.0\" id=\"31,15\"></path><path d=\"M 69.0 105.7 L 69.0 96.9 L 73.4 96.9\" id=\"30,14\"></path><path d=\"M 71.0 114.6 L 71.0 108.7 L 77.7 108.7\" id=\"28,13\"></path><path d=\"M 71.0 114.6 L 71.0 120.5 L 74.8 120.5\" id=\"28,12\"></path><path d=\"M 64.7 141.3 L 64.7 132.4 L 64.7 132.4\" id=\"27,11\"></path><path d=\"M 64.7 150.2 L 64.7 144.2 L 65.7 144.2\" id=\"25,10\"></path><path d=\"M 64.7 150.2 L 64.7 156.1 L 64.7 156.1\" id=\"25,9\"></path><path d=\"M 69.8 176.8 L 69.8 167.9 L 71.8 167.9\" id=\"24,8\"></path><path d=\"M 73.3 185.7 L 73.3 179.8 L 73.3 179.8\" id=\"22,7\"></path><path d=\"M 73.3 185.7 L 73.3 191.6 L 73.3 191.6\" id=\"22,6\"></path><path d=\"M 68.3 212.3 L 68.3 203.5 L 68.3 203.5\" id=\"21,5\"></path><path d=\"M 68.8 221.2 L 68.8 215.3 L 68.8 215.3\" id=\"19,4\"></path><path d=\"M 68.8 221.2 L 68.8 227.1 L 68.8 227.1\" id=\"19,3\"></path><path d=\"M 72.3 247.9 L 72.3 239.0 L 72.8 239.0\" id=\"20,2\"></path><path d=\"M 72.3 256.8 L 72.3 250.8 L 72.3 250.8\" id=\"18,1\"></path><path d=\"M 72.3 256.8 L 72.3 262.7 L 72.3 262.7\" id=\"18,0\"></path></g><g class=\"toytree-AlignEdges\" style=\"stroke:rgb(66.3%,66.3%,66.3%);stroke-dasharray:2, 4;stroke-linecap:round;stroke-opacity:1.0;stroke-width:2\"><path d=\"M 77.7 262.7 L 72.3 262.7\"></path><path d=\"M 77.7 250.8 L 72.3 250.8\"></path><path d=\"M 77.7 239.0 L 72.8 239.0\"></path><path d=\"M 77.7 227.1 L 68.8 227.1\"></path><path d=\"M 77.7 215.3 L 68.8 215.3\"></path><path d=\"M 77.7 203.5 L 68.3 203.5\"></path><path d=\"M 77.7 191.6 L 73.3 191.6\"></path><path d=\"M 77.7 179.8 L 73.3 179.8\"></path><path d=\"M 77.7 167.9 L 71.8 167.9\"></path><path d=\"M 77.7 156.1 L 64.7 156.1\"></path><path d=\"M 77.7 144.2 L 65.7 144.2\"></path><path d=\"M 77.7 132.4 L 64.7 132.4\"></path><path d=\"M 77.7 120.5 L 74.8 120.5\"></path><path d=\"M 77.7 108.7 L 77.7 108.7\"></path><path d=\"M 77.7 96.9 L 73.4 96.9\"></path><path d=\"M 77.7 85.0 L 62.5 85.0\"></path><path d=\"M 77.7 73.2 L 63.5 73.2\"></path><path d=\"M 77.7 61.3 L 62.5 61.3\"></path></g><g class=\"toytree-TipLabels\" style=\"fill:rgb(14.9%,14.9%,14.9%);fill-opacity:1.0;font-family:helvetica;font-size:11px;font-weight:normal;stroke:none;white-space:pre\"><g transform=\"translate(77.73,262.67)rotate(0)\"><text style=\"\" x=\"15.00\" y=\"2.81\">MW580576.1_Severe_acute_respiratory_syndrome_coronavirus_2_isolate_SARS-CoV-2/human/USA/MD-MDH-0833/2021__complete_genome</text></g><g transform=\"translate(77.73,250.83)rotate(0)\"><text style=\"\" x=\"15.00\" y=\"2.81\">MW580574.1_Severe_acute_respiratory_syndrome_coronavirus_2_isolate_SARS-CoV-2/human/USA/MD-MDH-0831/2021__complete_genome</text></g><g transform=\"translate(77.73,238.99)rotate(0)\"><text style=\"\" x=\"15.00\" y=\"2.81\">MW580573.1_Severe_acute_respiratory_syndrome_coronavirus_2_isolate_SARS-CoV-2/human/USA/MD-MDH-0830/2021_ORF1ab_polyprotein__ORF1ab___ORF1a_polyprotein__ORF1ab___surface_glycoprotein__S___ORF3a_protein__ORF3a___envelope_protein__E___membrane_glycoprotein__M___ORF6_protein__ORF6___ORF7a_protein__ORF7a___ORF7b__ORF7b___ORF8_protein__ORF8___nucleocapsid_phosphoprotein__N___and_ORF10_protein__ORF10__genes__complete_cds</text></g><g transform=\"translate(77.73,227.14)rotate(0)\"><text style=\"\" x=\"15.00\" y=\"2.81\">MZ908464.1_Severe_acute_respiratory_syndrome_coronavirus_2_isolate_SARS-CoV-2/human/USA/TG769681/2020_ORF1ab_polyprotein__ORF1ab___ORF1a_polyprotein__ORF1ab___surface_glycoprotein__S___ORF3a_protein__ORF3a___envelope_protein__E___membrane_glycoprotein__M___and_ORF6_protein__ORF6__genes__complete_cds__ORF7a_protein__ORF7a__and_ORF7b__ORF7b__genes__partial_cds__and_ORF8_protein__ORF8___nucleocapsid_phosphoprotein__N___and_ORF10_protein__ORF10__genes__complete_cds</text></g><g transform=\"translate(77.73,215.30)rotate(0)\"><text style=\"\" x=\"15.00\" y=\"2.81\">MZ914912.1_Severe_acute_respiratory_syndrome_coronavirus_2_isolate_SARS-CoV-2/human/USA/TG796484/2020_ORF1ab_polyprotein__ORF1ab___ORF1a_polyprotein__ORF1ab___surface_glycoprotein__S___ORF3a_protein__ORF3a___envelope_protein__E___membrane_glycoprotein__M___ORF6_protein__ORF6___ORF7a_protein__ORF7a___ORF7b__ORF7b___ORF8_protein__ORF8___nucleocapsid_phosphoprotein__N___and_ORF10_protein__ORF10__genes__complete_cds</text></g><g transform=\"translate(77.73,203.45)rotate(0)\"><text style=\"\" x=\"15.00\" y=\"2.81\">MZ916499.1_Severe_acute_respiratory_syndrome_coronavirus_2_isolate_SARS-CoV-2/human/USA/TG841289/2020_ORF1ab_polyprotein__ORF1ab__and_ORF1a_polyprotein__ORF1ab__genes__partial_cds__and_surface_glycoprotein__S___ORF3a_protein__ORF3a___envelope_protein__E___membrane_glycoprotein__M___ORF6_protein__ORF6___ORF7a_protein__ORF7a___ORF7b__ORF7b___ORF8_protein__ORF8___nucleocapsid_phosphoprotein__N___and_ORF10_protein__ORF10__genes__complete_cds</text></g><g transform=\"translate(77.73,191.61)rotate(0)\"><text style=\"\" x=\"15.00\" y=\"2.81\">MW453110.1_Severe_acute_respiratory_syndrome_coronavirus_2_isolate_SARS-CoV-2/human/USA/CA-LACPHL-AF00093/2020__complete_genome</text></g><g transform=\"translate(77.73,179.77)rotate(0)\"><text style=\"\" x=\"15.00\" y=\"2.81\">MW453109.1_Severe_acute_respiratory_syndrome_coronavirus_2_isolate_SARS-CoV-2/human/USA/CA-LACPHL-AF00094/2020__complete_genome</text></g><g transform=\"translate(77.73,167.92)rotate(0)\"><text style=\"\" x=\"15.00\" y=\"2.81\">MW424864.1_Severe_acute_respiratory_syndrome_coronavirus_2_isolate_SARS-CoV-2/human/USA/CA-LACPHL-AF00051/2020__complete_genome</text></g><g transform=\"translate(77.73,156.08)rotate(0)\"><text style=\"\" x=\"15.00\" y=\"2.81\">LR757996.1_Severe_acute_respiratory_syndrome_coronavirus_2_genome_assembly__chromosome__whole_genome</text></g><g transform=\"translate(77.73,144.23)rotate(0)\"><text style=\"\" x=\"15.00\" y=\"2.81\">LR757995.1_Severe_acute_respiratory_syndrome_coronavirus_2_genome_assembly__chromosome__whole_genome</text></g><g transform=\"translate(77.73,132.39)rotate(0)\"><text style=\"\" x=\"15.00\" y=\"2.81\">NC_045512.2_Severe_acute_respiratory_syndrome_coronavirus_2_isolate_Wuhan-Hu-1__complete_genome</text></g><g transform=\"translate(77.73,120.55)rotate(0)\"><text style=\"\" x=\"15.00\" y=\"2.81\">MW932027.1_Severe_acute_respiratory_syndrome_coronavirus_2_isolate_SARS-CoV-2/human/USA/MA-CDC-STM-000044850/2021_ORF1ab_polyprotein__ORF1ab___ORF1a_polyprotein__ORF1ab___surface_glycoprotein__S___ORF3a_protein__ORF3a___envelope_protein__E___membrane_glycoprotein__M___ORF6_protein__ORF6___ORF7a_protein__ORF7a___and_ORF7b__ORF7b__genes__complete_cds__ORF8_gene__complete_sequence__and_nucleocapsid_phosphoprotein__N__and_ORF10_protein__ORF10__genes__complete_cds</text></g><g transform=\"translate(77.73,108.70)rotate(0)\"><text style=\"\" x=\"15.00\" y=\"2.81\">MW991906.1_Severe_acute_respiratory_syndrome_coronavirus_2_isolate_SARS-CoV-2/human/USA/CA-CDC-FG-021330/2021_ORF1ab_polyprotein__ORF1ab__and_ORF1a_polyprotein__ORF1ab__genes__partial_cds__surface_glycoprotein__S___ORF3a_protein__ORF3a___envelope_protein__E___membrane_glycoprotein__M___ORF6_protein__ORF6___ORF7a_protein__ORF7a___and_ORF7b__ORF7b__genes__complete_cds__ORF8_gene__complete_sequence__and_nucleocapsid_phosphoprotein__N__and_ORF10_protein__ORF10__genes__complete_cds</text></g><g transform=\"translate(77.73,96.86)rotate(0)\"><text style=\"\" x=\"15.00\" y=\"2.81\">MW931310.1_Severe_acute_respiratory_syndrome_coronavirus_2_isolate_SARS-CoV-2/human/USA/IN-CDC-STM-000045992/2021__complete_genome</text></g><g transform=\"translate(77.73,85.01)rotate(0)\"><text style=\"\" x=\"15.00\" y=\"2.81\">OL677199.1_Severe_acute_respiratory_syndrome_coronavirus_2_isolate_SARS-CoV-2/human/CAN/ON-NML-249359/2021_ORF1ab_polyprotein__ORF1ab___ORF1a_polyprotein__ORF1ab___surface_glycoprotein__S___ORF3a_protein__ORF3a___envelope_protein__E___membrane_glycoprotein__M___ORF6_protein__ORF6___and_ORF7a_protein__ORF7a__genes__complete_cds__ORF7b_gene__complete_sequence__and_ORF8_protein__ORF8___nucleocapsid_phosphoprotein__N___and_ORF10_protein__ORF10__genes__complete_cds</text></g><g transform=\"translate(77.73,73.17)rotate(0)\"><text style=\"\" x=\"15.00\" y=\"2.81\">OL698718.1_Severe_acute_respiratory_syndrome_coronavirus_2_isolate_SARS-CoV-2/human/USA/MN-MDH-18236/2021_ORF1ab_polyprotein__ORF1ab___ORF1a_polyprotein__ORF1ab___surface_glycoprotein__S___ORF3a_protein__ORF3a___envelope_protein__E___membrane_glycoprotein__M___ORF6_protein__ORF6___ORF7a_protein__ORF7a___ORF7b__ORF7b___ORF8_protein__ORF8___nucleocapsid_phosphoprotein__N___and_ORF10_protein__ORF10__genes__complete_cds</text></g><g transform=\"translate(77.73,61.33)rotate(0)\"><text style=\"\" x=\"15.00\" y=\"2.81\">OL672836.1_Severe_acute_respiratory_syndrome_coronavirus_2_isolate_SARS-CoV-2/human/BEL/rega-20174/2021__complete_genome</text></g></g></g></g></g></svg><div class=\"toyplot-behavior\"><script>(function()\n",
       "{\n",
       "var modules={};\n",
       "})();</script></div></div>"
      ]
     },
     "metadata": {},
     "output_type": "display_data"
    }
   ],
   "source": [
    "#draw the tree\n",
    "rtre = tre.root(wildcard=\"OL\")\n",
    "rtre.draw(tip_labels_align=True);"
   ]
  },
  {
   "cell_type": "markdown",
   "id": "665059b1-358f-4751-9162-846ab9f5d9d0",
   "metadata": {},
   "source": [
    "### Based on this tree, what other lineages would you say the Omicron samples evolved from? What is their closest relative?"
   ]
  },
  {
   "cell_type": "markdown",
   "id": "63aae335",
   "metadata": {},
   "source": [
    "You can also visualize the tree by downloading it and opening in figtree."
   ]
  },
  {
   "cell_type": "markdown",
   "id": "28a7b078",
   "metadata": {},
   "source": [
    "And that is all! You now know how to run workflows in notebooks in Cloud Lab"
   ]
  }
 ],
 "metadata": {
  "environment": {
   "kernel": "python3",
   "name": "r-cpu.4-1.m87",
   "type": "gcloud",
   "uri": "gcr.io/deeplearning-platform-release/r-cpu.4-1:m87"
  },
  "kernelspec": {
   "display_name": "Python 3",
   "language": "python",
   "name": "python3"
  },
  "language_info": {
   "codemirror_mode": {
    "name": "ipython",
    "version": 3
   },
   "file_extension": ".py",
   "mimetype": "text/x-python",
   "name": "python",
   "nbconvert_exporter": "python",
   "pygments_lexer": "ipython3",
   "version": "3.7.12"
  }
 },
 "nbformat": 4,
 "nbformat_minor": 5
}
