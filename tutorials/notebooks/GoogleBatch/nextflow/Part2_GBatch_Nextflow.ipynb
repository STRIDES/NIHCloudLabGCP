{
 "cells": [
  {
   "cell_type": "markdown",
   "id": "5384eeed-e730-46e9-9e4d-7df526fb44ee",
   "metadata": {},
   "source": [
    "# Use Nextflow to run workflows using the Cloud Google Batch Part II\n",
    "Here we are going to build on Part I to download some real data using the SRA toolkit and then submit an nf-core Methyseq job to Google Batch."
   ]
  },
  {
   "cell_type": "markdown",
   "id": "e30edde9-dcbf-4f74-9d2a-bd4d8c15c9a9",
   "metadata": {},
   "source": [
    "## 1. Optional: Setup the environment\n",
    "If you did not do part 1, then set up your environment. Otherwise, skip to the next section."
   ]
  },
  {
   "cell_type": "markdown",
   "id": "c71c4052-607e-4827-8126-759a6871558c",
   "metadata": {},
   "source": [
    "### Create a bucket"
   ]
  },
  {
   "cell_type": "code",
   "execution_count": null,
   "id": "cf9e21b4-07d3-4e79-9c94-067b70e78ff6",
   "metadata": {},
   "outputs": [],
   "source": [
    "#make sure you change this name, it needs to be globally unique\n",
    "%env BUCKET=gbatch-api-nextflow"
   ]
  },
  {
   "cell_type": "code",
   "execution_count": null,
   "id": "e47789f2-e38d-46ec-8750-0a235b0c4337",
   "metadata": {},
   "outputs": [],
   "source": [
    "#will only create the bucket if it doesn't yet exist\n",
    "! gsutil ls gs://$BUCKET >& /dev/null || gsutil mb gs://$BUCKET"
   ]
  },
  {
   "cell_type": "code",
   "execution_count": null,
   "id": "5a4ccc7d-b258-410a-85fb-f261fa0dcade",
   "metadata": {},
   "outputs": [],
   "source": [
    "#set versioning on the bucket so it can overwrite old files\n",
    "! gsutil versioning set on gs://$BUCKET"
   ]
  },
  {
   "cell_type": "markdown",
   "id": "00dc1fb0-784f-46c7-8905-817fa3fbccb1",
   "metadata": {},
   "source": [
    "### Install mambaforge\n",
    "You can also use the default installed conda, but mamba is so much faster! "
   ]
  },
  {
   "cell_type": "code",
   "execution_count": null,
   "id": "0b97b0e6-d44c-40e4-a32a-33708e4ed596",
   "metadata": {},
   "outputs": [],
   "source": [
    "! curl -L -O https://github.com/conda-forge/miniforge/releases/latest/download/Mambaforge-$(uname)-$(uname -m).sh\n",
    "! bash Mambaforge-$(uname)-$(uname -m).sh -b -p $HOME/mambaforge"
   ]
  },
  {
   "cell_type": "code",
   "execution_count": null,
   "id": "08e99d91-e356-456e-8cde-7f2819114ee2",
   "metadata": {},
   "outputs": [],
   "source": [
    "#add to your path\n",
    "import os\n",
    "os.environ[\"PATH\"] += os.pathsep + os.environ[\"HOME\"]+\"/mambaforge/bin\""
   ]
  },
  {
   "cell_type": "markdown",
   "id": "80eb36f1-62c1-46f0-b297-6d8bc1d2e034",
   "metadata": {},
   "source": [
    "### Install other dependencies "
   ]
  },
  {
   "cell_type": "code",
   "execution_count": null,
   "id": "2619673e-9645-4460-aa07-323d01bcd9ba",
   "metadata": {},
   "outputs": [],
   "source": [
    "#First install java\n",
    "!sudo apt update\n",
    "!sudo apt-get install default-jdk -y\n",
    "!java -version"
   ]
  },
  {
   "cell_type": "code",
   "execution_count": null,
   "id": "c24cb2d9-6260-45fc-a4c0-f55688c43e11",
   "metadata": {},
   "outputs": [],
   "source": [
    "#Specify nexflow version and platfrom\n",
    "! export NXF_VER=21.10.0\n",
    "! export NXF_MODE=google\n",
    "#Install nexflow, make it exceutable, and update it\n",
    "! curl https://get.nextflow.io | bash\n",
    "! chmod +x nextflow\n",
    "! ./nextflow self-update"
   ]
  },
  {
   "cell_type": "code",
   "execution_count": null,
   "id": "581f3b6a-b0b8-4309-a54b-ffff14450f41",
   "metadata": {},
   "outputs": [],
   "source": [
    "#Install SRAtools to download data\n",
    "! mamba install -c bioconda -c conda-forge sra-tools==2.11.0 -y"
   ]
  },
  {
   "cell_type": "markdown",
   "id": "1bc477a9-7b3f-431e-93b7-50e96809bfc5",
   "metadata": {},
   "source": [
    "## 2. Download data with SRA tools\n",
    "If you want more work with SRA tools, check out our [SRA-focused notebook](https://github.com/STRIDES/NIHCloudLabGCP/blob/main/tutorials/notebooks/SRADownload/SRA-Download.ipynb)."
   ]
  },
  {
   "cell_type": "code",
   "execution_count": null,
   "id": "facdbaea-d6ca-4270-9ddc-7c5d042b7373",
   "metadata": {},
   "outputs": [],
   "source": [
    "#set up directory structure\n",
    "!mkdir -p data data/fasterqdump"
   ]
  },
  {
   "cell_type": "markdown",
   "id": "e0c5eb64-8628-4849-b077-6a3b23aaf934",
   "metadata": {},
   "source": [
    "First bring in the compressed .sra file"
   ]
  },
  {
   "cell_type": "code",
   "execution_count": null,
   "id": "b8ca1c0f-3844-42f8-a9e2-546178a6d961",
   "metadata": {},
   "outputs": [],
   "source": [
    "%%time\n",
    "! prefetch -O data/raw_fastq -f yes SRR067701 --location GCP -v "
   ]
  },
  {
   "cell_type": "markdown",
   "id": "6ea6f3fa-1ce5-4c1a-b077-a5cb539e33b2",
   "metadata": {},
   "source": [
    "Now convert the compressed .sra file to fastq. It will take about two minutes, so be patient. "
   ]
  },
  {
   "cell_type": "code",
   "execution_count": null,
   "id": "6d7c1f2f-6d52-4f2f-b308-62d42c95ec1b",
   "metadata": {},
   "outputs": [],
   "source": [
    "%%time\n",
    "! fasterq-dump -f -e 8 -m 24G SRR067701.sra"
   ]
  },
  {
   "cell_type": "code",
   "execution_count": null,
   "id": "282c31da-0ce9-4e21-ab3e-07e550bc5ceb",
   "metadata": {},
   "outputs": [],
   "source": [
    "#compress the fastq files\n",
    "! gzip data/raw_fastq/SRR067701.fastq"
   ]
  },
  {
   "cell_type": "markdown",
   "id": "805294b9-81cc-455c-9181-20fb048fb57c",
   "metadata": {},
   "source": [
    "## 3. Run methylseq with Google Batch"
   ]
  },
  {
   "cell_type": "markdown",
   "id": "b7c45f87-e0b6-43c5-aa55-3ee3e33978a3",
   "metadata": {},
   "source": [
    "Ensure you include the following in your command:\n",
    "- nf-core tool version [-r]\n",
    "- Add fastq.gz file input [--input]\n",
    "- Reference Genome [--genome] (no need to have it on hand nf-core uses iGenomes and will pull in the correct reference file)\n",
    "- Confile file location [-c]\n",
    "- Wanted profile [-profile]\n",
    "- Other flags such as:\n",
    "    - If the fastq file is single-ended or not\n",
    "    - The max cpus and memory wanted\n",
    "\n",
    "You can recycle the nextflow.config from Part I. Since our fastq file is pretty big, it may take some time to finish."
   ]
  },
  {
   "cell_type": "code",
   "execution_count": null,
   "id": "a24cab67-be41-4b2d-a545-7e14af554022",
   "metadata": {},
   "outputs": [],
   "source": [
    "!./nextflow run nf-core/methylseq -r 1.6.1 \\\n",
    "    --input 'data/raw_fastq/SRR067701.fastq.gz' \\\n",
    "    --genome GRCh38 \\\n",
    "    --single_end \\\n",
    "    -c nextflow-methyseq.config \\\n",
    "    -profile gbatch \\\n",
    "    --max_cpus 32 \\\n",
    "    --max_memory '110.GB'"
   ]
  },
  {
   "cell_type": "markdown",
   "id": "ab826f3b-391e-44fb-8197-e81fa8a9a614",
   "metadata": {},
   "source": [
    "#### Check to see if files are in your output directory bucket\n",
    "If you skipped part one, go run the first cell where you assign your bucket name to a variable. "
   ]
  },
  {
   "cell_type": "code",
   "execution_count": null,
   "id": "b7484fdc-eabb-47d6-99ea-609a1574651b",
   "metadata": {},
   "outputs": [],
   "source": [
    "!gsutil ls gs://$BUCKET/methyl-seq/outdir"
   ]
  },
  {
   "cell_type": "markdown",
   "id": "438e8f65-e7fe-48e3-a615-e966b138c1e3",
   "metadata": {},
   "source": [
    "__Optional__: View your MultiQC HTML file"
   ]
  },
  {
   "cell_type": "code",
   "execution_count": null,
   "id": "15b74ca3-c7c7-499d-af53-ffaccc9e2157",
   "metadata": {},
   "outputs": [],
   "source": [
    "!gsutil cp -r gs://$BUCKET/methyl-seq/outdir/MultiQC/multiqc_report.html ."
   ]
  },
  {
   "cell_type": "code",
   "execution_count": null,
   "id": "31c89604-b9a4-4f77-aa0c-67273a161130",
   "metadata": {},
   "outputs": [],
   "source": [
    "from IPython.display import IFrame\n",
    "\n",
    "IFrame(src='multiqc_report.html', width=900, height=600)"
   ]
  },
  {
   "cell_type": "markdown",
   "id": "5a9d0590-c4dd-48de-822f-3de5b47af4e1",
   "metadata": {},
   "source": [
    "## 4. Clean Up"
   ]
  },
  {
   "cell_type": "markdown",
   "id": "4fc86196-86dc-4b8c-a86c-b4354e58d05f",
   "metadata": {},
   "source": [
    "If you want to clean up all resources associated with this tutorial then \n",
    "+ delete your bucket with `gsutil rm -r $BUCKET`\n",
    "+ delete this VM in either Vertex AI or Compute Engine"
   ]
  }
 ],
 "metadata": {
  "environment": {
   "kernel": "python3",
   "name": "common-cpu.m93",
   "type": "gcloud",
   "uri": "gcr.io/deeplearning-platform-release/base-cpu:m93"
  },
  "kernelspec": {
   "display_name": "Python (Local)",
   "language": "python",
   "name": "local-base"
  },
  "language_info": {
   "codemirror_mode": {
    "name": "ipython",
    "version": 3
   },
   "file_extension": ".py",
   "mimetype": "text/x-python",
   "name": "python",
   "nbconvert_exporter": "python",
   "pygments_lexer": "ipython3",
   "version": "3.7.12"
  }
 },
 "nbformat": 4,
 "nbformat_minor": 5
}
