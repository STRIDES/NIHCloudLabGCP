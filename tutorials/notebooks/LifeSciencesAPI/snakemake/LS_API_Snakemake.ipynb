{
 "cells": [
  {
   "cell_type": "markdown",
   "id": "99cfa998-06b6-4b42-ae3a-b4e011750d31",
   "metadata": {},
   "source": [
    "# RNA-Seq Analysis using Snakemake and Google Cloud Life Sciences API"
   ]
  },
  {
   "cell_type": "markdown",
   "id": "4126cb07-34ee-4780-838f-872015a882b3",
   "metadata": {},
   "source": [
    "## Overview"
   ]
  },
  {
   "cell_type": "markdown",
   "id": "f15ea992-faa6-4705-8384-eb5d81f5daff",
   "metadata": {},
   "source": [
    "This short tutorial demonstrates how to run an RNA-Seq workflow using a prokaryotic data set. Steps in the workflow include read trimming, read QC, read mapping, and counting mapped reads per gene to quantitate gene expression. This tutorial uses a popular workflow manager called ['snakemake'](https://snakemake.readthedocs.io/en/stable/) run via the [Google Cloud Life Sciences API](https://cloud.google.com/life-sciences/docs/reference/rest)."
   ]
  },
  {
   "cell_type": "markdown",
   "id": "0b6d0785-2d13-476c-b16a-196f74ea277d",
   "metadata": {},
   "source": [
    "### Step 1: Create a new GS Bucket to store input and output files\n",
    "Note that your bucket has to be globally unique, so make sure you don't just copy the example here or it won't work"
   ]
  },
  {
   "cell_type": "code",
   "execution_count": 8,
   "id": "4d3dc88f-fa0c-4e7e-972b-055321d3cdbb",
   "metadata": {},
   "outputs": [
    {
     "name": "stdout",
     "output_type": "stream",
     "text": [
      "env: BUCKET=gls-api-snakemakev2\n"
     ]
    }
   ],
   "source": [
    "#change this bucket name\n",
    "%env BUCKET=gls-api-snakemakev2"
   ]
  },
  {
   "cell_type": "code",
   "execution_count": 9,
   "id": "17ce680c-4b8c-419c-a6c4-b6caec32d9ba",
   "metadata": {},
   "outputs": [],
   "source": [
    "#will only create the bucket if it doesn't yet exist\n",
    "!gsutil ls gs://$BUCKET >& /dev/null || gsutil mb gs://$BUCKET"
   ]
  },
  {
   "cell_type": "code",
   "execution_count": 10,
   "id": "91292c6d-d5a4-407d-9816-51ca52876fba",
   "metadata": {},
   "outputs": [
    {
     "name": "stdout",
     "output_type": "stream",
     "text": [
      "Enabling versioning for gs://gls-api-snakemakev2/...\n"
     ]
    }
   ],
   "source": [
    "#set versioning on the bucket so it can overwrite old files\n",
    "!gsutil versioning set on gs://$BUCKET"
   ]
  },
  {
   "cell_type": "markdown",
   "id": "dd7ab630-955d-43d1-bc43-c7b3e701ed04",
   "metadata": {
    "tags": []
   },
   "source": [
    "### STEP 2: Install mambaforge and snakemake\n",
    "First install mambaforge, then use mamba to install snakemake."
   ]
  },
  {
   "cell_type": "code",
   "execution_count": null,
   "id": "682ddf88-e1d9-443f-a423-e1f85ff604a2",
   "metadata": {},
   "outputs": [],
   "source": [
    "!curl -L -O https://github.com/conda-forge/miniforge/releases/latest/download/Mambaforge-$(uname)-$(uname -m).sh\n",
    "!bash Mambaforge-$(uname)-$(uname -m).sh -b -p $HOME/mambaforge\n",
    "!$HOME/mambaforge/bin/mamba install -y -c conda-forge -c bioconda snakemake"
   ]
  },
  {
   "cell_type": "markdown",
   "id": "bb0ce8d5-4b96-4e97-88ed-44e8e85f4fc0",
   "metadata": {},
   "source": [
    "### STEP 3: Copy FASTQ Files\n",
    "In order for this tutorial to run quickly, we will only analyze 50,000 reads from a sample from both sample groups instead of analyzing all the reads from all six samples. These files have been posted on a Google Storage Bucket that we made publicly accessible."
   ]
  },
  {
   "cell_type": "code",
   "execution_count": 11,
   "id": "5f3795fd-3e03-476d-9abf-49705a72cc15",
   "metadata": {},
   "outputs": [
    {
     "name": "stdout",
     "output_type": "stream",
     "text": [
      "Copying gs://me-inbre-rnaseq-pipelinev2/data/raw_fastqSub/SRR13349122_1.fastq [Content-Type=chemical/x-fastq]...\n",
      "Copying gs://me-inbre-rnaseq-pipelinev2/data/raw_fastqSub/SRR13349123_1.fastq [Content-Type=application/octet-stream]...\n",
      "Copying gs://me-inbre-rnaseq-pipelinev2/data/raw_fastqSub/SRR13349128_1.fastq [Content-Type=chemical/x-fastq]...\n",
      "Copying gs://me-inbre-rnaseq-pipelinev2/data/raw_fastqSub/SRR13349122_2.fastq [Content-Type=chemical/x-fastq]...\n",
      "Copying gs://me-inbre-rnaseq-pipelinev2/data/raw_fastqSub/SRR13349123_2.fastq [Content-Type=application/octet-stream]...\n",
      "Copying gs://me-inbre-rnaseq-pipelinev2/data/raw_fastqSub/SRR13349128_2.fastq [Content-Type=chemical/x-fastq]...\n",
      "/ [6/6 files][ 47.0 MiB/ 47.0 MiB] 100% Done                                    \n",
      "Operation completed over 6 objects/47.0 MiB.                                     \n"
     ]
    }
   ],
   "source": [
    "!gsutil -m cp -r gs://me-inbre-rnaseq-pipelinev2/data/raw_fastqSub/ gs://$BUCKET/data/raw_fastq"
   ]
  },
  {
   "cell_type": "markdown",
   "id": "a2bc4563-951a-45d4-8f01-0accd6b80ea8",
   "metadata": {},
   "source": [
    "Create a fake path to data/fastqc so that snakemake can write files to that bucket path, otherwise the pipeline crashes."
   ]
  },
  {
   "cell_type": "code",
   "execution_count": 12,
   "id": "cd2c03dd-2248-4068-8842-ba130f29adc9",
   "metadata": {},
   "outputs": [
    {
     "name": "stdout",
     "output_type": "stream",
     "text": [
      "Copying file://blank.txt [Content-Type=text/plain]...\n",
      "/ [1 files][    0.0 B/    0.0 B]                                                \n",
      "Operation completed over 1 objects.                                              \n"
     ]
    }
   ],
   "source": [
    "!touch blank.txt\n",
    "!gsutil cp blank.txt gs://$BUCKET/data/fastqc/"
   ]
  },
  {
   "cell_type": "markdown",
   "id": "ec692c28-f549-43af-bbdf-3c4266fb59ae",
   "metadata": {},
   "source": [
    "### STEP 4: Copy reference files that will be used by Salmon\n",
    "Salmon is a tool that aligns RNA-Seq reads to a set of transcripts rather than the entire genome."
   ]
  },
  {
   "cell_type": "code",
   "execution_count": 13,
   "id": "290238d6-39e0-4575-87e4-880b316ca1f6",
   "metadata": {},
   "outputs": [
    {
     "name": "stdout",
     "output_type": "stream",
     "text": [
      "Copying gs://me-inbre-rnaseq-pipelinev2/data/reference/M_chelonae_transcripts.fasta [Content-Type=biosequence/fasta]...\n",
      "/ [1/1 files][  9.4 MiB/  9.4 MiB] 100% Done                                    \n",
      "Operation completed over 1 objects/9.4 MiB.                                      \n",
      "Copying gs://me-inbre-rnaseq-pipelinev2/data/reference/decoys.txt [Content-Type=text/plain]...\n",
      "/ [1/1 files][   14.0 B/   14.0 B] 100% Done                                    \n",
      "Operation completed over 1 objects/14.0 B.                                       \n"
     ]
    }
   ],
   "source": [
    "!gsutil -m cp -r gs://me-inbre-rnaseq-pipelinev2/data/reference/M_chelonae_transcripts.fasta gs://$BUCKET/data/reference/M_chelonae_transcripts.fasta\n",
    "!gsutil -m cp -r gs://me-inbre-rnaseq-pipelinev2/data/reference/decoys.txt gs://$BUCKET/data/reference/decoys.txt\n"
   ]
  },
  {
   "cell_type": "markdown",
   "id": "ea2d17cb-dff6-45d3-9aef-3ec6203508f6",
   "metadata": {
    "tags": []
   },
   "source": [
    "### STEP 5: Copy data file for Trimmomatic"
   ]
  },
  {
   "cell_type": "code",
   "execution_count": 14,
   "id": "0be371d5-382e-4a22-a300-2c5249eff825",
   "metadata": {},
   "outputs": [
    {
     "name": "stdout",
     "output_type": "stream",
     "text": [
      "Copying gs://me-inbre-rnaseq-pipelinev2/config/TruSeq3-PE.fa [Content-Type=application/octet-stream]...\n",
      "/ [1/1 files][   95.0 B/   95.0 B] 100% Done                                    \n",
      "Operation completed over 1 objects/95.0 B.                                       \n"
     ]
    }
   ],
   "source": [
    "!gsutil -m cp gs://me-inbre-rnaseq-pipelinev2/config/TruSeq3-PE.fa gs://$BUCKET/TruSeq3-PE.fa"
   ]
  },
  {
   "cell_type": "markdown",
   "id": "5ac668db-7851-418e-9b1e-0a2c4abbab6e",
   "metadata": {},
   "source": [
    "### STEP 6: Copy data and config files that will be used in our snakemake environment\n",
    "\n",
    "Next download config files for our snakemake environment."
   ]
  },
  {
   "cell_type": "code",
   "execution_count": 15,
   "id": "1dbc460c-50af-4458-8056-c0f6146fff23",
   "metadata": {},
   "outputs": [
    {
     "name": "stdout",
     "output_type": "stream",
     "text": [
      "Copying gs://me-inbre-rnaseq-pipelinev2/envs/bwa.yaml...\n",
      "Copying gs://me-inbre-rnaseq-pipelinev2/envs/fastqc.yaml...                     \n",
      "Copying gs://me-inbre-rnaseq-pipelinev2/envs/fastqc_old.yaml...                 \n",
      "Copying gs://me-inbre-rnaseq-pipelinev2/envs/multiqc.yaml...                    \n",
      "Copying gs://me-inbre-rnaseq-pipelinev2/envs/salmon.yaml...                     \n",
      "Copying gs://me-inbre-rnaseq-pipelinev2/envs/samtools.yaml...                   \n",
      "Copying gs://me-inbre-rnaseq-pipelinev2/envs/sra-tools.yaml...                  \n",
      "Copying gs://me-inbre-rnaseq-pipelinev2/envs/trimmomatic.yaml...                \n",
      "Copying gs://me-inbre-rnaseq-pipelinev2/envs/trinity.yaml...                    \n",
      "/ [9/9 files][  881.0 B/  881.0 B] 100% Done                                    \n",
      "Operation completed over 9 objects/881.0 B.                                      \n",
      "Copying gs://me-inbre-rnaseq-pipelinev2/config.yaml...\n",
      "/ [1/1 files][   67.0 B/   67.0 B] 100% Done                                    \n",
      "Operation completed over 1 objects/67.0 B.                                       \n",
      "Copying gs://me-inbre-rnaseq-pipelinev2/snakefile_ls_api...\n",
      "/ [1/1 files][  4.0 KiB/  4.0 KiB] 100% Done                                    \n",
      "Operation completed over 1 objects/4.0 KiB.                                      \n"
     ]
    }
   ],
   "source": [
    "!gsutil -m cp -r gs://me-inbre-rnaseq-pipelinev2/envs/ .\n",
    "!gsutil -m cp gs://me-inbre-rnaseq-pipelinev2/config.yaml .\n",
    "!gsutil -m cp gs://me-inbre-rnaseq-pipelinev2/snakefile_ls_api ."
   ]
  },
  {
   "cell_type": "markdown",
   "id": "ab3739b6-aa4e-439e-bd73-2ea43be1801b",
   "metadata": {},
   "source": [
    "Add the bucket path to the end of your config file. Since this file was written for running snakemake locally we have to make a few edits to run on the LS API."
   ]
  },
  {
   "cell_type": "code",
   "execution_count": 16,
   "id": "737c0634-171e-489b-8cfb-e93a025cbd01",
   "metadata": {},
   "outputs": [],
   "source": [
    "!echo 'bucket:' >> config.yaml"
   ]
  },
  {
   "cell_type": "code",
   "execution_count": 17,
   "id": "4fd4c713-8882-4833-a117-706a4b239374",
   "metadata": {},
   "outputs": [],
   "source": [
    "!echo '   '$BUCKET >>config.yaml"
   ]
  },
  {
   "cell_type": "markdown",
   "id": "e45fe428-b9fa-46cb-a69d-2a0e989292e1",
   "metadata": {},
   "source": [
    "Add bucket path to the snakefile"
   ]
  },
  {
   "cell_type": "code",
   "execution_count": 18,
   "id": "3bba277a-704a-41ab-8853-7cf324dde727",
   "metadata": {},
   "outputs": [],
   "source": [
    "!sed -i 's/print(SAMPLES)/BUCKET=config[\"bucket\"]/' snakefile_ls_api"
   ]
  },
  {
   "cell_type": "markdown",
   "id": "cfc635b4-ed50-4a92-8018-f402fdd563b9",
   "metadata": {},
   "source": [
    "### Step 7: Set up your local environment\n",
    "You need to generate a [service account key](https://cloud.google.com/iam/docs/creating-managing-service-account-keys) for the compute engine default service account to interact with the Life Sciences API using Snakemake. Download the key and copy it to this VM. Then assign the path of the json file to an environment variable."
   ]
  },
  {
   "cell_type": "code",
   "execution_count": 19,
   "id": "0e93d6ca-5afe-4f12-9401-be44ce7ac7d9",
   "metadata": {},
   "outputs": [
    {
     "name": "stdout",
     "output_type": "stream",
     "text": [
      "env: GOOGLE_APPLICATION_CREDENTIALS=cloud_creds.json\n"
     ]
    }
   ],
   "source": [
    "%env GOOGLE_APPLICATION_CREDENTIALS=cloud_creds.json"
   ]
  },
  {
   "cell_type": "code",
   "execution_count": 20,
   "id": "e629d7a5-4ef7-408b-88ff-3c52201879a1",
   "metadata": {},
   "outputs": [
    {
     "data": {
      "text/plain": [
       "'cloud_creds.json'"
      ]
     },
     "execution_count": 20,
     "metadata": {},
     "output_type": "execute_result"
    }
   ],
   "source": [
    "import os\n",
    "os.environ[\"GOOGLE_APPLICATION_CREDENTIALS\"]"
   ]
  },
  {
   "cell_type": "markdown",
   "id": "a04afc6c-41cc-46c9-b048-08a7677699c8",
   "metadata": {},
   "source": [
    "Set your project"
   ]
  },
  {
   "cell_type": "code",
   "execution_count": 21,
   "id": "10f587c6-9d51-4433-bf13-bec6dabcb9d8",
   "metadata": {},
   "outputs": [
    {
     "name": "stdout",
     "output_type": "stream",
     "text": [
      "Updated property [core/project].\n"
     ]
    }
   ],
   "source": [
    "!gcloud config set project cit-oconnellka-1212"
   ]
  },
  {
   "cell_type": "markdown",
   "id": "f7d3b561-7213-4b60-9f8f-c511c6fdc067",
   "metadata": {},
   "source": [
    "Initialize a local git repo"
   ]
  },
  {
   "cell_type": "code",
   "execution_count": 22,
   "id": "6d56605b-04bd-48fa-94c0-ba7fffdf08a2",
   "metadata": {},
   "outputs": [
    {
     "name": "stdout",
     "output_type": "stream",
     "text": [
      "Reinitialized existing Git repository in /home/jupyter/ls_api_snakemake/.git/\n"
     ]
    }
   ],
   "source": [
    "!git init"
   ]
  },
  {
   "cell_type": "markdown",
   "id": "f56458ef-e475-4a48-b24b-e903f82eb996",
   "metadata": {},
   "source": [
    "Configure conda"
   ]
  },
  {
   "cell_type": "code",
   "execution_count": 23,
   "id": "f72b8fce-be20-4158-8bd5-00b2ad122414",
   "metadata": {},
   "outputs": [
    {
     "name": "stdout",
     "output_type": "stream",
     "text": [
      "\n",
      "Note: you may need to restart the kernel to use updated packages.\n"
     ]
    }
   ],
   "source": [
    "conda config --set channel_priority strict"
   ]
  },
  {
   "cell_type": "markdown",
   "id": "ec2c0273-c7f1-4aee-bdf3-43d5773cf2fa",
   "metadata": {},
   "source": [
    "### STEP 8: Run snakemake using the Life Sciences API\n",
    "\n",
    "Aside from the .yaml config files which information about software, dependencies, and versions -- snakemake uses a snakefile which contains information about a workflow.\n",
    "\n",
    "This can be a powerful tool as it allows one to operate and think in terms of workflows instead of individual steps. You should open the snakefile to look at it further. It is composed of 'rules' we have created. Snakefiles work largely based on inputs. For a given input/output, there is an associated 'rule' that runs. Snakefiles may take a while to get the idea of what's going on, but in simplest terms here we take an input of .fastq files, and based on the snakefile rules we created, those fastq files are run through the entire workflow. The rule_all at the top determines which rules are run based on the input files for rule_all (which are outputs from the target rules. Comment out rules you don't want to run. "
   ]
  },
  {
   "cell_type": "markdown",
   "id": "d8bf3f71-e394-41c6-9694-b5d4b24cb265",
   "metadata": {},
   "source": [
    "Snakemake requires that you have a service account key to authenticate with the Life Sciences API. This actually is not necessary to use the API from within a notebook, but Snakemake does require it since Snakemake is expecting you to run the command from your own terminal using the SDK. To see all the commands you can run with Snakemake via the Life Sciences API, check out the [docs](https://snakemake.readthedocs.io/en/stable/executor_tutorial/google_lifesciences.html)."
   ]
  },
  {
   "cell_type": "markdown",
   "id": "67c95e75-1619-4694-9411-95edc9f4cee4",
   "metadata": {},
   "source": [
    "Now we can run the Life Sciences APi. You will see that each rule is submitted as a separate job. If the pipeline crashes, the way to troubleshoot is by reading the API logs, or the snakemake rule logs (same info). You can find the Life Sciences API logs by pasting in the gcloud command given in yellow.\n",
    "\n",
    "For example: \n",
    "```\n",
    "gcloud beta lifesciences operations describe <JOB_ID>\n",
    "```\n",
    "Or you can view the logs by finding the path given for logs, and then use gsutil to copy that file locally, or go to the bucket and double click the file. You can get the job ID for the output file in the green section of the rule print out."
   ]
  },
  {
   "cell_type": "code",
   "execution_count": 26,
   "id": "bee32318-33df-43b2-98bc-5eb091ceae59",
   "metadata": {
    "scrolled": true,
    "tags": []
   },
   "outputs": [
    {
     "name": "stdout",
     "output_type": "stream",
     "text": [
      "\u001b[33mBuilding DAG of jobs...\u001b[0m\n",
      "\u001b[33mUsing snakemake/snakemake:v7.8.5 for Google Life Science jobs.\u001b[0m\n",
      "\u001b[33mUsing shell: /usr/bin/bash\u001b[0m\n",
      "\u001b[33mProvided cloud nodes: 24\u001b[0m\n",
      "\u001b[33mJob stats:\n",
      "job                   count    min threads    max threads\n",
      "------------------  -------  -------------  -------------\n",
      "all                       1              1              1\n",
      "fastqc_trimmed            1             12             12\n",
      "multiqc_trimmed           1              1              1\n",
      "salmon_index              1              2              2\n",
      "salmon_quant_reads        2              2              2\n",
      "trimmomatic_pe_fq         2             12             12\n",
      "total                     8              1             12\n",
      "\u001b[0m\n",
      "\u001b[33mSelect jobs to execute...\u001b[0m\n",
      "\u001b[32m\u001b[0m\n",
      "\u001b[32m[Wed Jul 20 20:51:57 2022]\u001b[0m\n",
      "\u001b[32mrule salmon_index:\n",
      "    input: gls-api-snakemakev2/data/reference/M_chelonae_transcripts.fasta, gls-api-snakemakev2/data/reference/decoys.txt\n",
      "    output: gls-api-snakemakev2/data/reference/transcriptome_index/complete_ref_lens.bin, gls-api-snakemakev2/data/reference/transcriptome_index/ctable.bin, gls-api-snakemakev2/data/reference/transcriptome_index/ctg_offsets.bin, gls-api-snakemakev2/data/reference/transcriptome_index/duplicate_clusters.tsv, gls-api-snakemakev2/data/reference/transcriptome_index/info.json, gls-api-snakemakev2/data/reference/transcriptome_index/mphf.bin, gls-api-snakemakev2/data/reference/transcriptome_index/pos.bin, gls-api-snakemakev2/data/reference/transcriptome_index/pre_indexing.log, gls-api-snakemakev2/data/reference/transcriptome_index/rank.bin, gls-api-snakemakev2/data/reference/transcriptome_index/refAccumLengths.bin, gls-api-snakemakev2/data/reference/transcriptome_index/ref_indexing.log, gls-api-snakemakev2/data/reference/transcriptome_index/reflengths.bin, gls-api-snakemakev2/data/reference/transcriptome_index/refseq.bin, gls-api-snakemakev2/data/reference/transcriptome_index/seq.bin, gls-api-snakemakev2/data/reference/transcriptome_index/versionInfo.json\n",
      "    log: gls-api-snakemakev2/logs/salmon/transcriptome_index.log\n",
      "    jobid: 5\n",
      "    reason: Forced execution\n",
      "    threads: 2\n",
      "    resources: mem_mb=1000, disk_mb=1000, tmpdir=/tmp, machine_type=n2-standard\u001b[0m\n",
      "\u001b[32m\u001b[0m\n",
      "\u001b[33mGet status with:\n",
      "gcloud config set project cit-oconnellka-1212\n",
      "gcloud beta lifesciences operations describe projects/cit-oconnellka-1212/locations/us-central1/operations/9083263656153513622\n",
      "gcloud beta lifesciences operations list\n",
      "Logs will be saved to: gls-api-snakemakev2/gls-api-snakemakev2/google-lifesciences-logs\n",
      "\u001b[0m\n",
      "\u001b[32m\u001b[0m\n",
      "\u001b[32m[Wed Jul 20 20:51:58 2022]\u001b[0m\n",
      "\u001b[32mrule trimmomatic_pe_fq:\n",
      "    input: gls-api-snakemakev2/data/raw_fastq/SRR13349122_1.fastq, gls-api-snakemakev2/data/raw_fastq/SRR13349122_2.fastq\n",
      "    output: gls-api-snakemakev2/data/trimmed/SRR13349122_trimmed_1.fastq, gls-api-snakemakev2/data/trimmed/SRR13349122_trimmed_2.fastq, gls-api-snakemakev2/data/trimmed/SRR13349122_trimmed_1.unpaired.fastq, gls-api-snakemakev2/data/trimmed/SRR13349122_trimmed_2.unpaired.fastq\n",
      "    jobid: 1\n",
      "    reason: Forced execution\n",
      "    wildcards: sample=SRR13349122\n",
      "    threads: 12\n",
      "    resources: mem_mb=1000, disk_mb=1000, tmpdir=/tmp, machine_type=n2-standard\u001b[0m\n",
      "\u001b[32m\u001b[0m\n",
      "\u001b[33mGet status with:\n",
      "gcloud config set project cit-oconnellka-1212\n",
      "gcloud beta lifesciences operations describe projects/cit-oconnellka-1212/locations/us-central1/operations/13087707662593848489\n",
      "gcloud beta lifesciences operations list\n",
      "Logs will be saved to: gls-api-snakemakev2/gls-api-snakemakev2/google-lifesciences-logs\n",
      "\u001b[0m\n",
      "\u001b[32m\u001b[0m\n",
      "\u001b[32m[Wed Jul 20 20:51:59 2022]\u001b[0m\n",
      "\u001b[32mrule trimmomatic_pe_fq:\n",
      "    input: gls-api-snakemakev2/data/raw_fastq/SRR13349128_1.fastq, gls-api-snakemakev2/data/raw_fastq/SRR13349128_2.fastq\n",
      "    output: gls-api-snakemakev2/data/trimmed/SRR13349128_trimmed_1.fastq, gls-api-snakemakev2/data/trimmed/SRR13349128_trimmed_2.fastq, gls-api-snakemakev2/data/trimmed/SRR13349128_trimmed_1.unpaired.fastq, gls-api-snakemakev2/data/trimmed/SRR13349128_trimmed_2.unpaired.fastq\n",
      "    jobid: 2\n",
      "    reason: Forced execution\n",
      "    wildcards: sample=SRR13349128\n",
      "    threads: 12\n",
      "    resources: mem_mb=1000, disk_mb=1000, tmpdir=/tmp, machine_type=n2-standard\u001b[0m\n",
      "\u001b[32m\u001b[0m\n",
      "\u001b[33mGet status with:\n",
      "gcloud config set project cit-oconnellka-1212\n",
      "gcloud beta lifesciences operations describe projects/cit-oconnellka-1212/locations/us-central1/operations/7412010814353203314\n",
      "gcloud beta lifesciences operations list\n",
      "Logs will be saved to: gls-api-snakemakev2/gls-api-snakemakev2/google-lifesciences-logs\n",
      "\u001b[0m\n",
      "\u001b[32m[Wed Jul 20 20:54:26 2022]\u001b[0m\n",
      "\u001b[32mFinished job 1.\u001b[0m\n",
      "\u001b[32m1 of 8 steps (12%) done\u001b[0m\n",
      "\u001b[33mSelect jobs to execute...\u001b[0m\n",
      "\u001b[32m\u001b[0m\n",
      "\u001b[32m[Wed Jul 20 20:54:27 2022]\u001b[0m\n",
      "\u001b[32mrule salmon_quant_reads:\n",
      "    input: gls-api-snakemakev2/data/reference/transcriptome_index, gls-api-snakemakev2/data/trimmed/SRR13349122_trimmed_1.fastq, gls-api-snakemakev2/data/trimmed/SRR13349122_trimmed_2.fastq\n",
      "    output: gls-api-snakemakev2/data/quants/SRR13349122_quant\n",
      "    jobid: 6\n",
      "    reason: Input files updated by another job: gls-api-snakemakev2/data/trimmed/SRR13349122_trimmed_1.fastq, gls-api-snakemakev2/data/trimmed/SRR13349122_trimmed_2.fastq\n",
      "    wildcards: sample=SRR13349122\n",
      "    threads: 2\n",
      "    resources: mem_mb=1000, disk_mb=1000, tmpdir=/tmp, machine_type=n2-standard\u001b[0m\n",
      "\u001b[32m\u001b[0m\n",
      "\u001b[33mGet status with:\n",
      "gcloud config set project cit-oconnellka-1212\n",
      "gcloud beta lifesciences operations describe projects/cit-oconnellka-1212/locations/us-central1/operations/16627985964014747593\n",
      "gcloud beta lifesciences operations list\n",
      "Logs will be saved to: gls-api-snakemakev2/gls-api-snakemakev2/google-lifesciences-logs\n",
      "\u001b[0m\n",
      "\u001b[32m[Wed Jul 20 20:54:29 2022]\u001b[0m\n",
      "\u001b[32mFinished job 2.\u001b[0m\n",
      "\u001b[32m2 of 8 steps (25%) done\u001b[0m\n",
      "\u001b[33mSelect jobs to execute...\u001b[0m\n",
      "\u001b[32m\u001b[0m\n",
      "\u001b[32m[Wed Jul 20 20:54:30 2022]\u001b[0m\n",
      "\u001b[32mrule fastqc_trimmed:\n",
      "    input: gls-api-snakemakev2/data/trimmed/SRR13349122_trimmed_1.fastq, gls-api-snakemakev2/data/trimmed/SRR13349128_trimmed_1.fastq, gls-api-snakemakev2/data/trimmed/SRR13349122_trimmed_2.fastq, gls-api-snakemakev2/data/trimmed/SRR13349128_trimmed_2.fastq\n",
      "    output: gls-api-snakemakev2/data/fastqc/SRR13349122_trimmed_1_fastqc.html, gls-api-snakemakev2/data/fastqc/SRR13349128_trimmed_1_fastqc.html, gls-api-snakemakev2/data/fastqc/SRR13349122_trimmed_2_fastqc.html, gls-api-snakemakev2/data/fastqc/SRR13349128_trimmed_2_fastqc.html, gls-api-snakemakev2/data/fastqc/SRR13349122_trimmed_1_fastqc.zip, gls-api-snakemakev2/data/fastqc/SRR13349128_trimmed_1_fastqc.zip, gls-api-snakemakev2/data/fastqc/SRR13349122_trimmed_2_fastqc.zip, gls-api-snakemakev2/data/fastqc/SRR13349128_trimmed_2_fastqc.zip\n",
      "    jobid: 3\n",
      "    reason: Input files updated by another job: gls-api-snakemakev2/data/trimmed/SRR13349128_trimmed_1.fastq, gls-api-snakemakev2/data/trimmed/SRR13349128_trimmed_2.fastq, gls-api-snakemakev2/data/trimmed/SRR13349122_trimmed_1.fastq, gls-api-snakemakev2/data/trimmed/SRR13349122_trimmed_2.fastq\n",
      "    threads: 12\n",
      "    resources: mem_mb=1000, disk_mb=1000, tmpdir=/tmp, machine_type=n2-standard\u001b[0m\n",
      "\u001b[32m\u001b[0m\n",
      "\u001b[33mGet status with:\n",
      "gcloud config set project cit-oconnellka-1212\n",
      "gcloud beta lifesciences operations describe projects/cit-oconnellka-1212/locations/us-central1/operations/7504680694245977219\n",
      "gcloud beta lifesciences operations list\n",
      "Logs will be saved to: gls-api-snakemakev2/gls-api-snakemakev2/google-lifesciences-logs\n",
      "\u001b[0m\n",
      "\u001b[32m\u001b[0m\n",
      "\u001b[32m[Wed Jul 20 20:54:31 2022]\u001b[0m\n",
      "\u001b[32mrule salmon_quant_reads:\n",
      "    input: gls-api-snakemakev2/data/reference/transcriptome_index, gls-api-snakemakev2/data/trimmed/SRR13349128_trimmed_1.fastq, gls-api-snakemakev2/data/trimmed/SRR13349128_trimmed_2.fastq\n",
      "    output: gls-api-snakemakev2/data/quants/SRR13349128_quant\n",
      "    jobid: 7\n",
      "    reason: Input files updated by another job: gls-api-snakemakev2/data/trimmed/SRR13349128_trimmed_2.fastq, gls-api-snakemakev2/data/trimmed/SRR13349128_trimmed_1.fastq\n",
      "    wildcards: sample=SRR13349128\n",
      "    threads: 2\n",
      "    resources: mem_mb=1000, disk_mb=1000, tmpdir=/tmp, machine_type=n2-standard\u001b[0m\n",
      "\u001b[32m\u001b[0m\n",
      "\u001b[33mGet status with:\n",
      "gcloud config set project cit-oconnellka-1212\n",
      "gcloud beta lifesciences operations describe projects/cit-oconnellka-1212/locations/us-central1/operations/7264231868316020752\n",
      "gcloud beta lifesciences operations list\n",
      "Logs will be saved to: gls-api-snakemakev2/gls-api-snakemakev2/google-lifesciences-logs\n",
      "\u001b[0m\n",
      "\u001b[32m[Wed Jul 20 20:54:39 2022]\u001b[0m\n",
      "\u001b[32mFinished job 5.\u001b[0m\n",
      "\u001b[32m3 of 8 steps (38%) done\u001b[0m\n",
      "\u001b[32m[Wed Jul 20 20:56:31 2022]\u001b[0m\n",
      "\u001b[32mFinished job 6.\u001b[0m\n",
      "\u001b[32m4 of 8 steps (50%) done\u001b[0m\n",
      "\u001b[32m[Wed Jul 20 20:56:31 2022]\u001b[0m\n",
      "\u001b[32mFinished job 7.\u001b[0m\n",
      "\u001b[32m5 of 8 steps (62%) done\u001b[0m\n",
      "\u001b[32m[Wed Jul 20 20:59:28 2022]\u001b[0m\n",
      "\u001b[32mFinished job 3.\u001b[0m\n",
      "\u001b[32m6 of 8 steps (75%) done\u001b[0m\n",
      "\u001b[33mSelect jobs to execute...\u001b[0m\n",
      "\u001b[32m\u001b[0m\n",
      "\u001b[32m[Wed Jul 20 20:59:29 2022]\u001b[0m\n",
      "\u001b[32mrule multiqc_trimmed:\n",
      "    input: gls-api-snakemakev2/data/fastqc/SRR13349122_trimmed_1_fastqc.zip, gls-api-snakemakev2/data/fastqc/SRR13349122_trimmed_2_fastqc.zip, gls-api-snakemakev2/data/fastqc/SRR13349128_trimmed_1_fastqc.zip, gls-api-snakemakev2/data/fastqc/SRR13349128_trimmed_2_fastqc.zip\n",
      "    output: gls-api-snakemakev2/multiqc.html\n",
      "    log: gls-api-snakemakev2/logs/multiqc.log\n",
      "    jobid: 4\n",
      "    reason: Input files updated by another job: gls-api-snakemakev2/data/fastqc/SRR13349128_trimmed_2_fastqc.zip, gls-api-snakemakev2/data/fastqc/SRR13349122_trimmed_2_fastqc.zip, gls-api-snakemakev2/data/fastqc/SRR13349122_trimmed_1_fastqc.zip, gls-api-snakemakev2/data/fastqc/SRR13349128_trimmed_1_fastqc.zip\n",
      "    resources: mem_mb=1000, disk_mb=1000, tmpdir=/tmp, machine_type=n2-standard\u001b[0m\n",
      "\u001b[32m\u001b[0m\n",
      "\u001b[33mGet status with:\n",
      "gcloud config set project cit-oconnellka-1212\n",
      "gcloud beta lifesciences operations describe projects/cit-oconnellka-1212/locations/us-central1/operations/4242595237151544412\n",
      "gcloud beta lifesciences operations list\n",
      "Logs will be saved to: gls-api-snakemakev2/gls-api-snakemakev2/google-lifesciences-logs\n",
      "\u001b[0m\n",
      "\u001b[32m[Wed Jul 20 21:02:16 2022]\u001b[0m\n",
      "\u001b[32mFinished job 4.\u001b[0m\n",
      "\u001b[32m7 of 8 steps (88%) done\u001b[0m\n",
      "\u001b[33mSelect jobs to execute...\u001b[0m\n",
      "\u001b[32m\u001b[0m\n",
      "\u001b[32m[Wed Jul 20 21:02:19 2022]\u001b[0m\n",
      "\u001b[32mlocalrule all:\n",
      "    input: gls-api-snakemakev2/data/trimmed/SRR13349122_trimmed_1.fastq, gls-api-snakemakev2/data/trimmed/SRR13349128_trimmed_1.fastq, gls-api-snakemakev2/data/fastqc/SRR13349122_trimmed_1_fastqc.zip, gls-api-snakemakev2/data/fastqc/SRR13349128_trimmed_1_fastqc.zip, gls-api-snakemakev2/multiqc.html, gls-api-snakemakev2/data/reference/transcriptome_index/refseq.bin, gls-api-snakemakev2/data/quants/SRR13349122_quant, gls-api-snakemakev2/data/quants/SRR13349128_quant\n",
      "    jobid: 0\n",
      "    reason: Input files updated by another job: gls-api-snakemakev2/data/trimmed/SRR13349128_trimmed_1.fastq, gls-api-snakemakev2/data/trimmed/SRR13349122_trimmed_1.fastq, gls-api-snakemakev2/data/quants/SRR13349122_quant, gls-api-snakemakev2/data/fastqc/SRR13349128_trimmed_1_fastqc.zip, gls-api-snakemakev2/data/reference/transcriptome_index/refseq.bin, gls-api-snakemakev2/data/fastqc/SRR13349122_trimmed_1_fastqc.zip, gls-api-snakemakev2/data/quants/SRR13349128_quant, gls-api-snakemakev2/multiqc.html\n",
      "    resources: mem_mb=1000, disk_mb=1000, tmpdir=/tmp, machine_type=n2-standard\u001b[0m\n",
      "\u001b[32m\u001b[0m\n",
      "\u001b[33mDownloading from remote: gls-api-snakemakev2/data/quants/SRR13349122_quant\u001b[0m\n",
      "\u001b[33mFinished download.\u001b[0m\n",
      "\u001b[33mDownloading from remote: gls-api-snakemakev2/data/fastqc/SRR13349128_trimmed_1_fastqc.zip\u001b[0m\n",
      "\u001b[33mFinished download.\u001b[0m\n",
      "\u001b[33mDownloading from remote: gls-api-snakemakev2/data/fastqc/SRR13349122_trimmed_1_fastqc.zip\u001b[0m\n",
      "\u001b[33mFinished download.\u001b[0m\n",
      "\u001b[33mDownloading from remote: gls-api-snakemakev2/data/quants/SRR13349128_quant\u001b[0m\n",
      "\u001b[33mFinished download.\u001b[0m\n",
      "\u001b[33mDownloading from remote: gls-api-snakemakev2/data/trimmed/SRR13349128_trimmed_1.fastq\u001b[0m\n",
      "\u001b[33mFinished download.\u001b[0m\n",
      "\u001b[33mDownloading from remote: gls-api-snakemakev2/data/trimmed/SRR13349122_trimmed_1.fastq\u001b[0m\n",
      "\u001b[33mFinished download.\u001b[0m\n",
      "\u001b[33mDownloading from remote: gls-api-snakemakev2/data/reference/transcriptome_index/refseq.bin\u001b[0m\n",
      "\u001b[33mFinished download.\u001b[0m\n",
      "\u001b[33mDownloading from remote: gls-api-snakemakev2/multiqc.html\u001b[0m\n",
      "\u001b[33mFinished download.\u001b[0m\n",
      "\u001b[32m[Wed Jul 20 21:02:23 2022]\u001b[0m\n",
      "\u001b[32mFinished job 0.\u001b[0m\n",
      "\u001b[32m8 of 8 steps (100%) done\u001b[0m\n",
      "\u001b[33mComplete log: .snakemake/log/2022-07-20T205142.601491.snakemake.log\u001b[0m\n",
      "CPU times: user 8.36 s, sys: 2.03 s, total: 10.4 s\n",
      "Wall time: 10min 43s\n"
     ]
    }
   ],
   "source": [
    "%%time\n",
    "! snakemake --forceall --snakefile snakefile_ls_api --google-lifesciences --default-remote-prefix $BUCKET --use-conda --google-lifesciences-region us-central1 -j 24 --rerun-incomplete --default-resources \"machine_type=n2-standard\""
   ]
  },
  {
   "cell_type": "markdown",
   "id": "df9deb0a-1030-4839-aa16-37c3b32a2c87",
   "metadata": {},
   "source": [
    "### STEP 9: Report the top 10 most highly expressed genes in the samples."
   ]
  },
  {
   "cell_type": "markdown",
   "id": "d50f9bd2-dbd2-467f-a9b6-313e63ad304b",
   "metadata": {},
   "source": [
    "Top 10 most highly expressed genes in the wild-type sample. The level of expression is reported in the Transcripts Per Million (`TPM`) and number of reads (`NumReads`) fields:  \n",
    "`Name    Length  EffectiveLength TPM     NumReads`\n"
   ]
  },
  {
   "cell_type": "code",
   "execution_count": null,
   "id": "0676cbbc-9392-41d1-ab57-e2b4f3cc9aad",
   "metadata": {},
   "outputs": [],
   "source": [
    "!gsutil rm gs://$BUCKET/data/quants/SRR13349122_quant\n",
    "!gsutil rm gs://$BUCKET/data/quants/SRR13349128_quant"
   ]
  },
  {
   "cell_type": "code",
   "execution_count": null,
   "id": "b032ce69-f62d-4f5f-90a3-68c2979d9a85",
   "metadata": {},
   "outputs": [],
   "source": [
    "!gsutil ls gs://$BUCKET/data/quants/"
   ]
  },
  {
   "cell_type": "code",
   "execution_count": null,
   "id": "c98fd827-6829-400d-af8c-969ad196c3d2",
   "metadata": {},
   "outputs": [],
   "source": [
    "!gsutil cp -r gs://$BUCKET/data/quants/SRR13349122_quant/ .\n",
    "!gsutil cp -r gs://$BUCKET/data/quants/SRR13349128_quant/ ."
   ]
  },
  {
   "cell_type": "code",
   "execution_count": null,
   "id": "7776f671-30a0-4ba8-a9cc-e3434d40cc48",
   "metadata": {},
   "outputs": [],
   "source": [
    "!sort -nrk 5,5 SRR13349122_quant/quant.sf | head -10"
   ]
  },
  {
   "cell_type": "markdown",
   "id": "678efdde-1782-4481-9240-054c34528163",
   "metadata": {},
   "source": [
    "Top 10 most highly expressed genes in the double lysogen sample.\n"
   ]
  },
  {
   "cell_type": "code",
   "execution_count": null,
   "id": "1ceee200-b741-4954-b950-85edec98eb90",
   "metadata": {},
   "outputs": [],
   "source": [
    "!sort -nrk 5,5 SRR13349128_quant/quant.sf | head -10"
   ]
  },
  {
   "cell_type": "markdown",
   "id": "50169f62-e707-4d84-b301-ded51a704130",
   "metadata": {},
   "source": [
    "### STEP 10: Report the expression of a putative acyl-ACP desaturase (BB28_RS16545) that was downregulated in the double lysogen relative to wild-type\n",
    "A acyl-transferase was reported to be downregulated in the double lysogen as shown in the table of the top 20 upregulated and downregulated genes from the paper describing the study.\n",
    "![RNA-Seq workflow](images/table-cushman.png)"
   ]
  },
  {
   "cell_type": "markdown",
   "id": "5b3794b0-a477-45fa-aa51-4414d7671441",
   "metadata": {},
   "source": [
    "Use `grep` to report the expression in the wild-type sample. The fields in the Salmon `quant.sf` file are as follows. The level of expression is reported in the Transcripts Per Million (`TPM`) and number of reads (`NumReads`) fields:  \n",
    "`Name    Length  EffectiveLength TPM     NumReads`"
   ]
  },
  {
   "cell_type": "code",
   "execution_count": null,
   "id": "a3cb9340-682b-4177-837d-7d803a9775a5",
   "metadata": {},
   "outputs": [],
   "source": [
    "!grep 'BB28_RS16545' SRR13349122_quant/quant.sf"
   ]
  },
  {
   "cell_type": "markdown",
   "id": "79ba6401-261d-43e9-b831-ef76122da623",
   "metadata": {},
   "source": [
    "Use `grep` to report the expression in the double lysogen sample. The fields in the Salmon `quant.sf` file are as follows. The level of expression is reported in the Transcripts Per Million (`TPM`) and number of reads (`NumReads`) fields:  \n",
    "`Name    Length  EffectiveLength TPM     NumReads`"
   ]
  },
  {
   "cell_type": "code",
   "execution_count": null,
   "id": "745ea1c5-79d3-481c-9359-6e0a93b9a286",
   "metadata": {},
   "outputs": [],
   "source": [
    "!grep 'BB28_RS16545' SRR13349128_quant/quant.sf"
   ]
  }
 ],
 "metadata": {
  "environment": {
   "kernel": "python3",
   "name": "common-cpu.m93",
   "type": "gcloud",
   "uri": "gcr.io/deeplearning-platform-release/base-cpu:m93"
  },
  "kernelspec": {
   "display_name": "Python 3",
   "language": "python",
   "name": "python3"
  },
  "language_info": {
   "codemirror_mode": {
    "name": "ipython",
    "version": 3
   },
   "file_extension": ".py",
   "mimetype": "text/x-python",
   "name": "python",
   "nbconvert_exporter": "python",
   "pygments_lexer": "ipython3",
   "version": "3.7.12"
  }
 },
 "nbformat": 4,
 "nbformat_minor": 5
}
