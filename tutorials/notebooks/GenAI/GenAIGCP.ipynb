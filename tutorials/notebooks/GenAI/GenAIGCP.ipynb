{
 "cells": [
  {
   "cell_type": "markdown",
   "metadata": {
    "id": "Hny4I-ODTIS6"
   },
   "source": [
    "# Generative AI on GCP\n"
   ]
  },
  {
   "cell_type": "markdown",
   "metadata": {
    "id": "-nLS57E2TO5y"
   },
   "source": [
    "## Overview\n",
    "\n",
    "In research you often need to read several papers to understand new method or finidings and this can be quite taxing if you only need to get the gist of a article or need to quickly skim the article. In this tutorial we will using four different methods using generative AI to summarize long documents but with the goal of still perserving the most important information. \n",
    "\n",
    "This tutorial is based on the [GCP generative AI tutorials](https://github.com/GoogleCloudPlatform/generative-ai/blob/main/language/examples/document-summarization/summarization_large_documents.ipynb)."
   ]
  },
  {
   "cell_type": "markdown",
   "metadata": {
    "id": "iXsvgIuwTPZw"
   },
   "source": [
    "### Objective\n",
    "\n",
    "In this tutorial, you will learn how to use generative models to summarize information from text by working through the following examples:\n",
    "\n",
    "- [Stuffing method](#stuffing)\n",
    "- [MapReduce method](#map)\n",
    "- [MapReduce with Overlapping Chunks method](#mapo)\n",
    "- [MapReduce with Rolling Summary method](#mapr)\n",
    "- [Summarizing with Generative AI Studio](#genstudio)"
   ]
  },
  {
   "cell_type": "markdown",
   "metadata": {
    "id": "skXAu__iqks_"
   },
   "source": [
    "### Costs\n",
    "\n",
    "This tutorial uses billable components of Google Cloud:\n",
    "- Vertex AI Generative AI Studio\n",
    "\n",
    "Learn about [Vertex AI pricing](https://cloud.google.com/vertex-ai/pricing), [Generative AI pricing](https://cloud.google.com/vertex-ai/pricing#generative_ai_models), and use the [Pricing Calculator](https://cloud.google.com/products/calculator/) to generate a cost estimate based on your projected usage."
   ]
  },
  {
   "cell_type": "markdown",
   "metadata": {
    "id": "mvKl-BtQTRiQ"
   },
   "source": [
    "## Getting Started"
   ]
  },
  {
   "cell_type": "markdown",
   "metadata": {
    "id": "PwFMpIMrTV_4"
   },
   "source": [
    "### Install Vertex AI SDK, other packages and their dependencies"
   ]
  },
  {
   "cell_type": "code",
   "execution_count": 16,
   "metadata": {
    "id": "WYUu8VMdJs3V"
   },
   "outputs": [],
   "source": [
    "!pip install google-cloud-aiplatform PyPDF2 ratelimit backoff --upgrade --quiet --user"
   ]
  },
  {
   "cell_type": "markdown",
   "metadata": {},
   "source": [
    "If a warning comes up to 'add ~/.local/bin to your path' run the following command and restart your notebook."
   ]
  },
  {
   "cell_type": "code",
   "execution_count": 14,
   "metadata": {},
   "outputs": [],
   "source": [
    "!PATH=$PATH:~/.local/bin"
   ]
  },
  {
   "cell_type": "markdown",
   "metadata": {
    "id": "opUxT_k5TdgP"
   },
   "source": [
    "### Authenticating your notebook environment\n",
    "* If you are using **Colab** to run this notebook instructions [here](https://github.com/GoogleCloudPlatform/generative-ai/tree/main/setup-env)\n",
    "* If you are using **Vertex AI Workbench**, check out the setup below."
   ]
  },
  {
   "cell_type": "markdown",
   "metadata": {},
   "source": [
    "Download Generative AI plug-in form the GCP github"
   ]
  },
  {
   "cell_type": "code",
   "execution_count": 2,
   "metadata": {},
   "outputs": [
    {
     "name": "stdout",
     "output_type": "stream",
     "text": [
      "Cloning into 'generative-ai'...\n",
      "remote: Enumerating objects: 1379, done.\u001b[K\n",
      "remote: Counting objects: 100% (753/753), done.\u001b[K\n",
      "remote: Compressing objects: 100% (340/340), done.\u001b[K\n",
      "remote: Total 1379 (delta 537), reused 497 (delta 409), pack-reused 626\u001b[K\n",
      "Receiving objects: 100% (1379/1379), 10.78 MiB | 27.13 MiB/s, done.\n",
      "Resolving deltas: 100% (813/813), done.\n"
     ]
    }
   ],
   "source": [
    "!git clone https://github.com/GoogleCloudPlatform/generative-ai.git"
   ]
  },
  {
   "cell_type": "code",
   "execution_count": 3,
   "metadata": {},
   "outputs": [
    {
     "name": "stdout",
     "output_type": "stream",
     "text": [
      "Requirement already satisfied: google-cloud-aiplatform in /home/jupyter/.local/lib/python3.7/site-packages (1.30.0)\n",
      "Requirement already satisfied: google-api-core[grpc]!=2.0.*,!=2.1.*,!=2.2.*,!=2.3.*,!=2.4.*,!=2.5.*,!=2.6.*,!=2.7.*,<3.0.0dev,>=1.32.0 in /opt/conda/lib/python3.7/site-packages (from google-cloud-aiplatform) (1.34.0)\n",
      "Requirement already satisfied: proto-plus<2.0.0dev,>=1.22.0 in /opt/conda/lib/python3.7/site-packages (from google-cloud-aiplatform) (1.22.2)\n",
      "Requirement already satisfied: protobuf!=3.20.0,!=3.20.1,!=4.21.0,!=4.21.1,!=4.21.2,!=4.21.3,!=4.21.4,!=4.21.5,<5.0.0dev,>=3.19.5 in /opt/conda/lib/python3.7/site-packages (from google-cloud-aiplatform) (3.20.3)\n",
      "Requirement already satisfied: packaging>=14.3 in /opt/conda/lib/python3.7/site-packages (from google-cloud-aiplatform) (23.1)\n",
      "Requirement already satisfied: google-cloud-storage<3.0.0dev,>=1.32.0 in /opt/conda/lib/python3.7/site-packages (from google-cloud-aiplatform) (2.9.0)\n",
      "Requirement already satisfied: google-cloud-bigquery<4.0.0dev,>=1.15.0 in /opt/conda/lib/python3.7/site-packages (from google-cloud-aiplatform) (3.11.0)\n",
      "Requirement already satisfied: google-cloud-resource-manager<3.0.0dev,>=1.3.3 in /opt/conda/lib/python3.7/site-packages (from google-cloud-aiplatform) (1.10.1)\n",
      "Requirement already satisfied: shapely<2.0.0 in /opt/conda/lib/python3.7/site-packages (from google-cloud-aiplatform) (1.8.5.post1)\n",
      "Requirement already satisfied: googleapis-common-protos<2.0dev,>=1.56.2 in /opt/conda/lib/python3.7/site-packages (from google-api-core[grpc]!=2.0.*,!=2.1.*,!=2.2.*,!=2.3.*,!=2.4.*,!=2.5.*,!=2.6.*,!=2.7.*,<3.0.0dev,>=1.32.0->google-cloud-aiplatform) (1.59.0)\n",
      "Requirement already satisfied: google-auth<3.0dev,>=1.25.0 in /opt/conda/lib/python3.7/site-packages (from google-api-core[grpc]!=2.0.*,!=2.1.*,!=2.2.*,!=2.3.*,!=2.4.*,!=2.5.*,!=2.6.*,!=2.7.*,<3.0.0dev,>=1.32.0->google-cloud-aiplatform) (2.19.1)\n",
      "Requirement already satisfied: requests<3.0.0dev,>=2.18.0 in /opt/conda/lib/python3.7/site-packages (from google-api-core[grpc]!=2.0.*,!=2.1.*,!=2.2.*,!=2.3.*,!=2.4.*,!=2.5.*,!=2.6.*,!=2.7.*,<3.0.0dev,>=1.32.0->google-cloud-aiplatform) (2.31.0)\n",
      "Requirement already satisfied: grpcio<2.0dev,>=1.33.2 in /opt/conda/lib/python3.7/site-packages (from google-api-core[grpc]!=2.0.*,!=2.1.*,!=2.2.*,!=2.3.*,!=2.4.*,!=2.5.*,!=2.6.*,!=2.7.*,<3.0.0dev,>=1.32.0->google-cloud-aiplatform) (1.51.3)\n",
      "Requirement already satisfied: grpcio-status<2.0dev,>=1.33.2 in /opt/conda/lib/python3.7/site-packages (from google-api-core[grpc]!=2.0.*,!=2.1.*,!=2.2.*,!=2.3.*,!=2.4.*,!=2.5.*,!=2.6.*,!=2.7.*,<3.0.0dev,>=1.32.0->google-cloud-aiplatform) (1.48.2)\n",
      "Requirement already satisfied: google-cloud-core<3.0.0dev,>=1.6.0 in /opt/conda/lib/python3.7/site-packages (from google-cloud-bigquery<4.0.0dev,>=1.15.0->google-cloud-aiplatform) (2.3.2)\n",
      "Requirement already satisfied: google-resumable-media<3.0dev,>=0.6.0 in /opt/conda/lib/python3.7/site-packages (from google-cloud-bigquery<4.0.0dev,>=1.15.0->google-cloud-aiplatform) (2.5.0)\n",
      "Requirement already satisfied: python-dateutil<3.0dev,>=2.7.2 in /opt/conda/lib/python3.7/site-packages (from google-cloud-bigquery<4.0.0dev,>=1.15.0->google-cloud-aiplatform) (2.8.2)\n",
      "Requirement already satisfied: grpc-google-iam-v1<1.0.0dev,>=0.12.4 in /opt/conda/lib/python3.7/site-packages (from google-cloud-resource-manager<3.0.0dev,>=1.3.3->google-cloud-aiplatform) (0.12.6)\n",
      "Requirement already satisfied: cachetools<6.0,>=2.0.0 in /opt/conda/lib/python3.7/site-packages (from google-auth<3.0dev,>=1.25.0->google-api-core[grpc]!=2.0.*,!=2.1.*,!=2.2.*,!=2.3.*,!=2.4.*,!=2.5.*,!=2.6.*,!=2.7.*,<3.0.0dev,>=1.32.0->google-cloud-aiplatform) (5.3.1)\n",
      "Requirement already satisfied: pyasn1-modules>=0.2.1 in /opt/conda/lib/python3.7/site-packages (from google-auth<3.0dev,>=1.25.0->google-api-core[grpc]!=2.0.*,!=2.1.*,!=2.2.*,!=2.3.*,!=2.4.*,!=2.5.*,!=2.6.*,!=2.7.*,<3.0.0dev,>=1.32.0->google-cloud-aiplatform) (0.3.0)\n",
      "Requirement already satisfied: rsa<5,>=3.1.4 in /opt/conda/lib/python3.7/site-packages (from google-auth<3.0dev,>=1.25.0->google-api-core[grpc]!=2.0.*,!=2.1.*,!=2.2.*,!=2.3.*,!=2.4.*,!=2.5.*,!=2.6.*,!=2.7.*,<3.0.0dev,>=1.32.0->google-cloud-aiplatform) (4.9)\n",
      "Requirement already satisfied: six>=1.9.0 in /opt/conda/lib/python3.7/site-packages (from google-auth<3.0dev,>=1.25.0->google-api-core[grpc]!=2.0.*,!=2.1.*,!=2.2.*,!=2.3.*,!=2.4.*,!=2.5.*,!=2.6.*,!=2.7.*,<3.0.0dev,>=1.32.0->google-cloud-aiplatform) (1.16.0)\n",
      "Requirement already satisfied: urllib3<2.0 in /opt/conda/lib/python3.7/site-packages (from google-auth<3.0dev,>=1.25.0->google-api-core[grpc]!=2.0.*,!=2.1.*,!=2.2.*,!=2.3.*,!=2.4.*,!=2.5.*,!=2.6.*,!=2.7.*,<3.0.0dev,>=1.32.0->google-cloud-aiplatform) (1.26.16)\n",
      "Requirement already satisfied: google-crc32c<2.0dev,>=1.0 in /opt/conda/lib/python3.7/site-packages (from google-resumable-media<3.0dev,>=0.6.0->google-cloud-bigquery<4.0.0dev,>=1.15.0->google-cloud-aiplatform) (1.5.0)\n",
      "Requirement already satisfied: charset-normalizer<4,>=2 in /opt/conda/lib/python3.7/site-packages (from requests<3.0.0dev,>=2.18.0->google-api-core[grpc]!=2.0.*,!=2.1.*,!=2.2.*,!=2.3.*,!=2.4.*,!=2.5.*,!=2.6.*,!=2.7.*,<3.0.0dev,>=1.32.0->google-cloud-aiplatform) (3.1.0)\n",
      "Requirement already satisfied: idna<4,>=2.5 in /opt/conda/lib/python3.7/site-packages (from requests<3.0.0dev,>=2.18.0->google-api-core[grpc]!=2.0.*,!=2.1.*,!=2.2.*,!=2.3.*,!=2.4.*,!=2.5.*,!=2.6.*,!=2.7.*,<3.0.0dev,>=1.32.0->google-cloud-aiplatform) (3.4)\n",
      "Requirement already satisfied: certifi>=2017.4.17 in /opt/conda/lib/python3.7/site-packages (from requests<3.0.0dev,>=2.18.0->google-api-core[grpc]!=2.0.*,!=2.1.*,!=2.2.*,!=2.3.*,!=2.4.*,!=2.5.*,!=2.6.*,!=2.7.*,<3.0.0dev,>=1.32.0->google-cloud-aiplatform) (2023.5.7)\n",
      "Requirement already satisfied: pyasn1<0.6.0,>=0.4.6 in /opt/conda/lib/python3.7/site-packages (from pyasn1-modules>=0.2.1->google-auth<3.0dev,>=1.25.0->google-api-core[grpc]!=2.0.*,!=2.1.*,!=2.2.*,!=2.3.*,!=2.4.*,!=2.5.*,!=2.6.*,!=2.7.*,<3.0.0dev,>=1.32.0->google-cloud-aiplatform) (0.5.0)\n"
     ]
    }
   ],
   "source": [
    "!pip install google-cloud-aiplatform --upgrade"
   ]
  },
  {
   "cell_type": "markdown",
   "metadata": {},
   "source": [
    "Enter in your project ID and the location nearest to you."
   ]
  },
  {
   "cell_type": "code",
   "execution_count": 4,
   "metadata": {},
   "outputs": [],
   "source": [
    "PROJECT_ID = \"<PROJECT ID>\"\n",
    "LOCATION = \"<LOCATION>\" #e.g. us-central1\n",
    "\n",
    "import vertexai\n",
    "vertexai.init(project=PROJECT_ID, location=LOCATION)"
   ]
  },
  {
   "cell_type": "markdown",
   "metadata": {
    "id": "n5fXfvzhTkYN"
   },
   "source": [
    "### Import libraries"
   ]
  },
  {
   "cell_type": "code",
   "execution_count": 1,
   "metadata": {
    "id": "cRkcfnQMT9vD"
   },
   "outputs": [],
   "source": [
    "import re\n",
    "import urllib\n",
    "import warnings\n",
    "from pathlib import Path\n",
    "\n",
    "import backoff\n",
    "import pandas as pd\n",
    "import PyPDF2\n",
    "import ratelimit\n",
    "from google.api_core import exceptions\n",
    "from tqdm import tqdm\n",
    "from vertexai.language_models import TextGenerationModel\n",
    "\n",
    "warnings.filterwarnings(\"ignore\")"
   ]
  },
  {
   "cell_type": "markdown",
   "metadata": {},
   "source": [
    "If you receive a error saying **'PyPDF2 is not found'** shut down and restart your notebook then run the script again."
   ]
  },
  {
   "cell_type": "markdown",
   "metadata": {
    "id": "DAGaTjPVTmhP"
   },
   "source": [
    "### Import models\n",
    "\n",
    "Here you load the pre-trained text generation model called `text-bison@001`.\n"
   ]
  },
  {
   "cell_type": "code",
   "execution_count": 9,
   "metadata": {
    "id": "ITUmZiNZcMUW"
   },
   "outputs": [],
   "source": [
    "generation_model = TextGenerationModel.from_pretrained(\"text-bison@001\")"
   ]
  },
  {
   "cell_type": "markdown",
   "metadata": {
    "id": "HZkLDRTjTcfm"
   },
   "source": [
    "### Preparing data files\n",
    "\n",
    "Now you will need to download a PDF file for the summarizing tasks below. For this tutorial this article is about how gut microbiota affects Alzeheimer's disease because of the gut-brain-microbiota axis network."
   ]
  },
  {
   "cell_type": "code",
   "execution_count": 55,
   "metadata": {
    "id": "7H0zINHpTaSu"
   },
   "outputs": [
    {
     "data": {
      "text/plain": [
       "(PosixPath('data/pdf'), <http.client.HTTPMessage at 0x7f7cac2306d0>)"
      ]
     },
     "execution_count": 55,
     "metadata": {},
     "output_type": "execute_result"
    }
   ],
   "source": [
    "# Define a folder to store the files\n",
    "data_folder = \"data\"\n",
    "Path(data_folder).mkdir(parents=True, exist_ok=True)\n",
    "\n",
    "# Define a pdf link to download and place to store the download file\n",
    "pdf_url = \"https://www.aging-us.com/article/102930/pdf\"\n",
    "pdf_file = Path(data_folder, pdf_url.split(\"/\")[-1])\n",
    "\n",
    "# Download the file using `urllib` library\n",
    "urllib.request.urlretrieve(pdf_url, pdf_file)"
   ]
  },
  {
   "cell_type": "markdown",
   "metadata": {
    "id": "d_g1xzysoU18"
   },
   "source": [
    "Here you will take a peak at a few pages of the downloaded pdf file"
   ]
  },
  {
   "cell_type": "code",
   "execution_count": 56,
   "metadata": {
    "id": "hLtMd97SoTBE",
    "scrolled": true,
    "tags": []
   },
   "outputs": [
    {
     "name": "stdout",
     "output_type": "stream",
     "text": [
      "Page 0: www.aging -us.com  5539  AGING  INTRODUCTION  \n",
      " \n",
      "The cause of Alzheimer’s  disease is currently unknown, \n",
      "but it has been shown that the onset of the disease \n",
      "occurs 10 -20 years before the onset of clinical \n",
      "symptoms and includes various factors that are \n",
      "ultimately not defined [1]. Factors that may be involved \n",
      "in the development of  the disease are thought to include \n",
      "lifestyle habits such as diet, exercise, education history, \n",
      "cognition and aging, immunosenescence, chronic \n",
      "infections, chronic inflammation, latent infections, sleep \n",
      "problems and other [1, 2]. A randomized clinical trial  \n",
      "was reported in which sleep in healthy middle -aged men \n",
      "reduced cerebrospinal fluid amyloid levels and lack of \n",
      "sleep counteracted this decrease [2]. In a study \n",
      "assessing the relationship between the Mediterranean \n",
      "diet and dementia development, it was noted  that the \n",
      "traditional Mediterranean diet, which consists of a large \n",
      "number of vegetables, fruits and cereals, reduced the risk of developing Alzheimer’s  disease and dementia \n",
      "[3]. In addition, Ozawa et al., [4] observed over 1,000 \n",
      "patients with Alzheimer’s  disease for 17 years, and \n",
      "found that the incidence of Alzheimer’s  disease \n",
      "decreased significantly with the increase in the \n",
      "consumption of milk and dairy products. Lifestyle \n",
      "therefore plays an important role in preventing \n",
      "Alzheimer’s  disease, and lifestyle dysregulation may \n",
      "not only lead to Alzheimer’s  disease, but also to various \n",
      "other health problems such as dysregulation of the gut \n",
      "microbiota. The composition of symbiotic \n",
      "microorganisms has changed dramatically throughout \n",
      "human history with the developmen t of agriculture, \n",
      "industrialization and globalization. It is postulated that \n",
      "each of these lifestyle changes resulted in a gradual \n",
      "disappearance of microbial diversity and an increase in \n",
      "their virulence, thus causing the formation of a risk path \n",
      "for Alzhei mer’s  disease pathogenesis. Changes in the \n",
      "microbial composition throughout history suggest an www.aging -us.com  AGING 2020 , Vol.  12, No. 6  \n",
      "Review  \n",
      "Gut microbiota and pro/prebiotics in Alzheimer’s  disease  \n",
      " \n",
      "Ryszard Pluta1, Marzena Ułamek -Kozioł1, Sławomir Januszewski1, Stanisław J. Czuczwar2 \n",
      " \n",
      "1Laboratory of Ischemic and Neurodegenerative Brain Research, Mossakowski Medical Research Centre, Polish \n",
      "Academy of Sciences, Warsaw, Poland  \n",
      "2Department of Pathophysiology, Medical University of Lublin, Lublin, Poland  \n",
      " \n",
      "Correspondence  to: Ryszard Pluta ; email:  pluta@imdik.pan.pl  \n",
      "Keywords : Alzheimer’s  disease,  gut-brain -microbiota axis, gut microbiota, probiotics, prebiotics  \n",
      "Received:  January  16, 2020  Accepted:  March 4, 2020   Published:  March 19, 2020  \n",
      " \n",
      "Copyright:  Pluta  et al. This is an open -access  article  distributed  under  the terms  of the Creative  Commons  Attribution  License  \n",
      "(CC BY 3.0),  which  permits  unrestricted  use, distribution,  and reproduction  in any medium,  provided  the original  author  and \n",
      "source  are credited.  \n",
      " \n",
      "ABSTRACT  \n",
      " \n",
      "Alzheimer’s  disease  is characterized  by the accumulation  of amyloid  and dysfunctional  tau protein  in the brain  \n",
      "along  with  the final  development  of dementia.  Accumulation  of amyloid  in the brain  was observed  10-20 years  \n",
      "before  the onset  of clinical  symptoms  by diagnos tic methods  based  on image  analysis.  This is a serious  public  \n",
      "health  problem,  incidence  and prevalence  being  expected  to reach  epidemic  proportions  over  the next  few \n",
      "decades  if the disease  cannot  be prevented  or slowed  down.  Recently,  in addition  to the strongly  developing  \n",
      "ischemic  etiology  of Alzheimer’s  disease,  it is suggested  that  the gut microbiota  may  also participate  in the \n",
      "development  of this disease.  The brain  and gut are thought  to form  a network  called  the “gut-brain -microbiota  \n",
      "axis”, and it is strongly  supported  idea  that  the intestinal  microflora  can be involved  in Alzheimer’s  disease.  \n",
      "Lately,  many  new  studies  have  been  conducted  that  draw  attention  to the relationship  between  Alzheimer’s  \n",
      "disease  and gut microbiota.  This review  presents  a possib le relationship  between  Alzheimer’s  disease  and a \n",
      "microbiome.  It is a promising  idea  for prevention  or therapeutic  intervention.  Modulation  of the gut microbiota  \n",
      "through  a personalized  diet or beneficial  microflora  intervention  like pro/prebiotics,  changin g microbiological  \n",
      "partners  and their  products,  including  amyloid  protein,  can become  a new  treatment  for Alzheimer’s  disease. \n",
      "\n",
      "\n",
      "Page 1: www.aging -us.com  5540  AGING  escalation of the risk of Alzheimer’s  disease . Recent \n",
      "advances in research on the etiology of Alzheimer’s  \n",
      "disease suggest that microbiota (oral, nasal, intestina l) \n",
      "dysbiosis during life can lead to a systemic \n",
      "inflammatory response and affect microglia immune \n",
      "response in the brain. More and more experimental and \n",
      "clinical data confirm the key role of intestinal dysbiosis \n",
      "and interaction of the intestinal microflora with the host \n",
      "in the development of neurodegeneration [ 5]. What is \n",
      "more, over time, the pathological permeability of the \n",
      "intestinal mucosa and blood -brain barrier begins to \n",
      "increase and a vicious circle  is formed that irreversibly \n",
      "destroys neurons. It is l ikely that the convergence of the \n",
      "inflammatory response from the gut along with aging \n",
      "and poor diet in the elderly contributes to the \n",
      "pathogenesis of Alzheimer’s  disease. Modifying the \n",
      "composition of the intestinal microflora with food -based \n",
      "therapy or pro/prebiotic supplementation can create new \n",
      "preventive and therapeutic options for Alzheimer’s  \n",
      "disease. The future of pro/prebiotic in Alzheimer’s  \n",
      "disease depends on the progress of research on the role \n",
      "of intestinal microflora in the development of \n",
      "Alzheimer’s  disease. We must first understand how and \n",
      "when intestinal bacteria promote Alzheimer’s  disease. \n",
      "This review aims to highlight the role of intestinal \n",
      "microflo ra in the onset and progression of Alzheimer’s  \n",
      "disease.  \n",
      " \n",
      "Gut microbiota versus brain  \n",
      " \n",
      "The relationship between the gut microflora and the brain \n",
      "is that the intestine and the brain can interact with each \n",
      "other via the nervous system or chemicals that cross the \n",
      "blood -brain barrier. For example, the vagus nerve \n",
      "connects intestinal nerve cells with neurons in the brain \n",
      "[6]. The intestinal flora produce, i.e. monoamines, \n",
      "methionine, glutamate and homocysteine, which via the \n",
      "lymphatic and circulatory system reach  the central \n",
      "neurons and can affect their activity, which may manifest \n",
      "as behavioral changes [7, 8]. On top of it, intestinal \n",
      "bacteria are sensitive to information sent by the brain via \n",
      "neurotransmitters [8, 9]. The vagus nerve with its own \n",
      "nuclei in the b rainstem serves as a connection between \n",
      "the intestines and the spinal cord through the incoming \n",
      "and outgoing fibers [10]. In this situation, the brainstem \n",
      "nuclei can monitor different bowel functions and spread \n",
      "signals to other areas of the brain such as t he thalamus \n",
      "and cerebral cortex [11]. To sum up, the “gut-brain -\n",
      "microbiota axis ” is a bottom -up concept, in contrast to \n",
      "the top -down term “brain -gut-microbiota axis ”’, no \n",
      "matter what it is called, its meaning refers to two -way \n",
      "communication between the int estine and the brain [11]. \n",
      "To top it all off, the intestinal nervous system can \n",
      "exchange information with the brain via intestinal \n",
      "bacteria [12]. Exchange of information and substances \n",
      "between the intestine and the brain can also occur via the peripheral c irculatory system [13]. The intestinal mucosa \n",
      "and blood -brain barrier allow the passage of cytokines \n",
      "and hormones that can affect both intestinal and brain \n",
      "tissue [14]. In germ -free mice, intestinal bacteria have \n",
      "been documented to affect the maturation of  the nervous, \n",
      "endocrine and immune systems [11]. The brain -gut-\n",
      "microbiota axis is considered as a multifunctional \n",
      "network in which the central, peripheral, hormonal and \n",
      "immune systems participate in two -way communication \n",
      "[15]. The intestinal microflora is able to synthesize and \n",
      "release neuromodulators and neurotransmitters such as \n",
      "glutamate, short chain fatty acids, biogenic amines, \n",
      "serotonin, dopamine and histamine and other amino acid \n",
      "metabolites such as homocysteine, GABA and \n",
      "tryptophan [8, 16]. All thes e molecules act in the brain \n",
      "tissue and control the activity of neurons. Studies have \n",
      "indeed confirmed that microflora changes are responsible \n",
      "for behavioral abnormalities, but have not revealed any \n",
      "direct cause -effect [17]. Another possibility is that the  \n",
      "intestinal microflora produces neurotoxic substances such \n",
      "as D -lactic acid, homocysteine, pro -inflammatory \n",
      "cytokines and ammonia, which are subsequently released \n",
      "into the brain [8, 18, 19]. Thus, the intestinal microflora \n",
      "can affect the brain -gut-microbio ta axis via immune, \n",
      "neuroendocrine and direct nerve mechanisms [13]. The \n",
      "above changes can cause anxiety, memory impairment \n",
      "and other cognitive disorders [17, 18, 20, 21]. According \n",
      "to the latest research, changes in the intestinal microflora \n",
      "are associate d with various neurodegenerative diseases \n",
      "[22], and among neurodegenerative diseases there is \n",
      "evidence of possible involvement of intestinal dysbiosis \n",
      "in the development of Alzheimer’s  disease [23].  \n",
      " \n",
      "Gut microbiota versus Alzheimer’s disease   \n",
      " \n",
      "Suggestions that the intestinal microflora may be \n",
      "involved in the neuropathology of Alzheimer’s  disease \n",
      "are mainly from experimental research. That is why \n",
      "germ -free animals are used to study the effect of \n",
      "intestinal microflora on brain pathology. A signifi cant \n",
      "reduction in amyloid accumulation and its neurotoxicity \n",
      "has been observed in these rodents and these negative \n",
      "effects occur again when the animals are exposed to the \n",
      "intestinal microflora of control mice [24].  \n",
      " \n",
      "A study comparing the microbiota of 25 Alzheimer’s  \n",
      "disease cases with 25 controls showed a reduced \n",
      "microbial diversity in Alzheimer’s  disease patients [25]. \n",
      "In addition, a decrease in the number of Firmicutes  and \n",
      "an increase in the percentage of Bacteroidetes  were \n",
      "observed [25]. Another study co mparing the \n",
      "microbiome of non -demented patients with dementia \n",
      "patients found that Bacteroides  were reduced in patients \n",
      "with dementia compared with non -dementia patients \n",
      "[26]. In addition, cultivable butyrate -producing bacteria \n",
      "involved in cognitive functio n have been isolated from \n",
      "\n",
      "\n",
      "Page 2: www.aging -us.com  5541  AGING  the microbiota of Japanese Alzheimer’s  disease patients \n",
      "[27]. The next investigation provided evidence that in \n",
      "the study of Alzheimer’s  disease and mild cognitive \n",
      "impairment patients from China and healthy people, \n",
      "microbiological diversity of feces was reduced in \n",
      "patients with Alzheimer’s  disease compared to patients \n",
      "with mild cognitive impairment and healthy subjects \n",
      "[28]. In addition, there was also a decrease in the \n",
      "number of Firmicutes  and an increase in the number of \n",
      "Proteobac teria [28].  \n",
      " \n",
      "Many human studies have recently shown that bacterial \n",
      "or viral infection [29] can be one of the causes of \n",
      "Alzheimer’s  disease. The effect of chronic Helicobacter \n",
      "pylori  infection on Alzheimer’s  disease has been \n",
      "demonstrated by the release of massive inflammatory \n",
      "mediators [ 30]. Plasma levels of β -amyloid peptides 1 -\n",
      "40 and 1 -42 increased in patients with Alzheimer’s  \n",
      "disease infected with Helicobacter pylori  or Borrelia \n",
      "burgdorferi  and Chlamydia pneumoniae  [31]. \n",
      "Helicobacter pylori  filtrate in v itro induced \n",
      "hyperphosphorylation of tau protein of Alzheimer’s  \n",
      "disease type by activation of glycogen -3β synthase \n",
      "kinase [32]. In addition, multi -bacterial infections were \n",
      "found in the brain tissue of Alzheimer’s  disease patients \n",
      "[33]. In the hippocampus and temporal lobe lysates \n",
      "from the brains of patients with Alzheimer’s  disease, a \n",
      "high level of bacterial lipopolysaccharide was found, \n",
      "which is an important internal factor contributing to \n",
      "inflammatory brain degeneration [34]. Serum analysis \n",
      "of people wit h cognitive impairment also showed \n",
      "elevated levels of pro -inflammatory cytokines, as well \n",
      "as higher pro -inflammatory ( Shigella /Escherichia ) and \n",
      "reduced anti -inflammatory intestinal microbiome \n",
      "(Escherichia rectale ) [35]. Herpes simplex virus type 1  \n",
      "has been documented as an important risk factor for the \n",
      "development of Alzheimer’s  disease, and its research \n",
      "may reveal mechanisms and signposts in the search for \n",
      "the etiology of the disease [36]. Other viruses such as  \n",
      "cytomegalovirus  [37] and varicella -zoster virus [38, 39] \n",
      "have been also associated with Alzheimer’s  disease, \n",
      "although their role as individual risk factors for the \n",
      "development of the disease is unclear [ 40]. The \n",
      "interaction between cytomegalovirus and herpes \n",
      "simplex virus type 1  has been fou nd to be significantly \n",
      "associated with the development of Alzheimer’s  disease \n",
      "[40]. These data suggest that cytomegalovirus infection \n",
      "facilitates the development of Alzheimer’s  disease \n",
      "associated with  herpes simplex virus type 1,  perhaps by \n",
      "affecting the i mmune system [40]. Some studies have \n",
      "indicated that the intestinal microflora can also affect \n",
      "proteins and receptors involved in synaptic plasticity, \n",
      "such as the NMDA receptor, brain -derived neurotrophic \n",
      "factor and serotonin receptors, in addition to serot onin \n",
      "alone [41]. Dysbiosis caused by a high fat diet can \n",
      "trigger neuroinflammation with the generation of pro -inflammatory cytokines and decline of immune \n",
      "regulating activity [42]. Under normal conditions, e.g. \n",
      "Clostridium butyricum  has a neuroprotective e ffect by \n",
      "increasing the secretion of glucagon -like peptide -1 [43], \n",
      "and other intestinal bacteria produce, e.g. short chain \n",
      "fatty acids and antioxidants, which also protect the brain \n",
      "from pathogens [44].  \n",
      " \n",
      "Gut microbiota amyloids versus amyloid \n",
      "generation in  the brain  \n",
      " \n",
      "Some Enterobacteria species  and/or fungi may produce \n",
      "amyloid peptides or a curly type amyloid fiber that is \n",
      "capable of forming seeding for aggregation of amyloid \n",
      "in the brain [45 –48]. Microbial amyloids increase the \n",
      "nucleation of β -amyloid pept ide aggregates [49] and \n",
      "trigger an inflammatory response [50]. On top of it, to \n",
      "nucleation of β -amyloid peptide aggregates, bacterial \n",
      "amyloid peptides also increase the aggregation of other \n",
      "misfolded proteins such as alpha -synuclein [49].  \n",
      " \n",
      "A reduction in a myloid accumulation was observed in \n",
      "APPPS1 transgenic mice in the absence of gut \n",
      "microbiota [24]. In addition, the microflora of the \n",
      "transgenic mouse model differs from the wild -type \n",
      "microflora, which causes amyloid accumulation in wild -\n",
      "type mice transplan ted with the microbiome of the \n",
      "Alzheimer’s  disease transgenic mouse model [24].  \n",
      "Short -chain fatty acids derived from the intestinal \n",
      "microflora strongly inhibit amyloid aggregation in vitro  \n",
      "[51]. In addition, bacterial endotoxin may be involved \n",
      "in neuroinfl ammation associated with amyloid fibril \n",
      "formation in Alzheimer’s  disease [52]. Although some \n",
      "bacteria, such as Escherichia coli , produce amyloid \n",
      "[53], but the association of this amyloid with \n",
      "neurodegenerative diseases, such as Alzheimer’s  \n",
      "disease is not d efinitively explained [54]. Bacterial \n",
      "amyloid has been shown to activate signaling pathways \n",
      "that play a role in the pathogenesis of Alzheimer’s  \n",
      "disease, and microflora is an important key player that \n",
      "expands neuroinflammation associated with the \n",
      "production  and accumulation of amyloid [55]. In \n",
      "addition, bacterial gram -negative lipopolysaccharide \n",
      "promotes the accumulation of amyloid in the brain of \n",
      "mice, negatively affecting cognitive functions [56, 57].  \n",
      " \n",
      "However, it is not known how bacterial amyloids inter act \n",
      "with other pathological processes in Alzheimer’s  disease, \n",
      "such as tau protein dysfunction, neuroinflammation and \n",
      "cerebrovascular degeneration. Studies have shown that \n",
      "metabolites released from abundant bacteria in a healthy \n",
      "digestive tract maintain cognitive function, while \n",
      "metabolites released from pro -inflammatory bacterial \n",
      "species exacerbate Alzheimer’s  disease by intensifying  \n",
      "brain neuroinflammation. When the intestinal barrier has \n",
      "increased permeability, immunogenic bacterial amyloids \n",
      "\n",
      "\n"
     ]
    }
   ],
   "source": [
    "# Read the PDF file and create a list of pages\n",
    "reader = PyPDF2.PdfReader(pdf_file)\n",
    "pages = reader.pages\n",
    "\n",
    "# Print three pages from the pdf\n",
    "for i in range(3):\n",
    "    text = pages[i].extract_text().strip()\n",
    "    print(f\"Page {i}: {text} \\n\\n\")"
   ]
  },
  {
   "cell_type": "markdown",
   "metadata": {
    "id": "ZDVwBFSjZ7ws"
   },
   "source": [
    "## Method 1: Stuffing <a name=\"stuffing\"></a>\n",
    "\n",
    "The simplest way to pass data to a language model is to \"stuff\" it all into the prompt as context. This means simply including all of the relevant information in the prompt, in the order that you want the model to process it.\n",
    "\n",
    "Here you will extract the text from all the pages in the pdf file."
   ]
  },
  {
   "cell_type": "code",
   "execution_count": 17,
   "metadata": {
    "id": "eH3Y3X8hJs3X"
   },
   "outputs": [
    {
     "name": "stderr",
     "output_type": "stream",
     "text": [
      "100%|██████████| 12/12 [00:02<00:00,  4.05it/s]"
     ]
    },
    {
     "name": "stdout",
     "output_type": "stream",
     "text": [
      "There are 56507 characters in the pdf\n"
     ]
    },
    {
     "name": "stderr",
     "output_type": "stream",
     "text": [
      "\n"
     ]
    }
   ],
   "source": [
    "# Read the PDF file and create a list of pages\n",
    "reader = PyPDF2.PdfReader(pdf_file)\n",
    "pages = reader.pages\n",
    "\n",
    "# Entry string to concatenate all the extacted texts\n",
    "concatenated_text = \"\"\n",
    "\n",
    "# Loop through the pages\n",
    "for page in tqdm(pages):\n",
    "\n",
    "    # Extract the text from the page and remove any leading or trailing whitespace\n",
    "    text = page.extract_text().strip()\n",
    "\n",
    "    # Concate the extracted text to the concatenated text\n",
    "    concatenated_text += text\n",
    "\n",
    "print(f\"There are {len(concatenated_text)} characters in the pdf\")"
   ]
  },
  {
   "cell_type": "markdown",
   "metadata": {
    "id": "fOMGiUAaiy3Y"
   },
   "source": [
    "You will now create a prompt template that can be used later in the notebook."
   ]
  },
  {
   "cell_type": "code",
   "execution_count": 18,
   "metadata": {
    "id": "eDBlvprWizgW"
   },
   "outputs": [],
   "source": [
    "prompt_template = \"\"\"\n",
    "    Write a concise summary of the following text delimited by triple backquotes.\n",
    "    Return your response in bullet points which covers the key points of the text.\n",
    "\n",
    "    ```{text}```\n",
    "\n",
    "    BULLET POINT SUMMARY:\n",
    "\"\"\""
   ]
  },
  {
   "cell_type": "markdown",
   "metadata": {
    "id": "x_xMwRLuyDrj"
   },
   "source": [
    "Here you will use LLM via the API to summarize the extracted texts. Please note that LLMs currently have input text limit and stuffing a large input text might not be accepted. You can read more about quotas and limits [here](https://cloud.google.com/vertex-ai/docs/quotas).\n",
    "\n",
    "For explainations on the parameters **prompt, max_output_tokens, temperature, top_p, and top_k** see the following article [here](https://cloud.google.com/vertex-ai/docs/generative-ai/text/test-text-prompts#generative-ai-test-text-prompt-drest).\n",
    "\n",
    "\n",
    "The following code will cause **an exception**!"
   ]
  },
  {
   "cell_type": "code",
   "execution_count": 31,
   "metadata": {
    "id": "RtgemmBzkddX"
   },
   "outputs": [
    {
     "ename": "InvalidArgument",
     "evalue": "400 The model supports up to 8192 input tokens, but received 19043 tokens.",
     "output_type": "error",
     "traceback": [
      "\u001b[0;31m---------------------------------------------------------------------------\u001b[0m",
      "\u001b[0;31m_InactiveRpcError\u001b[0m                         Traceback (most recent call last)",
      "\u001b[0;32m/opt/conda/lib/python3.7/site-packages/google/api_core/grpc_helpers.py\u001b[0m in \u001b[0;36merror_remapped_callable\u001b[0;34m(*args, **kwargs)\u001b[0m\n\u001b[1;32m     64\u001b[0m         \u001b[0;32mtry\u001b[0m\u001b[0;34m:\u001b[0m\u001b[0;34m\u001b[0m\u001b[0;34m\u001b[0m\u001b[0m\n\u001b[0;32m---> 65\u001b[0;31m             \u001b[0;32mreturn\u001b[0m \u001b[0mcallable_\u001b[0m\u001b[0;34m(\u001b[0m\u001b[0;34m*\u001b[0m\u001b[0margs\u001b[0m\u001b[0;34m,\u001b[0m \u001b[0;34m**\u001b[0m\u001b[0mkwargs\u001b[0m\u001b[0;34m)\u001b[0m\u001b[0;34m\u001b[0m\u001b[0;34m\u001b[0m\u001b[0m\n\u001b[0m\u001b[1;32m     66\u001b[0m         \u001b[0;32mexcept\u001b[0m \u001b[0mgrpc\u001b[0m\u001b[0;34m.\u001b[0m\u001b[0mRpcError\u001b[0m \u001b[0;32mas\u001b[0m \u001b[0mexc\u001b[0m\u001b[0;34m:\u001b[0m\u001b[0;34m\u001b[0m\u001b[0;34m\u001b[0m\u001b[0m\n",
      "\u001b[0;32m/opt/conda/lib/python3.7/site-packages/grpc/_channel.py\u001b[0m in \u001b[0;36m__call__\u001b[0;34m(self, request, timeout, metadata, credentials, wait_for_ready, compression)\u001b[0m\n\u001b[1;32m    945\u001b[0m                                       wait_for_ready, compression)\n\u001b[0;32m--> 946\u001b[0;31m         \u001b[0;32mreturn\u001b[0m \u001b[0m_end_unary_response_blocking\u001b[0m\u001b[0;34m(\u001b[0m\u001b[0mstate\u001b[0m\u001b[0;34m,\u001b[0m \u001b[0mcall\u001b[0m\u001b[0;34m,\u001b[0m \u001b[0;32mFalse\u001b[0m\u001b[0;34m,\u001b[0m \u001b[0;32mNone\u001b[0m\u001b[0;34m)\u001b[0m\u001b[0;34m\u001b[0m\u001b[0;34m\u001b[0m\u001b[0m\n\u001b[0m\u001b[1;32m    947\u001b[0m \u001b[0;34m\u001b[0m\u001b[0m\n",
      "\u001b[0;32m/opt/conda/lib/python3.7/site-packages/grpc/_channel.py\u001b[0m in \u001b[0;36m_end_unary_response_blocking\u001b[0;34m(state, call, with_call, deadline)\u001b[0m\n\u001b[1;32m    848\u001b[0m     \u001b[0;32melse\u001b[0m\u001b[0;34m:\u001b[0m\u001b[0;34m\u001b[0m\u001b[0;34m\u001b[0m\u001b[0m\n\u001b[0;32m--> 849\u001b[0;31m         \u001b[0;32mraise\u001b[0m \u001b[0m_InactiveRpcError\u001b[0m\u001b[0;34m(\u001b[0m\u001b[0mstate\u001b[0m\u001b[0;34m)\u001b[0m\u001b[0;34m\u001b[0m\u001b[0;34m\u001b[0m\u001b[0m\n\u001b[0m\u001b[1;32m    850\u001b[0m \u001b[0;34m\u001b[0m\u001b[0m\n",
      "\u001b[0;31m_InactiveRpcError\u001b[0m: <_InactiveRpcError of RPC that terminated with:\n\tstatus = StatusCode.INVALID_ARGUMENT\n\tdetails = \"The model supports up to 8192 input tokens, but received 19043 tokens.\"\n\tdebug_error_string = \"UNKNOWN:Error received from peer ipv4:142.250.159.95:443 {grpc_message:\"The model supports up to 8192 input tokens, but received 19043 tokens.\", grpc_status:3, created_time:\"2023-08-14T11:08:27.664539406+00:00\"}\"\n>",
      "\nThe above exception was the direct cause of the following exception:\n",
      "\u001b[0;31mInvalidArgument\u001b[0m                           Traceback (most recent call last)",
      "\u001b[0;32m/tmp/ipykernel_1/2559642237.py\u001b[0m in \u001b[0;36m<module>\u001b[0;34m\u001b[0m\n\u001b[1;32m      3\u001b[0m \u001b[0;34m\u001b[0m\u001b[0m\n\u001b[1;32m      4\u001b[0m \u001b[0;31m# Use the model to summarize the text using the prompt\u001b[0m\u001b[0;34m\u001b[0m\u001b[0;34m\u001b[0m\u001b[0;34m\u001b[0m\u001b[0m\n\u001b[0;32m----> 5\u001b[0;31m \u001b[0msummary\u001b[0m \u001b[0;34m=\u001b[0m \u001b[0mgeneration_model\u001b[0m\u001b[0;34m.\u001b[0m\u001b[0mpredict\u001b[0m\u001b[0;34m(\u001b[0m\u001b[0mprompt\u001b[0m\u001b[0;34m=\u001b[0m\u001b[0mprompt\u001b[0m\u001b[0;34m,\u001b[0m \u001b[0mmax_output_tokens\u001b[0m\u001b[0;34m=\u001b[0m\u001b[0;36m1024\u001b[0m\u001b[0;34m,\u001b[0m \u001b[0mtemperature\u001b[0m\u001b[0;34m=\u001b[0m \u001b[0;36m0.2\u001b[0m\u001b[0;34m,\u001b[0m \u001b[0mtop_p\u001b[0m\u001b[0;34m=\u001b[0m\u001b[0;36m0.95\u001b[0m\u001b[0;34m,\u001b[0m \u001b[0mtop_k\u001b[0m\u001b[0;34m=\u001b[0m\u001b[0;36m40\u001b[0m\u001b[0;34m)\u001b[0m\u001b[0;34m.\u001b[0m\u001b[0mtext\u001b[0m\u001b[0;34m\u001b[0m\u001b[0;34m\u001b[0m\u001b[0m\n\u001b[0m\u001b[1;32m      6\u001b[0m \u001b[0;34m\u001b[0m\u001b[0m\n\u001b[1;32m      7\u001b[0m \u001b[0mprint\u001b[0m\u001b[0;34m(\u001b[0m\u001b[0msummary\u001b[0m\u001b[0;34m)\u001b[0m\u001b[0;34m\u001b[0m\u001b[0;34m\u001b[0m\u001b[0m\n",
      "\u001b[0;32m~/.local/lib/python3.7/site-packages/vertexai/language_models/_language_models.py\u001b[0m in \u001b[0;36mpredict\u001b[0;34m(self, prompt, max_output_tokens, temperature, top_k, top_p)\u001b[0m\n\u001b[1;32m    267\u001b[0m             \u001b[0mtemperature\u001b[0m\u001b[0;34m=\u001b[0m\u001b[0mtemperature\u001b[0m\u001b[0;34m,\u001b[0m\u001b[0;34m\u001b[0m\u001b[0;34m\u001b[0m\u001b[0m\n\u001b[1;32m    268\u001b[0m             \u001b[0mtop_k\u001b[0m\u001b[0;34m=\u001b[0m\u001b[0mtop_k\u001b[0m\u001b[0;34m,\u001b[0m\u001b[0;34m\u001b[0m\u001b[0;34m\u001b[0m\u001b[0m\n\u001b[0;32m--> 269\u001b[0;31m             \u001b[0mtop_p\u001b[0m\u001b[0;34m=\u001b[0m\u001b[0mtop_p\u001b[0m\u001b[0;34m,\u001b[0m\u001b[0;34m\u001b[0m\u001b[0;34m\u001b[0m\u001b[0m\n\u001b[0m\u001b[1;32m    270\u001b[0m         )[0]\n\u001b[1;32m    271\u001b[0m \u001b[0;34m\u001b[0m\u001b[0m\n",
      "\u001b[0;32m~/.local/lib/python3.7/site-packages/vertexai/language_models/_language_models.py\u001b[0m in \u001b[0;36m_batch_predict\u001b[0;34m(self, prompts, max_output_tokens, temperature, top_k, top_p)\u001b[0m\n\u001b[1;32m    300\u001b[0m         prediction_response = self._endpoint.predict(\n\u001b[1;32m    301\u001b[0m             \u001b[0minstances\u001b[0m\u001b[0;34m=\u001b[0m\u001b[0minstances\u001b[0m\u001b[0;34m,\u001b[0m\u001b[0;34m\u001b[0m\u001b[0;34m\u001b[0m\u001b[0m\n\u001b[0;32m--> 302\u001b[0;31m             \u001b[0mparameters\u001b[0m\u001b[0;34m=\u001b[0m\u001b[0mprediction_parameters\u001b[0m\u001b[0;34m,\u001b[0m\u001b[0;34m\u001b[0m\u001b[0;34m\u001b[0m\u001b[0m\n\u001b[0m\u001b[1;32m    303\u001b[0m         )\n\u001b[1;32m    304\u001b[0m \u001b[0;34m\u001b[0m\u001b[0m\n",
      "\u001b[0;32m~/.local/lib/python3.7/site-packages/google/cloud/aiplatform/models.py\u001b[0m in \u001b[0;36mpredict\u001b[0;34m(self, instances, parameters, timeout, use_raw_predict)\u001b[0m\n\u001b[1;32m   1566\u001b[0m                 \u001b[0minstances\u001b[0m\u001b[0;34m=\u001b[0m\u001b[0minstances\u001b[0m\u001b[0;34m,\u001b[0m\u001b[0;34m\u001b[0m\u001b[0;34m\u001b[0m\u001b[0m\n\u001b[1;32m   1567\u001b[0m                 \u001b[0mparameters\u001b[0m\u001b[0;34m=\u001b[0m\u001b[0mparameters\u001b[0m\u001b[0;34m,\u001b[0m\u001b[0;34m\u001b[0m\u001b[0;34m\u001b[0m\u001b[0m\n\u001b[0;32m-> 1568\u001b[0;31m                 \u001b[0mtimeout\u001b[0m\u001b[0;34m=\u001b[0m\u001b[0mtimeout\u001b[0m\u001b[0;34m,\u001b[0m\u001b[0;34m\u001b[0m\u001b[0;34m\u001b[0m\u001b[0m\n\u001b[0m\u001b[1;32m   1569\u001b[0m             )\n\u001b[1;32m   1570\u001b[0m \u001b[0;34m\u001b[0m\u001b[0m\n",
      "\u001b[0;32m~/.local/lib/python3.7/site-packages/google/cloud/aiplatform_v1/services/prediction_service/client.py\u001b[0m in \u001b[0;36mpredict\u001b[0;34m(self, request, endpoint, instances, parameters, retry, timeout, metadata)\u001b[0m\n\u001b[1;32m    608\u001b[0m             \u001b[0mretry\u001b[0m\u001b[0;34m=\u001b[0m\u001b[0mretry\u001b[0m\u001b[0;34m,\u001b[0m\u001b[0;34m\u001b[0m\u001b[0;34m\u001b[0m\u001b[0m\n\u001b[1;32m    609\u001b[0m             \u001b[0mtimeout\u001b[0m\u001b[0;34m=\u001b[0m\u001b[0mtimeout\u001b[0m\u001b[0;34m,\u001b[0m\u001b[0;34m\u001b[0m\u001b[0;34m\u001b[0m\u001b[0m\n\u001b[0;32m--> 610\u001b[0;31m             \u001b[0mmetadata\u001b[0m\u001b[0;34m=\u001b[0m\u001b[0mmetadata\u001b[0m\u001b[0;34m,\u001b[0m\u001b[0;34m\u001b[0m\u001b[0;34m\u001b[0m\u001b[0m\n\u001b[0m\u001b[1;32m    611\u001b[0m         )\n\u001b[1;32m    612\u001b[0m \u001b[0;34m\u001b[0m\u001b[0m\n",
      "\u001b[0;32m/opt/conda/lib/python3.7/site-packages/google/api_core/gapic_v1/method.py\u001b[0m in \u001b[0;36m__call__\u001b[0;34m(self, timeout, retry, *args, **kwargs)\u001b[0m\n\u001b[1;32m    111\u001b[0m             \u001b[0mkwargs\u001b[0m\u001b[0;34m[\u001b[0m\u001b[0;34m\"metadata\"\u001b[0m\u001b[0;34m]\u001b[0m \u001b[0;34m=\u001b[0m \u001b[0mmetadata\u001b[0m\u001b[0;34m\u001b[0m\u001b[0;34m\u001b[0m\u001b[0m\n\u001b[1;32m    112\u001b[0m \u001b[0;34m\u001b[0m\u001b[0m\n\u001b[0;32m--> 113\u001b[0;31m         \u001b[0;32mreturn\u001b[0m \u001b[0mwrapped_func\u001b[0m\u001b[0;34m(\u001b[0m\u001b[0;34m*\u001b[0m\u001b[0margs\u001b[0m\u001b[0;34m,\u001b[0m \u001b[0;34m**\u001b[0m\u001b[0mkwargs\u001b[0m\u001b[0;34m)\u001b[0m\u001b[0;34m\u001b[0m\u001b[0;34m\u001b[0m\u001b[0m\n\u001b[0m\u001b[1;32m    114\u001b[0m \u001b[0;34m\u001b[0m\u001b[0m\n\u001b[1;32m    115\u001b[0m \u001b[0;34m\u001b[0m\u001b[0m\n",
      "\u001b[0;32m/opt/conda/lib/python3.7/site-packages/google/api_core/grpc_helpers.py\u001b[0m in \u001b[0;36merror_remapped_callable\u001b[0;34m(*args, **kwargs)\u001b[0m\n\u001b[1;32m     65\u001b[0m             \u001b[0;32mreturn\u001b[0m \u001b[0mcallable_\u001b[0m\u001b[0;34m(\u001b[0m\u001b[0;34m*\u001b[0m\u001b[0margs\u001b[0m\u001b[0;34m,\u001b[0m \u001b[0;34m**\u001b[0m\u001b[0mkwargs\u001b[0m\u001b[0;34m)\u001b[0m\u001b[0;34m\u001b[0m\u001b[0;34m\u001b[0m\u001b[0m\n\u001b[1;32m     66\u001b[0m         \u001b[0;32mexcept\u001b[0m \u001b[0mgrpc\u001b[0m\u001b[0;34m.\u001b[0m\u001b[0mRpcError\u001b[0m \u001b[0;32mas\u001b[0m \u001b[0mexc\u001b[0m\u001b[0;34m:\u001b[0m\u001b[0;34m\u001b[0m\u001b[0;34m\u001b[0m\u001b[0m\n\u001b[0;32m---> 67\u001b[0;31m             \u001b[0;32mraise\u001b[0m \u001b[0mexceptions\u001b[0m\u001b[0;34m.\u001b[0m\u001b[0mfrom_grpc_error\u001b[0m\u001b[0;34m(\u001b[0m\u001b[0mexc\u001b[0m\u001b[0;34m)\u001b[0m \u001b[0;32mfrom\u001b[0m \u001b[0mexc\u001b[0m\u001b[0;34m\u001b[0m\u001b[0;34m\u001b[0m\u001b[0m\n\u001b[0m\u001b[1;32m     68\u001b[0m \u001b[0;34m\u001b[0m\u001b[0m\n\u001b[1;32m     69\u001b[0m     \u001b[0;32mreturn\u001b[0m \u001b[0merror_remapped_callable\u001b[0m\u001b[0;34m\u001b[0m\u001b[0;34m\u001b[0m\u001b[0m\n",
      "\u001b[0;31mInvalidArgument\u001b[0m: 400 The model supports up to 8192 input tokens, but received 19043 tokens."
     ]
    }
   ],
   "source": [
    "# Define the prompt using the prompt template\n",
    "prompt = prompt_template.format(text=concatenated_text)\n",
    "\n",
    "# Use the model to summarize the text using the prompt\n",
    "summary = generation_model.predict(prompt=prompt, max_output_tokens=1024, temperature= 0.2, top_p=0.95, top_k=40).text\n",
    "\n",
    "print(summary)"
   ]
  },
  {
   "cell_type": "markdown",
   "metadata": {
    "id": "N5aVrDWkJs3Y"
   },
   "source": [
    "#### Retrying\n",
    "\n",
    "The model responded with an error message: **400 Request contains an invalid argument** or it will say **400 The model supports up to 8192 input tokens, but received 19043 tokens** because the extracted text is too long for the generative model to process.\n",
    "\n",
    "To avoid this issue, you will only input a chunk of the extracted text (e.g. the first 30,000 words)."
   ]
  },
  {
   "cell_type": "code",
   "execution_count": 33,
   "metadata": {
    "id": "MmUwTIjMk58J"
   },
   "outputs": [
    {
     "name": "stdout",
     "output_type": "stream",
     "text": [
      "- Gut microbiota and brain:\n",
      "    - The gut microbiota can affect the brain via the vagus nerve, intestinal nervous system, and peripheral circulatory system.\n",
      "    - The gut microbiota produces neurotransmitters, neuromodulators, and short chain fatty acids that affect brain function.\n",
      "- Gut microbiota and Alzheimer's disease:\n",
      "    - There is evidence that gut microbiota dysbiosis may be involved in the development of Alzheimer's disease.\n",
      "    - Gut microbiota may affect the production of amyloid and tau proteins, and the clearance of these proteins from the brain.\n",
      "    - Gut microbiota may also affect the behavior of patients with Alzheimer's disease.\n",
      "- Gut microbiota amyloids versus amyloid generation in the brain:\n",
      "    - Some bacteria produce amyloid peptides or a curly type amyloid fiber that is capable of forming seeding for aggregation of amyloid in the brain.\n",
      "    - Gut microbiota amyloids increase the nucleation of β-amyloid peptide aggregates and trigger an inflammatory response.\n",
      "- Gut microbiota versus behavioral changes:\n",
      "    - Gut microbiota can affect the behavior of mice by affecting the activity of neurotransmitters and neuromodulators.\n",
      "- Gut microbiota versus amyloid and tau protein clearance:\n",
      "    - Short chain fatty acids derived from the intestinal microbiota strongly inhibit amyloid aggregation in vitro.\n",
      "    - Intestinal bacteria secrete over 100 metabolites, but their effect on the pathogenesis of Alzheimer's disease has not been proven.\n",
      "- Probiotics and prebiotics in Alzheimer's disease:\n",
      "    - Probiotics and prebiotics have been shown to have beneficial effects on cognitive function in patients with Alzheimer's disease.\n",
      "- Conclusion:\n",
      "    - The gut microbiome may play an important role in the development of Alzheimer's disease.\n",
      "    - Further studies are needed to investigate the role of the gut microbiome in the pathogenesis of Alzheimer's disease and to develop new therapeutic strategies for the treatment of this disease.\n"
     ]
    }
   ],
   "source": [
    "# Define the prompt using the prompt template\n",
    "prompt = prompt_template.format(text=concatenated_text[:30000])\n",
    "\n",
    "# Use the model to summarize the text using the prompt\n",
    "summary = generation_model.predict(prompt=prompt, max_output_tokens=1024, temperature= 0.2, top_p=0.95, top_k=40).text\n",
    "\n",
    "print(summary)"
   ]
  },
  {
   "cell_type": "markdown",
   "metadata": {},
   "source": [
    "Lets try increasing the temperature parameter and see if you recieve a different output."
   ]
  },
  {
   "cell_type": "code",
   "execution_count": 58,
   "metadata": {},
   "outputs": [
    {
     "name": "stdout",
     "output_type": "stream",
     "text": [
      "- Gut microbiota and brain are connected via the vagus nerve, intestinal nervous system and the peripheral circulatory system.\n",
      "- Gut microbiota may be involved in the neuropathology of Alzheimer’s disease.\n",
      "- Dysbiosis of the gut microbiome may lead to increased intestinal permeability and blood-brain barrier, which may exacerbate neuroinflammation in the brain.\n",
      "- Gut microbiota may affect behavior and cognition.\n",
      "- Amyloids produced by gut bacteria may enter the brain and exacerbate neuroinflammation and amyloid deposition.\n",
      "- Short chain fatty acids produced by gut bacteria may inhibit amyloid aggregation and improve cognitive function.\n",
      "- Probiotics and prebiotics may be beneficial for Alzheimer’s disease patients.\n"
     ]
    }
   ],
   "source": [
    "# Define the prompt using the prompt template\n",
    "prompt = prompt_template.format(text=concatenated_text[:30000])\n",
    "\n",
    "# Use the model to summarize the text using the prompt\n",
    "summary = generation_model.predict(prompt=prompt, max_output_tokens=1024, temperature= 1, top_p=0.95, top_k=40).text\n",
    "\n",
    "print(summary)"
   ]
  },
  {
   "cell_type": "markdown",
   "metadata": {},
   "source": [
    "As you can see our output becomes shorter and straight to the point this is because the temperature parameter controls the degree of randomness in token selection. Lower temperatures are good for prompts that require a more deterministic and less creative responses, while higher temperatures can lead to more diverse or creative results. A temperature of 0 is deterministic, meaning that the highest probability response is always selected."
   ]
  },
  {
   "cell_type": "markdown",
   "metadata": {
    "id": "Vtp21WX3T7d_"
   },
   "source": [
    "### Recap\n",
    "\n",
    "Although full text is too large for the model, you have managed to create a concise, bulleted list of the most important information from a portion of the PDF using the model. This method is the most simiplest and is ideal for shorter documents but can still be used when you limit the character number you want the model to read. "
   ]
  },
  {
   "cell_type": "markdown",
   "metadata": {
    "id": "RM3V1JARZ9-k",
    "tags": []
   },
   "source": [
    "## Method 2: MapReduce <a name=\"map\"></a>\n",
    "\n",
    "This method works by first splitting the large data into chunks, then running a prompt on each chunk of text. For summarization tasks, the output from the initial prompt would be a summary of that chunk. Once all the initial outputs have been generated, a different prompt is run to combine them.\n",
    "\n",
    "This method is a bit more complex than the first method, but it can be more effective for large datasets. Here you will prepare two prompt templates: one for the initial summary step and another for the final combine step. You will be using these two templates later in this notebook."
   ]
  },
  {
   "cell_type": "code",
   "execution_count": null,
   "metadata": {
    "id": "fs4rmcL-Js3Y"
   },
   "outputs": [],
   "source": [
    "initial_prompt_template = \"\"\"\n",
    "    Write a concise summary of the following text delimited by triple backquotes.\n",
    "\n",
    "    ```{text}```\n",
    "\n",
    "    CONCISE SUMMARY:\n",
    "\"\"\"\n",
    "\n",
    "final_prompt_template = \"\"\"\n",
    "    Write a concise summary of the following text delimited by triple backquotes.\n",
    "    Return your response in bullet points which covers the key points of the text.\n",
    "\n",
    "    ```{text}```\n",
    "\n",
    "    BULLET POINT SUMMARY:\n",
    "\"\"\""
   ]
  },
  {
   "cell_type": "markdown",
   "metadata": {
    "id": "wOY5LHl9Js3Y",
    "tags": []
   },
   "source": [
    "### Adding rate limit to model calls\n",
    "\n",
    "When you use MapReduce or other similar methods, you will be making multiple API calls to the model in a short period of time. There is a limit on the number of API calls you can make per minute, so you will need to add a safety measure to your code to prevent exceeding the limit. This will help to ensure that your code runs smoothly and does not encounter any errors.\n",
    "\n",
    "For this method, here are a few specific things that you will do:\n",
    "1. You will make use of a Python library called [ratelimit](https://pypi.org/project/ratelimit/) to limit the number of API calls per minute\n",
    "2. You will make use of a Python library called [backoff](https://pypi.org/project/backoff/) to retry until the maximum time limit has reached\n",
    "\n",
    "The following function improves the API call process by limiting the number of calls to **20 per minute**. It also back offs and retries calling the API after encountering **Resource Exhausted** exception. The wait duration grows **exponentially until the 5-minute mark**, and then the function will give up on retrying."
   ]
  },
  {
   "cell_type": "code",
   "execution_count": 34,
   "metadata": {
    "id": "0uziSPeEJs3Y"
   },
   "outputs": [],
   "source": [
    "CALL_LIMIT = 20  # Number of calls to allow within a period\n",
    "ONE_MINUTE = 60  # One minute in seconds\n",
    "FIVE_MINUTE = 5 * ONE_MINUTE\n",
    "\n",
    "# A function to print a message when the function is retrying\n",
    "def backoff_hdlr(details):\n",
    "    print(\n",
    "        \"Backing off {} seconds after {} tries\".format(\n",
    "            details[\"wait\"], details[\"tries\"]\n",
    "        )\n",
    "    )\n",
    "\n",
    "\n",
    "@backoff.on_exception(  # Retry with exponential backoff strategy when exceptions occur\n",
    "    backoff.expo,\n",
    "    (\n",
    "        exceptions.ResourceExhausted,\n",
    "        ratelimit.RateLimitException,\n",
    "    ),  # Exceptions to retry on\n",
    "    max_time=FIVE_MINUTE,\n",
    "    on_backoff=backoff_hdlr,  # Function to call when retrying\n",
    ")\n",
    "@ratelimit.limits(  # Limit the number of calls to the model per minute\n",
    "    calls=CALL_LIMIT, period=ONE_MINUTE\n",
    ")\n",
    "\n",
    "# This function will call the `generation_model.predict` function, but it will retry if defined exceptions occur.\n",
    "def model_with_limit_and_backoff(**kwargs):\n",
    "    return generation_model.predict(**kwargs)"
   ]
  },
  {
   "cell_type": "markdown",
   "metadata": {
    "id": "eo5NkotOJs3Y"
   },
   "source": [
    "#### Map step\n",
    "\n",
    "In this section, you will read the PDF file again and use the model to summarize each page individually using the initial prompt template."
   ]
  },
  {
   "cell_type": "code",
   "execution_count": 37,
   "metadata": {
    "id": "aRub85PIJs3Y"
   },
   "outputs": [
    {
     "name": "stderr",
     "output_type": "stream",
     "text": [
      "100%|██████████| 12/12 [00:27<00:00,  2.29s/it]\n"
     ]
    }
   ],
   "source": [
    "# Read the PDF file and create a list of pages\n",
    "reader = PyPDF2.PdfReader(pdf_file)\n",
    "pages = reader.pages\n",
    "\n",
    "# Create an empty list to store the summaries\n",
    "initial_summary = []\n",
    "\n",
    "# Iterate over the pages and generate a summary for each page\n",
    "for page in tqdm(pages):\n",
    "\n",
    "    # Extract the text from the page and remove any leading or trailing whitespace\n",
    "    text = page.extract_text().strip()\n",
    "\n",
    "    # Create a prompt for the model using the extracted text and a prompt template\n",
    "    prompt = initial_prompt_template.format(text=text)\n",
    "\n",
    "    # Generate a summary using the model and the prompt\n",
    "    summary = model_with_limit_and_backoff(prompt=prompt, max_output_tokens=1024, temperature= 0.2, top_p=0.95, top_k=40).text\n",
    "\n",
    "    # Append the summary to the list of summaries\n",
    "    initial_summary.append(summary)"
   ]
  },
  {
   "cell_type": "markdown",
   "metadata": {
    "id": "pLLAUkuNDLbp"
   },
   "source": [
    "Take a look at the first few summaries of from the initial Map phrase."
   ]
  },
  {
   "cell_type": "code",
   "execution_count": 38,
   "metadata": {
    "id": "i3CpkQtgJs3Z",
    "scrolled": true,
    "tags": []
   },
   "outputs": [
    {
     "name": "stdout",
     "output_type": "stream",
     "text": [
      "Alzheimer's disease is a serious public health problem. The cause of the disease is currently unknown, but it is thought that lifestyle habits such as diet, exercise, and sleep may be involved. In addition, the gut microbiota may also play a role in the development of the disease. Modulation of the gut microbiota through a personalized diet or beneficial microflora intervention like pro/prebiotics, changing microbiological partners and their products, including amyloid protein, can become a new treatment for Alzheimer's disease.\n",
      "\n",
      "The intestinal microflora may be involved in the neuropathology of Alzheimer's disease.\n",
      "A study comparing the microbiota of 25 Alzheimer's disease cases with 25 controls showed a reduced microbial diversity in Alzheimer's disease patients.\n",
      "In addition, a decrease in the number of Firmicutes and an increase in the percentage of Bacteroidetes were observed.\n",
      "\n",
      "Gut microbiota may be involved in the pathogenesis of Alzheimer's disease by affecting the production and accumulation of amyloid in the brain.\n",
      "\n",
      "Gut microbiota may play an important role in the pathogenesis of Alzheimer’s disease by regulating neuroinflammation, amyloid and tau protein clearance, and behavioral changes.\n",
      "\n",
      "The gut microbiome may affect brain development and functions, behavior and immunity in health and disease. Dysbiosis of gut microbiome may contribute to the development of Alzheimer's disease. Probiotics and prebiotics may be beneficial for the prevention and treatment of Alzheimer's disease.\n",
      "\n",
      "Gut microbiome dysbiosis may be a risk factor for Alzheimer's disease. The gut microbiome produces and releases neurotransmitters and pro-inflammatory mediators, which may increase the permeability of the intestinal mucosa and the blood-brain barrier, and this significantly intensifies neuroinflammatory reaction and amyloid generation and deposition in the brain.\n",
      "\n",
      "The gut microbiome is a complex community of bacteria, viruses, and other microorganisms that live in the digestive tract. It plays an important role in digestion, nutrient absorption, and immune function. In recent years, there has been growing evidence that the gut microbiome may also play a role in brain function and behavior.\n",
      "\n",
      "Studies have shown that the gut microbiome can affect the production of neurotransmitters, such as serotonin and dopamine, which are involved in mood, cognition, and behavior. The gut microbiome can also influence the immune system, which can play a role in inflammation and neurodegenerative diseases such as Alzheimer's disease.\n",
      "\n",
      "The exact mechanisms by which the gut microbiome affects brain function are not fully understood, but it is thought that the microbiome may communicate with the brain through the vagus nerve, the immune system, and the hormones and neurotransmitters that it produces.\n",
      "\n",
      "Alterations in the gut microbiome have been linked to a variety of mental health conditions, including depression, anxiety, and autism spectrum disorders. There is also some evidence that the gut microbiome may play a role in neurodegenerative diseases such as Alzheimer's disease.\n",
      "\n",
      "Further research is needed to better understand the role of the gut microbiome in brain function and behavior. However, the emerging evidence suggests that the gut microbiome may be an important factor in mental health and neurodegenerative diseases.\n",
      "\n",
      "The gut microbiome may play a role in the development of Alzheimer's disease.\n",
      "\n",
      "There is evidence that the gut microbiome is altered in people with Alzheimer's disease.\n",
      "\n",
      "Some studies have found that certain bacteria in the gut microbiome are associated with an increased risk of Alzheimer's disease.\n",
      "\n",
      "Other studies have found that probiotics, which are live bacteria that can be taken as supplements, may help to improve cognitive function in people with Alzheimer's disease.\n",
      "\n",
      "More research is needed to confirm the role of the gut microbiome in Alzheimer's disease and to develop effective treatments based on this research.\n",
      "\n",
      "The paper is about the role of gut microbiota in Alzheimer's disease. It discusses the possible mechanisms by which gut microbiota may contribute to the development of Alzheimer's disease, including the production of amyloid-beta, the induction of neuroinflammation, and the disruption of the gut-brain axis.\n",
      "\n",
      "The gut microbiota is a complex community of bacteria that live in the intestines. It has been shown to play an important role in many aspects of human health, including metabolism, immunity, and brain function.\n",
      "\n",
      "In recent years, there has been growing interest in the role of the gut microbiota in Alzheimer's disease. Studies have shown that people with Alzheimer's disease have different gut microbiota composition than healthy people. This suggests that the gut microbiota may contribute to the development of Alzheimer's disease.\n",
      "\n",
      "There are several possible mechanisms by which the gut microbiota could contribute to Alzheimer's disease. One possibility is that the gut microbiota produces harmful metabolites that damage the brain. Another possibility is that the gut microbiota alters the immune system in a way that promotes inflammation in the brain.\n",
      "\n",
      "There is some evidence that probiotics and other interventions that alter the gut microbiota may be beneficial for people with Alzheimer's disease. However, more research is needed to confirm these findings and to develop effective treatments for Alzheimer's disease that target the gut microbiota.\n"
     ]
    }
   ],
   "source": [
    "print(\"\\n\\n\".join(initial_summary[:10]))"
   ]
  },
  {
   "cell_type": "markdown",
   "metadata": {
    "id": "KlPC414VJs3Z"
   },
   "source": [
    "Here you will count the number of characters in the initial summary to see if they are small enough to fit in a prompt."
   ]
  },
  {
   "cell_type": "code",
   "execution_count": 39,
   "metadata": {
    "id": "GtetmxSRJs3Z"
   },
   "outputs": [
    {
     "data": {
      "text/plain": [
       "6175"
      ]
     },
     "execution_count": 39,
     "metadata": {},
     "output_type": "execute_result"
    }
   ],
   "source": [
    "len(\"\\n\".join(initial_summary))"
   ]
  },
  {
   "cell_type": "markdown",
   "metadata": {
    "id": "TRAxL2PxJs3Z"
   },
   "source": [
    "As you managed to input 30,000 characters in a prompt previously, you can input this whole summary which has fewer characters to a prompt directly too. You will do that in the next step."
   ]
  },
  {
   "cell_type": "markdown",
   "metadata": {
    "id": "bdgZs93AJs3Z"
   },
   "source": [
    "#### Reduce step\n",
    "\n",
    "Here you will create a reduce function that concatenate the summaries from the inital summarization step (Map step) and use the final prompt template to summarize the summaries again."
   ]
  },
  {
   "cell_type": "code",
   "execution_count": 42,
   "metadata": {
    "id": "QS4caPjNJs3Z"
   },
   "outputs": [],
   "source": [
    "# Define a function to create a summary of the summaries\n",
    "def reduce(initial_summary, prompt_template):\n",
    "\n",
    "    # Concatenate the summaries from the inital step\n",
    "    concat_summary = \"\\n\".join(initial_summary)\n",
    "\n",
    "    # Create a prompt for the model using the concatenated text and a prompt template\n",
    "    prompt = prompt_template.format(text=concat_summary)\n",
    "\n",
    "    # Generate a summary using the model and the prompt\n",
    "    summary = model_with_limit_and_backoff(prompt=prompt, max_output_tokens=1024, temperature= 0.2, top_p=0.95, top_k=40).text\n",
    "\n",
    "    return summary"
   ]
  },
  {
   "cell_type": "markdown",
   "metadata": {
    "id": "9OxwetDgKoUg"
   },
   "source": [
    "You are ready to proceed on to the next step to combine all the summary into an even smaller summary using the final prompt template and the function that you created earlier."
   ]
  },
  {
   "cell_type": "code",
   "execution_count": 43,
   "metadata": {
    "id": "uvd7MUrSKfu-"
   },
   "outputs": [
    {
     "name": "stdout",
     "output_type": "stream",
     "text": [
      "- Alzheimer's disease is a serious public health problem.\n",
      " - The cause of the disease is currently unknown, but it is thought that lifestyle habits such as diet, exercise, and sleep may be involved.\n",
      " - In addition, the gut microbiota may also play a role in the development of the disease.\n",
      " - Modulation of the gut microbiota through a personalized diet or beneficial microflora intervention like pro/prebiotics, changing microbiological partners and their products, including amyloid protein, can become a new treatment for Alzheimer's disease.\n"
     ]
    }
   ],
   "source": [
    "# Use defined `reduce` function to summarize the summaries\n",
    "summary = reduce(initial_summary, final_prompt_template)\n",
    "\n",
    "print(summary)"
   ]
  },
  {
   "cell_type": "markdown",
   "metadata": {
    "id": "AjkbEdTYJs3Z"
   },
   "source": [
    "#### Recap\n",
    "\n",
    "You just summarized the whole paper into a few bullet points using the MapReduce method. This method is better suited for summarizing large docs and also parallelizes the process by summarizing the pages of our PDF independently but becuase of this it can also lead to loss in context.\n",
    "\n",
    "In the next section, you will try another method which makes use of more than one chunk (page) per prompt to summarize."
   ]
  },
  {
   "cell_type": "markdown",
   "metadata": {
    "id": "rpQV6viOlUgH"
   },
   "source": [
    "## Method 3: MapReduce with Overlapping Chunks <a name=\"mapo\"></a>\n",
    "\n",
    "It is similar to MapReduce, but with one key difference: overlapping chunks. This means that a few pages will be summarized together, rather than each page being summarized separately. This helps to preserve more context or information between chunks, which can improve the accuracy of the results.\n",
    "\n",
    "It is important to note that combining chunks may sometimes exceed the token limit imposed by the model. If this occurs, you can either implement the chunk splitting method show or creatively solve the issue (e.g. removing a few initial chunks)."
   ]
  },
  {
   "cell_type": "markdown",
   "metadata": {
    "id": "SiPq5CqJJs3c"
   },
   "source": [
    "#### Map step\n",
    "\n",
    "In this section, you will read the PDF file again and use the model to summarize <b>a few pages</b> together using the initial prompt template that you defined earlier."
   ]
  },
  {
   "cell_type": "code",
   "execution_count": 44,
   "metadata": {
    "id": "ux6pPmPoJs3c"
   },
   "outputs": [
    {
     "name": "stderr",
     "output_type": "stream",
     "text": [
      "100%|██████████| 12/12 [00:03<00:00,  3.83it/s]\n"
     ]
    }
   ],
   "source": [
    "# Read the PDF file and create a list of pages\n",
    "reader = PyPDF2.PdfReader(pdf_file)\n",
    "pages = reader.pages\n",
    "\n",
    "# Create an empty list to store the extracted text from the pages\n",
    "text_from_pages = []\n",
    "\n",
    "# Iterate over the pages and generate a summary for each page\n",
    "for page in tqdm(pages):\n",
    "\n",
    "    # Extract the text from the page and remove any leading or trailing whitespace\n",
    "    text = page.extract_text().strip()\n",
    "\n",
    "    # Append the extracted text to the list of extracted text\n",
    "    text_from_pages.append(text)"
   ]
  },
  {
   "cell_type": "markdown",
   "metadata": {
    "id": "ZD7HMdQgXuP0"
   },
   "source": [
    "Here you will define the chunk size (number of pages to combine in this example) and summarize the chunks."
   ]
  },
  {
   "cell_type": "code",
   "execution_count": 46,
   "metadata": {
    "id": "ZOA0Aq1nJs3c"
   },
   "outputs": [
    {
     "name": "stderr",
     "output_type": "stream",
     "text": [
      "100%|██████████| 12/12 [00:31<00:00,  2.65s/it]\n"
     ]
    }
   ],
   "source": [
    "CHUNK_SIZE = 2  # number of overlapping pages\n",
    "\n",
    "# Read the PDF file and create a list of pages\n",
    "reader = PyPDF2.PdfReader(pdf_file)\n",
    "pages = reader.pages\n",
    "\n",
    "# Create an empty list to store the summaries\n",
    "initial_summary = []\n",
    "\n",
    "# Iterate over the pages and generate a summary for a few pages as one chunk based on `CHUNK_SIZE`\n",
    "for i in tqdm(range(len(pages))):\n",
    "\n",
    "    # Select a list of pages to merge as one chunk\n",
    "    pages_to_merge = [x for x in range(i, i + CHUNK_SIZE) if x < len(pages)]\n",
    "\n",
    "    extracted_texts = [text_from_pages[x] for x in pages_to_merge]\n",
    "\n",
    "    # Concatenate the\n",
    "    text = \"\\n\".join(extracted_texts)\n",
    "\n",
    "    # Create a prompt for the model using the concatenated text and a prompt template\n",
    "    prompt = initial_prompt_template.format(text=text)\n",
    "\n",
    "    # Generate a summary using the model and the prompt\n",
    "    summary = model_with_limit_and_backoff(prompt=prompt, max_output_tokens=1024, temperature= 0.2, top_p=0.95, top_k=40).text\n",
    "\n",
    "    # Append the summary to the list of summaries\n",
    "    initial_summary.append(summary)\n",
    "\n",
    "    # If the last page is reached, break the loop\n",
    "    if pages_to_merge[-1] == len(reader.pages):\n",
    "        break"
   ]
  },
  {
   "cell_type": "markdown",
   "metadata": {
    "id": "KVUVGBfbekfL"
   },
   "source": [
    "Take a look at the first few summaries of from the initial Map phrase."
   ]
  },
  {
   "cell_type": "code",
   "execution_count": 47,
   "metadata": {
    "id": "uxgPKJ7BefyX",
    "scrolled": true,
    "tags": []
   },
   "outputs": [
    {
     "name": "stdout",
     "output_type": "stream",
     "text": [
      "Alzheimer's disease is a serious public health problem. The cause of Alzheimer's disease is currently unknown, but it is thought to include lifestyle habits such as diet, exercise, education history, cognition and aging, immunosenescence, chronic infections, chronic inflammation, latent infections, sleep problems and other.\n",
      "\n",
      "Recent advances in research on the etiology of Alzheimer's disease suggest that microbiota (oral, nasal, intestinal) dysbiosis during life can lead to a systemic inflammatory response and affect microglia immune response in the brain. More and more experimental and clinical data confirm the key role of intestinal dysbiosis and interaction of the intestinal microflora with the host in the development of neurodegeneration.\n",
      "\n",
      "It is likely that the convergence of the inflammatory response from the gut along with aging and poor diet in the elderly contributes to the pathogenesis of Alzheimer's disease. Modifying the composition of the intestinal microflora with food -based therapy or pro/prebiotic supplementation can create new preventive and therapeutic options for Alzheimer's disease.\n",
      "\n",
      "Gut microbiota and Alzheimer's disease: The intestinal microbiota may be involved in the neuropathology of Alzheimer's disease.\n",
      "\n",
      "Studies have shown that the intestinal microflora of Alzheimer's disease patients is different from that of healthy people.\n",
      "\n",
      "The intestinal microflora may affect the brain through immune, neuroendocrine and direct nerve mechanisms.\n",
      "\n",
      "Some bacteria and viruses may be one of the causes of Alzheimer's disease.\n",
      "\n",
      "The intestinal microflora can also affect proteins and receptors involved in synaptic plasticity, such as the NMDA receptor, brain-derived neurotrophic factor and serotonin receptors.\n",
      "\n",
      "Some intestinal bacteria produce, e.g. short chain fatty acids and antioxidants, which also protect the brain from pathogens.\n",
      "\n",
      "Bacterial amyloids may be involved in the pathogenesis of Alzheimer's disease.\n",
      "\n",
      "Gut microbiota may play a role in the pathogenesis of Alzheimer's disease. Dysbiosis may lead to increased production of pro-inflammatory cytokines and decreased production of anti-inflammatory cytokines. This may lead to increased neuroinflammation and amyloid accumulation in the brain. In addition, gut microbiota may produce amyloid peptides or a curly type amyloid fiber that is capable of forming seeding for aggregation of amyloid in the brain. These amyloids may also increase the aggregation of other misfolded proteins such as alpha -synuclein. \n",
      "\n",
      "Gut microbiota may also affect the brain by secreting neurotransmitters such as dopamine, acetylcholine, noradrenaline, gamma -aminobutyric acid, serotonin and histamine. These neurotransmitters may play a role in cognitive function and behavior. \n",
      "\n",
      "Intestinal bacteria also produce short chain fatty acids that can pass the blood -brain barrier. These short chain fatty acids may help reduce inflammation and aggregation of tau protein and amyloid in the brain. \n",
      "\n",
      "In conclusion, gut microbiota may play a role in the pathogenesis of Alzheimer's disease by affecting neuroinflammation, amyloid accumulation and clearance of tau protein and amyloid.\n",
      "\n",
      "Gut microbiota may play an important role in the pathogenesis of Alzheimer's disease. Dysbiosis of gut microbiota may lead to the accumulation of amyloid and dysfunctional tau protein in the brain, neuroinflammation and cognitive decline. Probiotics and prebiotics may be beneficial for the prevention and treatment of Alzheimer's disease.\n",
      "\n",
      "Gut microbiome alterations and inflammation -driven pathogenesis of Alzheimer’s disease.\n",
      "\n",
      "Alzheimer’s disease is a neurodegenerative disease that affects the brain. The brain -gut -microbiota axis is a bidirectional communication pathway between the brain and the gut microbiome. Dysbiosis of the gut microbiome, often accompanied by fungi, can lead to neuroinflammation and amyloidogenesis in the brain. This may contribute to the development of Alzheimer’s disease.\n",
      "\n",
      "Probiotics and prebiotics have been shown to have beneficial effects on cognitive function in patients with Alzheimer’s disease. These effects may be due to the restoration of the gut microbiome to a healthy state.\n",
      "\n",
      "Further research is needed to clarify the role of the gut microbiome in the development of Alzheimer’s disease. However, there is growing evidence that the gut microbiome may be a potential therapeutic target for the treatment of this disease.\n",
      "\n",
      "The gut microbiome and the brain are in close contact and communicate with each other through the vagus nerve and hormones. Dysbiosis of the gut microbiome is associated with neuroinflammation and neurodegeneration in Alzheimer's disease.\n",
      "\n",
      "The gut microbiome is a complex ecosystem of trillions of bacteria, viruses, and other microorganisms that live in our digestive tract. The gut microbiome plays an important role in digestion, nutrient absorption, and immune function. In recent years, there has been growing interest in the role of the gut microbiome in brain health and disease.\n",
      "\n",
      "Several studies have shown that the gut microbiome can influence brain function and behavior. For example, studies have shown that the gut microbiome can affect mood, anxiety, and cognition. The gut microbiome can also influence the risk of developing neurodegenerative diseases such as Alzheimer's disease and Parkinson's disease.\n",
      "\n",
      "The mechanisms by which the gut microbiome influences brain function are not fully understood, but it is thought that the microbiome can communicate with the brain through the vagus nerve and the immune system. The gut microbiome can also produce metabolites that can affect brain function.\n",
      "\n",
      "There is growing evidence that the gut microbiome plays an important role in brain health and disease. Further research is needed to better understand the mechanisms by which the gut microbiome influences the brain and to develop new treatments for brain disorders.\n",
      "\n",
      "The gut microbiome may play a role in the development of Alzheimer's disease.\n",
      "\n",
      "There is evidence that the gut microbiome can influence the production of amyloid beta, a protein that is found in high levels in the brains of people with Alzheimer's disease.\n",
      "\n",
      "The gut microbiome may also contribute to inflammation, which is another risk factor for Alzheimer's disease.\n",
      "\n",
      "Further research is needed to determine the exact role of the gut microbiome in Alzheimer's disease, but there is potential for this research to lead to new treatments for the disease.\n",
      "\n",
      "The gut microbiota is a complex community of trillions of bacteria that live in the digestive tract. \n",
      "The gut microbiota plays an important role in digestion, nutrient absorption, and immune function. \n",
      "In recent years, there has been growing interest in the role of the gut microbiota in neurodegenerative diseases, such as Alzheimer's disease. \n",
      "Some studies have shown that people with Alzheimer's disease have different gut microbiota composition than healthy people. \n",
      "Other studies have shown that certain gut bacteria can produce toxins that damage neurons and promote inflammation. \n",
      "These findings suggest that the gut microbiota may contribute to the development of Alzheimer's disease. \n",
      "However, more research is needed to confirm these findings and to determine how the gut microbiota can be manipulated to prevent or treat Alzheimer's disease.\n",
      "\n",
      "Gut microbiota is a complex ecosystem of trillions of microorganisms that live in the gastrointestinal tract. It plays an important role in digestion, nutrient absorption, and immune function.\n",
      "\n",
      "In recent years, there has been growing interest in the role of gut microbiota in Alzheimer's disease (AD). AD is a neurodegenerative disorder that is characterized by progressive memory loss and cognitive decline.\n",
      "\n",
      "Several studies have shown that people with AD have different gut microbiota composition than healthy people. This suggests that gut microbiota may contribute to the development of AD.\n",
      "\n",
      "There is also evidence that gut microbiota can affect brain function and behavior. For example, studies have shown that gut microbiota can influence the production of neurotransmitters such as serotonin and dopamine. These neurotransmitters are involved in mood, cognition, and behavior.\n",
      "\n",
      "Given the potential role of gut microbiota in AD, there is interest in developing probiotics and prebiotics to treat or prevent the disease. Probiotics are live microorganisms that can provide health benefits when consumed in adequate amounts. Prebiotics are non-digestible food ingredients that promote the growth of beneficial bacteria in the gut.\n",
      "\n",
      "Some studies have shown that probiotics and prebiotics can improve cognitive function and reduce inflammation in people with AD. However, more research is needed to confirm these findings and to determine the long-term effects of probiotics and prebiotics in the treatment of AD.\n"
     ]
    }
   ],
   "source": [
    "print(\"\\n\\n\".join(initial_summary[:10]))"
   ]
  },
  {
   "cell_type": "markdown",
   "metadata": {
    "id": "oL7aV6U2Js3d"
   },
   "source": [
    "#### Reduce step\n",
    "\n",
    "You are ready to proceed on to the next step to combine all the summary into an even smaller summary using the final prompt template and the function that you created earlier."
   ]
  },
  {
   "cell_type": "code",
   "execution_count": 48,
   "metadata": {
    "id": "AxqSucUgJs3d"
   },
   "outputs": [
    {
     "name": "stdout",
     "output_type": "stream",
     "text": [
      "- Alzheimer's disease is a serious public health problem.\n",
      " - The cause of Alzheimer's disease is currently unknown, but it is thought to include lifestyle habits such as diet, exercise, education history, cognition and aging, immunosenescence, chronic infections, chronic inflammation, latent infections, sleep problems and other.\n",
      " - Recent advances in research on the etiology of Alzheimer's disease suggest that microbiota (oral, nasal, intestinal) dysbiosis during life can lead to a systemic inflammatory response and affect microglia immune response in the brain.\n",
      " - More and more experimental and clinical data confirm the key role of intestinal dysbiosis and interaction of the intestinal microflora with the host in the development of neurodegeneration.\n",
      " - It is likely that the convergence of the inflammatory response from the gut along with aging and poor diet in the elderly contributes to the pathogenesis of Alzheimer's disease.\n",
      " - Modifying the composition of the intestinal microflora with food -based therapy or pro/prebiotic supplementation can create new preventive and therapeutic options for Alzheimer's disease.\n"
     ]
    }
   ],
   "source": [
    "# Use defined `reduce` function to summarize the summaries\n",
    "summary = reduce(initial_summary, final_prompt_template)\n",
    "\n",
    "print(summary)"
   ]
  },
  {
   "cell_type": "markdown",
   "metadata": {
    "id": "V6UpRIozJs3d"
   },
   "source": [
    "#### Recap\n",
    "\n",
    "The model was able to summarize the whole paper into a few bullet points using the MapReduce with Overlapping Chunks method but you will notice that the summary is longer than the ones we had before. With this method we were able to parallelize the process withour losing context but this process is slower as multiple call are need to be made to the model.\n",
    "\n",
    "\n",
    "In the next section, you will try a different approach that make use of a summary from the previous page instead of the entire text."
   ]
  },
  {
   "cell_type": "markdown",
   "metadata": {
    "id": "fFqa_qCmJs3d"
   },
   "source": [
    "## Method 4: MapReduce with Rolling Summary (Refine) <a name=\"mapr\"></a>\n",
    "\n",
    "On some occasions, combining a few pages might be too large to summarize. To resolve that issue, we will try a different approach that uses an initial summary from the previous step along with the next page to summarize each prompt. This helps to ensure that the summary is complete and accurate, as it takes into account the context of the previous page."
   ]
  },
  {
   "cell_type": "code",
   "execution_count": 49,
   "metadata": {
    "id": "zfK3SQMSJs3d"
   },
   "outputs": [],
   "source": [
    "initial_prompt_template = \"\"\"\n",
    "    Taking the following context delimited by triple backquotes into consideration:\n",
    "\n",
    "    ```{context}```\n",
    "\n",
    "    Write a concise summary of the following text delimited by triple backquotes.\n",
    "\n",
    "    ```{text}```\n",
    "\n",
    "    CONCISE SUMMARY:\n",
    "\"\"\""
   ]
  },
  {
   "cell_type": "code",
   "execution_count": 51,
   "metadata": {
    "id": "9sCN849gJs3d"
   },
   "outputs": [
    {
     "name": "stderr",
     "output_type": "stream",
     "text": [
      "100%|██████████| 12/12 [00:18<00:00,  1.54s/it]\n"
     ]
    }
   ],
   "source": [
    "# Read the PDF file and create a list of pages.\n",
    "reader = PyPDF2.PdfReader(pdf_file)\n",
    "pages = reader.pages\n",
    "\n",
    "# Create an empty list to store the summaries.\n",
    "initial_summary = []\n",
    "\n",
    "# Iterate over the pages and generate a summary\n",
    "for idx, page in enumerate(tqdm(pages)):\n",
    "\n",
    "    # Extract the text from the page and remove any leading or trailing whitespace.\n",
    "    text = page.extract_text().strip()\n",
    "\n",
    "    if idx == 0:  # if current page is the first page, no previous context\n",
    "        prompt = initial_prompt_template.format(context=\"\", text=text)\n",
    "\n",
    "    else:  # if current page is not the first page, previous context is the summary of the previous page\n",
    "        prompt = initial_prompt_template.format(\n",
    "            context=initial_summary[idx - 1], text=text\n",
    "        )\n",
    "\n",
    "    # Generate a summary using the model and the prompt\n",
    "    summary = model_with_limit_and_backoff(prompt=prompt, max_output_tokens=1024, temperature= 0.2, top_p=0.95, top_k=40).text\n",
    "\n",
    "    # Append the summary to the list of summaries\n",
    "    initial_summary.append(summary)"
   ]
  },
  {
   "cell_type": "markdown",
   "metadata": {
    "id": "NJ3cOxWOJs3d"
   },
   "source": [
    "Here you will list out a few entries from the initial summary list."
   ]
  },
  {
   "cell_type": "code",
   "execution_count": 52,
   "metadata": {
    "id": "L5yOZikVJs3d",
    "scrolled": true,
    "tags": []
   },
   "outputs": [
    {
     "data": {
      "text/plain": [
       "['Alzheimer\\'s disease is a serious public health problem. In addition to the ischemic etiology of Alzheimer\\'s disease, it is suggested that the gut microbiota may also participate in the development of this disease. The brain and gut are thought to form a network called the \"gut-brain-microbiota axis\", and it is strongly supported idea that the intestinal microflora can be involved in Alzheimer\\'s disease. Modulation of the gut microbiota through a personalized diet or beneficial microflora intervention like pro/prebiotics, changing microbiological partners and their products, including amyloid protein, can become a new treatment for Alzheimer\\'s disease.',\n",
       " 'Alzheimer\\'s disease is a serious public health problem. In addition to the ischemic etiology of Alzheimer\\'s disease, it is suggested that the gut microbiota may also participate in the development of this disease. The brain and gut are thought to form a network called the \"gut-brain-microbiota axis\", and it is strongly supported idea that the intestinal microflora can be involved in Alzheimer\\'s disease. Modulation of the gut microbiota through a personalized diet or beneficial microflora intervention like pro/prebiotics, changing microbiological partners and their products, including amyloid protein, can become a new treatment for Alzheimer\\'s disease.',\n",
       " \"Gut microbiota may participate in the development of Alzheimer's disease. Dysbiosis caused by a high fat diet can trigger neuroinflammation with the generation of pro-inflammatory cytokines and decline of immune regulating activity. Modulation of the gut microbiota through a personalized diet or beneficial microflora intervention like pro/prebiotics, changing microbiological partners and their products, including amyloid protein, can become a new treatment for Alzheimer's disease.\",\n",
       " \"Gut microbiota may participate in the development of Alzheimer's disease. Dysbiosis caused by a high fat diet can trigger neuroinflammation with the generation of pro-inflammatory cytokines and decline of immune regulating activity. Modulation of the gut microbiota through a personalized diet or beneficial microflora intervention like pro/prebiotics, changing microbiological partners and their products, including amyloid protein, can become a new treatment for Alzheimer's disease.\",\n",
       " \"Gut microbiota may participate in the development of Alzheimer's disease. Dysbiosis caused by a high fat diet can trigger neuroinflammation with the generation of pro-inflammatory cytokines and decline of immune regulating activity. Modulation of the gut microbiota through a personalized diet or beneficial microflora intervention like pro/prebiotics, changing microbiological partners and their products, including amyloid protein, can become a new treatment for Alzheimer's disease.\",\n",
       " \"Gut microbiota may participate in the development of Alzheimer's disease. Dysbiosis caused by a high fat diet can trigger neuroinflammation with the generation of pro-inflammatory cytokines and decline of immune regulating activity. Modulation of the gut microbiota through a personalized diet or beneficial microflora intervention like pro/prebiotics, changing microbiological partners and their products, including amyloid protein, can become a new treatment for Alzheimer's disease.\",\n",
       " \"The gut microbiota may participate in the development of Alzheimer's disease. Dysbiosis caused by a high fat diet can trigger neuroinflammation with the generation of pro-inflammatory cytokines and decline of immune regulating activity. Modulation of the gut microbiota through a personalized diet or beneficial microflora intervention like pro/prebiotics, changing microbiological partners and their products, including amyloid protein, can become a new treatment for Alzheimer's disease.\",\n",
       " \"The gut microbiota may participate in the development of Alzheimer's disease. Dysbiosis caused by a high fat diet can trigger neuroinflammation with the generation of pro-inflammatory cytokines and decline of immune regulating activity. Modulation of the gut microbiota through a personalized diet or beneficial microflora intervention like pro/prebiotics, changing microbiological partners and their products, including amyloid protein, can become a new treatment for Alzheimer's disease.\",\n",
       " \"The gut microbiota may participate in the development of Alzheimer's disease. Dysbiosis caused by a high fat diet can trigger neuroinflammation with the generation of pro-inflammatory cytokines and decline of immune regulating activity. Modulation of the gut microbiota through a personalized diet or beneficial microflora intervention like pro/prebiotics, changing microbiological partners and their products, including amyloid protein, can become a new treatment for Alzheimer's disease.\",\n",
       " \"The gut microbiota may participate in the development of Alzheimer's disease. Dysbiosis caused by a high fat diet can trigger neuroinflammation with the generation of pro-inflammatory cytokines and decline of immune regulating activity. Modulation of the gut microbiota through a personalized diet or beneficial microflora intervention like pro/prebiotics, changing microbiological partners and their products, including amyloid protein, can become a new treatment for Alzheimer's disease.\"]"
      ]
     },
     "execution_count": 52,
     "metadata": {},
     "output_type": "execute_result"
    }
   ],
   "source": [
    "initial_summary[:10]"
   ]
  },
  {
   "cell_type": "markdown",
   "metadata": {
    "id": "OYYZM4QOJs3d"
   },
   "source": [
    "It is expected that there will be a few duplicate entries in the list, as you are rolling in context from previous pages to the next. You can easily remove these duplicates by using the set function."
   ]
  },
  {
   "cell_type": "code",
   "execution_count": 53,
   "metadata": {
    "id": "KxKpvvEzJs3d"
   },
   "outputs": [],
   "source": [
    "initial_summary = set(initial_summary)  # set() function removes duplicate items"
   ]
  },
  {
   "cell_type": "markdown",
   "metadata": {
    "id": "9HczirNnJs3d"
   },
   "source": [
    "#### Reduce step\n",
    "You are ready to proceed on to the next step to combine all the summary into an even smaller summary using the final prompt template and the function that you created earlier."
   ]
  },
  {
   "cell_type": "code",
   "execution_count": 54,
   "metadata": {
    "id": "I8Mg8MaaJs3d"
   },
   "outputs": [
    {
     "name": "stdout",
     "output_type": "stream",
     "text": [
      "- Alzheimer's disease is a serious public health problem.\n",
      " - Gut microbiota may participate in the development of Alzheimer's disease.\n",
      " - Dysbiosis caused by a high fat diet can trigger neuroinflammation with the generation of pro-inflammatory cytokines and decline of immune regulating activity.\n",
      " - Modulation of the gut microbiota through a personalized diet or beneficial microflora intervention like pro/prebiotics, changing microbiological partners and their products, including amyloid protein, can become a new treatment for Alzheimer's disease.\n"
     ]
    }
   ],
   "source": [
    "# Use defined `reduce` function to summarize the summaries\n",
    "summary = reduce(initial_summary, final_prompt_template)\n",
    "\n",
    "print(summary)"
   ]
  },
  {
   "cell_type": "markdown",
   "metadata": {
    "id": "_5wFY2SLJs3d"
   },
   "source": [
    "#### Recap\n",
    "\n",
    "The model was able to summarize the whole paper into a few bullet points using the MapReduce with Rolling Summary method. This method allowed less context to be lost because sequential pages are summarized using the context from previous pages but this method does not work well with parallel processing as the processes to summarize pages are dependent to each other."
   ]
  },
  {
   "cell_type": "markdown",
   "metadata": {},
   "source": [
    "## Summarizing with Generative AI Studio <a name=\"genstudio\"></a>"
   ]
  },
  {
   "cell_type": "markdown",
   "metadata": {},
   "source": [
    "Go to the Generative AI Studio console [here](https://console.cloud.google.com/vertex-ai/generative/language?_ga=2.182664366.923116401.1692009977-1042353744.1691708677).\n",
    "\n",
    "Scroll down to **Summarization** and click on the model **Article Summary**. You will see a prompt session were you will need to enter in the contents of your article as the console does not allow you to upload files. In order for the model to work best try to not include any abstract or reference sections of your article, if errors still come up try limiting the article even more by removing other sections such as the intro.\n",
    "\n",
    " <img src=\"images/GCPGenStudio2.png\" width=\"500\" height=\"500\">\n",
    "\n",
    "To the left you can control the parameters that we have been using before this is a great way to test what each parameter does and how they effect each other. Once you are done click **submit**, you should have a similar output as below.\n",
    "\n",
    " <img src=\"images/GCPGenStudio3.png\" width=\"600\" height=\"600\">\n",
    " \n"
   ]
  },
  {
   "cell_type": "markdown",
   "metadata": {
    "id": "LNyorWQgJs3d"
   },
   "source": [
    "## Conclusion\n",
    "\n",
    "You have successfully summarized a long document using four different methods. Its important to remember that each moethod has its advantages and disadvantages before deciding which method is the right one for you.\n",
    "\n",
    "\n",
    "Summarizing a long document can be challenging and time consuming as you are still required to ensure your model has correctly idetified the main points of the article in a concise and coherent way. This can be especially difficult if the document is complex or technical. While these methods allow you to interact with LLMs and summarize long documents in a flexible way, you may sometimes want to speed up the process by using bootstrapping or pre-built methods. This is where libraries like LangChain come in. You can read more about LangChain support on Vertex AI [here](https://python.langchain.com/en/latest/modules/models/llms/integrations/google_vertex_ai_palm.html)."
   ]
  },
  {
   "cell_type": "code",
   "execution_count": null,
   "metadata": {},
   "outputs": [],
   "source": []
  }
 ],
 "metadata": {
  "colab": {
   "name": "summarization_large_documents.ipynb",
   "toc_visible": true
  },
  "environment": {
   "kernel": "python3",
   "name": "tf2-gpu.2-11.m108",
   "type": "gcloud",
   "uri": "gcr.io/deeplearning-platform-release/tf2-gpu.2-11:m108"
  },
  "kernelspec": {
   "display_name": "Python (Local)",
   "language": "python",
   "name": "local-base"
  },
  "language_info": {
   "codemirror_mode": {
    "name": "ipython",
    "version": 3
   },
   "file_extension": ".py",
   "mimetype": "text/x-python",
   "name": "python",
   "nbconvert_exporter": "python",
   "pygments_lexer": "ipython3",
   "version": "3.7.12"
  }
 },
 "nbformat": 4,
 "nbformat_minor": 4
}
