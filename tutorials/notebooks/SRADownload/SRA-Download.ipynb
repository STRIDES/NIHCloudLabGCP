{
 "cells": [
  {
   "cell_type": "markdown",
   "id": "1651316c",
   "metadata": {},
   "source": [
    "# Download sequence data from the NCBI Sequence Read Archive (SRA)"
   ]
  },
  {
   "cell_type": "markdown",
   "id": "15022f97",
   "metadata": {},
   "source": [
    "## Overview\n",
    "\n",
    "DNA sequence data are typically deposited into the NCBI Sequence Read Archive, and can be accessed through the SRA website, or via command line tools called SRA Toolkit. Individual sequence entries are assigned an Accession ID, which can be used to find and download a particular file. For example, if you go to the [SRA database](https://www.ncbi.nlm.nih.gov/sra) in a browser window, and search for `SRX15695630`, you should see an entry for _C. elegans_. Here we are going to use one tool from the SRA Toolkit called Fasterq-dump to download a few fastq files, and then do the same thing with a wrapper package called [ipyrad-analysis toolkit](https://ipyrad.readthedocs.io/en/latest/API-analysis/index.html)."
   ]
  },
  {
   "cell_type": "markdown",
   "id": "3b500763",
   "metadata": {},
   "source": [
    "### 1) Download SRA data using SRA Toolkit"
   ]
  },
  {
   "cell_type": "markdown",
   "id": "01213dae",
   "metadata": {},
   "source": [
    "First, install dependencies, including mamba (you could also use conda)"
   ]
  },
  {
   "cell_type": "code",
   "execution_count": null,
   "id": "2fd7a16a",
   "metadata": {},
   "outputs": [],
   "source": [
    "!curl -L -O https://github.com/conda-forge/miniforge/releases/latest/download/Mambaforge-$(uname)-$(uname -m).sh\n",
    "!bash Mambaforge-$(uname)-$(uname -m).sh -b -p $HOME/mambaforge"
   ]
  },
  {
   "cell_type": "code",
   "execution_count": null,
   "id": "8f7e349b",
   "metadata": {},
   "outputs": [],
   "source": [
    "!~/mambaforge/bin/mamba install -c bioconda -c conda-forge sra-tools==2.11.0 ipyrad -y"
   ]
  },
  {
   "cell_type": "markdown",
   "id": "b8c010c2",
   "metadata": {},
   "source": [
    "Test that your install works and that fasterq-dump is available in your path"
   ]
  },
  {
   "cell_type": "code",
   "execution_count": null,
   "id": "6e507538",
   "metadata": {},
   "outputs": [],
   "source": [
    "!fasterq-dump -h"
   ]
  },
  {
   "cell_type": "markdown",
   "id": "f94e4215",
   "metadata": {},
   "source": [
    "Set up your directory structure for the raw fastq data"
   ]
  },
  {
   "cell_type": "code",
   "execution_count": null,
   "id": "48e335e9",
   "metadata": {},
   "outputs": [],
   "source": [
    "!mkdir -p data\n",
    "!mkdir -p data/raw_fastq-fasterq-dump\n",
    "!mkdir -p data/raw_fastq-ipyrad"
   ]
  },
  {
   "cell_type": "code",
   "execution_count": null,
   "id": "21894683",
   "metadata": {},
   "outputs": [],
   "source": [
    "cd data/raw_fastq-fasterq-dump"
   ]
  },
  {
   "cell_type": "markdown",
   "id": "6520dd16",
   "metadata": {},
   "source": [
    "Here we will download three fastq files of SARS-CoV-2, it will run pretty quickly.Now we need a list of accession IDs to download. You can find these from papers or from searching SRA directly. Here we are going to use sequence data from three fastq files of SARS-CoV-2."
   ]
  },
  {
   "cell_type": "code",
   "execution_count": null,
   "id": "d214a181",
   "metadata": {},
   "outputs": [],
   "source": [
    "!for i in {1..3}; do echo \"SRR1408688$i\"; done > list_of_accesionIDS.txt\n",
    "!cat list_of_accesionIDS.txt"
   ]
  },
  {
   "cell_type": "markdown",
   "id": "ea5f7b67",
   "metadata": {},
   "source": [
    "SRA Tools doesn't run in batch mode, so one way to run a command on multiple samples is by using a simple for loop. Once you run the following cell, it will take about 15 min to finish downloading the three samples. "
   ]
  },
  {
   "cell_type": "code",
   "execution_count": null,
   "id": "96307376",
   "metadata": {},
   "outputs": [],
   "source": [
    "!for x in `cat list_of_accesionIDS.txt`; do fasterq-dump $x; done"
   ]
  },
  {
   "cell_type": "markdown",
   "id": "de3834e8",
   "metadata": {},
   "source": [
    "### 2) Download SRA data using ipyrad-analysis toolkit"
   ]
  },
  {
   "cell_type": "code",
   "execution_count": null,
   "id": "f83db4d5",
   "metadata": {},
   "outputs": [],
   "source": [
    "import ipyrad.analysis as ipa"
   ]
  },
  {
   "cell_type": "markdown",
   "id": "2e329cb7",
   "metadata": {},
   "source": [
    "From an sratools object you can fetch just the info, or you can download the files as well. Here we call `.run()` to download the data into a designated workdir. There are arguments for how to name the files according to name fields in the fetch_runinfo table. The accessions argument here is a list of the SRR numbers. You could also write to a list from a text file. Here we will download three fastq files of SARS-CoV-2, it will run pretty quickly."
   ]
  },
  {
   "cell_type": "code",
   "execution_count": null,
   "id": "e6144fe7",
   "metadata": {},
   "outputs": [],
   "source": [
    "cd ~/data/raw_fastq-ipyrad"
   ]
  },
  {
   "cell_type": "code",
   "execution_count": null,
   "id": "f70ac8e2",
   "metadata": {},
   "outputs": [],
   "source": [
    "list_of_srrs = ['SRR14086881','SRR14086882','SRR14086883']"
   ]
  },
  {
   "cell_type": "code",
   "execution_count": null,
   "id": "12c72cd2",
   "metadata": {},
   "outputs": [],
   "source": [
    "# new sra object\n",
    "sra2 = ipa.sratools(accessions=list_of_srrs, workdir=\".\")\n",
    "\n",
    "# call download (run) function\n",
    "sra2.run(auto=True, name_fields=(1,30))"
   ]
  },
  {
   "cell_type": "markdown",
   "id": "6d1022de",
   "metadata": {},
   "source": [
    "### Check the data files\n",
    "You can see that the files were named according to the SRR and species name in the table. The intermediate .sra files were removed and only the fastq files were saved. "
   ]
  },
  {
   "cell_type": "code",
   "execution_count": null,
   "id": "1a9252b6",
   "metadata": {},
   "outputs": [],
   "source": [
    "#you can also navigate in the menu on the left\n",
    "!ls -l downloaded"
   ]
  },
  {
   "cell_type": "code",
   "execution_count": null,
   "id": "6c49a92d",
   "metadata": {},
   "outputs": [],
   "source": [
    "#now copy the data back to a cloud bucket for future use\n",
    "!gsutil cp SRR14086881_MSHSPSP-RNP263.fastq s3://<bucket-name>"
   ]
  },
  {
   "cell_type": "markdown",
   "id": "bed69e3f-44fb-4014-8c04-0885ebd65f57",
   "metadata": {},
   "source": [
    "# 3) Copy directly from Google Cloud Storage\n",
    "SRA data is now housed on GCP and AWS, and you can directly download from cloud buckets using gsutil! These data are in what are called user pays buckets, which means that you will incur minor costs to download, but it should be a small amount of costs.\n",
    "Data is organized in buckets by run ID rather than Accession, so to find the run ID, go to the [SRA Run Selector](https://www.ncbi.nlm.nih.gov/Traces/study/) and then search for your Accession number to find the right Run ID.\n",
    "\n",
    "Once you have the run ID, you just use gsutil to copy the data either locally, or to a bucket. The only part you need modify for the user pays part is that you need to add your project ID so that the bucket can charge you for access. So the command looks like this:\n",
    "```\n",
    "gsutil -u <PROJECT-ID> cp -r gs://sra-pub-src/<YOUR-RUN-ID>/ <DESTINATION>\n",
    "```\n",
    "The catch is that the bucket name may vary slightly. To find the exact path, click on the Run ID on the Run Selector page, then go to Data Access and scroll down to get the exact path. For some projects, like 1k genomes, you will only have an FTP site rather than a gs path, so you would need to use curl or wget to download the files instead. You may find that in some cases the sra toolkit is a lot easier for bulk downloads."
   ]
  },
  {
   "cell_type": "markdown",
   "id": "487f4b2f-569c-4ec5-b314-522fec3e34dc",
   "metadata": {},
   "source": [
    "Download a dog metagenome fastq using gsutil"
   ]
  },
  {
   "cell_type": "code",
   "execution_count": null,
   "id": "cf48126c-70d2-430e-a88b-ccd177b80ed9",
   "metadata": {},
   "outputs": [],
   "source": [
    "!gsutil -u cit-oconnellka-1212 cp -r gs://sra-pub-src-10/SRR19658964/ ."
   ]
  },
  {
   "cell_type": "markdown",
   "id": "c89b8b19-ea30-47b3-bbc8-88b686bb7acf",
   "metadata": {},
   "source": [
    "Use wget to download SARS-CoV-2 fastq from a storage url"
   ]
  },
  {
   "cell_type": "code",
   "execution_count": null,
   "id": "a412115e-93b9-4efc-a3ae-13dad405bfa3",
   "metadata": {},
   "outputs": [],
   "source": [
    "!wget \thttps://storage.googleapis.com/nih-sequence-read-archive/sra-src/SRR14086881/MSHSPSP-RNP263_R2_001.fastq.gz.1"
   ]
  }
 ],
 "metadata": {
  "environment": {
   "kernel": "python3",
   "name": "common-cpu.m93",
   "type": "gcloud",
   "uri": "gcr.io/deeplearning-platform-release/base-cpu:m93"
  },
  "kernelspec": {
   "display_name": "Python 3",
   "language": "python",
   "name": "python3"
  },
  "language_info": {
   "codemirror_mode": {
    "name": "ipython",
    "version": 3
   },
   "file_extension": ".py",
   "mimetype": "text/x-python",
   "name": "python",
   "nbconvert_exporter": "python",
   "pygments_lexer": "ipython3",
   "version": "3.7.12"
  }
 },
 "nbformat": 4,
 "nbformat_minor": 5
}
