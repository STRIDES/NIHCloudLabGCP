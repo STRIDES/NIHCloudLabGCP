{
 "cells": [
  {
   "cell_type": "markdown",
   "id": "1651316c",
   "metadata": {},
   "source": [
    "# Download sequence data from the NCBI Sequence Read Archive (SRA)"
   ]
  },
  {
   "cell_type": "markdown",
   "id": "15022f97",
   "metadata": {},
   "source": [
    "## Overview\n",
    "\n",
    "DNA sequence data are typically deposited into the NCBI Sequence Read Archive, and can be accessed through the SRA website, or via command line tools called SRA Toolkit. Individual sequence entries are assigned an Accession ID, which can be used to find and download a particular file. For example, if you go to the [SRA database](https://www.ncbi.nlm.nih.gov/sra) in a browser window, and search for `SRX15695630`, you should see an entry for _C. elegans_. Here we are going to use tools from the SRA Toolkit to download a few fastq files, which can then be copied over to a cloud bucket."
   ]
  },
  {
   "cell_type": "markdown",
   "id": "3b500763",
   "metadata": {},
   "source": [
    "### 1) Download SRA data using SRA Toolkit"
   ]
  },
  {
   "cell_type": "markdown",
   "id": "01213dae",
   "metadata": {},
   "source": [
    "First, install dependencies, including mamba (you could also use conda). At the time of writing, the version of SRA tools available with the Anaconda distribution was v.2.11.0. If you want to install the latest version, download and install from [here](https://github.com/ncbi/sra-tools/wiki/01.-Downloading-SRA-Toolkit). If you do the direct install, you will also need to configure interactively following [this guide](https://github.com/ncbi/sra-tools/wiki/05.-Toolkit-Configuration), you can do that by opening a terminal and running the commands there."
   ]
  },
  {
   "cell_type": "code",
   "execution_count": 1,
   "id": "2fd7a16a",
   "metadata": {},
   "outputs": [
    {
     "name": "stdout",
     "output_type": "stream",
     "text": [
      "  % Total    % Received % Xferd  Average Speed   Time    Time     Time  Current\n",
      "                                 Dload  Upload   Total   Spent    Left  Speed\n",
      "  0     0    0     0    0     0      0      0 --:--:-- --:--:-- --:--:--     0\n",
      "  0     0    0     0    0     0      0      0 --:--:-- --:--:-- --:--:--     0\n",
      "100 88.1M  100 88.1M    0     0  39.4M      0  0:00:02  0:00:02 --:--:-- 49.5M\n",
      "ERROR: File or directory already exists: '/home/jupyter/mambaforge'\n",
      "If you want to update an existing installation, use the -u option.\n"
     ]
    }
   ],
   "source": [
    "!curl -L -O https://github.com/conda-forge/miniforge/releases/latest/download/Mambaforge-$(uname)-$(uname -m).sh\n",
    "!bash Mambaforge-$(uname)-$(uname -m).sh -b -p $HOME/mambaforge"
   ]
  },
  {
   "cell_type": "code",
   "execution_count": 2,
   "id": "8f7e349b",
   "metadata": {},
   "outputs": [
    {
     "name": "stdout",
     "output_type": "stream",
     "text": [
      "\n",
      "                  __    __    __    __\n",
      "                 /  \\  /  \\  /  \\  /  \\\n",
      "                /    \\/    \\/    \\/    \\\n",
      "███████████████/  /██/  /██/  /██/  /████████████████████████\n",
      "              /  / \\   / \\   / \\   / \\  \\____\n",
      "             /  /   \\_/   \\_/   \\_/   \\    o \\__,\n",
      "            / _/                       \\_____/  `\n",
      "            |/\n",
      "        ███╗   ███╗ █████╗ ███╗   ███╗██████╗  █████╗\n",
      "        ████╗ ████║██╔══██╗████╗ ████║██╔══██╗██╔══██╗\n",
      "        ██╔████╔██║███████║██╔████╔██║██████╔╝███████║\n",
      "        ██║╚██╔╝██║██╔══██║██║╚██╔╝██║██╔══██╗██╔══██║\n",
      "        ██║ ╚═╝ ██║██║  ██║██║ ╚═╝ ██║██████╔╝██║  ██║\n",
      "        ╚═╝     ╚═╝╚═╝  ╚═╝╚═╝     ╚═╝╚═════╝ ╚═╝  ╚═╝\n",
      "\n",
      "        mamba (0.22.1) supported by @QuantStack\n",
      "\n",
      "        GitHub:  https://github.com/mamba-org/mamba\n",
      "        Twitter: https://twitter.com/QuantStack\n",
      "\n",
      "█████████████████████████████████████████████████████████████\n",
      "\n",
      "\n",
      "Looking for: ['sra-tools==2.11.0']\n",
      "\n",
      "\u001b[?25l\u001b[2K\u001b[0G[+] 0.0s\n",
      "\u001b[2K\u001b[1A\u001b[2K\u001b[0G[+] 0.1s\n",
      "bioconda/linux-64    \u001b[33m━━━━━━━━━━━━━━━╸\u001b[0m\u001b[90m━━━━━━━\u001b[0m   0.0 B /  ??.?MB @  ??.?MB/s  0.1s\n",
      "bioconda/noarch      \u001b[33m━━━━━━━╸\u001b[0m\u001b[90m━━━━━━━━━━━━━━━\u001b[0m   0.0 B /  ??.?MB @  ??.?MB/s  0.1s\n",
      "conda-forge/linux-64 \u001b[33m━━━━━━━━━━━╸\u001b[0m\u001b[90m━━━━━━━━━━━\u001b[0m   0.0 B /  ??.?MB @  ??.?MB/s  0.1s\n",
      "conda-forge/noarch   \u001b[33m━━━━━━━╸\u001b[0m\u001b[90m━━━━━━━━━━━━━━━\u001b[0m   0.0 B /  ??.?MB @  ??.?MB/s  0.1s\n",
      "pkgs/main/linux-64   \u001b[90m━━━━━━━━━━╸\u001b[0m\u001b[33m━━━━━━━━━━━━\u001b[0m   0.0 B /  ??.?MB @  ??.?MB/s  0.1s\u001b[2K\u001b[1A\u001b[2K\u001b[1A\u001b[2K\u001b[1A\u001b[2K\u001b[1A\u001b[2K\u001b[1A\u001b[2K\u001b[0G[+] 0.2s\n",
      "bioconda/linux-64    \u001b[90m━╸\u001b[0m\u001b[33m━━━━━━━━━━━━━━━╸\u001b[0m\u001b[90m━━━━━\u001b[0m   0.0 B /  ??.?MB @  ??.?MB/s  0.2s\n",
      "bioconda/noarch      \u001b[33m━━━━━━━━━╸\u001b[0m\u001b[90m━━━━━━━━━━━━━\u001b[0m   0.0 B /  ??.?MB @  ??.?MB/s  0.2s\n",
      "conda-forge/linux-64 \u001b[33m━━━━━━━━━━━━╸\u001b[0m\u001b[90m━━━━━━━━━━\u001b[0m   0.0 B /  ??.?MB @  ??.?MB/s  0.2s\n",
      "conda-forge/noarch   \u001b[33m━━━━━━━━━╸\u001b[0m\u001b[90m━━━━━━━━━━━━━\u001b[0m   0.0 B /  ??.?MB @  ??.?MB/s  0.2s\n",
      "pkgs/main/linux-64   \u001b[90m━━━━━━━━━━╸\u001b[0m\u001b[33m━━━━━━━━━━━━\u001b[0m   0.0 B /  ??.?MB @  ??.?MB/s  0.2s\u001b[2K\u001b[1A\u001b[2K\u001b[1A\u001b[2K\u001b[1A\u001b[2K\u001b[1A\u001b[2K\u001b[1A\u001b[2K\u001b[0G[+] 0.3s\n",
      "bioconda/linux-64    \u001b[90m━━━╸\u001b[0m\u001b[33m━━━━━━━━━━━━━━━╸\u001b[0m\u001b[90m━━━\u001b[0m 183.3kB /  ??.?MB @ 629.5kB/s  0.3s\n",
      "bioconda/noarch      \u001b[33m━━━━━━━━━━━╸\u001b[0m\u001b[90m━━━━━━━━━━━\u001b[0m 153.5kB /  ??.?MB @ 527.6kB/s  0.3s\n",
      "conda-forge/linux-64 \u001b[33m━━━━━━━━━━━━━━╸\u001b[0m\u001b[90m━━━━━━━━\u001b[0m 205.2kB /  ??.?MB @ 705.3kB/s  0.3s\n",
      "conda-forge/noarch   \u001b[33m━━━━━━━━━━━╸\u001b[0m\u001b[90m━━━━━━━━━━━\u001b[0m 128.4kB /  ??.?MB @ 434.0kB/s  0.3s\n",
      "pkgs/main/linux-64   \u001b[90m━━━━━━━━━━━━╸\u001b[0m\u001b[33m━━━━━━━━━━\u001b[0m   1.8kB /  ??.?MB @   7.0kB/s  0.3s\u001b[2K\u001b[1A\u001b[2K\u001b[1A\u001b[2K\u001b[1A\u001b[2K\u001b[1A\u001b[2K\u001b[1A\u001b[2K\u001b[0G[+] 0.4s\n",
      "bioconda/linux-64    \u001b[90m━━━━━━╸\u001b[0m\u001b[33m━━━━━━━━━━━━━━━━\u001b[0m 597.2kB /  ??.?MB @   1.5MB/s  0.4s\n",
      "bioconda/noarch      \u001b[33m━━━━━━━━━━━━━╸\u001b[0m\u001b[90m━━━━━━━━━\u001b[0m 624.0kB /  ??.?MB @   1.6MB/s  0.4s\n",
      "conda-forge/linux-64 \u001b[90m╸\u001b[0m\u001b[33m━━━━━━━━━━━━━━━╸\u001b[0m\u001b[90m━━━━━━\u001b[0m 673.1kB /  ??.?MB @   1.7MB/s  0.4s\n",
      "conda-forge/noarch   \u001b[33m━━━━━━━━━━━━━╸\u001b[0m\u001b[90m━━━━━━━━━\u001b[0m 541.0kB /  ??.?MB @   1.4MB/s  0.4s\n",
      "pkgs/main/linux-64   \u001b[33m━━━━━━━━╸\u001b[0m\u001b[90m━━━━━━━━━━━━━━\u001b[0m 458.8kB /  ??.?MB @   1.3MB/s  0.4s\u001b[2K\u001b[1A\u001b[2K\u001b[1A\u001b[2K\u001b[1A\u001b[2K\u001b[1A\u001b[2K\u001b[1A\u001b[2K\u001b[0G[+] 0.5s\n",
      "bioconda/linux-64    \u001b[90m━━━━━━━━╸\u001b[0m\u001b[33m━━━━━━━━━━━━━━\u001b[0m   1.0MB /  ??.?MB @   2.1MB/s  0.5s\n",
      "bioconda/noarch      \u001b[33m━━━━━━━━━━━━━━━╸\u001b[0m\u001b[90m━━━━━━━\u001b[0m   1.1MB /  ??.?MB @   2.2MB/s  0.5s\n",
      "conda-forge/linux-64 \u001b[90m━━╸\u001b[0m\u001b[33m━━━━━━━━━━━━━━━╸\u001b[0m\u001b[90m━━━━\u001b[0m 947.5kB /  ??.?MB @   1.9MB/s  0.5s\n",
      "conda-forge/noarch   \u001b[33m━━━━━━━━━━━━━━━╸\u001b[0m\u001b[90m━━━━━━━\u001b[0m 903.8kB /  ??.?MB @   1.8MB/s  0.5s\n",
      "pkgs/main/linux-64   \u001b[33m━━━━━━━━━━━╸\u001b[0m\u001b[90m━━━━━━━━━━━\u001b[0m 921.6kB /  ??.?MB @   2.0MB/s  0.5s\u001b[2K\u001b[1A\u001b[2K\u001b[1A\u001b[2K\u001b[1A\u001b[2K\u001b[1A\u001b[2K\u001b[1A\u001b[2K\u001b[0G[+] 0.6s\n",
      "bioconda/linux-64    \u001b[90m━━━━━━━━━━╸\u001b[0m\u001b[33m━━━━━━━━━━━━\u001b[0m   1.5MB /  ??.?MB @   2.6MB/s  0.6s\n",
      "bioconda/noarch      \u001b[90m━╸\u001b[0m\u001b[33m━━━━━━━━━━━━━━━╸\u001b[0m\u001b[90m━━━━━\u001b[0m   1.6MB /  ??.?MB @   2.6MB/s  0.6s\n",
      "conda-forge/linux-64 \u001b[90m━━━━━╸\u001b[0m\u001b[33m━━━━━━━━━━━━━━━╸\u001b[0m\u001b[90m━\u001b[0m   1.4MB /  ??.?MB @   2.4MB/s  0.6s\n",
      "conda-forge/noarch   \u001b[90m━╸\u001b[0m\u001b[33m━━━━━━━━━━━━━━━╸\u001b[0m\u001b[90m━━━━━\u001b[0m   1.4MB /  ??.?MB @   2.4MB/s  0.6s\n",
      "pkgs/main/linux-64   \u001b[33m━━━━━━━━━━━━━╸\u001b[0m\u001b[90m━━━━━━━━━\u001b[0m   1.4MB /  ??.?MB @   2.5MB/s  0.6s\u001b[2K\u001b[1A\u001b[2K\u001b[1A\u001b[2K\u001b[1A\u001b[2K\u001b[1A\u001b[2K\u001b[1A\u001b[2K\u001b[0G[+] 0.7s\n",
      "bioconda/linux-64    \u001b[90m━━━━━━━━━━━━╸\u001b[0m\u001b[33m━━━━━━━━━━\u001b[0m   2.0MB /  ??.?MB @   3.0MB/s  0.7s\n",
      "bioconda/noarch      \u001b[90m━━━━╸\u001b[0m\u001b[33m━━━━━━━━━━━━━━━╸\u001b[0m\u001b[90m━━\u001b[0m   2.1MB /  ??.?MB @   3.0MB/s  0.7s\n",
      "conda-forge/linux-64 \u001b[90m━━━━━━━╸\u001b[0m\u001b[33m━━━━━━━━━━━━━━━\u001b[0m   1.9MB /  ??.?MB @   2.7MB/s  0.7s\n",
      "conda-forge/noarch   \u001b[90m━━━━╸\u001b[0m\u001b[33m━━━━━━━━━━━━━━━╸\u001b[0m\u001b[90m━━\u001b[0m   2.0MB /  ??.?MB @   2.8MB/s  0.7s\n",
      "pkgs/main/linux-64   \u001b[33m━━━━━━━━━━━━━━━╸\u001b[0m\u001b[90m━━━━━━━\u001b[0m   1.9MB /  ??.?MB @   2.9MB/s  0.7s\u001b[2K\u001b[1A\u001b[2K\u001b[1A\u001b[2K\u001b[1A\u001b[2K\u001b[1A\u001b[2K\u001b[1A\u001b[2K\u001b[0G[+] 0.8s\n",
      "bioconda/linux-64    \u001b[33m━━━━━━━━╸\u001b[0m\u001b[90m━━━━━━━━━━━━━━\u001b[0m   2.3MB /  ??.?MB @   3.1MB/s  0.8s\n",
      "bioconda/noarch      \u001b[90m━━━━━━╸\u001b[0m\u001b[33m━━━━━━━━━━━━━━━━\u001b[0m   2.3MB /  ??.?MB @   3.1MB/s  0.8s\n",
      "conda-forge/linux-64 \u001b[90m━━━━━━━━━╸\u001b[0m\u001b[33m━━━━━━━━━━━━━\u001b[0m   2.1MB /  ??.?MB @   2.8MB/s  0.8s\n",
      "conda-forge/noarch   \u001b[90m━━━━━╸\u001b[0m\u001b[33m━━━━━━━━━━━━━━━╸\u001b[0m\u001b[90m━\u001b[0m   2.2MB /  ??.?MB @   2.9MB/s  0.8s\n",
      "pkgs/main/linux-64   \u001b[90m━╸\u001b[0m\u001b[33m━━━━━━━━━━━━━━━╸\u001b[0m\u001b[90m━━━━━\u001b[0m   2.3MB /  ??.?MB @   3.0MB/s  0.8s\u001b[2K\u001b[1A\u001b[2K\u001b[1A\u001b[2K\u001b[1A\u001b[2K\u001b[1A\u001b[2K\u001b[1A\u001b[2K\u001b[0G[+] 0.9s\n",
      "bioconda/linux-64    \u001b[33m━━━━━━━━━╸\u001b[0m\u001b[90m━━━━━━━━━━━━━\u001b[0m   2.8MB /  ??.?MB @   3.3MB/s  0.9s\n",
      "bioconda/noarch      \u001b[90m━━━━━━━╸\u001b[0m\u001b[33m━━━━━━━━━━━━━━━\u001b[0m   2.7MB /  ??.?MB @   3.2MB/s  0.9s\n",
      "conda-forge/linux-64 \u001b[90m━━━━━━━━━━╸\u001b[0m\u001b[33m━━━━━━━━━━━━\u001b[0m   2.6MB /  ??.?MB @   3.1MB/s  0.9s\n",
      "conda-forge/noarch   \u001b[90m━━━━━━━╸\u001b[0m\u001b[33m━━━━━━━━━━━━━━━\u001b[0m   2.5MB /  ??.?MB @   2.9MB/s  0.9s\n",
      "pkgs/main/linux-64   \u001b[90m━━━╸\u001b[0m\u001b[33m━━━━━━━━━━━━━━━╸\u001b[0m\u001b[90m━━━\u001b[0m   2.7MB /  ??.?MB @   3.2MB/s  0.9s\u001b[2K\u001b[1A\u001b[2K\u001b[1A\u001b[2K\u001b[1A\u001b[2K\u001b[1A\u001b[2K\u001b[1A\u001b[2K\u001b[0G[+] 1.0s\n",
      "bioconda/linux-64    \u001b[33m━━━━━━━━━━━━╸\u001b[0m\u001b[90m━━━━━━━━━━\u001b[0m   3.3MB /  ??.?MB @   3.5MB/s  1.0s\n",
      "bioconda/noarch      \u001b[90m━━━━━━━━━╸\u001b[0m\u001b[33m━━━━━━━━━━━━━\u001b[0m   3.1MB /  ??.?MB @   3.3MB/s  1.0s\n",
      "conda-forge/linux-64 \u001b[90m━━━━━━━━━━━━╸\u001b[0m\u001b[33m━━━━━━━━━━\u001b[0m   3.1MB /  ??.?MB @   3.2MB/s  1.0s\n",
      "conda-forge/noarch   \u001b[90m━━━━━━━━━╸\u001b[0m\u001b[33m━━━━━━━━━━━━━\u001b[0m   3.0MB /  ??.?MB @   3.1MB/s  1.0s\n",
      "pkgs/main/linux-64   \u001b[90m━━━━━━╸\u001b[0m\u001b[33m━━━━━━━━━━━━━━━━\u001b[0m   3.2MB /  ??.?MB @   3.3MB/s  1.0s\u001b[2K\u001b[1A\u001b[2K\u001b[1A\u001b[2K\u001b[1A\u001b[2K\u001b[1A\u001b[2K\u001b[1A\u001b[2K\u001b[0G[+] 1.1s\n",
      "bioconda/linux-64    \u001b[33m━━━━━━━━━━━━━━╸\u001b[0m\u001b[90m━━━━━━━━\u001b[0m   3.8MB /  ??.?MB @   3.6MB/s  1.1s\n",
      "bioconda/noarch      \u001b[90m━━━━━━━━━━━╸\u001b[0m\u001b[33m━━━━━━━━━━━\u001b[0m   3.6MB /  ??.?MB @   3.4MB/s  1.1s\n",
      "conda-forge/linux-64 \u001b[33m━━━━━━━━━╸\u001b[0m\u001b[90m━━━━━━━━━━━━━\u001b[0m   3.5MB /  ??.?MB @   3.4MB/s  1.1s\n",
      "conda-forge/noarch   \u001b[90m━━━━━━━━━━━╸\u001b[0m\u001b[33m━━━━━━━━━━━\u001b[0m   3.4MB /  ??.?MB @   3.2MB/s  1.1s\n",
      "pkgs/main/linux-64   \u001b[90m━━━━━━━╸\u001b[0m\u001b[33m━━━━━━━━━━━━━━━\u001b[0m   3.4MB /  ??.?MB @   3.4MB/s  1.1s\n",
      "pkgs/main/noarch     \u001b[90m━━━╸\u001b[0m\u001b[33m━━━━━━━━━━━━━━━╸\u001b[0m\u001b[90m━━━\u001b[0m   0.0 B /  ??.?MB @  ??.?MB/s  0.0s\u001b[2K\u001b[1A\u001b[2K\u001b[1A\u001b[2K\u001b[1A\u001b[2K\u001b[1A\u001b[2K\u001b[1A\u001b[2K\u001b[1A\u001b[2K\u001b[0G[+] 1.2s\n",
      "bioconda/linux-64    \u001b[33m━━━━━━━━━━━━━━╸\u001b[0m\u001b[90m━━━━━━━━\u001b[0m   3.8MB /  ??.?MB @   3.6MB/s  1.2s\n",
      "conda-forge/linux-64 \u001b[33m━━━━━━━━━╸\u001b[0m\u001b[90m━━━━━━━━━━━━━\u001b[0m   3.5MB /  ??.?MB @   3.4MB/s  1.2s\n",
      "conda-forge/noarch   \u001b[90m━━━━━━━━━━━╸\u001b[0m\u001b[33m━━━━━━━━━━━\u001b[0m   3.4MB /  ??.?MB @   3.2MB/s  1.2s\n",
      "pkgs/main/linux-64   \u001b[90m━━━━━━━╸\u001b[0m\u001b[33m━━━━━━━━━━━━━━━\u001b[0m   3.4MB /  ??.?MB @   3.4MB/s  1.2s\n",
      "pkgs/main/noarch     \u001b[90m━━━╸\u001b[0m\u001b[33m━━━━━━━━━━━━━━━╸\u001b[0m\u001b[90m━━━\u001b[0m   0.0 B /  ??.?MB @  ??.?MB/s  0.1s\u001b[2K\u001b[1A\u001b[2K\u001b[1A\u001b[2K\u001b[1A\u001b[2K\u001b[1A\u001b[2K\u001b[1A\u001b[2K\u001b[0G[+] 1.3s\n",
      "bioconda/linux-64    \u001b[33m━━━━━━━━━━━━━━╸\u001b[0m\u001b[90m━━━━━━━━\u001b[0m   3.8MB /  ??.?MB @   3.6MB/s  1.3s\n",
      "conda-forge/linux-64 \u001b[33m━━━━━━━━━╸\u001b[0m\u001b[90m━━━━━━━━━━━━━\u001b[0m   3.5MB /  ??.?MB @   3.4MB/s  1.3s\n",
      "conda-forge/noarch   \u001b[90m━━━━━━━━━━━╸\u001b[0m\u001b[33m━━━━━━━━━━━\u001b[0m   3.4MB /  ??.?MB @   3.2MB/s  1.3s\n",
      "pkgs/main/linux-64   \u001b[90m━━━━━━━╸\u001b[0m\u001b[33m━━━━━━━━━━━━━━━\u001b[0m   3.4MB /  ??.?MB @   3.4MB/s  1.3s\n",
      "pkgs/main/noarch     \u001b[90m━━━╸\u001b[0m\u001b[33m━━━━━━━━━━━━━━━╸\u001b[0m\u001b[90m━━━\u001b[0m   0.0 B /  ??.?MB @  ??.?MB/s  0.2s\u001b[2K\u001b[1A\u001b[2K\u001b[1A\u001b[2K\u001b[1A\u001b[2K\u001b[1A\u001b[2K\u001b[1A\u001b[2K\u001b[0Gbioconda/noarch                                      3.6MB @   3.4MB/s  1.2s\n",
      "pkgs/main/noarch                                              No change\n",
      "[+] 1.4s\n",
      "bioconda/linux-64    \u001b[90m╸\u001b[0m\u001b[33m━━━━━━━━━━━━━━━╸\u001b[0m\u001b[90m━━━━━━\u001b[0m   4.0MB /  ??.?MB @   3.0MB/s  1.4s\n",
      "conda-forge/linux-64 \u001b[33m━━━━━━━━━━━╸\u001b[0m\u001b[90m━━━━━━━━━━━\u001b[0m   3.8MB /  ??.?MB @   2.8MB/s  1.4s\n",
      "conda-forge/noarch   \u001b[33m━━━━━━━╸\u001b[0m\u001b[90m━━━━━━━━━━━━━━━\u001b[0m   3.6MB /  ??.?MB @   2.7MB/s  1.4s\n",
      "pkgs/main/linux-64   \u001b[90m━━━━━━━━━╸\u001b[0m\u001b[33m━━━━━━━━━━━━━\u001b[0m   4.1MB /  ??.?MB @   3.0MB/s  1.4s\n",
      "pkgs/r/linux-64      \u001b[90m━━━━━━━━━━━━╸\u001b[0m\u001b[33m━━━━━━━━━━\u001b[0m   0.0 B /  ??.?MB @  ??.?MB/s  0.1s\n",
      "pkgs/r/noarch        \u001b[90m━━━━━━━━━━━━━╸\u001b[0m\u001b[33m━━━━━━━━━\u001b[0m   0.0 B /  ??.?MB @  ??.?MB/s  0.0s\u001b[2K\u001b[1A\u001b[2K\u001b[1A\u001b[2K\u001b[1A\u001b[2K\u001b[1A\u001b[2K\u001b[1A\u001b[2K\u001b[1A\u001b[2K\u001b[0G[+] 1.5s\n",
      "bioconda/linux-64    ━━━━━━━━━━━━━━━━━━━━━━   4.2MB @   3.0MB/s Downloaded  1.5s\n",
      "conda-forge/linux-64 \u001b[33m━━━━━━━━━━━╸\u001b[0m\u001b[90m━━━━━━━━━━\u001b[0m   3.8MB @   2.8MB/s             1.5s\n",
      "conda-forge/noarch   \u001b[33m━━━━━━━╸\u001b[0m\u001b[90m━━━━━━━━━━━━━━\u001b[0m   3.6MB @   2.7MB/s             1.5s\n",
      "pkgs/main/linux-64   \u001b[90m━━━━━━━━╸\u001b[0m\u001b[33m━━━━━━━━━━━━━\u001b[0m   4.1MB @   3.0MB/s             1.5s\n",
      "pkgs/r/linux-64      \u001b[90m━━━━━━━━━━━╸\u001b[0m\u001b[33m━━━━━━━━━━\u001b[0m   0.0 B @  ??.?MB/s             0.2s\n",
      "pkgs/r/noarch        \u001b[90m━━━━━━━━━━━━╸\u001b[0m\u001b[33m━━━━━━━━━\u001b[0m   0.0 B @  ??.?MB/s             0.1s\u001b[2K\u001b[1A\u001b[2K\u001b[1A\u001b[2K\u001b[1A\u001b[2K\u001b[1A\u001b[2K\u001b[1A\u001b[2K\u001b[1A\u001b[2K\u001b[0G[+] 1.6s\n",
      "conda-forge/linux-64 \u001b[33m━━━━━━━━━━━╸\u001b[0m\u001b[90m━━━━━━━━━━━\u001b[0m   3.8MB /  ??.?MB @   2.8MB/s  1.6s\n",
      "conda-forge/noarch   \u001b[33m━━━━━━━╸\u001b[0m\u001b[90m━━━━━━━━━━━━━━━\u001b[0m   3.6MB /  ??.?MB @   2.7MB/s  1.6s\n",
      "pkgs/main/linux-64   \u001b[90m━━━━━━━━━╸\u001b[0m\u001b[33m━━━━━━━━━━━━━\u001b[0m   4.1MB /  ??.?MB @   3.0MB/s  1.6s\n",
      "pkgs/r/linux-64      \u001b[90m━━━━━━━━━━━━╸\u001b[0m\u001b[33m━━━━━━━━━━\u001b[0m   0.0 B /  ??.?MB @  ??.?MB/s  0.3s\n",
      "pkgs/r/noarch        \u001b[90m━━━━━━━━━━━━━╸\u001b[0m\u001b[33m━━━━━━━━━\u001b[0m   0.0 B /  ??.?MB @  ??.?MB/s  0.2s\u001b[2K\u001b[1A\u001b[2K\u001b[1A\u001b[2K\u001b[1A\u001b[2K\u001b[1A\u001b[2K\u001b[1A\u001b[2K\u001b[0G[+] 1.7s\n",
      "conda-forge/linux-64 \u001b[33m━━━━━━━━━━━╸\u001b[0m\u001b[90m━━━━━━━━━━━\u001b[0m   3.8MB /  ??.?MB @   2.8MB/s  1.7s\n",
      "conda-forge/noarch   \u001b[33m━━━━━━━╸\u001b[0m\u001b[90m━━━━━━━━━━━━━━━\u001b[0m   3.6MB /  ??.?MB @   2.7MB/s  1.7s\n",
      "pkgs/main/linux-64   \u001b[90m━━━━━━━━━╸\u001b[0m\u001b[33m━━━━━━━━━━━━━\u001b[0m   4.1MB /  ??.?MB @   3.0MB/s  1.7s\n",
      "pkgs/r/linux-64      \u001b[90m━━━━━━━━━━━━╸\u001b[0m\u001b[33m━━━━━━━━━━\u001b[0m   0.0 B /  ??.?MB @  ??.?MB/s  0.4s\n",
      "pkgs/r/noarch        \u001b[90m━━━━━━━━━━━━━╸\u001b[0m\u001b[33m━━━━━━━━━\u001b[0m   0.0 B /  ??.?MB @  ??.?MB/s  0.3s\u001b[2K\u001b[1A\u001b[2K\u001b[1A\u001b[2K\u001b[1A\u001b[2K\u001b[1A\u001b[2K\u001b[1A\u001b[2K\u001b[0Gbioconda/linux-64                                  @   3.0MB/s  1.5s\n",
      "pkgs/r/linux-64                                               No change\n",
      "[+] 1.8s\n",
      "conda-forge/linux-64 \u001b[33m━━━━━━━━━━━━╸\u001b[0m\u001b[90m━━━━━━━━━━\u001b[0m   3.9MB /  ??.?MB @   2.2MB/s  1.8s\n",
      "conda-forge/noarch   \u001b[33m━━━━━━━━━╸\u001b[0m\u001b[90m━━━━━━━━━━━━━\u001b[0m   3.8MB /  ??.?MB @   2.2MB/s  1.8s\n",
      "pkgs/main/linux-64   \u001b[90m━━━━━━━━━━╸\u001b[0m\u001b[33m━━━━━━━━━━━━\u001b[0m   4.4MB /  ??.?MB @   2.5MB/s  1.8s\n",
      "pkgs/r/noarch        \u001b[33m━━━━━━━━╸\u001b[0m\u001b[90m━━━━━━━━━━━━━━\u001b[0m   0.0 B /  ??.?MB @  ??.?MB/s  0.4s\u001b[2K\u001b[1A\u001b[2K\u001b[1A\u001b[2K\u001b[1A\u001b[2K\u001b[1A\u001b[2K\u001b[0G[+] 1.9s\n",
      "conda-forge/linux-64 \u001b[33m━━━━━━━━━━━━╸\u001b[0m\u001b[90m━━━━━━━━━━\u001b[0m   3.9MB /  ??.?MB @   2.2MB/s  1.9s\n",
      "conda-forge/noarch   \u001b[33m━━━━━━━━━╸\u001b[0m\u001b[90m━━━━━━━━━━━━━\u001b[0m   3.8MB /  ??.?MB @   2.2MB/s  1.9s\n",
      "pkgs/main/linux-64   \u001b[90m━━━━━━━━━━╸\u001b[0m\u001b[33m━━━━━━━━━━━━\u001b[0m   4.4MB /  ??.?MB @   2.5MB/s  1.9s\n",
      "pkgs/r/noarch        \u001b[33m━━━━━━━━╸\u001b[0m\u001b[90m━━━━━━━━━━━━━━\u001b[0m   0.0 B /  ??.?MB @  ??.?MB/s  0.5s\u001b[2K\u001b[1A\u001b[2K\u001b[1A\u001b[2K\u001b[1A\u001b[2K\u001b[1A\u001b[2K\u001b[0G[+] 2.0s\n",
      "conda-forge/linux-64 \u001b[33m━━━━━━━━━━━━╸\u001b[0m\u001b[90m━━━━━━━━━\u001b[0m   3.9MB @   2.2MB/s             2.0s\n",
      "conda-forge/noarch   \u001b[33m━━━━━━━━╸\u001b[0m\u001b[90m━━━━━━━━━━━━━\u001b[0m   3.8MB @   2.2MB/s             2.0s\n",
      "pkgs/main/linux-64   ━━━━━━━━━━━━━━━━━━━━━━   4.6MB @   2.6MB/s Finalizing  2.0s\n",
      "pkgs/r/noarch        \u001b[33m━━━━━━━━╸\u001b[0m\u001b[90m━━━━━━━━━━━━━\u001b[0m   0.0 B @  ??.?MB/s             0.6s\u001b[2K\u001b[1A\u001b[2K\u001b[1A\u001b[2K\u001b[1A\u001b[2K\u001b[1A\u001b[2K\u001b[0G[+] 2.1s\n",
      "conda-forge/linux-64 \u001b[33m━━━━━━━━━━━━╸\u001b[0m\u001b[90m━━━━━━━━━━\u001b[0m   3.9MB /  ??.?MB @   2.2MB/s  2.1s\n",
      "conda-forge/noarch   \u001b[33m━━━━━━━━━╸\u001b[0m\u001b[90m━━━━━━━━━━━━━\u001b[0m   3.8MB /  ??.?MB @   2.2MB/s  2.1s\n",
      "pkgs/r/noarch        \u001b[33m━━━━━━━━╸\u001b[0m\u001b[90m━━━━━━━━━━━━━━\u001b[0m   0.0 B /  ??.?MB @  ??.?MB/s  0.7s\u001b[2K\u001b[1A\u001b[2K\u001b[1A\u001b[2K\u001b[1A\u001b[2K\u001b[0G[+] 2.2s\n",
      "conda-forge/linux-64 \u001b[33m━━━━━━━━━━━━╸\u001b[0m\u001b[90m━━━━━━━━━━\u001b[0m   3.9MB /  ??.?MB @   2.2MB/s  2.2s\n",
      "conda-forge/noarch   \u001b[33m━━━━━━━━━╸\u001b[0m\u001b[90m━━━━━━━━━━━━━\u001b[0m   3.8MB /  ??.?MB @   2.2MB/s  2.2s\n",
      "pkgs/r/noarch        \u001b[33m━━━━━━━━╸\u001b[0m\u001b[90m━━━━━━━━━━━━━━\u001b[0m   0.0 B /  ??.?MB @  ??.?MB/s  0.8s\u001b[2K\u001b[1A\u001b[2K\u001b[1A\u001b[2K\u001b[1A\u001b[2K\u001b[0Gpkgs/main/linux-64                                 @   2.6MB/s  2.0s\n",
      "pkgs/r/noarch                                                 No change\n",
      "[+] 2.3s\n",
      "conda-forge/linux-64 \u001b[33m━━━━━━━━━━━━━╸\u001b[0m\u001b[90m━━━━━━━━━\u001b[0m   4.0MB /  ??.?MB @   1.8MB/s  2.3s\n",
      "conda-forge/noarch   \u001b[33m━━━━━━━━━━╸\u001b[0m\u001b[90m━━━━━━━━━━━━\u001b[0m   3.9MB /  ??.?MB @   1.7MB/s  2.3s\u001b[2K\u001b[1A\u001b[2K\u001b[1A\u001b[2K\u001b[0G[+] 2.4s\n",
      "conda-forge/linux-64 \u001b[33m━━━━━━━━━━━━━━━╸\u001b[0m\u001b[90m━━━━━━━\u001b[0m   5.0MB /  ??.?MB @   2.1MB/s  2.4s\n",
      "conda-forge/noarch   \u001b[33m━━━━━━━━━━━━╸\u001b[0m\u001b[90m━━━━━━━━━━\u001b[0m   5.1MB /  ??.?MB @   2.2MB/s  2.4s\u001b[2K\u001b[1A\u001b[2K\u001b[1A\u001b[2K\u001b[0G[+] 2.5s\n",
      "conda-forge/linux-64 \u001b[90m━╸\u001b[0m\u001b[33m━━━━━━━━━━━━━━━╸\u001b[0m\u001b[90m━━━━━\u001b[0m   5.8MB /  ??.?MB @   2.4MB/s  2.5s\n",
      "conda-forge/noarch   \u001b[33m━━━━━━━━━━━━━━╸\u001b[0m\u001b[90m━━━━━━━━\u001b[0m   6.7MB /  ??.?MB @   2.7MB/s  2.5s\u001b[2K\u001b[1A\u001b[2K\u001b[1A\u001b[2K\u001b[0G[+] 2.6s\n",
      "conda-forge/linux-64 \u001b[90m━━━━╸\u001b[0m\u001b[33m━━━━━━━━━━━━━━━╸\u001b[0m\u001b[90m━━\u001b[0m   6.3MB /  ??.?MB @   2.4MB/s  2.6s\n",
      "conda-forge/noarch   \u001b[90m╸\u001b[0m\u001b[33m━━━━━━━━━━━━━━━╸\u001b[0m\u001b[90m━━━━━━\u001b[0m   7.0MB /  ??.?MB @   2.7MB/s  2.6s\u001b[2K\u001b[1A\u001b[2K\u001b[1A\u001b[2K\u001b[0G[+] 2.7s\n",
      "conda-forge/linux-64 \u001b[90m━━━━━━╸\u001b[0m\u001b[33m━━━━━━━━━━━━━━━━\u001b[0m   6.6MB /  ??.?MB @   2.5MB/s  2.7s\n",
      "conda-forge/noarch   \u001b[90m━━╸\u001b[0m\u001b[33m━━━━━━━━━━━━━━━╸\u001b[0m\u001b[90m━━━━\u001b[0m   7.5MB /  ??.?MB @   2.8MB/s  2.7s\u001b[2K\u001b[1A\u001b[2K\u001b[1A\u001b[2K\u001b[0G[+] 2.8s\n",
      "conda-forge/linux-64 \u001b[90m━━━━━━━━╸\u001b[0m\u001b[33m━━━━━━━━━━━━━━\u001b[0m   7.0MB /  ??.?MB @   2.5MB/s  2.8s\n",
      "conda-forge/noarch   \u001b[90m━━━━━╸\u001b[0m\u001b[33m━━━━━━━━━━━━━━━╸\u001b[0m\u001b[90m━\u001b[0m   7.9MB /  ??.?MB @   2.8MB/s  2.8s\u001b[2K\u001b[1A\u001b[2K\u001b[1A\u001b[2K\u001b[0G[+] 2.9s\n",
      "conda-forge/linux-64 \u001b[90m━━━━━━━━━━╸\u001b[0m\u001b[33m━━━━━━━━━━━━\u001b[0m   7.5MB /  ??.?MB @   2.6MB/s  2.9s\n",
      "conda-forge/noarch   \u001b[90m━━━━━━━╸\u001b[0m\u001b[33m━━━━━━━━━━━━━━━\u001b[0m   8.3MB /  ??.?MB @   2.9MB/s  2.9s\u001b[2K\u001b[1A\u001b[2K\u001b[1A\u001b[2K\u001b[0G[+] 3.0s\n",
      "conda-forge/linux-64 \u001b[90m━━━━━━━━━━━╸\u001b[0m\u001b[33m━━━━━━━━━━━\u001b[0m   7.7MB /  ??.?MB @   2.6MB/s  3.0s\n",
      "conda-forge/noarch   \u001b[90m━━━━━━━━╸\u001b[0m\u001b[33m━━━━━━━━━━━━━━\u001b[0m   8.6MB /  ??.?MB @   2.9MB/s  3.0s\u001b[2K\u001b[1A\u001b[2K\u001b[1A\u001b[2K\u001b[0G[+] 3.1s\n",
      "conda-forge/linux-64 \u001b[90m━━━━━━━━━━━╸\u001b[0m\u001b[33m━━━━━━━━━━━\u001b[0m   7.7MB /  ??.?MB @   2.6MB/s  3.1s\n",
      "conda-forge/noarch   \u001b[90m━━━━━━━━╸\u001b[0m\u001b[33m━━━━━━━━━━━━━━\u001b[0m   8.6MB /  ??.?MB @   2.9MB/s  3.1s\u001b[2K\u001b[1A\u001b[2K\u001b[1A\u001b[2K\u001b[0G[+] 3.2s\n",
      "conda-forge/linux-64 \u001b[90m━━━━━━━━━━━╸\u001b[0m\u001b[33m━━━━━━━━━━━\u001b[0m   7.7MB /  ??.?MB @   2.6MB/s  3.2s\n",
      "conda-forge/noarch   \u001b[90m━━━━━━━━╸\u001b[0m\u001b[33m━━━━━━━━━━━━━━\u001b[0m   8.6MB /  ??.?MB @   2.9MB/s  3.2s\u001b[2K\u001b[1A\u001b[2K\u001b[1A\u001b[2K\u001b[0G[+] 3.3s\n",
      "conda-forge/linux-64 \u001b[90m━━━━━━━━━━╸\u001b[0m\u001b[33m━━━━━━━━━━━\u001b[0m   7.7MB @   2.6MB/s             3.3s\n",
      "conda-forge/noarch   ━━━━━━━━━━━━━━━━━━━━━━   8.6MB @   2.9MB/s Finalizing  3.3s\u001b[2K\u001b[1A\u001b[2K\u001b[1A\u001b[2K\u001b[0G[+] 3.4s\n",
      "conda-forge/linux-64 \u001b[90m━━━━━━━━━━━╸\u001b[0m\u001b[33m━━━━━━━━━━━\u001b[0m   7.7MB /  ??.?MB @   2.6MB/s  3.4s\u001b[2K\u001b[1A\u001b[2K\u001b[0G[+] 3.5s\n",
      "conda-forge/linux-64 \u001b[90m━━━━━━━━━━━╸\u001b[0m\u001b[33m━━━━━━━━━━━\u001b[0m   7.7MB /  ??.?MB @   2.6MB/s  3.5s\u001b[2K\u001b[1A\u001b[2K\u001b[0G[+] 3.6s\n",
      "conda-forge/linux-64 \u001b[90m━━━━━━━━━━━╸\u001b[0m\u001b[33m━━━━━━━━━━━\u001b[0m   7.7MB /  ??.?MB @   2.6MB/s  3.6s\u001b[2K\u001b[1A\u001b[2K\u001b[0G[+] 3.7s\n",
      "conda-forge/linux-64 \u001b[90m━━━━━━━━━━━╸\u001b[0m\u001b[33m━━━━━━━━━━━\u001b[0m   7.7MB /  ??.?MB @   2.6MB/s  3.7s\u001b[2K\u001b[1A\u001b[2K\u001b[0Gconda-forge/noarch                                 @   2.9MB/s  3.3s\n",
      "[+] 3.8s\n",
      "conda-forge/linux-64 \u001b[90m━━━━━━━━━━━━╸\u001b[0m\u001b[33m━━━━━━━━━━\u001b[0m   7.8MB /  ??.?MB @   2.1MB/s  3.8s\u001b[2K\u001b[1A\u001b[2K\u001b[0G[+] 3.9s\n",
      "conda-forge/linux-64 \u001b[33m━━━━━━━━━╸\u001b[0m\u001b[90m━━━━━━━━━━━━━\u001b[0m   9.2MB /  ??.?MB @   2.4MB/s  3.9s\u001b[2K\u001b[1A\u001b[2K\u001b[0G[+] 4.0s\n",
      "conda-forge/linux-64 \u001b[33m━━━━━━━━━━━╸\u001b[0m\u001b[90m━━━━━━━━━━━\u001b[0m   9.8MB /  ??.?MB @   2.5MB/s  4.0s\u001b[2K\u001b[1A\u001b[2K\u001b[0G[+] 4.1s\n",
      "conda-forge/linux-64 \u001b[33m━━━━━━━━━━━━━╸\u001b[0m\u001b[90m━━━━━━━━━\u001b[0m  10.3MB /  ??.?MB @   2.5MB/s  4.1s\u001b[2K\u001b[1A\u001b[2K\u001b[0G[+] 4.2s\n",
      "conda-forge/linux-64 \u001b[33m━━━━━━━━━━━━━━━╸\u001b[0m\u001b[90m━━━━━━━\u001b[0m  10.8MB /  ??.?MB @   2.6MB/s  4.2s\u001b[2K\u001b[1A\u001b[2K\u001b[0G[+] 4.3s\n",
      "conda-forge/linux-64 \u001b[90m━╸\u001b[0m\u001b[33m━━━━━━━━━━━━━━━╸\u001b[0m\u001b[90m━━━━━\u001b[0m  11.2MB /  ??.?MB @   2.6MB/s  4.3s\u001b[2K\u001b[1A\u001b[2K\u001b[0G[+] 4.4s\n",
      "conda-forge/linux-64 \u001b[90m━━━━╸\u001b[0m\u001b[33m━━━━━━━━━━━━━━━╸\u001b[0m\u001b[90m━━\u001b[0m  11.6MB /  ??.?MB @   2.6MB/s  4.4s\u001b[2K\u001b[1A\u001b[2K\u001b[0G[+] 4.5s\n",
      "conda-forge/linux-64 \u001b[90m━━━━━━╸\u001b[0m\u001b[33m━━━━━━━━━━━━━━━━\u001b[0m  12.0MB /  ??.?MB @   2.7MB/s  4.5s\u001b[2K\u001b[1A\u001b[2K\u001b[0G[+] 4.6s\n",
      "conda-forge/linux-64 \u001b[90m━━━━━━━━╸\u001b[0m\u001b[33m━━━━━━━━━━━━━━\u001b[0m  12.5MB /  ??.?MB @   2.7MB/s  4.6s\u001b[2K\u001b[1A\u001b[2K\u001b[0G[+] 4.7s\n",
      "conda-forge/linux-64 \u001b[90m━━━━━━━━━╸\u001b[0m\u001b[33m━━━━━━━━━━━━━\u001b[0m  12.8MB /  ??.?MB @   2.7MB/s  4.7s\u001b[2K\u001b[1A\u001b[2K\u001b[0G[+] 4.8s\n",
      "conda-forge/linux-64 \u001b[90m━━━━━━━━━━━╸\u001b[0m\u001b[33m━━━━━━━━━━━\u001b[0m  13.3MB /  ??.?MB @   2.8MB/s  4.8s\u001b[2K\u001b[1A\u001b[2K\u001b[0G[+] 4.9s\n",
      "conda-forge/linux-64 \u001b[33m━━━━━━━╸\u001b[0m\u001b[90m━━━━━━━━━━━━━━━\u001b[0m  13.9MB /  ??.?MB @   2.9MB/s  4.9s\u001b[2K\u001b[1A\u001b[2K\u001b[0G[+] 5.0s\n",
      "conda-forge/linux-64 \u001b[33m━━━━━━━━━━╸\u001b[0m\u001b[90m━━━━━━━━━━━━\u001b[0m  14.3MB /  ??.?MB @   2.9MB/s  5.0s\u001b[2K\u001b[1A\u001b[2K\u001b[0G[+] 5.1s\n",
      "conda-forge/linux-64 \u001b[33m━━━━━━━━━━━━╸\u001b[0m\u001b[90m━━━━━━━━━━\u001b[0m  14.7MB /  ??.?MB @   2.9MB/s  5.1s\u001b[2K\u001b[1A\u001b[2K\u001b[0G[+] 5.2s\n",
      "conda-forge/linux-64 \u001b[33m━━━━━━━━━━━━━━╸\u001b[0m\u001b[90m━━━━━━━━\u001b[0m  15.1MB /  ??.?MB @   2.9MB/s  5.2s\u001b[2K\u001b[1A\u001b[2K\u001b[0G[+] 5.3s\n",
      "conda-forge/linux-64 \u001b[90m╸\u001b[0m\u001b[33m━━━━━━━━━━━━━━━╸\u001b[0m\u001b[90m━━━━━━\u001b[0m  15.5MB /  ??.?MB @   2.9MB/s  5.3s\u001b[2K\u001b[1A\u001b[2K\u001b[0G[+] 5.4s\n",
      "conda-forge/linux-64 \u001b[90m━━╸\u001b[0m\u001b[33m━━━━━━━━━━━━━━━╸\u001b[0m\u001b[90m━━━━\u001b[0m  16.0MB /  ??.?MB @   3.0MB/s  5.4s\u001b[2K\u001b[1A\u001b[2K\u001b[0G[+] 5.5s\n",
      "conda-forge/linux-64 \u001b[90m━━━━━╸\u001b[0m\u001b[33m━━━━━━━━━━━━━━━╸\u001b[0m\u001b[90m━\u001b[0m  16.6MB /  ??.?MB @   3.0MB/s  5.5s\u001b[2K\u001b[1A\u001b[2K\u001b[0G[+] 5.6s\n",
      "conda-forge/linux-64 \u001b[90m━━━━━━━╸\u001b[0m\u001b[33m━━━━━━━━━━━━━━━\u001b[0m  17.0MB /  ??.?MB @   3.0MB/s  5.6s\u001b[2K\u001b[1A\u001b[2K\u001b[0G[+] 5.7s\n",
      "conda-forge/linux-64 \u001b[90m━━━━━━━━━╸\u001b[0m\u001b[33m━━━━━━━━━━━━━\u001b[0m  17.5MB /  ??.?MB @   3.1MB/s  5.7s\u001b[2K\u001b[1A\u001b[2K\u001b[0G[+] 5.8s\n",
      "conda-forge/linux-64 \u001b[90m━━━━━━━━━━━╸\u001b[0m\u001b[33m━━━━━━━━━━━\u001b[0m  18.0MB /  ??.?MB @   3.1MB/s  5.8s\u001b[2K\u001b[1A\u001b[2K\u001b[0G[+] 5.9s\n",
      "conda-forge/linux-64 \u001b[33m━━━━━━━╸\u001b[0m\u001b[90m━━━━━━━━━━━━━━━\u001b[0m  18.4MB /  ??.?MB @   3.1MB/s  5.9s\u001b[2K\u001b[1A\u001b[2K\u001b[0G[+] 6.0s\n",
      "conda-forge/linux-64 \u001b[33m━━━━━━━━━━╸\u001b[0m\u001b[90m━━━━━━━━━━━━\u001b[0m  18.9MB /  ??.?MB @   3.2MB/s  6.0s\u001b[2K\u001b[1A\u001b[2K\u001b[0G[+] 6.1s\n",
      "conda-forge/linux-64 \u001b[33m━━━━━━━━━━━╸\u001b[0m\u001b[90m━━━━━━━━━━━\u001b[0m  19.1MB /  ??.?MB @   3.2MB/s  6.1s\u001b[2K\u001b[1A\u001b[2K\u001b[0G[+] 6.2s\n",
      "conda-forge/linux-64 \u001b[33m━━━━━━━━━━━━━╸\u001b[0m\u001b[90m━━━━━━━━━\u001b[0m  19.5MB /  ??.?MB @   3.2MB/s  6.2s\u001b[2K\u001b[1A\u001b[2K\u001b[0G[+] 6.3s\n",
      "conda-forge/linux-64 \u001b[33m━━━━━━━━━━━━━━━╸\u001b[0m\u001b[90m━━━━━━━\u001b[0m  20.0MB /  ??.?MB @   3.2MB/s  6.3s\u001b[2K\u001b[1A\u001b[2K\u001b[0G[+] 6.4s\n",
      "conda-forge/linux-64 \u001b[90m━╸\u001b[0m\u001b[33m━━━━━━━━━━━━━━━╸\u001b[0m\u001b[90m━━━━━\u001b[0m  20.5MB /  ??.?MB @   3.2MB/s  6.4s\u001b[2K\u001b[1A\u001b[2K\u001b[0G[+] 6.5s\n",
      "conda-forge/linux-64 \u001b[90m━━━━╸\u001b[0m\u001b[33m━━━━━━━━━━━━━━━╸\u001b[0m\u001b[90m━━\u001b[0m  21.0MB /  ??.?MB @   3.2MB/s  6.5s\u001b[2K\u001b[1A\u001b[2K\u001b[0G[+] 6.6s\n",
      "conda-forge/linux-64 \u001b[90m━━━━━━╸\u001b[0m\u001b[33m━━━━━━━━━━━━━━━━\u001b[0m  21.4MB /  ??.?MB @   3.3MB/s  6.6s\u001b[2K\u001b[1A\u001b[2K\u001b[0G[+] 6.7s\n",
      "conda-forge/linux-64 \u001b[90m━━━━━━━━╸\u001b[0m\u001b[33m━━━━━━━━━━━━━━\u001b[0m  21.9MB /  ??.?MB @   3.3MB/s  6.7s\u001b[2K\u001b[1A\u001b[2K\u001b[0G[+] 6.8s\n",
      "conda-forge/linux-64 \u001b[90m━━━━━━━━━━╸\u001b[0m\u001b[33m━━━━━━━━━━━━\u001b[0m  22.3MB /  ??.?MB @   3.3MB/s  6.8s\u001b[2K\u001b[1A\u001b[2K\u001b[0G[+] 6.9s\n",
      "conda-forge/linux-64 \u001b[90m━━━━━━━━━━━━╸\u001b[0m\u001b[33m━━━━━━━━━━\u001b[0m  22.8MB /  ??.?MB @   3.3MB/s  6.9s\u001b[2K\u001b[1A\u001b[2K\u001b[0G[+] 7.0s\n",
      "conda-forge/linux-64 \u001b[33m━━━━━━━━━╸\u001b[0m\u001b[90m━━━━━━━━━━━━━\u001b[0m  23.3MB /  ??.?MB @   3.3MB/s  7.0s\u001b[2K\u001b[1A\u001b[2K\u001b[0G[+] 7.1s\n",
      "conda-forge/linux-64 \u001b[33m━━━━━━━━━━━╸\u001b[0m\u001b[90m━━━━━━━━━━━\u001b[0m  23.8MB /  ??.?MB @   3.4MB/s  7.1s\u001b[2K\u001b[1A\u001b[2K\u001b[0G[+] 7.2s\n",
      "conda-forge/linux-64 \u001b[33m━━━━━━━━━━━╸\u001b[0m\u001b[90m━━━━━━━━━━━\u001b[0m  23.8MB /  ??.?MB @   3.4MB/s  7.2s\u001b[2K\u001b[1A\u001b[2K\u001b[0G[+] 7.3s\n",
      "conda-forge/linux-64 \u001b[33m━━━━━━━━━━━╸\u001b[0m\u001b[90m━━━━━━━━━━━\u001b[0m  23.8MB /  ??.?MB @   3.4MB/s  7.3s\u001b[2K\u001b[1A\u001b[2K\u001b[0G[+] 7.4s\n",
      "conda-forge/linux-64 \u001b[33m━━━━━━━━━━━╸\u001b[0m\u001b[90m━━━━━━━━━━━\u001b[0m  23.8MB /  ??.?MB @   3.4MB/s  7.4s\u001b[2K\u001b[1A\u001b[2K\u001b[0G[+] 7.5s\n",
      "conda-forge/linux-64 \u001b[33m━━━━━━━━━━━╸\u001b[0m\u001b[90m━━━━━━━━━━━\u001b[0m  23.8MB /  ??.?MB @   3.4MB/s  7.5s\u001b[2K\u001b[1A\u001b[2K\u001b[0G[+] 7.6s\n",
      "conda-forge/linux-64 \u001b[33m━━━━━━━━━━━╸\u001b[0m\u001b[90m━━━━━━━━━━━\u001b[0m  23.8MB /  ??.?MB @   3.4MB/s  7.6s\u001b[2K\u001b[1A\u001b[2K\u001b[0G[+] 7.7s\n",
      "conda-forge/linux-64 \u001b[33m━━━━━━━━━━━╸\u001b[0m\u001b[90m━━━━━━━━━━━\u001b[0m  23.8MB /  ??.?MB @   3.4MB/s  7.7s\u001b[2K\u001b[1A\u001b[2K\u001b[0G[+] 7.8s\n",
      "conda-forge/linux-64 \u001b[33m━━━━━━━━━━━╸\u001b[0m\u001b[90m━━━━━━━━━━━\u001b[0m  23.8MB /  ??.?MB @   3.4MB/s  7.8s\u001b[2K\u001b[1A\u001b[2K\u001b[0G[+] 7.9s\n",
      "conda-forge/linux-64 \u001b[33m━━━━━━━━━━━╸\u001b[0m\u001b[90m━━━━━━━━━━━\u001b[0m  23.8MB /  ??.?MB @   3.4MB/s  7.9s\u001b[2K\u001b[1A\u001b[2K\u001b[0G[+] 8.0s\n",
      "conda-forge/linux-64 \u001b[33m━━━━━━━━━━━╸\u001b[0m\u001b[90m━━━━━━━━━━━\u001b[0m  23.8MB /  ??.?MB @   3.4MB/s  8.0s\u001b[2K\u001b[1A\u001b[2K\u001b[0G[+] 8.1s\n",
      "conda-forge/linux-64 \u001b[33m━━━━━━━━━━━╸\u001b[0m\u001b[90m━━━━━━━━━━━\u001b[0m  23.8MB /  ??.?MB @   3.4MB/s  8.1s\u001b[2K\u001b[1A\u001b[2K\u001b[0G[+] 8.2s\n",
      "conda-forge/linux-64 \u001b[33m━━━━━━━━━━━╸\u001b[0m\u001b[90m━━━━━━━━━━━\u001b[0m  23.8MB /  ??.?MB @   3.4MB/s  8.2s\u001b[2K\u001b[1A\u001b[2K\u001b[0G[+] 8.3s\n",
      "conda-forge/linux-64 \u001b[33m━━━━━━━━━━━╸\u001b[0m\u001b[90m━━━━━━━━━━━\u001b[0m  23.8MB /  ??.?MB @   3.4MB/s  8.3s\u001b[2K\u001b[1A\u001b[2K\u001b[0G[+] 8.4s\n",
      "conda-forge/linux-64 ━━━━━━━━━━━━━━━━━━━━━━  24.1MB @   3.4MB/s Downloaded  8.4s\u001b[2K\u001b[1A\u001b[2K\u001b[0G[+] 8.5s\n",
      "conda-forge/linux-64 ━━━━━━━━━━━━━━━━━━━━━━  24.1MB @   3.4MB/s Downloaded  8.5s\u001b[2K\u001b[1A\u001b[2K\u001b[0G[+] 8.6s\n",
      "conda-forge/linux-64 ━━━━━━━━━━━━━━━━━━━━━━  24.1MB @   3.4MB/s Finalizing  8.6s\u001b[2K\u001b[1A\u001b[2K\u001b[0G[+] 8.7s\n",
      "conda-forge/linux-64 ━━━━━━━━━━━━━━━━━━━━━━  24.1MB @   3.4MB/s Finalizing  8.7s\u001b[2K\u001b[1A\u001b[2K\u001b[0G[+] 8.8s\n",
      "\u001b[2K\u001b[1A\u001b[2K\u001b[0G[+] 8.9s\n",
      "\u001b[2K\u001b[1A\u001b[2K\u001b[0G[+] 9.0s\n",
      "\u001b[2K\u001b[1A\u001b[2K\u001b[0G[+] 9.1s\n",
      "\u001b[2K\u001b[1A\u001b[2K\u001b[0G[+] 9.2s\n",
      "\u001b[2K\u001b[1A\u001b[2K\u001b[0G[+] 9.3s\n",
      "\u001b[2K\u001b[1A\u001b[2K\u001b[0G[+] 9.4s\n",
      "\u001b[2K\u001b[1A\u001b[2K\u001b[0G[+] 9.5s\n",
      "\u001b[2K\u001b[1A\u001b[2K\u001b[0G[+] 9.6s\n",
      "\u001b[2K\u001b[1A\u001b[2K\u001b[0G[+] 9.7s\n",
      "\u001b[2K\u001b[1A\u001b[2K\u001b[0G[+] 9.8s\n",
      "\u001b[2K\u001b[1A\u001b[2K\u001b[0G[+] 9.9s\n",
      "\u001b[2K\u001b[1A\u001b[2K\u001b[0G[+] 10.0s\n",
      "\u001b[2K\u001b[1A\u001b[2K\u001b[0G[+] 10.1s\n",
      "\u001b[2K\u001b[1A\u001b[2K\u001b[0G[+] 10.2s\n",
      "\u001b[2K\u001b[1A\u001b[2K\u001b[0Gconda-forge/linux-64                               @   3.4MB/s  8.8s\n",
      "\u001b[?25h\n",
      "Pinned packages:\n",
      "  - python 3.7.*\n",
      "\n",
      "\n",
      "Transaction\n",
      "\n",
      "  Prefix: /opt/conda\n",
      "\n",
      "  All requested packages already installed\n",
      "\n",
      "\u001b[?25l\u001b[2K\u001b[0G\u001b[?25h"
     ]
    }
   ],
   "source": [
    "!~/mambaforge/bin/mamba install -c bioconda -c conda-forge sra-tools==2.11.0 -y"
   ]
  },
  {
   "cell_type": "markdown",
   "id": "b8c010c2",
   "metadata": {},
   "source": [
    "Test that your install works and that fasterq-dump is available in your path"
   ]
  },
  {
   "cell_type": "code",
   "execution_count": null,
   "id": "6e507538",
   "metadata": {},
   "outputs": [],
   "source": [
    "!fasterq-dump -h"
   ]
  },
  {
   "cell_type": "code",
   "execution_count": 12,
   "id": "03a062c8-70c4-4686-96c3-54f038081a90",
   "metadata": {},
   "outputs": [
    {
     "name": "stdout",
     "output_type": "stream",
     "text": [
      "/home/jupyter/NIHCloudLabGCP/tutorials/notebooks/SRADownload\n"
     ]
    }
   ],
   "source": [
    "cd ~/NIHCloudLabGCP/tutorials/notebooks/SRADownload/"
   ]
  },
  {
   "cell_type": "markdown",
   "id": "f94e4215",
   "metadata": {},
   "source": [
    "Set up your directory structure for the raw fastq data"
   ]
  },
  {
   "cell_type": "code",
   "execution_count": null,
   "id": "9aa93698-a082-4c11-9d48-0abe775fbcc5",
   "metadata": {},
   "outputs": [],
   "source": [
    "!mkdir -p data data/fasterqdump/raw_fastq data/ipyrad/raw_fastq data/prefetch_fastqdump/raw_fastq data/prefetch_fasterqdump/raw_fastq"
   ]
  },
  {
   "cell_type": "markdown",
   "id": "b068c9da-7814-4b24-9ff8-12473048bdcf",
   "metadata": {},
   "source": [
    "### Create Accession list and figure out how much space you need on your system"
   ]
  },
  {
   "cell_type": "markdown",
   "id": "bc30c134-c903-4605-82d4-babdaaae30c0",
   "metadata": {},
   "source": [
    "Here we will download nine fastq files of SARS-CoV-2. You will need a list of accession IDs to download, which you can find these from papers or by searching SRA directly."
   ]
  },
  {
   "cell_type": "code",
   "execution_count": 13,
   "id": "8e3a7b7a-8094-41f8-9772-ab6cf2f91958",
   "metadata": {},
   "outputs": [
    {
     "name": "stdout",
     "output_type": "stream",
     "text": [
      "SRR14086881\n",
      "SRR14086882\n",
      "SRR14086883\n",
      "SRR14086884\n",
      "SRR14086885\n",
      "SRR14086886\n",
      "SRR14086887\n",
      "SRR14086888\n",
      "SRR14086889\n"
     ]
    }
   ],
   "source": [
    "!for i in {1..9}; do echo \"SRR1408688$i\"; done > ~/NIHCloudLabGCP/tutorials/notebooks/SRADownload/data/list_of_accesionIDS.txt\n",
    "!cat ~/NIHCloudLabGCP/tutorials/notebooks/SRADownload/data/list_of_accesionIDS.txt"
   ]
  },
  {
   "cell_type": "markdown",
   "id": "184d887d-d937-483f-8b0e-f176287d4464",
   "metadata": {},
   "source": [
    "Let's get the info for one of those accession numbers"
   ]
  },
  {
   "cell_type": "code",
   "execution_count": 14,
   "id": "bc07d618-09a3-4611-a453-a193dee70fa6",
   "metadata": {},
   "outputs": [
    {
     "name": "stdout",
     "output_type": "stream",
     "text": [
      "acc    : SRR14086881\n",
      "path   : https://storage.googleapis.com/nih-sequence-read-archive/run/SRR14086881/SRR14086881\n",
      "size   : 2,328,919\n",
      "type   : Database\n",
      "platf  : SRA_PLATFORM_ILLUMINA\n",
      "SEQ    : 11,748\n",
      "SCHEMA : NCBI:align:db:alignment_sorted#1.3\n",
      "TIME   : 0x00000000605f7719 (03/27/2021 18:19)\n",
      "FMT    : FASTQ\n",
      "FMTVER : 2.9.1\n",
      "LDR    : latf-load.2.9.1\n",
      "LDRVER : 2.9.1\n",
      "LDRDATE: Jun 15 2018 (6/15/2018 0:0)\n"
     ]
    }
   ],
   "source": [
    "!vdb-dump --info SRR14086881"
   ]
  },
  {
   "cell_type": "markdown",
   "id": "97755b97-d09a-4cda-8511-1d47aa2d3fe9",
   "metadata": {},
   "source": [
    "`Path` shows us the location. In this case the data are on GCP, but some files are on AWS, some on-prem, and others in multiple places.\n",
    "`Size` shows us the size of the compressed file in bites. You should plan to have about 10x that size available on your system, so to get a rough estimate of the space you need, just look at a few files, convert to MB/GB, then multiply by the number of accessions. In this case, are are converting the .sra file to forward and reverse files equal to ~4MB each."
   ]
  },
  {
   "cell_type": "markdown",
   "id": "3ea57c83-7200-472e-852f-4c363b91341b",
   "metadata": {},
   "source": [
    "Check the amount of space on your VM, if it is not enough, then stop the machine, resize it, and come back to here. "
   ]
  },
  {
   "cell_type": "code",
   "execution_count": 15,
   "id": "a4ef24dc-cbe8-4656-b825-9dcef2e11f42",
   "metadata": {},
   "outputs": [
    {
     "name": "stdout",
     "output_type": "stream",
     "text": [
      "Filesystem      Size  Used Avail Use% Mounted on\n",
      "/dev/sdb         98G   22G   77G  22% /home/jupyter\n"
     ]
    }
   ],
   "source": [
    "!df -h ."
   ]
  },
  {
   "cell_type": "markdown",
   "id": "a53f13c3-6b62-4408-84d8-ebad27c2eedb",
   "metadata": {
    "tags": []
   },
   "source": [
    "### Test stand alone fasterq dump"
   ]
  },
  {
   "cell_type": "markdown",
   "id": "c5e261a3-54f4-4c30-8aee-4808afdc6251",
   "metadata": {},
   "source": [
    "Fasterq-dump is the replacement for the legacy fastq-dump tool (see below). You can read [this guide](https://github.com/ncbi/sra-tools/wiki/HowTo:-fasterq-dump) to see the full details on this tool. You can also run `fasterq-dump -h` to see most of the options"
   ]
  },
  {
   "cell_type": "code",
   "execution_count": 16,
   "id": "21894683",
   "metadata": {},
   "outputs": [
    {
     "name": "stdout",
     "output_type": "stream",
     "text": [
      "/home/jupyter/NIHCloudLabGCP/tutorials/notebooks/SRADownload/data/fasterqdump\n"
     ]
    }
   ],
   "source": [
    "cd data/fasterqdump/"
   ]
  },
  {
   "cell_type": "markdown",
   "id": "ea5f7b67",
   "metadata": {},
   "source": [
    "Fasterq dump doesn't run in batch mode, so one way to run a command on multiple samples is by using a for loop. There are many options you can explore, but here we are running -O for outdir, -e for the number of threads, -m for memory (4GB), and --location for the location we want to retrieve the file from. Depending on the type of cloud storage, it may be faster to select `NCBI` for the location. You may consider running a few tests with one or two of your accession numbers before downloading a whole batch. The default number of threads = 6, so adjust -e based on your machine size. For large files, you may also benefit from a machine type with more memory and/or threads. You may need to stop this VM, resize it, then restart and come back. Note that there are a bunch of ways to split your fastq files (defined [here](https://github.com/ncbi/sra-tools/wiki/HowTo:-fasterq-dump)) but the default of `split 3` will split into forward, reverse, and unpaired reads."
   ]
  },
  {
   "cell_type": "code",
   "execution_count": 19,
   "id": "96307376",
   "metadata": {},
   "outputs": [
    {
     "name": "stdout",
     "output_type": "stream",
     "text": [
      "spots read      : 11,748\n",
      "reads read      : 23,496\n",
      "reads written   : 23,496\n",
      "spots read      : 1,277,437\n",
      "reads read      : 2,554,874\n",
      "reads written   : 2,554,874\n",
      "spots read      : 1,388,190\n",
      "reads read      : 2,776,380\n",
      "reads written   : 2,776,380\n",
      "spots read      : 272,200\n",
      "reads read      : 544,400\n",
      "reads written   : 272,211\n",
      "reads 0-length  : 272,189\n",
      "spots read      : 644,160\n",
      "reads read      : 1,288,320\n",
      "reads written   : 1,288,320\n",
      "spots read      : 1,181,998\n",
      "reads read      : 2,363,996\n",
      "reads written   : 2,363,996\n",
      "spots read      : 13,614\n",
      "reads read      : 27,228\n",
      "reads written   : 27,228\n",
      "spots read      : 176\n",
      "reads read      : 352\n",
      "reads written   : 352\n",
      "spots read      : 451\n",
      "reads read      : 902\n",
      "reads written   : 902\n",
      "CPU times: user 2.46 s, sys: 497 ms, total: 2.95 s\n",
      "Wall time: 2min 30s\n"
     ]
    }
   ],
   "source": [
    "%%time\n",
    "!for x in `cat ../list_of_accesionIDS.txt`; do fasterq-dump -f -O raw_fastq -e 8 -m 4G --location GCP $x ; done"
   ]
  },
  {
   "cell_type": "markdown",
   "id": "d1a79c63-f42f-4db6-aa5d-ebdb6b0adbe0",
   "metadata": {},
   "source": [
    "### Test Prefetch with legacy fastq dump"
   ]
  },
  {
   "cell_type": "code",
   "execution_count": 9,
   "id": "4ef56c18-aafb-4edb-9731-cee9879299ed",
   "metadata": {},
   "outputs": [
    {
     "name": "stdout",
     "output_type": "stream",
     "text": [
      "/home/jupyter/NIHCloudLabGCP/tutorials/notebooks/SRADownload/data/prefetch_fastqdump\n"
     ]
    }
   ],
   "source": [
    "cd ../prefetch_fastqdump"
   ]
  },
  {
   "cell_type": "markdown",
   "id": "0d09f29f-f9c7-4774-91c5-411573c5e1e0",
   "metadata": {},
   "source": [
    "First run the prefetch tool. It will pull the compressed .sra files (ETL) files, which then need to be converted. You can also run prefetch with an explicit list of accessions, or feed in a text file with the `--option-file` command. Here we are running it with `-v` verbose. Play with the --location, switching between AWS, GCP, and NCBI, and see where it pulls the data from and you can also compare the times between locations. Also, these accessions are only stored on GCP. What happens if you put AWS as the location? "
   ]
  },
  {
   "cell_type": "code",
   "execution_count": null,
   "id": "707514c1-c94b-4152-a879-ff351b604c50",
   "metadata": {},
   "outputs": [],
   "source": [
    "%%time\n",
    "!prefetch --option-file ../list_of_accesionIDS.txt -O raw_fastq -f yes --location AWS -v"
   ]
  },
  {
   "cell_type": "markdown",
   "id": "1688a0ea-2039-42d9-a8cd-c43cef1948f6",
   "metadata": {},
   "source": [
    "Now we will use the legacy fastq dump tool to convert to fastq files. This is an older tool that uses single threads, so it will take a few minutes to convert the .sra files to fastq. See the full list of options by typing `fastq-dump -h`."
   ]
  },
  {
   "cell_type": "code",
   "execution_count": null,
   "id": "7b054fe0-7a3a-49ab-9b1a-df599568bf14",
   "metadata": {},
   "outputs": [],
   "source": [
    "%%time\n",
    "!for x in `cat ../list_of_accesionIDS.txt`; do fastq-dump -O raw_fastq --split-3 $x; done"
   ]
  },
  {
   "cell_type": "markdown",
   "id": "f2e26c03-eeb9-4340-89e7-1eb82c9e32bb",
   "metadata": {},
   "source": [
    "### Test Prefetch plus fasterq-dump"
   ]
  },
  {
   "cell_type": "markdown",
   "id": "00ef5310-539e-4d21-bd5d-05bf41986c47",
   "metadata": {},
   "source": [
    "Now are were going to do the same thing, but convert the ETL files using fasterq-dump. For this to work, you need to either give the path to the prefetch directories in your text file, or make sure you cd into the raw_fastq dir so that it can find those directories with the .sra files. In this case, --location GCP is a lot faster than NCBI, but feel free to run your own tests with different locations."
   ]
  },
  {
   "cell_type": "code",
   "execution_count": null,
   "id": "d9ffd3ab-f316-4e7b-b2b5-adbcb60bd95a",
   "metadata": {},
   "outputs": [],
   "source": [
    "cd ../prefetch_fasterqdump"
   ]
  },
  {
   "cell_type": "code",
   "execution_count": null,
   "id": "81e5fd57-2cb0-42f7-88c5-4f2f7ea4a1ea",
   "metadata": {},
   "outputs": [],
   "source": [
    "%%time\n",
    "!prefetch --option-file ../list_of_accesionIDS.txt -O raw_fastq -f yes --location GCP"
   ]
  },
  {
   "cell_type": "code",
   "execution_count": null,
   "id": "33084c1b-ee2a-40d3-b9b8-1b000af4884c",
   "metadata": {},
   "outputs": [],
   "source": [
    "cd raw_fastq/"
   ]
  },
  {
   "cell_type": "markdown",
   "id": "46289a05-9683-4832-9f6d-3c319e41831e",
   "metadata": {},
   "source": [
    "Here we won't specify a location since we are just converting the prefetch records"
   ]
  },
  {
   "cell_type": "code",
   "execution_count": null,
   "id": "fe02bb95-c9b0-494a-a187-c1b955f2788e",
   "metadata": {},
   "outputs": [],
   "source": [
    "%%time\n",
    "!for x in `cat ../../list_of_accesionIDS.txt`; do fasterq-dump -f -O raw_fastq -e 8 -m 4G $x; done"
   ]
  },
  {
   "cell_type": "code",
   "execution_count": null,
   "id": "a6703fae-2752-4717-93be-fd8d3e0b41d6",
   "metadata": {},
   "outputs": [],
   "source": [
    "!gsutil mb gs://cloud-lab-tutorials/"
   ]
  },
  {
   "cell_type": "markdown",
   "id": "22d262cb-d49f-4e33-b461-e4f5b9c778b7",
   "metadata": {},
   "source": [
    "### Copy data to a bucket\n",
    "Using `-m` allows multithreading, `-r` allows for recursive copy of a directory"
   ]
  },
  {
   "cell_type": "code",
   "execution_count": null,
   "id": "a17ff514-bbac-4974-afeb-9eb847ba857f",
   "metadata": {},
   "outputs": [],
   "source": [
    "!gsutil -m cp -r raw_fastq/*.fastq gs://cloud-lab-tutorials/raw_fastq/"
   ]
  },
  {
   "cell_type": "code",
   "execution_count": null,
   "id": "3d97b47b-830d-49ee-8add-c2c9fd4e41d4",
   "metadata": {},
   "outputs": [],
   "source": [
    "!gsutil ls gs://cloud-lab-tutorials/raw_fastq/"
   ]
  },
  {
   "cell_type": "markdown",
   "id": "33a6aca1-b403-47b9-99a3-bf597010c2dd",
   "metadata": {},
   "source": [
    "### Summary\n",
    "The easiest single command for downloading SRA files is to use fasterq dump, which accessess the ETL files and converts to Fastq/BAM all in one command. In our example, with 8 threads, this took about 2.5 minutes to download the data from GCP. If however, we first use prefetch to download the ETL files, then use fasterq dump to convert the files, the whole process takes about 20 seconds. Thus, the best solution is to run two commands, first prefetch, then faster dump. "
   ]
  },
  {
   "cell_type": "markdown",
   "id": "e8979484-117f-465d-b134-36372a8c8bfc",
   "metadata": {},
   "source": [
    "### Clean up\n",
    "Make sure you shut down this VM, or delete it if you don't plan to use if further."
   ]
  }
 ],
 "metadata": {
  "environment": {
   "kernel": "python3",
   "name": "common-cpu.m94",
   "type": "gcloud",
   "uri": "gcr.io/deeplearning-platform-release/base-cpu:m94"
  },
  "kernelspec": {
   "display_name": "Python 3",
   "language": "python",
   "name": "python3"
  },
  "language_info": {
   "codemirror_mode": {
    "name": "ipython",
    "version": 3
   },
   "file_extension": ".py",
   "mimetype": "text/x-python",
   "name": "python",
   "nbconvert_exporter": "python",
   "pygments_lexer": "ipython3",
   "version": "3.7.12"
  }
 },
 "nbformat": 4,
 "nbformat_minor": 5
}
