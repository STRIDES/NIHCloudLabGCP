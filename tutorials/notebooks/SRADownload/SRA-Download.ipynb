{
 "cells": [
  {
   "cell_type": "markdown",
   "id": "1651316c",
   "metadata": {},
   "source": [
    "# Download sequence data from the NCBI Sequence Read Archive (SRA)"
   ]
  },
  {
   "cell_type": "markdown",
   "id": "15022f97",
   "metadata": {},
   "source": [
    "## Overview\n",
    "\n",
    "DNA sequence data are typically deposited into the NCBI Sequence Read Archive, and can be accessed through the SRA website, or via command line tools called SRA Toolkit. Individual sequence entries are assigned an Accession ID, which can be used to find and download a particular file. For example, if you go to the [SRA database](https://www.ncbi.nlm.nih.gov/sra) in a browser window, and search for `SRX15695630`, you should see an entry for _C. elegans_. Here we are going to use tools from the SRA Toolkit to download a few fastq files, which can then be copied over to a cloud bucket."
   ]
  },
  {
   "cell_type": "markdown",
   "id": "3b500763",
   "metadata": {},
   "source": [
    "### 1) Download SRA data using SRA Toolkit"
   ]
  },
  {
   "cell_type": "markdown",
   "id": "01213dae",
   "metadata": {},
   "source": [
    "First, install dependencies, including mamba (you could also use conda). At the time of writing, the version of SRA tools available with the Anaconda distribution was v.2.11.0. If you want to install the latest version, download and install from [here](https://github.com/ncbi/sra-tools/wiki/01.-Downloading-SRA-Toolkit). If you do the direct install, you will also need to configure interactively following [this guide](https://github.com/ncbi/sra-tools/wiki/05.-Toolkit-Configuration), you can do that by opening a terminal and running the commands there."
   ]
  },
  {
   "cell_type": "code",
   "execution_count": null,
   "id": "2fd7a16a",
   "metadata": {},
   "outputs": [],
   "source": [
    "!curl -L -O https://github.com/conda-forge/miniforge/releases/latest/download/Mambaforge-$(uname)-$(uname -m).sh\n",
    "!bash Mambaforge-$(uname)-$(uname -m).sh -b -p $HOME/mambaforge"
   ]
  },
  {
   "cell_type": "code",
   "execution_count": null,
   "id": "8f7e349b",
   "metadata": {},
   "outputs": [],
   "source": [
    "!~/mambaforge/bin/mamba install -c bioconda -c conda-forge sra-tools==2.11.0 -y"
   ]
  },
  {
   "cell_type": "markdown",
   "id": "b8c010c2",
   "metadata": {},
   "source": [
    "Test that your install works and that fasterq-dump is available in your path"
   ]
  },
  {
   "cell_type": "code",
   "execution_count": null,
   "id": "6e507538",
   "metadata": {},
   "outputs": [],
   "source": [
    "!fasterq-dump -h"
   ]
  },
  {
   "cell_type": "code",
   "execution_count": null,
   "id": "03a062c8-70c4-4686-96c3-54f038081a90",
   "metadata": {},
   "outputs": [],
   "source": [
    "cd ~/NIHCloudLabGCP/tutorials/notebooks/SRADownload/"
   ]
  },
  {
   "cell_type": "markdown",
   "id": "f94e4215",
   "metadata": {},
   "source": [
    "Set up your directory structure for the raw fastq data"
   ]
  },
  {
   "cell_type": "code",
   "execution_count": null,
   "id": "9aa93698-a082-4c11-9d48-0abe775fbcc5",
   "metadata": {},
   "outputs": [],
   "source": [
    "!mkdir -p data data/fasterqdump/raw_fastq data/ipyrad/raw_fastq data/prefetch_fastqdump/raw_fastq data/prefetch_fasterqdump/raw_fastq"
   ]
  },
  {
   "cell_type": "markdown",
   "id": "b068c9da-7814-4b24-9ff8-12473048bdcf",
   "metadata": {},
   "source": [
    "### Create Accession list and figure out how much space you need on your system"
   ]
  },
  {
   "cell_type": "markdown",
   "id": "bc30c134-c903-4605-82d4-babdaaae30c0",
   "metadata": {},
   "source": [
    "Here we will download nine fastq files of SARS-CoV-2. You will need a list of accession IDs to download, which you can find these from papers or by searching SRA directly."
   ]
  },
  {
   "cell_type": "code",
   "execution_count": 17,
   "id": "8e3a7b7a-8094-41f8-9772-ab6cf2f91958",
   "metadata": {},
   "outputs": [
    {
     "name": "stdout",
     "output_type": "stream",
     "text": [
      "SRR14086881\n",
      "SRR14086882\n",
      "SRR14086883\n",
      "SRR14086884\n",
      "SRR14086885\n",
      "SRR14086886\n",
      "SRR14086887\n",
      "SRR14086888\n",
      "SRR14086889\n"
     ]
    }
   ],
   "source": [
    "!for i in {1..9}; do echo \"SRR1408688$i\"; done > ../list_of_accesionIDS.txt\n",
    "!cat ../list_of_accesionIDS.txt"
   ]
  },
  {
   "cell_type": "markdown",
   "id": "184d887d-d937-483f-8b0e-f176287d4464",
   "metadata": {},
   "source": [
    "Let's get the info for one of those accession numbers"
   ]
  },
  {
   "cell_type": "code",
   "execution_count": 1,
   "id": "bc07d618-09a3-4611-a453-a193dee70fa6",
   "metadata": {},
   "outputs": [
    {
     "name": "stdout",
     "output_type": "stream",
     "text": [
      "acc    : SRR14086881\n",
      "path   : https://storage.googleapis.com/nih-sequence-read-archive/run/SRR14086881/SRR14086881\n",
      "size   : 2,328,919\n",
      "type   : Database\n",
      "platf  : SRA_PLATFORM_ILLUMINA\n",
      "SEQ    : 11,748\n",
      "SCHEMA : NCBI:align:db:alignment_sorted#1.3\n",
      "TIME   : 0x00000000605f7719 (03/27/2021 18:19)\n",
      "FMT    : FASTQ\n",
      "FMTVER : 2.9.1\n",
      "LDR    : latf-load.2.9.1\n",
      "LDRVER : 2.9.1\n",
      "LDRDATE: Jun 15 2018 (6/15/2018 0:0)\n"
     ]
    }
   ],
   "source": [
    "!vdb-dump --info SRR14086881"
   ]
  },
  {
   "cell_type": "markdown",
   "id": "97755b97-d09a-4cda-8511-1d47aa2d3fe9",
   "metadata": {},
   "source": [
    "`Path` shows us the location. In this case the data are on GCP, but some files are on AWS, some on-prem, and others in multiple places.\n",
    "`Size` shows us the size of the compressed file in bites. You should plan to have about 10x that size available on your system, so to get a rough estimate of the space you need, just look at a few files, convert to MB/GB, then multiply by the number of accessions. In this case, are are converting the .sra file to forward and reverse files equal to ~4MB each."
   ]
  },
  {
   "cell_type": "markdown",
   "id": "3ea57c83-7200-472e-852f-4c363b91341b",
   "metadata": {},
   "source": [
    "Check the amount of space on your VM, if it is not enough, then stop the machine, resize it, and come back to here. "
   ]
  },
  {
   "cell_type": "code",
   "execution_count": null,
   "id": "a4ef24dc-cbe8-4656-b825-9dcef2e11f42",
   "metadata": {},
   "outputs": [],
   "source": [
    "!df -h ."
   ]
  },
  {
   "cell_type": "markdown",
   "id": "a53f13c3-6b62-4408-84d8-ebad27c2eedb",
   "metadata": {
    "tags": []
   },
   "source": [
    "### Test stand alone fasterq dump"
   ]
  },
  {
   "cell_type": "markdown",
   "id": "c5e261a3-54f4-4c30-8aee-4808afdc6251",
   "metadata": {},
   "source": [
    "Fasterq-dump is the replacement for the legacy fastq-dump tool (see below). You can read [this guide](https://github.com/ncbi/sra-tools/wiki/HowTo:-fasterq-dump) to see the full details on this tool. You can also run `fasterq-dump -h` to see most of the options"
   ]
  },
  {
   "cell_type": "code",
   "execution_count": null,
   "id": "21894683",
   "metadata": {},
   "outputs": [],
   "source": [
    "cd data/fasterqdump/"
   ]
  },
  {
   "cell_type": "markdown",
   "id": "ea5f7b67",
   "metadata": {},
   "source": [
    "Fasterq dump doesn't run in batch mode, so one way to run a command on multiple samples is by using a for loop. There are many options you can explore, but here we are running -O for outdir, -e for the number of threads, -m for memory (4GB), and --location for the location we want to retrieve the file from. Depending on the type of cloud storage, it may be faster to select `NCBI` for the location. You may consider running a few tests with one or two of your accession numbers before downloading a whole batch. The default number of threads = 6, so adjust -e based on your machine size. For large files, you may also benefit from a machine type with more memory and/or threads. You may need to stop this VM, resize it, then restart and come back. Note that there are a bunch of ways to split your fastq files (defined [here](https://github.com/ncbi/sra-tools/wiki/HowTo:-fasterq-dump)) but the default of `split 3` will split into forward, reverse, and unpaired reads."
   ]
  },
  {
   "cell_type": "code",
   "execution_count": null,
   "id": "357ee482-5a1c-4682-b580-d59d9feb1bfd",
   "metadata": {},
   "outputs": [],
   "source": [
    "ls"
   ]
  },
  {
   "cell_type": "code",
   "execution_count": null,
   "id": "6be19bb4-5ee0-4f77-8fe4-8484f6f5bc2b",
   "metadata": {},
   "outputs": [],
   "source": [
    "!sudo rm -r *"
   ]
  },
  {
   "cell_type": "code",
   "execution_count": null,
   "id": "96307376",
   "metadata": {},
   "outputs": [],
   "source": [
    "%%time\n",
    "!for x in `cat ../list_of_accesionIDS.txt`; do fasterq-dump -f -O raw_fastq -e 8 -m 4G --location GCP $x ; done"
   ]
  },
  {
   "cell_type": "markdown",
   "id": "d1a79c63-f42f-4db6-aa5d-ebdb6b0adbe0",
   "metadata": {},
   "source": [
    "### Test Prefetch with legacy fastq dump"
   ]
  },
  {
   "cell_type": "code",
   "execution_count": null,
   "id": "4ef56c18-aafb-4edb-9731-cee9879299ed",
   "metadata": {},
   "outputs": [],
   "source": [
    "cd ../prefetch_fastqdump"
   ]
  },
  {
   "cell_type": "markdown",
   "id": "0d09f29f-f9c7-4774-91c5-411573c5e1e0",
   "metadata": {},
   "source": [
    "First run the prefetch tool. It will pull the compressed .sra files (ETL) files, which then need to be converted. You can also run prefetch with an explicit list of accessions, or feed in a text file with the `--option-file` command. Here we are running it with `-v` verbose. Play with the --location, switching between AWS, GCP, and NCBI, and see where it pulls the data from and you can also compare the times between locations. Also, these accessions are only stored on GCP. What happens if you put AWS as the location? "
   ]
  },
  {
   "cell_type": "code",
   "execution_count": null,
   "id": "707514c1-c94b-4152-a879-ff351b604c50",
   "metadata": {},
   "outputs": [],
   "source": [
    "%%time\n",
    "!prefetch --option-file ../list_of_accesionIDS.txt -O raw_fastq -f yes --location AWS -v"
   ]
  },
  {
   "cell_type": "markdown",
   "id": "1688a0ea-2039-42d9-a8cd-c43cef1948f6",
   "metadata": {},
   "source": [
    "Now we will use the legacy fastq dump tool to convert to fastq files. This is an older tool that uses single threads, so it will take a few minutes to convert the .sra files to fastq. See the full list of options by typing `fastq-dump -h`."
   ]
  },
  {
   "cell_type": "code",
   "execution_count": null,
   "id": "7b054fe0-7a3a-49ab-9b1a-df599568bf14",
   "metadata": {},
   "outputs": [],
   "source": [
    "%%time\n",
    "!for x in `cat ../list_of_accesionIDS.txt`; do fastq-dump -O raw_fastq --split-3 $x; done"
   ]
  },
  {
   "cell_type": "markdown",
   "id": "f2e26c03-eeb9-4340-89e7-1eb82c9e32bb",
   "metadata": {},
   "source": [
    "### Test Prefetch plus fasterq-dump"
   ]
  },
  {
   "cell_type": "markdown",
   "id": "00ef5310-539e-4d21-bd5d-05bf41986c47",
   "metadata": {},
   "source": [
    "Now are were going to do the same thing, but convert the ETL files using fasterq-dump. For this to work, you need to either give the path to the prefetch directories in your text file, or make sure you cd into the raw_fastq dir so that it can find those directories with the .sra files. In this case, --location GCP is a lot faster than NCBI, but feel free to run your own tests with different locations."
   ]
  },
  {
   "cell_type": "code",
   "execution_count": null,
   "id": "d9ffd3ab-f316-4e7b-b2b5-adbcb60bd95a",
   "metadata": {},
   "outputs": [],
   "source": [
    "cd ../prefetch_fasterqdump"
   ]
  },
  {
   "cell_type": "code",
   "execution_count": null,
   "id": "81e5fd57-2cb0-42f7-88c5-4f2f7ea4a1ea",
   "metadata": {},
   "outputs": [],
   "source": [
    "%%time\n",
    "!prefetch --option-file ../list_of_accesionIDS.txt -O raw_fastq -f yes --location GCP"
   ]
  },
  {
   "cell_type": "code",
   "execution_count": null,
   "id": "33084c1b-ee2a-40d3-b9b8-1b000af4884c",
   "metadata": {},
   "outputs": [],
   "source": [
    "cd raw_fastq/"
   ]
  },
  {
   "cell_type": "markdown",
   "id": "46289a05-9683-4832-9f6d-3c319e41831e",
   "metadata": {},
   "source": [
    "Here we won't specify a location since we are just converting the prefetch records"
   ]
  },
  {
   "cell_type": "code",
   "execution_count": null,
   "id": "fe02bb95-c9b0-494a-a187-c1b955f2788e",
   "metadata": {},
   "outputs": [],
   "source": [
    "%%time\n",
    "!for x in `cat ../../list_of_accesionIDS.txt`; do fasterq-dump -f -O raw_fastq -e 8 -m 4G $x; done"
   ]
  },
  {
   "cell_type": "code",
   "execution_count": null,
   "id": "a6703fae-2752-4717-93be-fd8d3e0b41d6",
   "metadata": {},
   "outputs": [],
   "source": [
    "!gsutil mb gs://cloud-lab-tutorials/"
   ]
  },
  {
   "cell_type": "markdown",
   "id": "22d262cb-d49f-4e33-b461-e4f5b9c778b7",
   "metadata": {},
   "source": [
    "### Copy data to a bucket\n",
    "Using `-m` allows multithreading, `-r` allows for recursive copy of a directory"
   ]
  },
  {
   "cell_type": "code",
   "execution_count": null,
   "id": "a17ff514-bbac-4974-afeb-9eb847ba857f",
   "metadata": {},
   "outputs": [],
   "source": [
    "!gsutil -m cp -r raw_fastq/*.fastq gs://cloud-lab-tutorials/raw_fastq/"
   ]
  },
  {
   "cell_type": "code",
   "execution_count": null,
   "id": "3d97b47b-830d-49ee-8add-c2c9fd4e41d4",
   "metadata": {},
   "outputs": [],
   "source": [
    "!gsutil ls gs://cloud-lab-tutorials/raw_fastq/"
   ]
  },
  {
   "cell_type": "markdown",
   "id": "33a6aca1-b403-47b9-99a3-bf597010c2dd",
   "metadata": {},
   "source": [
    "### Summary\n",
    "The easiest single command for downloading SRA files is to use fasterq dump, which accessess the ETL files and converts to Fastq/BAM all in one command. In our example, with 8 threads, this took about 2.5 minutes to download the data from GCP. If however, we first use prefetch to download the ETL files, then use fasterq dump to convert the files, the whole process takes about 20 seconds. Thus, the best solution is to run two commands, first prefetch, then faster dump. "
   ]
  },
  {
   "cell_type": "markdown",
   "id": "e8979484-117f-465d-b134-36372a8c8bfc",
   "metadata": {},
   "source": [
    "### Clean up\n",
    "Make sure you shut down this VM, or delete it if you don't plan to use if further."
   ]
  }
 ],
 "metadata": {
  "environment": {
   "kernel": "python3",
   "name": "common-cpu.m94",
   "type": "gcloud",
   "uri": "gcr.io/deeplearning-platform-release/base-cpu:m94"
  },
  "kernelspec": {
   "display_name": "Python 3",
   "language": "python",
   "name": "python3"
  },
  "language_info": {
   "codemirror_mode": {
    "name": "ipython",
    "version": 3
   },
   "file_extension": ".py",
   "mimetype": "text/x-python",
   "name": "python",
   "nbconvert_exporter": "python",
   "pygments_lexer": "ipython3",
   "version": "3.7.12"
  }
 },
 "nbformat": 4,
 "nbformat_minor": 5
}
