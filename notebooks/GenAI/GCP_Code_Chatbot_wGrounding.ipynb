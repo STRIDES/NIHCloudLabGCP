{
 "cells": [
  {
   "cell_type": "markdown",
   "id": "b933835b-f49b-4571-88a7-a1bc39012769",
   "metadata": {},
   "source": [
    "# Google Cloud Code ChatBot with Grounding\n",
    "\n",
    "## Overview\n",
    "In this tutorial, we'll build a chatbot that utilizes data from a datastore that contains URLs relating to Snakemake information as its source. Grounding in this context means ensuring that the model's responses are strictly based on the information available on the website. The data store, which contains information from publicly indexed websites using a web crawler, allows you to specify domains and configure search or recommendation features based on the data collected from these sites. Grounding is a component of RAG but in this example, it operates at a higher level by the model assuming the information it already knows is not completely accurate. This ensures that the model fully depends on the data source for its responses. In turn, this helps RAG enhance the quality and accuracy of text generation by incorporating relevant information from external knowledge sources. For additional details on Agent Builder grounding, please refer to the __[GCP_Grounding](https://github.com/STRIDES/NIHCloudLabGCP/blob/main/notebooks/GenAI/GCP_Grounding.ipynb)__ tutorial. \n",
    "\n",
    "## Learning objectives\n",
    "- Learn to create a search app in Agent Builder.\n",
    "- Learn to create a Website data store.\n",
    "- Learn to use an Agent Builder grounding.\n",
    "                       \n",
    "## Prerequisites\n",
    "You must have enabled the Vertex AI, Compute Engine, and Agent Builder APIs.\n",
    "\n",
    "## Pricing \n",
    "__[Google Cloud Pricing Calculator](https://cloud.google.com/products/calculator?hl=en)__ <br>\n",
    "$0.80 per month based on:<br>\n",
    "Search Enterprise Edition. Number of requests per month = 100<br>\n",
    "Search LLM Add-On. Number of requests per month = 100<br>\n",
    "Data Index. Amount of GiB indexed per month = 5<br>\n",
    "\n",
    "## Get started\n",
    "\n",
    "### Create a search app\n",
    "\n",
    "As the __[GCP_Grounding](https://github.com/STRIDES/NIHCloudLabGCP/blob/main/notebooks/GenAI/GCP_Grounding.ipynb)__ tutorial explains, we need to create an Application under the 'Agent Builder' on the console. Start by searching up 'Agent Builder' on the console."
   ]
  },
  {
   "cell_type": "markdown",
   "id": "f188bf06-2350-4baf-9e2a-915814288269",
   "metadata": {},
   "source": [
    "![Agent_builder](../../images/1_chatbot_grounding.png)"
   ]
  },
  {
   "cell_type": "markdown",
   "id": "2a1588ce-2e85-4761-8137-98985fbc5fd1",
   "metadata": {},
   "source": [
    "Once you open Agent Builder click on 'CREATE APP' to get started."
   ]
  },
  {
   "cell_type": "markdown",
   "id": "ce2cdbf4-c8dc-4020-b6b0-81238e1c10e0",
   "metadata": {},
   "source": [
    "![create_app](../../images/2_chatbot_grounding.png)"
   ]
  },
  {
   "cell_type": "markdown",
   "id": "dce20025-baf0-40f7-8d75-c5433f323237",
   "metadata": {},
   "source": [
    "Click on __\"SELECT\"__ to select an app Search type."
   ]
  },
  {
   "cell_type": "markdown",
   "id": "30f25f07-3846-45d3-901b-981d18686a1d",
   "metadata": {},
   "source": [
    "![select](../../images/3_chatbot_grounding.png)"
   ]
  },
  {
   "cell_type": "markdown",
   "id": "c0757b89-94d7-4218-9a4f-99d6f5c8c031",
   "metadata": {},
   "source": [
    "The process of creating an application involves three steps: Type, Configuration, and Data. To set up the Search app configuration, choose the __\"Generic\"__ content option, enable both the __'Enterprise edition features'__ and __'Advanced LLM features'__, and then provide the application name along with the company or organization name."
   ]
  },
  {
   "cell_type": "markdown",
   "id": "0123a946-7424-47b2-b9db-00b09e2f931c",
   "metadata": {},
   "source": [
    "![configuration](../../images/4_chatbot_grounding.png)"
   ]
  },
  {
   "cell_type": "markdown",
   "id": "682ec6c3-7445-41ab-b75a-f76428568fdd",
   "metadata": {},
   "source": [
    "The next step is to create the data store. Click on __'CREATE DATA STORE'__ to proceed."
   ]
  },
  {
   "cell_type": "markdown",
   "id": "763feba4-3e3a-4208-9896-5d82bf999b27",
   "metadata": {},
   "source": [
    "![data](../../images/6_chatbot_grounding.png)"
   ]
  },
  {
   "cell_type": "markdown",
   "id": "5ffbd87b-aaa1-4676-9b54-1c216ecb2d8e",
   "metadata": {},
   "source": [
    "Since we will use Snakemake URLs to extract information for our application, select __'Website Content'__."
   ]
  },
  {
   "cell_type": "markdown",
   "id": "1dd57106-ccf0-488c-97fc-e773765884c9",
   "metadata": {},
   "source": [
    "![website](../../images/7_chatbot_grounding.png)"
   ]
  },
  {
   "cell_type": "markdown",
   "id": "051472e5-7a14-4d59-a26f-3d0d8068dd37",
   "metadata": {},
   "source": [
    "Selecting __'Website Content'__ will prompt you to enter a list of URLs and specify any sites to exclude. It is important to note that all the subdirectories of a domain can be extracted adding at the end of the URL a '__/*__'. i.e. in our case, we are extracting all the following webpages:\n",
    "```\n",
    "https://evodify.com/rna-seq-star-snakemake/*\n",
    "https://github.com/twbattaglia/RNAseq-workflow/*\n",
    "https://snakemake.readthedocs.io/en/stable/*\n",
    "https://snakemake.readthedocs.io/en/v4.5.0/*\n",
    "https://www.bioinformatics.babraham.ac.uk/training/Advanced_Python_Manual.docx\n",
    "https://www.cd-genomics.com/genomics.html/*\n",
    "https://www.cd-genomics.com/rna-seq-transcriptome.html/*\n",
    "```\n",
    "__Note:__ Make sure that 'Advanced website indexing' is __unchecked__. If the 'Advanced website indexing' option is enabled, you may encounter issues with grounding later on, as this option is intended for webpages owned by the user. For public webpages, ensure this option is disabled."
   ]
  },
  {
   "cell_type": "markdown",
   "id": "bb22e50f-fd47-46e4-b20a-5da96e096e03",
   "metadata": {},
   "source": [
    "![website_settings](../../images/8_chatbot_grounding.png)"
   ]
  },
  {
   "cell_type": "markdown",
   "id": "a8783fdc-d785-46ac-be62-7a6eedaee89c",
   "metadata": {},
   "source": [
    "As the final step, you need to assign a name to the data store and click __\"CREATE\"__."
   ]
  },
  {
   "cell_type": "markdown",
   "id": "933fae68-888d-40f4-b21f-281c7cee0bcc",
   "metadata": {},
   "source": [
    "![datastore_name](../../images/9_chatbot_grounding.png)"
   ]
  },
  {
   "cell_type": "markdown",
   "id": "412d1a4a-e504-4cd0-b7b3-4316bfe93c50",
   "metadata": {},
   "source": [
    "Be sure to copy and save the __'Data Store ID__,' as it will be needed later to configure the grounding tool."
   ]
  },
  {
   "cell_type": "markdown",
   "id": "adfe0682-195e-43e7-8418-165ea4de370d",
   "metadata": {},
   "source": [
    "![datastore_id](../../images/10_chatbot_grounding.png)"
   ]
  },
  {
   "cell_type": "markdown",
   "id": "9f692f25-8257-4e80-b3ea-06807ec83163",
   "metadata": {},
   "source": [
    "Once the application is created, the next step is to set up the chatbot. To do this, click on the three-line \"hamburger\" icon in the upper left corner of the window to view all available GCP products. Then, select __'Vertex AI'__  then under Vertex AI Studio select __'Chat'__. "
   ]
  },
  {
   "cell_type": "markdown",
   "id": "d7442aa8-c867-4716-b29e-7f9597b4b592",
   "metadata": {},
   "source": [
    "![chat](../../images/12_chatbot_grounding.png)"
   ]
  },
  {
   "cell_type": "markdown",
   "id": "01130517-3265-4b85-a4ae-076d696da20f",
   "metadata": {},
   "source": [
    "Vertex AI Studio's Chat shows a preview of a few prompt templates, you can view the rest by browsing through the prompt gallery. You can also edit the chat's system instructions which will allow you to guide the model's behavior according to their specific needs and use cases. By setting a system instruction, you provide the model with extra context, enabling it to better understand the task, deliver more tailored responses, and follow specific guidelines throughout the entire interaction. To do this, click on __Edit__ in the top right corner."
   ]
  },
  {
   "cell_type": "markdown",
   "id": "5007662b-149b-48e3-8b17-2bcc93f17638",
   "metadata": {},
   "source": [
    "![conversation](../../images/13_chatbot_grounding.png)"
   ]
  },
  {
   "cell_type": "markdown",
   "id": "dbe57e29-0741-4156-bbab-1a313748fb22",
   "metadata": {},
   "source": [
    "The next step is to select the parameters that we want to be used for our model, select the __'Ground model responses'__ toggle and then __'Customize'__. To learn specifically about Grounding, you can review the __[GCP_Grounding](https://github.com/STRIDES/NIHCloudLabGCP/blob/main/notebooks/GenAI/GCP_Grounding.ipynb)__ tutorial.  "
   ]
  },
  {
   "cell_type": "markdown",
   "id": "49ca41d4-4e77-4175-8002-07732a10b92e",
   "metadata": {},
   "source": [
    "![parameters](../../images/14_chatbot_grounding.png)"
   ]
  },
  {
   "cell_type": "markdown",
   "id": "6e1465d4-1ebf-46b9-8635-7c2722293eb9",
   "metadata": {},
   "source": [
    "Select __'Vertex AI search'__ as the grounding source, and in the __'Vertex AI datastore path'__ field, input the project ID, location, collections, and datastore ID in this format: __'projects/{PROJECT_ID}/locations/global/collections/default_collection/dataStores/{DATA_STORE_ID}'__. Once you've entered the required information, simply click save."
   ]
  },
  {
   "cell_type": "markdown",
   "id": "456dee67-cd6a-4270-9191-017980d88d35",
   "metadata": {},
   "source": [
    "![vertex_ai](../../images/15_chatbot_grounding.png)"
   ]
  },
  {
   "cell_type": "markdown",
   "id": "124b324f-f513-447c-8f0f-fba69fbb20e4",
   "metadata": {},
   "source": [
    "If you submit a prompt to the chatbot and receive an error, it's likely that the Vertex AI datastore path is incorrect. Once you have the correct path to connect the ChatBot to the datastore, you can prompt the application with questions related to the specific domain information stored in the datastore. \n",
    "\n",
    "In our case, we asked for a conversion of a short Python script to Snakemake code. "
   ]
  },
  {
   "cell_type": "markdown",
   "id": "3d8fc6e0-ecd3-47ca-b923-958f894a0455",
   "metadata": {},
   "source": [
    "As an example, the following Python script is used to be converted into Snakemake code:\n",
    "\n",
    "```\n",
    "from collections import Counter\n",
    "\n",
    "def count_nucleotides(dna_sequence):  #Counts the frequency of each nucleotide in a DNA sequence\n",
    "    return Counter(dna_sequence)\n",
    "    \n",
    "dna = \"ATGCATGCATGCATGC\"\n",
    "\n",
    "counts = count_nucleotides(dna)\n",
    "print(counts)\n",
    "\n",
    "```\n"
   ]
  },
  {
   "cell_type": "markdown",
   "id": "d7c95cdf-e88e-429b-a68b-c3b9635c8666",
   "metadata": {},
   "source": [
    "![prompt](../../images/16_chatbot_grounding.png)"
   ]
  },
  {
   "cell_type": "markdown",
   "id": "86f08351-2ad4-45a5-9805-3c17ded195a4",
   "metadata": {},
   "source": [
    "In this particular case, the prompt is requesting to the application to convert a simple one-line Bash script to Snakemake. "
   ]
  },
  {
   "cell_type": "markdown",
   "id": "3043ed47-05b6-4caa-a6ad-43e933717849",
   "metadata": {},
   "source": [
    "Prompt: Would you convert the following Bash script to Snakemake?:\n",
    "\n",
    "```\n",
    "#!/usr/bin/env bash \n",
    "\n",
    "fastqc -t 23 *.fastq.gz -o /path/to/output/dir && multiqc /path/to/output/dir -o /path/to/output/dir\n",
    "```"
   ]
  },
  {
   "cell_type": "markdown",
   "id": "b4f822e4-46ca-4b0a-bda6-01cb13dd3fe5",
   "metadata": {},
   "source": [
    "![prompt02](../../images/17_chatbot_grounding.png)"
   ]
  },
  {
   "cell_type": "markdown",
   "id": "f34b940b-d800-437f-8056-b9d621ddc8d7",
   "metadata": {},
   "source": [
    "## Conclusion\n",
    "\n",
    "You have learned how to create a Website data store using the Agent Builder and Grounding in Vertex AI Studio. Additionally, you now understand the key parameters needed to properly configure grounding for accurate information extraction from the Website data store."
   ]
  },
  {
   "cell_type": "markdown",
   "id": "69c4bee3-f700-4cd0-9630-08a444c2ea07",
   "metadata": {},
   "source": [
    "## Clean Up\n",
    "\n",
    "Please remember to delete or stop your Jupyter notebook and delete your data store and search app on Agent Builder to prevent incurring charges. And if you have created any other services like buckets, please remember to delete them as well."
   ]
  },
  {
   "cell_type": "code",
   "execution_count": null,
   "id": "757a159b-5550-4965-a249-0e16753a9b76",
   "metadata": {},
   "outputs": [],
   "source": []
  }
 ],
 "metadata": {},
 "nbformat": 4,
 "nbformat_minor": 5
}
