{
 "cells": [
  {
   "cell_type": "markdown",
   "id": "9551cc2f-a5b5-4fc5-a864-2fc731f2c310",
   "metadata": {},
   "source": [
    "# Google Cloud Grounding (RAG on the console)"
   ]
  },
  {
   "cell_type": "markdown",
   "id": "5d9b6b51-5481-436c-8d0f-541c5dc9fee3",
   "metadata": {},
   "source": [
    "## Overview"
   ]
  },
  {
   "cell_type": "markdown",
   "id": "fbb045c4-b33f-4499-8d3d-c8545206e3ac",
   "metadata": {},
   "source": [
    "Google Cloud's [Grounding](https://cloud.google.com/vertex-ai/generative-ai/docs/grounding/overview) feature is designed to improve the accuracy and relevance of search results by understanding the context of your search query and the information presented on web pages or your own data via the console. a data store which will be created in another Google Cloud product called [AI Applications](https://cloud.google.com/products/agent-builder?hl=en)."
   ]
  },
  {
   "cell_type": "markdown",
   "id": "4e863bd8-8bbe-4226-bd7d-298303efaa84",
   "metadata": {},
   "source": [
    "## Learning objectives"
   ]
  },
  {
   "cell_type": "markdown",
   "id": "bee49850-f4be-4d69-84f7-1492d5e2d23d",
   "metadata": {},
   "source": [
    "- Learn how to create a data source and search app in Agent Builder\n",
    "- Learn how to implement the search app on the Vertex AI Studio playground"
   ]
  },
  {
   "cell_type": "markdown",
   "id": "107349df-4541-4f70-b5cb-8ea50811e759",
   "metadata": {},
   "source": [
    "## Prerequisites"
   ]
  },
  {
   "cell_type": "markdown",
   "id": "f7456c7a-a3c8-427e-acdc-5c446d05871d",
   "metadata": {},
   "source": [
    "You must have enabled the Vertex AI, Compute Engine, and Agent Builder APIs."
   ]
  },
  {
   "cell_type": "markdown",
   "id": "8048ee93-3ee5-4d83-8039-685da38558f5",
   "metadata": {},
   "source": [
    "## Get started"
   ]
  },
  {
   "cell_type": "markdown",
   "id": "6b89e7d4-bbf8-4ce9-890e-4ff9f17b4610",
   "metadata": {},
   "source": [
    "### Create a Data Store"
   ]
  },
  {
   "cell_type": "markdown",
   "id": "2322c0da-1554-47c9-9e27-2732beda35dd",
   "metadata": {},
   "source": [
    "First we'll create a data store that will allow us to connect a specific data source. Navigate to `AI Applications` > `Data Stores` > `Create Data Store`. "
   ]
  },
  {
   "cell_type": "markdown",
   "id": "7895ddda-5775-43b6-a723-7088c9b69ecb",
   "metadata": {},
   "source": [
    "![grounding4](../../images/grounding_4.png)"
   ]
  },
  {
   "cell_type": "markdown",
   "id": "ccd0d718-eb6f-43b3-afe1-ec56d8108ef3",
   "metadata": {},
   "source": [
    "As you can see from the image below Google Cloud's Agent builder supports the following data sources but for this tutorial we will use **'Cloud Storage'** as our data source."
   ]
  },
  {
   "cell_type": "markdown",
   "id": "b39671ac-7729-4581-be26-bf9458898cef",
   "metadata": {},
   "source": [
    "![grounding5](../../images/grounding_5.png)"
   ]
  },
  {
   "cell_type": "markdown",
   "id": "1df54267-b65c-44cd-a869-9723b7302771",
   "metadata": {},
   "source": [
    "For this tutorial we'll select our data as unstructured but it also supports structured data in CSVs format. Next choose your bucket and click **'CONTINUE'**."
   ]
  },
  {
   "cell_type": "markdown",
   "id": "74e88355-7146-44a5-b30d-9907676dbb02",
   "metadata": {},
   "source": [
    "![grounding6](../../images/Grounding_new02.png)"
   ]
  },
  {
   "cell_type": "markdown",
   "id": "332994e1-1bb8-476e-bbb0-28a1169e86b7",
   "metadata": {},
   "source": [
    "Configure your data store by giving it a name and make sure you have set your location to **global**. And Select `Create`. "
   ]
  },
  {
   "cell_type": "markdown",
   "id": "a3cd7fc3-01d4-4fa0-bde3-801ac4357545",
   "metadata": {},
   "source": [
    "![grounding7](../../images/grounding_7.png)"
   ]
  },
  {
   "cell_type": "markdown",
   "id": "d4002baa-ae55-492f-b9d8-e9729a872db8",
   "metadata": {},
   "source": [
    "Make sure you **copy the data store ID** so we can use it later."
   ]
  },
  {
   "cell_type": "markdown",
   "id": "ef5326da-e8bb-4e7e-bd15-12dc089c680e",
   "metadata": {},
   "source": [
    "![grounding10](../../images/grounding_10.png)"
   ]
  },
  {
   "cell_type": "markdown",
   "id": "a7668425-14f8-42ce-a115-e5cba868e1c1",
   "metadata": {},
   "source": [
    "### Set up grounding on Vertex AI Studio"
   ]
  },
  {
   "cell_type": "markdown",
   "id": "369c112d-2376-43fa-9552-9498479be9fd",
   "metadata": {},
   "source": [
    "On the console go to Vertex AI and head down to Vertex AI and Click on Create Prompt. "
   ]
  },
  {
   "cell_type": "markdown",
   "id": "8c971978-4925-427c-900c-0e8a996c0c91",
   "metadata": {},
   "source": [
    "![grounding11](../../images/create-prompt.jpeg)"
   ]
  },
  {
   "cell_type": "markdown",
   "id": "5566af32-8ae4-42e2-8a03-cb2af69a6e60",
   "metadata": {},
   "source": [
    "On the right side menu select **'Enable Grounding'** then click **'CUSTOMIZE'**."
   ]
  },
  {
   "cell_type": "markdown",
   "id": "a6d893bd-4377-491d-ab34-760b6128a876",
   "metadata": {},
   "source": [
    "![grounding11](../../images/grounding_12.png)"
   ]
  },
  {
   "cell_type": "markdown",
   "id": "858329e8-aa1c-4472-8683-b521ab837a82",
   "metadata": {},
   "source": [
    "Enter in you project ID and data store ID below."
   ]
  },
  {
   "cell_type": "code",
   "execution_count": null,
   "id": "f7107b36-061c-4073-8e47-3a399273577a",
   "metadata": {},
   "outputs": [],
   "source": [
    "PROJECT_ID = '<PROJECT_ID>'\n",
    "DATA_STORE_ID = '<DATA_STORE_ID>'"
   ]
  },
  {
   "cell_type": "markdown",
   "id": "cff20cf3-86b2-4fdb-9b95-c5e645126f40",
   "metadata": {},
   "source": [
    "Run the print command below to copy the path to your data store and enter it as the **Vertex AI datastore path**. Make sure your **grounding source is Vertex AI search** and click **'SAVE'**.\n"
   ]
  },
  {
   "cell_type": "code",
   "execution_count": null,
   "id": "04dac266-90ec-49e3-aa7c-9fd63d25a89b",
   "metadata": {},
   "outputs": [],
   "source": [
    "print(f'projects/{PROJECT_ID}/locations/global/collections/default_collection/dataStores/{DATA_STORE_ID}')"
   ]
  },
  {
   "cell_type": "markdown",
   "id": "08f1ccf8-1d00-45a7-89ae-4509a31e5ad2",
   "metadata": {},
   "source": [
    "![grounding11](../../images/grounding_13.png)"
   ]
  },
  {
   "cell_type": "markdown",
   "id": "87cdcc8a-6372-44fe-9f21-2c0e2428b045",
   "metadata": {},
   "source": [
    "Now we can ask questions about our data and the model will use our data store as the only source of information!"
   ]
  },
  {
   "cell_type": "markdown",
   "id": "a5bb464b-0c17-4d61-83cd-56e2732bb06c",
   "metadata": {},
   "source": [
    "![grounding14](../../images/grounding_14.png)"
   ]
  },
  {
   "cell_type": "markdown",
   "id": "1f995383-6c04-4e14-b063-41c8adf8e763",
   "metadata": {},
   "source": [
    "### Grounding with Google search"
   ]
  },
  {
   "cell_type": "markdown",
   "id": "0c8ab374-87a3-4c08-8bb7-1e181521a048",
   "metadata": {},
   "source": [
    "Grounding with Google allows you to use the Google website as your data source for your model to refer to. In order to enable it you dont need a search app you simply go back to **'CUSTOMIZE'** on the grounding option then select **Google search as the grounding source** and click **'SAVE'**."
   ]
  },
  {
   "cell_type": "markdown",
   "id": "77f0da56-5ff2-4223-9ebb-15fca421461d",
   "metadata": {},
   "source": [
    "![grounding15](../../images/grounding_15.png)"
   ]
  },
  {
   "cell_type": "markdown",
   "id": "d9dc3253-26dc-4770-bc90-cb387f365dfe",
   "metadata": {},
   "source": [
    "Then ask the model a question like you did before. The image below shows the grounding response using your own data at the top and Google searches response at the bottom."
   ]
  },
  {
   "cell_type": "markdown",
   "id": "6022faad-42c0-4934-9852-7856f32ee743",
   "metadata": {},
   "source": [
    "![grounding16](../../images/grounding_16.png)"
   ]
  },
  {
   "cell_type": "markdown",
   "id": "c0ed4fd4-0bab-40f0-9888-c699d368cec4",
   "metadata": {},
   "source": [
    "## Conclusion"
   ]
  },
  {
   "cell_type": "markdown",
   "id": "559696dc-7c26-40b1-a70a-26f9707feb06",
   "metadata": {},
   "source": [
    "You have learned how to set up RAG with your own data and Google search on the console by creating a data store and a search app and enable grounding in the Vertex AI Studio playground."
   ]
  },
  {
   "cell_type": "markdown",
   "id": "fd10f300-1348-4e73-924f-ae74fff5279f",
   "metadata": {},
   "source": [
    "## Clean up"
   ]
  },
  {
   "cell_type": "markdown",
   "id": "7eab87e5-6564-4040-96e7-ff858d950183",
   "metadata": {},
   "source": [
    "Please remember to delete or stop your **Jupyter notebook** and delete your **data store** and **search app** on Agent Builder to prevent incurring charges. And if you have created any other services like buckets, please remember to delete them as well."
   ]
  }
 ],
 "metadata": {
  "environment": {
   "kernel": "conda-base-py",
   "name": "workbench-notebooks.m129",
   "type": "gcloud",
   "uri": "us-docker.pkg.dev/deeplearning-platform-release/gcr.io/workbench-notebooks:m129"
  },
  "kernelspec": {
   "display_name": "Python 3 (ipykernel) (Local)",
   "language": "python",
   "name": "conda-base-py"
  },
  "language_info": {
   "codemirror_mode": {
    "name": "ipython",
    "version": 3
   },
   "file_extension": ".py",
   "mimetype": "text/x-python",
   "name": "python",
   "nbconvert_exporter": "python",
   "pygments_lexer": "ipython3",
   "version": "3.10.16"
  }
 },
 "nbformat": 4,
 "nbformat_minor": 5
}
