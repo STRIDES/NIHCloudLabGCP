{
 "cells": [
  {
   "cell_type": "markdown",
   "id": "d9cf6009-c86b-4ba8-b83c-0f41d75ba82f",
   "metadata": {
    "tags": []
   },
   "source": [
    "**Skill Level:** <code style=\"color : LightSkyBlue\"><ins><b>Intermediate</b></ins></code>"
   ]
  },
  {
   "cell_type": "markdown",
   "id": "9551cc2f-a5b5-4fc5-a864-2fc731f2c310",
   "metadata": {},
   "source": [
    "# Google Cloud Agent Builder"
   ]
  },
  {
   "cell_type": "markdown",
   "id": "5d9b6b51-5481-436c-8d0f-541c5dc9fee3",
   "metadata": {},
   "source": [
    "## Overview"
   ]
  },
  {
   "cell_type": "markdown",
   "id": "fbb045c4-b33f-4499-8d3d-c8545206e3ac",
   "metadata": {},
   "source": [
    "Google Cloud's **Agent Builder** feature is designed to help you build AI-powered systems, like chatbots or automated assistants, quickly and easily. It provides pre-built components (agents) for different tasks, which you can connect and customize to create sophisticated systems. You can also integrate Google's AI features like natural language processing for better performance."
   ]
  },
  {
   "cell_type": "markdown",
   "id": "4e863bd8-8bbe-4226-bd7d-298303efaa84",
   "metadata": {},
   "source": [
    "## Learning objectives"
   ]
  },
  {
   "cell_type": "markdown",
   "id": "bee49850-f4be-4d69-84f7-1492d5e2d23d",
   "metadata": {},
   "source": [
    "- Learn how to create an agent in Agent Builder\n",
    "- Learn to create an data source tool"
   ]
  },
  {
   "cell_type": "markdown",
   "id": "107349df-4541-4f70-b5cb-8ea50811e759",
   "metadata": {},
   "source": [
    "## Prerequisites"
   ]
  },
  {
   "cell_type": "markdown",
   "id": "f7456c7a-a3c8-427e-acdc-5c446d05871d",
   "metadata": {},
   "source": [
    "You must have enabled the Vertex AI, Compute Engine, and Agent Builder APIs."
   ]
  },
  {
   "cell_type": "markdown",
   "id": "376a2e16-5433-43e8-93b2-3142e64631c7",
   "metadata": {},
   "source": [
    "## Pricing"
   ]
  },
  {
   "cell_type": "markdown",
   "id": "dac79a5d-c11b-4349-b96c-5c3dae0ed551",
   "metadata": {},
   "source": [
    "This tutorial will cost up to ~$6, pricing is based on the cost of Agent Builder and Jupyter notebooks.\n",
    "For this tutorial we used a n2-standard-2 instance to run the python commands and created a Agent App [Google Cloud Pricing Calculator](https://cloud.google.com/products/calculator?hl=en)."
   ]
  },
  {
   "cell_type": "markdown",
   "id": "8048ee93-3ee5-4d83-8039-685da38558f5",
   "metadata": {},
   "source": [
    "## Get started"
   ]
  },
  {
   "cell_type": "markdown",
   "id": "6d5a0c4e-eabd-400d-a9f8-74f712558be9",
   "metadata": {},
   "source": [
    "Create a bucket Google Cloud Bucket and upload your documents following the instructions listed [here](https://cloud.google.com/storage/docs/uploading-objects#upload-object-console). If you'd like to use the example dataset provided run the following commands:"
   ]
  },
  {
   "cell_type": "markdown",
   "id": "e66747f0-1019-4bc4-a573-deb1f5fe14f0",
   "metadata": {},
   "source": [
    "Set your project id, location, and bucket variables."
   ]
  },
  {
   "cell_type": "code",
   "execution_count": null,
   "id": "aa31c281-7b28-4f1b-827c-8c440e1a0aec",
   "metadata": {},
   "outputs": [],
   "source": [
    "project_id='<PROJECT_ID>'\n",
    "location='<LOCATION> (e.g.us-east4)'\n",
    "bucket = '<BUCKET_NAME>'"
   ]
  },
  {
   "cell_type": "markdown",
   "id": "00edcff3-f33b-4a9a-aa1e-c33648b1ccc5",
   "metadata": {},
   "source": [
    "Create your bucket."
   ]
  },
  {
   "cell_type": "code",
   "execution_count": null,
   "id": "f20cf7c7-ef22-4937-b9e1-33e3dd6b2cc6",
   "metadata": {},
   "outputs": [],
   "source": [
    "#make bucket\n",
    "!gsutil mb -l {location} gs://{bucket}"
   ]
  },
  {
   "cell_type": "markdown",
   "id": "40d7686a-f0e3-41d6-923e-44ff4455ecd4",
   "metadata": {},
   "source": [
    "List the URL of the files we want to download, these are from PubMed."
   ]
  },
  {
   "cell_type": "code",
   "execution_count": 29,
   "id": "85209a6a-9c7a-4294-b6b7-110ffb23bae4",
   "metadata": {
    "tags": []
   },
   "outputs": [],
   "source": [
    "#urls list of articles\n",
    "articles_urls = ['https://www.ncbi.nlm.nih.gov/pmc/articles/PMC10781091/pdf/pone.0285645.pdf', \n",
    "                 'https://www.ncbi.nlm.nih.gov/pmc/articles/PMC10219649/pdf/elife-86014.pdf',\n",
    "                 'https://www.ncbi.nlm.nih.gov/pmc/articles/PMC10734909/pdf/pone.0285351.pdf',\n",
    "                 'https://www.ncbi.nlm.nih.gov/pmc/articles/PMC10684592/pdf/41598_2023_Article_47655.pdf', \n",
    "                 'https://www.ncbi.nlm.nih.gov/pmc/articles/PMC10601201/pdf/12889_2023_Article_16916.pdf',\n",
    "                 'https://www.ncbi.nlm.nih.gov/pmc/articles/PMC10516599/pdf/elife-86043.pdf',\n",
    "                 'https://www.ncbi.nlm.nih.gov/pmc/articles/PMC10620090/pdf/41586_2023_Article_6651.pdf',\n",
    "                 'https://www.ncbi.nlm.nih.gov/pmc/articles/PMC10414557/pdf/pone.0289774.pdf',\n",
    "                 'https://www.ncbi.nlm.nih.gov/pmc/articles/PMC10355333/pdf/aids-37-1565.pdf',\n",
    "                 'https://www.ncbi.nlm.nih.gov/pmc/articles/PMC10289397/pdf/pone.0286297.pdf']"
   ]
  },
  {
   "cell_type": "markdown",
   "id": "8e1c87f7-3f83-4a47-920f-ca517c794c3d",
   "metadata": {},
   "source": [
    "Below we are downloading the files and uploading them to our newly create bucket. The python function 'upload_blob_from_memory' allows us to upload the files to the bucket and the for loop under it allows us to execute this function to every URL in our list."
   ]
  },
  {
   "cell_type": "code",
   "execution_count": null,
   "id": "61a266b7-af2d-4688-9fd8-42f2f70b9cd9",
   "metadata": {},
   "outputs": [],
   "source": [
    "from google.cloud import storage\n",
    "import os\n",
    "import requests\n",
    "\n",
    "def upload_blob_from_memory(bucket_name, contents, destination_blob_name):\n",
    "    \"\"\"Uploads a file to the bucket.\"\"\"\n",
    "    storage_client = storage.Client()\n",
    "    bucket = storage_client.bucket(bucket_name)\n",
    "    blob = bucket.blob(destination_blob_name)\n",
    "\n",
    "    blob.upload_from_string(contents)\n",
    "\n",
    "    return print(\n",
    "        f\"{destination_blob_name} uploaded to {bucket_name}.\"\n",
    "    )\n",
    "\n",
    "for i in articles_urls:\n",
    "    doc_name=i.split(r'/')[-1]\n",
    "    x = requests.get(i)\n",
    "    doc = x.text\n",
    "    upload_blob_from_memory(bucket, doc, {doc_name})"
   ]
  },
  {
   "cell_type": "markdown",
   "id": "ed6e13da-8475-4fb5-9090-e68638d761f5",
   "metadata": {},
   "source": [
    "### Create a Agent app"
   ]
  },
  {
   "cell_type": "markdown",
   "id": "bfe28a30-ec48-4257-b342-1fc8c3954510",
   "metadata": {},
   "source": [
    "Agent Builder allows you to create different apps such as:\n",
    "- Chatbots\n",
    "- Search engine\n",
    "- Recommendations bot\n",
    "- Agent development\n",
    "\n",
    "For this tutorial we are creating a GenAI agent to help guide our chatbot in certain situations. Start by searching up **'Agent Builder'** on the console. Then once you are on the page shown below click **'CREATE APP'**."
   ]
  },
  {
   "cell_type": "markdown",
   "id": "9407c375-7b45-40b6-8504-3d6eced555da",
   "metadata": {
    "tags": []
   },
   "source": [
    "![grounding1](../../images/grounding_1.png)"
   ]
  },
  {
   "cell_type": "markdown",
   "id": "e6906e34-31a0-4e88-85e9-62abee5ed6cd",
   "metadata": {},
   "source": [
    "Click **'SELECT'** for the app named **Agent**."
   ]
  },
  {
   "cell_type": "markdown",
   "id": "39beb2ac-c377-4201-9973-5fdb738159d8",
   "metadata": {},
   "source": [
    "![agent_builder1](../../images/agent_builder1.png)"
   ]
  },
  {
   "cell_type": "markdown",
   "id": "8d32f806-cef5-401b-be7b-b60ff2686a76",
   "metadata": {},
   "source": [
    "Give your agent a name, select your region, then click **'CREATE'**."
   ]
  },
  {
   "cell_type": "markdown",
   "id": "0b59fa7c-b082-4372-9d9d-c299565f67dd",
   "metadata": {
    "tags": []
   },
   "source": [
    "![agent_builder2](../../images/agent_builder2.png)"
   ]
  },
  {
   "cell_type": "markdown",
   "id": "c16e1edd-86bc-42a9-a1c8-af8fc0fef804",
   "metadata": {},
   "source": [
    "Once you have created your Agent app you will be taken to the **Agent Console**. You will see that a default agent has Already been created to help greet your users and handle specific tasks. We are going to keep this as is for now and create a **tool**. The idea is that this default agent will direct the model to another agent or a tool if the user is asking questions about the articles in our bucket.\n",
    "\n",
    "**Optional:** you can define the goal of this agent for this tutorial we will keep it default but you can describe the goal of this agent for example: you will act as a research assistant and code interpreter for python.\n",
    "\n",
    "Click 'Save' and then go to the left side main menu and click the **Tools** or the wrench icon."
   ]
  },
  {
   "cell_type": "markdown",
   "id": "94d92cb0-9195-4a39-a9fb-3297a0788e2f",
   "metadata": {
    "tags": []
   },
   "source": [
    "![agent_builder3](../../images/agent_builder3.png)"
   ]
  },
  {
   "cell_type": "markdown",
   "id": "47c4c112-1ea1-44f4-a162-c06c8392658f",
   "metadata": {},
   "source": [
    "### Create a Agent Tool"
   ]
  },
  {
   "cell_type": "markdown",
   "id": "526ccb25-b210-4a80-aa50-89879c884f11",
   "metadata": {
    "tags": []
   },
   "source": [
    "![agent_builder4](../../images/agent_builder4.png)"
   ]
  },
  {
   "cell_type": "markdown",
   "id": "d098b9ef-f2a8-4d56-aac8-d09348a267e2",
   "metadata": {},
   "source": [
    "Once you are on Tools you will see that Google Cloud has one already ready for use which it the **'code-interpreter'** that allows users to perform various tasks, including: data analysis, data visualization, text processing, solving equations or optimization problems. We can guide our agent to use this tool any time the user asks to visualize a data set or ask how to write a python script. To learn more check Google Clouds documentation [here](https://cloud.google.com/vertex-ai/generative-ai/docs/extensions/code-interpreter)."
   ]
  },
  {
   "cell_type": "markdown",
   "id": "f1bebb7c-08da-4f85-ac2b-d2a4b9d369a8",
   "metadata": {},
   "source": [
    "For this tutorial we will be creating a tool that will connect to a data store. Our model will us this tool to answer scientific questions. This is essentially using Retrieval-Augmented Generation (RAG) a technique that allows the model to answer questions based on the data you provide it but by using agents we are allowing the model to work ...................."
   ]
  },
  {
   "cell_type": "markdown",
   "id": "93ce2ad6-91f5-4954-bf48-e5474017ac5f",
   "metadata": {},
   "source": [
    "Click **'CREATE'** to create a new tool. Give your tool a name, then in the drop down menu under Type select **'Data store'**."
   ]
  },
  {
   "cell_type": "markdown",
   "id": "20abe50b-ebf4-4214-a494-b199ac7e56bb",
   "metadata": {},
   "source": [
    "![agent_builder5](../../images/agent_builder5.png)"
   ]
  },
  {
   "cell_type": "markdown",
   "id": "4b4218e3-484f-4d8c-97d7-3112daad371f",
   "metadata": {},
   "source": [
    "You will notice other fields have shown up, the options may differ if you already have a agent datastore set up.  "
   ]
  },
  {
   "cell_type": "markdown",
   "id": "8d1fd198-00ad-433c-84de-3744acad8f4a",
   "metadata": {
    "tags": []
   },
   "source": [
    "**Option A** If its your first time creating a data store tool you will probably see an option like the following. If you have this view, go ahead and click **'Create a data store'**."
   ]
  },
  {
   "cell_type": "markdown",
   "id": "7dab8288-d342-4c1f-9963-ed13908885bc",
   "metadata": {},
   "source": [
    "![agent_builder6](../../images/agent_builder6.png)"
   ]
  },
  {
   "cell_type": "markdown",
   "id": "da362c18-9d64-4560-8c71-e9431fe2375e",
   "metadata": {},
   "source": [
    "**Option B** Otherwise you might see have this view if you already have a data store set up. If you have this view, click the drop down menu for 'Unstructured documents' and click the options that says **'Create a data store'**"
   ]
  },
  {
   "cell_type": "markdown",
   "id": "531ff71a-4833-4452-bc6a-cc82d8899960",
   "metadata": {
    "tags": []
   },
   "source": [
    "![agent_builder7](../../images/agent_builder7.png)"
   ]
  },
  {
   "cell_type": "markdown",
   "id": "0421a453-5b16-4c67-9387-d484b7381016",
   "metadata": {},
   "source": [
    "Both options will open a new webpage and take you to the next step of this tutorial."
   ]
  },
  {
   "cell_type": "markdown",
   "id": "6b89e7d4-bbf8-4ce9-890e-4ff9f17b4610",
   "metadata": {},
   "source": [
    "### Create a Data Store"
   ]
  },
  {
   "cell_type": "markdown",
   "id": "bc647145-2da1-4870-8abc-0512714c24c2",
   "metadata": {
    "tags": []
   },
   "source": [
    "**Note:** You may be prompted to configure your agent app if so enter the company name for your agent app. This can be anything you like. Set the location to **'US'**. Click **'Continue'**."
   ]
  },
  {
   "cell_type": "markdown",
   "id": "80676d5e-6a55-4bed-99b3-bd4bbc7afdf5",
   "metadata": {},
   "source": [
    "![agent_builder8](../../images/agent_builder8.png)"
   ]
  },
  {
   "cell_type": "markdown",
   "id": "2322c0da-1554-47c9-9e27-2732beda35dd",
   "metadata": {},
   "source": [
    "Next we'll create a data store that will allow us to connect a data source to our agent tool. Click **'CREATE DATA STORE'**."
   ]
  },
  {
   "cell_type": "markdown",
   "id": "7895ddda-5775-43b6-a723-7088c9b69ecb",
   "metadata": {
    "tags": []
   },
   "source": [
    "![grounding4](../../images/grounding_4.png)"
   ]
  },
  {
   "cell_type": "markdown",
   "id": "ccd0d718-eb6f-43b3-afe1-ec56d8108ef3",
   "metadata": {},
   "source": [
    "As you can see from the image below Google Cloud's Agent builder support the following data sources but for this tutorial we will use **'Cloud Storage'** as our data source."
   ]
  },
  {
   "cell_type": "markdown",
   "id": "a5d02b97-fd6b-4391-a071-fdd6b104ac50",
   "metadata": {},
   "source": [
    "![agent_builder9](../../images/agent_builder9.png)"
   ]
  },
  {
   "cell_type": "markdown",
   "id": "feca0865-f739-4ceb-aa20-582f7112860c",
   "metadata": {},
   "source": [
    "Select **'Unstructured documents'** for the kind of data you are importing and then click **'BROWSE'**. Select the bucket that contains your files. Select **'CONTINUE'**."
   ]
  },
  {
   "cell_type": "markdown",
   "id": "b39671ac-7729-4581-be26-bf9458898cef",
   "metadata": {},
   "source": [
    "![agent_builder10](../../images/agent_builder10.png)"
   ]
  },
  {
   "cell_type": "markdown",
   "id": "7979954d-e4d2-4d2a-835c-4322e536bed8",
   "metadata": {},
   "source": [
    "Now you can give your datastore a name. Click **'DOCUMENT PROCESSING OPTIONS'** to enable chunking your data select **'Layout Parser'** as the default document parser and keep the chunk size limit to 500 tokens. Click **'CREATE'**. \n",
    "\n",
    "This will separate the text in your documents to a roughly 500 characters size chunks allowing only the relevant info to be presented to your model which will use less tokens and decrease the chance of your model hallucinating. "
   ]
  },
  {
   "cell_type": "markdown",
   "id": "59a1120b-b732-4563-8d2f-30c51ab89788",
   "metadata": {},
   "source": [
    "![agent_builder11](../../images/agent_builder11.png)"
   ]
  },
  {
   "cell_type": "markdown",
   "id": "f5acd6c0-9b56-4180-a000-b08460f00186",
   "metadata": {},
   "source": [
    "You should see your data store listed as it being created. Select your data store and click **'CREATE'**."
   ]
  },
  {
   "cell_type": "markdown",
   "id": "63aa93b8-c387-4841-9b1d-3ea81597b342",
   "metadata": {},
   "source": [
    "![agent_builder12](../../images/agent_builder12.png)"
   ]
  },
  {
   "cell_type": "markdown",
   "id": "ebeba3cc-72dd-4758-8584-96214f9ade6a",
   "metadata": {},
   "source": [
    "### Add your data store to your tool"
   ]
  },
  {
   "cell_type": "markdown",
   "id": "1df54267-b65c-44cd-a869-9723b7302771",
   "metadata": {},
   "source": [
    "Give your data store some time to be created ~5 -10 mins. Now you can navigate back to the Agent Console (located in the previous web tab). Go back to Tools and Select **'Data store'** in the dropdown for Type.\n",
    "\n",
    "Under Data stores click the drop down for **'Unstructured documents'** you should see your data store listed. Select your data store. \n",
    "\n",
    "**Note:** If you dont see your datastore listed click 'Refresh data store' or refresh your web page.\n",
    "\n",
    "We can also add a **description** for this tool to explain the function for example: This tool will provide answers to scientific questions from the information in this data store."
   ]
  },
  {
   "cell_type": "markdown",
   "id": "332994e1-1bb8-476e-bbb0-28a1169e86b7",
   "metadata": {},
   "source": [
    "![agent_builder13](../../images/agent_builder13.png)"
   ]
  },
  {
   "cell_type": "markdown",
   "id": "a4c9f1ab-1b2c-4875-a244-f86d2d548d77",
   "metadata": {},
   "source": [
    "The other fields shown are Grounding and summarization, they both can stay on their default setting.\n",
    "\n",
    "- **Grounding:** You can set a score of how well you think the model will provide accurate information for the question you ask. If you score it as low then this will enable the model to rely on your data source for information rather than the data that is was pretrained on.\n",
    "\n",
    "- **Summarization prompt:** You can add a prompt instructing the model how you would like to summarize the information it receives from the data store."
   ]
  },
  {
   "cell_type": "markdown",
   "id": "369c112d-2376-43fa-9552-9498479be9fd",
   "metadata": {},
   "source": [
    "![agent_builder14](../../images/agent_builder14.png)"
   ]
  },
  {
   "cell_type": "markdown",
   "id": "fd8aa43e-ae9d-43d8-8bfa-bf4a9e12713d",
   "metadata": {},
   "source": [
    "Click **'SAVE'**. "
   ]
  },
  {
   "cell_type": "markdown",
   "id": "0a83d95d-b1c3-457d-85ec-fa87732e3648",
   "metadata": {},
   "source": [
    "### Adding our tools to the agent"
   ]
  },
  {
   "cell_type": "markdown",
   "id": "17977b22-992f-450d-af63-fbe89a010ca4",
   "metadata": {},
   "source": [
    "Now we can navigate back to the Agents page on the left side menu. Once there we can add our tools and instructions on how and when to use our tools.in the example below we are referring to our tool using the `TOOL` function like so, `${Tool: NAME_OF_YOUR_TOOL}`. \n",
    "\n",
    "You can see from our example that we are listing instructions on what actions the model should take in a given situation:\n",
    "\n",
    "1. Greet the user\n",
    "2. Summarize the users request and confirm that the model understood what the user wanted\n",
    "3. If the question is a scientific one it should obtain the related information from our data source tool\n",
    "4. If the question is data related it should use the code interpreter tool\n",
    "5. When the user is done thank them and say good bye"
   ]
  },
  {
   "cell_type": "markdown",
   "id": "87cdcc8a-6372-44fe-9f21-2c0e2428b045",
   "metadata": {},
   "source": [
    "![agent_builder15](../../images/agent_builder15.png)"
   ]
  },
  {
   "cell_type": "markdown",
   "id": "1e8c80c2-62ba-4268-a7ff-05499de9e3ee",
   "metadata": {},
   "source": [
    "At the bottom of the form make sure your tools are checkmarked, then click **'SAVE'**."
   ]
  },
  {
   "cell_type": "markdown",
   "id": "9d9a5533-24ef-4a9d-88ec-ea1b046d65fe",
   "metadata": {},
   "source": [
    "![agent_builder16](../../images/agent_builder16.png)"
   ]
  },
  {
   "cell_type": "markdown",
   "id": "b2073fa7-9568-4304-aa48-c85fdfa72bc9",
   "metadata": {},
   "source": [
    "### Testing out the agent"
   ]
  },
  {
   "cell_type": "markdown",
   "id": "d93ea1c6-9910-4c3a-bc33-fc6c170ec989",
   "metadata": {},
   "source": [
    "You have probably noticed that on the side of the screen there is a preview screen where you can test out your agent in the drop down menu for 'Agent' you can select the agent you would like to test the same can be said for the next drop down which is for the model you would like to test your agents on."
   ]
  },
  {
   "cell_type": "markdown",
   "id": "e358c7e6-b2f5-46de-99ce-28f0927e9601",
   "metadata": {},
   "source": [
    "![agent_builder17](../../images/agent_builder17.png)"
   ]
  },
  {
   "cell_type": "markdown",
   "id": "58f32a55-8258-494c-a432-7ab4c94067dd",
   "metadata": {},
   "source": [
    "Now we can ask Gemini Pro, which is connected to our agent, some questions!"
   ]
  },
  {
   "cell_type": "markdown",
   "id": "2d5191e6-a62d-453f-bb79-2667c0f6dd5c",
   "metadata": {},
   "source": [
    "Try out some of these questions\n",
    "- What is Nextflow\n",
    "- Create a example Nextflow script\n",
    "- What is long covid?\n",
    "- What happens to people with diabetes and covid? \n",
    "\n",
    "You can see from the output below our agent was able to provide the correct information to Gemini Pro!\n",
    "\n",
    "\n",
    "![agent_builder18](../../images/agent_builder18.png)\n",
    "![agent_builder18](../../images/agent_builder19.png)"
   ]
  },
  {
   "cell_type": "markdown",
   "id": "22025ee2-8039-47c0-b249-4fad79894f9a",
   "metadata": {},
   "source": [
    "You can learn more on how you can implement agents to your use case by reading the documentation [here](https://cloud.google.com/dialogflow/cx/docs/basics)."
   ]
  },
  {
   "cell_type": "markdown",
   "id": "c0ed4fd4-0bab-40f0-9888-c699d368cec4",
   "metadata": {},
   "source": [
    "## Conclusion"
   ]
  },
  {
   "cell_type": "markdown",
   "id": "559696dc-7c26-40b1-a70a-26f9707feb06",
   "metadata": {},
   "source": [
    "You have learned how to set up RAG with your own data and Google search on the console by creating a data store and a search app and enable grounding in the Vertex AI Studio playground."
   ]
  },
  {
   "cell_type": "markdown",
   "id": "fd10f300-1348-4e73-924f-ae74fff5279f",
   "metadata": {},
   "source": [
    "## Clean up"
   ]
  },
  {
   "cell_type": "markdown",
   "id": "7eab87e5-6564-4040-96e7-ff858d950183",
   "metadata": {},
   "source": [
    "Please remember to delete or stop your **Jupyter notebook** and delete your **data store** and **search app** on Agent Builder to prevent incurring charges. And if you have created any other services like buckets, please remember to delete them as well."
   ]
  }
 ],
 "metadata": {
  "environment": {
   "kernel": "python3",
   "name": "common-cpu.m114",
   "type": "gcloud",
   "uri": "gcr.io/deeplearning-platform-release/base-cpu:m114"
  },
  "kernelspec": {
   "display_name": "Python 3",
   "language": "python",
   "name": "python3"
  },
  "language_info": {
   "codemirror_mode": {
    "name": "ipython",
    "version": 3
   },
   "file_extension": ".py",
   "mimetype": "text/x-python",
   "name": "python",
   "nbconvert_exporter": "python",
   "pygments_lexer": "ipython3",
   "version": "3.10.13"
  }
 },
 "nbformat": 4,
 "nbformat_minor": 5
}
