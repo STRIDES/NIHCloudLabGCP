{
 "cells": [
  {
   "cell_type": "code",
   "execution_count": 9,
   "metadata": {},
   "outputs": [
    {
     "name": "stdout",
     "output_type": "stream",
     "text": [
      "(397, 32)\n"
     ]
    }
   ],
   "source": [
    "import os\n",
    "import pandas as pd\n",
    "import numpy as np\n",
    "from sklearn.model_selection import train_test_split\n",
    "\n",
    "def split_dataframe(df, n=2):\n",
    "    length = len(df)\n",
    "    indices = np.array_split(range(length), n)\n",
    "    return [df.iloc[index] for index in indices]\n",
    "\n",
    "df = pd.read_csv(\"full_data.csv\")\n",
    "split_dfs = split_dataframe(df)\n",
    "\n",
    "train_full = list()\n",
    "val_full = list()\n",
    "\n",
    "for i, part_df in enumerate(split_dfs):\n",
    "    train, val = train_test_split(part_df, test_size=0.3)\n",
    "    \n",
    "    train_full.append(train)\n",
    "    val_full.append(val)\n",
    "\n",
    "    train.to_csv(os.path.join(f\"client_{i}\", \"train_data.csv\"), index=False)\n",
    "    val.to_csv(os.path.join(f\"client_{i}\", \"val_data.csv\"), index=False)\n",
    "    \n",
    "train_full_df = pd.concat(train_full)\n",
    "val_full_df = pd.concat(val_full)\n",
    "\n",
    "print(train_full_df.shape)\n",
    "\n",
    "train_full_df.to_csv(os.path.join(\"full_train_data.csv\"), index=False)\n",
    "val_full_df.to_csv(os.path.join(\"full_val_data.csv\"), index=False)"
   ]
  }
 ],
 "metadata": {
  "kernelspec": {
   "display_name": "fedavg",
   "language": "python",
   "name": "python3"
  },
  "language_info": {
   "codemirror_mode": {
    "name": "ipython",
    "version": 3
   },
   "file_extension": ".py",
   "mimetype": "text/x-python",
   "name": "python",
   "nbconvert_exporter": "python",
   "pygments_lexer": "ipython3",
   "version": "3.12.8"
  }
 },
 "nbformat": 4,
 "nbformat_minor": 2
}
