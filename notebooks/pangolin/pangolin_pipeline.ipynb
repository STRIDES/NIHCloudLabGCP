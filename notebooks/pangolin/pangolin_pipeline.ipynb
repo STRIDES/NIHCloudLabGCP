{
 "cells": [
  {
   "cell_type": "markdown",
   "id": "31e8c3cd",
   "metadata": {},
   "source": [
    "# <span style=\"color:gray\">Pangolin SARS-CoV-2 Pipeline Notebook</span>"
   ]
  },
  {
   "cell_type": "markdown",
   "metadata": {},
   "source": [
    "## Overview"
   ]
  },
  {
   "cell_type": "markdown",
   "id": "56a29212",
   "metadata": {},
   "source": [
    "We are going to run a standard covid bioinformatics pipeline using the [Pangolin workflow](https://cov-lineages.org/resources/pangolin/usage.html) all within this Jupyter environment"
   ]
  },
  {
   "cell_type": "markdown",
   "metadata": {},
   "source": [
    "## Learning Objectives\n",
    "+ Learn how to run a simple bioinformatic workflow in a Jupyter environment"
   ]
  },
  {
   "cell_type": "markdown",
   "metadata": {},
   "source": [
    "## Prerequisites\n",
    "You only need access to a Vertex AI environment"
   ]
  },
  {
   "cell_type": "markdown",
   "metadata": {},
   "source": [
    "## Get Started"
   ]
  },
  {
   "cell_type": "markdown",
   "id": "03541941",
   "metadata": {},
   "source": [
    "### Install packages"
   ]
  },
  {
   "cell_type": "code",
   "execution_count": null,
   "id": "f994b990",
   "metadata": {
    "tags": []
   },
   "outputs": [],
   "source": [
    "#change this depending on how many threads are available in your notebook\n",
    "%env CPU=4"
   ]
  },
  {
   "cell_type": "code",
   "execution_count": null,
   "id": "f421805e",
   "metadata": {
    "tags": []
   },
   "outputs": [],
   "source": [
    "#install biopython to import packages below\n",
    "! pip install biopython"
   ]
  },
  {
   "cell_type": "markdown",
   "id": "87c08f11-494f-4aa9-9fe9-61790b68567f",
   "metadata": {},
   "source": [
    "### Install mambaforge\n",
    "You can also use the default installed conda, but mamba is so much faster! "
   ]
  },
  {
   "cell_type": "code",
   "execution_count": null,
   "id": "f9d1e2be-9c4a-4fc0-be33-1f3db8f1dce1",
   "metadata": {},
   "outputs": [],
   "source": [
    "! curl -L -O https://github.com/conda-forge/miniforge/releases/latest/download/Mambaforge-$(uname)-$(uname -m).sh\n",
    "! bash Mambaforge-$(uname)-$(uname -m).sh -b -p $HOME/mambaforge"
   ]
  },
  {
   "cell_type": "code",
   "execution_count": null,
   "id": "cd06e08b-6ba3-49e2-a118-fde1533f89f3",
   "metadata": {},
   "outputs": [],
   "source": [
    "#add to your path\n",
    "import os\n",
    "os.environ[\"PATH\"] += os.pathsep + os.environ[\"HOME\"]+\"/mambaforge/bin\""
   ]
  },
  {
   "cell_type": "code",
   "execution_count": null,
   "id": "fd936fd6",
   "metadata": {
    "tags": []
   },
   "outputs": [],
   "source": [
    "! mamba install -y -c conda-forge -c bioconda  -c etetoolkit sra-tools  pangolin ete3 minimap2 -y"
   ]
  },
  {
   "cell_type": "code",
   "execution_count": null,
   "id": "5a99cf0d",
   "metadata": {
    "tags": []
   },
   "outputs": [],
   "source": [
    "#import libraries\n",
    "import os\n",
    "from Bio import SeqIO\n",
    "from Bio import Entrez"
   ]
  },
  {
   "cell_type": "markdown",
   "id": "dc694629",
   "metadata": {},
   "source": [
    "### Set up your directory structure and remove files from previous runs if they exist"
   ]
  },
  {
   "cell_type": "code",
   "execution_count": null,
   "id": "8f831fca",
   "metadata": {
    "tags": []
   },
   "outputs": [],
   "source": [
    "if not os.path.exists('pangolin_analysis'):\n",
    "    os.mkdir('pangolin_analysis')\n",
    "os.chdir('pangolin_analysis')"
   ]
  },
  {
   "cell_type": "code",
   "execution_count": null,
   "id": "6423ca5d",
   "metadata": {
    "tags": []
   },
   "outputs": [],
   "source": [
    "if os.path.exists('sarscov2_sequences.fasta'):\n",
    "    os.remove('sarscov2_sequences.fasta')\n",
    "!rm sarscov2_*\n",
    "!rm lineage_report.csv"
   ]
  },
  {
   "cell_type": "markdown",
   "id": "9d7015e6",
   "metadata": {},
   "source": [
    "### Fetch viral sequences using a list of accession IDs using Bio Entrez Toolkit"
   ]
  },
  {
   "cell_type": "code",
   "execution_count": null,
   "id": "16824bcf",
   "metadata": {
    "tags": []
   },
   "outputs": [],
   "source": [
    "#give a list of accession number for sars sequences\n",
    "acc_nums=['NC_045512','LR757995','LR757996','OL698718','OL677199','OL672836','MZ914912','MZ916499','MZ908464','MW580573','MW580574','MW580576','MW991906','MW931310','MW932027','MW424864','MW453109','MW453110']\n",
    "print('the number of sequences we will analyze = ',len(acc_nums))"
   ]
  },
  {
   "cell_type": "markdown",
   "id": "9e382d33",
   "metadata": {},
   "source": [
    "Let this block run without going to the next until it finishes, otherwise you may get an error about too many requests. If that happens, reset your kernel and just rerun everything (except installing software)."
   ]
  },
  {
   "cell_type": "code",
   "execution_count": null,
   "id": "a28a7122",
   "metadata": {
    "tags": []
   },
   "outputs": [],
   "source": [
    "#use the bio.entrez toolkit within biopython to download the accession numbers\n",
    "#save those sequences to a single fasta file\n",
    "Entrez.email = \"email@example.com\"  # ell NCBI who you are\n",
    "filename = \"sarscov2_seqs.fasta\"\n",
    "if not os.path.isfile(filename):\n",
    "    # Downloading...\n",
    "    for acc in acc_nums:\n",
    "        net_handle = Entrez.efetch(\n",
    "            db=\"nucleotide\", id=acc, rettype=\"fasta\", retmode=\"text\"\n",
    "        )\n",
    "        out_handle = open(filename, \"a\")\n",
    "        out_handle.write(net_handle.read())\n",
    "        out_handle.close()\n",
    "        net_handle.close()\n",
    "        print(\"Saved\",acc)"
   ]
  },
  {
   "cell_type": "code",
   "execution_count": null,
   "id": "56acb7cc",
   "metadata": {
    "tags": []
   },
   "outputs": [],
   "source": [
    "#make sure our fasta file has the same number of seqs as the acc_nums list\n",
    "print('the number of seqs in our fasta file: ')\n",
    "! grep '>' sarscov2_seqs.fasta | wc -l"
   ]
  },
  {
   "cell_type": "code",
   "execution_count": null,
   "id": "8606c352",
   "metadata": {
    "tags": []
   },
   "outputs": [],
   "source": [
    "#let's peek at our new fasta file\n",
    "! head sarscov2_seqs.fasta"
   ]
  },
  {
   "cell_type": "markdown",
   "id": "2db37b4e",
   "metadata": {
    "tags": []
   },
   "source": [
    "### Run pangolin to identify lineages and output alignment\n",
    "Here we call pangolin, give it our input sequences and the number of threads. We also tell it to output the alignment. The full list of pangolin parameters can be found in the [docs](https://cov-lineages.org/resources/pangolin/usage.html)."
   ]
  },
  {
   "cell_type": "code",
   "execution_count": null,
   "id": "f277c6c4-a286-4020-8e1c-3941f3da9035",
   "metadata": {},
   "outputs": [],
   "source": [
    "! pangolin --help"
   ]
  },
  {
   "cell_type": "code",
   "execution_count": null,
   "id": "f1a17a74",
   "metadata": {
    "tags": []
   },
   "outputs": [],
   "source": [
    "! pangolin sarscov2_seqs.fasta --threads $CPU"
   ]
  },
  {
   "cell_type": "markdown",
   "id": "b0e56a4b",
   "metadata": {},
   "source": [
    "You can view the output file from pangolin called lineage_report.csv (within pangolin_analysis folder) by double clicking on the file, or by right clicking and downloading. What lineages are present in the dataset? Is Omicron in there?"
   ]
  },
  {
   "cell_type": "markdown",
   "metadata": {},
   "source": [
    "## Conclusions\n",
    "Here you learned how to run a workflow locally on a virtual machine. For more advanced tutorials that submit to managed Batch environments, look at our other tutorials."
   ]
  },
  {
   "cell_type": "markdown",
   "metadata": {},
   "source": [
    "## Clean Up\n",
    "Feel free to delete your virtual machine and any cloud storage buckets"
   ]
  },
  {
   "cell_type": "markdown",
   "metadata": {},
   "source": []
  }
 ],
 "metadata": {
  "environment": {
   "kernel": "python3",
   "name": "tf2-gpu.2-11.m110",
   "type": "gcloud",
   "uri": "gcr.io/deeplearning-platform-release/tf2-gpu.2-11:m110"
  },
  "kernelspec": {
   "display_name": "Python 3",
   "language": "python",
   "name": "python3"
  },
  "language_info": {
   "codemirror_mode": {
    "name": "ipython",
    "version": 3
   },
   "file_extension": ".py",
   "mimetype": "text/x-python",
   "name": "python",
   "nbconvert_exporter": "python",
   "pygments_lexer": "ipython3",
   "version": "3.10.12"
  }
 },
 "nbformat": 4,
 "nbformat_minor": 5
}
