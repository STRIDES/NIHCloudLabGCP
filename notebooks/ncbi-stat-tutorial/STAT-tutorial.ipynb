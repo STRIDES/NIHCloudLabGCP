{
 "cells": [
  {
   "cell_type": "markdown",
   "id": "1651316c",
   "metadata": {},
   "source": [
    "# Query the NCBI STAT Metadata Tables to Search for Pathogens! "
   ]
  },
  {
   "cell_type": "markdown",
   "id": "15022f97",
   "metadata": {},
   "source": [
    "## Overview\n",
    "\n",
    "DNA sequence data are typically deposited into the [NCBI Sequence Read Archive](https://www.ncbi.nlm.nih.gov/sra). Each FASTQ file is assigned a taxon id (usually a species) defined by [NCBI taxonomy](https://www.ncbi.nlm.nih.gov/taxonomy). So, if you were to search SRA for a particular species, such as _[Mus musculus](https://www.ncbi.nlm.nih.gov/sra/?term=Mus+musculus)_ we can find the files associated with this taxon as defined by the sequence submitter. There are three possible issues with this approach. First, sometime people make mistakes about the taxon id of their sequence. They may have said the sequence was a mouse when it was actually a dog, and you won't know until you have analyzed that sequence. Second, most FASTQ files have mixed DNA sequence due to some level of contamination. If the mouse DNA came from a tail tip, the FASTQ will likely be full of microbial sequence as well as mouse DNA! Finally, many samples in SRA are metagenomic, and so you really have no idea what DNA is in there until you analyze it.\n",
    "\n",
    "To address these issues, NCBI came up with a tool called the [SRA Taxonomy Analysis Tool]( https://www.ncbi.nlm.nih.gov/sra/docs/sra-taxonomy-analysis-tool/#:~:text=The%20NCBI%20SRA%20Taxonomy%20Analysis,from%20next%20generation%20sequencing%20runs), or STAT. STAT maps sequencing reads against a precomputed kmer dictionary and assigns reads to the lowest ambiguous taxonomic node (it is based on a known phylogeny). STAT is run for all SRA submissions, and the results are stored in Cloud-based metadata tables that can be queried using BigQuery. This table can then be matched to the SRA metadata tables to get robust information on each Accession. Here we walk through a basic STAT query for MPOX virus and teach you how to create your own queries. "
   ]
  },
  {
   "cell_type": "markdown",
   "metadata": {},
   "source": [
    "## Learning Objectives\n",
    "+ Learn how to query BigQuery\n",
    "+ Learn how to interact with and understand STAT tables"
   ]
  },
  {
   "cell_type": "markdown",
   "metadata": {},
   "source": [
    "## Prerequisites\n",
    "Make sure that the BigQuery API is enabled\n"
   ]
  },
  {
   "cell_type": "markdown",
   "metadata": {},
   "source": [
    "## Get Started"
   ]
  },
  {
   "cell_type": "markdown",
   "id": "b068c9da-7814-4b24-9ff8-12473048bdcf",
   "metadata": {},
   "source": [
    "### Import packages"
   ]
  },
  {
   "cell_type": "code",
   "execution_count": null,
   "id": "d2c3ec94-16cd-43b6-a4c9-d56aa593382e",
   "metadata": {},
   "outputs": [],
   "source": [
    "# Import the biquery api\n",
    "from google.cloud import bigquery\n",
    "import pandas as pd"
   ]
  },
  {
   "cell_type": "code",
   "execution_count": null,
   "id": "243fb23b-ec7e-423f-a531-9f39a1954087",
   "metadata": {},
   "outputs": [],
   "source": [
    "# Designate the client for the API\n",
    "client = bigquery.Client(location=\"US\")\n",
    "print(\"Client creating using default project: {}\".format(client.project))"
   ]
  },
  {
   "cell_type": "markdown",
   "id": "7ec384ad-732e-4cb9-b0ff-4b6addb6c2a7",
   "metadata": {},
   "source": [
    "### Define and run our query\n",
    "Note that we are doing a few things here. First, we are going to query the STAT metadata table (nih-sra-datastore.sra_tax_analysis_tool.tax_analysis) and only get accessions that include Monkeypox virus (tax id = 10244). You could also cast a wider net and filter to Orthopox (10242) since many reads will not map unambiguously to Monkeypox and will be assigned to Orthopox. Second, we are going to JOIN this table with the SRA metadata table (nih-sra-datastore.sra.metadata) on the Accession number, this gives us more information about our record. Finally, we are going to only keep samples with at least 50 reads (total_count) assigned to the target tax id. This means that at least 50 reads need to be assigned to Monkeypox or daughter nodes in the phylogeny. Also we are going to look for records submitted anytime in the past 5 years (INTERVAL parameter)."
   ]
  },
  {
   "cell_type": "code",
   "execution_count": null,
   "id": "7fb2102a-4f91-4002-a521-db31f7271045",
   "metadata": {},
   "outputs": [],
   "source": [
    "# Define the query\n",
    "query = \"\"\"\n",
    "#standardSQL\n",
    "WITH\n",
    "  span AS (\n",
    "  SELECT\n",
    "    acc,\n",
    "    ileft AS rileft,\n",
    "    iright AS riright\n",
    "  FROM\n",
    "    nih-sra-datastore.sra_tax_analysis_tool.tax_analysis\n",
    "  WHERE\n",
    "    tax_id = 10244 )\n",
    "SELECT\n",
    "  acc,\n",
    "  name,\n",
    "  total_count,\n",
    "  self_count,\n",
    "  center_name,\n",
    "  librarysource,\n",
    "  organism,\n",
    "  releasedate,\n",
    "  geo_loc_name_sam,\n",
    "  attributes\n",
    "FROM\n",
    "  nih-sra-datastore.sra_tax_analysis_tool.tax_analysis\n",
    "JOIN\n",
    "  nih-sra-datastore.sra.metadata\n",
    "USING\n",
    "  (acc)\n",
    "JOIN\n",
    "  span\n",
    "USING\n",
    "  (acc)\n",
    "WHERE\n",
    "  (ileft>=rileft\n",
    "    AND iright<=riright)\n",
    "  AND (total_count>99\n",
    "    OR organism='wastewater metagenome')\n",
    "  AND CAST(releasedate AS date) > DATE_SUB(CURRENT_DATE(), INTERVAL 120 month)\n",
    "ORDER BY\n",
    "  releasedate DESC,\n",
    "  acc,\n",
    "  total_count DESC\n",
    "\"\"\""
   ]
  },
  {
   "cell_type": "markdown",
   "id": "214bdba1-173f-4ea8-9189-b06711de90c3",
   "metadata": {},
   "source": [
    "Execute the query"
   ]
  },
  {
   "cell_type": "code",
   "execution_count": null,
   "id": "9722d4d4-3150-47cf-81fd-141de19488ea",
   "metadata": {},
   "outputs": [],
   "source": [
    "query_job = client.query(\n",
    "    query,\n",
    "    # Location must match that of the dataset(s) referenced in the query.\n",
    "    location=\"US\",\n",
    ")  # API request - starts the query\n",
    "\n",
    "df = query_job.to_dataframe()"
   ]
  },
  {
   "cell_type": "markdown",
   "id": "f0d15f46-1f59-479a-9ba7-6b1f412188eb",
   "metadata": {},
   "source": [
    "See how many unique accessions are in the df"
   ]
  },
  {
   "cell_type": "code",
   "execution_count": null,
   "id": "fcd6b33a-f4ef-452f-b9e8-3b54b86d98b9",
   "metadata": {},
   "outputs": [],
   "source": [
    "len(df['acc'].unique())"
   ]
  },
  {
   "cell_type": "markdown",
   "id": "410acf31-3fc1-4394-98eb-92e0993ca5d9",
   "metadata": {},
   "source": [
    "Now view the data frame. You will see that we first have the STAT metadata and then the SRA metadata such as submitter-assigned organism name, library source, release date etc. In the STAT metadata there are a few things to note. First, each tax id (name) with reads assigned from that accession is listed with the accession. So if the accession SRR12345 had reads assigned to both Monkeypox virus and variola virus, then you would see two records of that accession with both virus' listed under name. Next we have the numbers of reads (in NCBI parlance 'spots') assigned to that taxon id. We see two counts: total_count and self_count. Total count refers to the number of reads assigned to that node in the phylogeny (taxon) and all daughter nodes (decendents in the phylogeny). Self count refers to the number of reads assigned to that particular taxon. For example, if we had filtered more broadly to Orthopox (genus) instead of Monkeypox, we would have seen that Orthopox would have a total count of say 100 reads, which includes all reads assigned to any taxon within Orthopox with a self count of say 50. Then Monkeypox could have a total count of 50 and self count of 50 (assuming it is the terminal taxon in the tree with no daughter taxa). These 50 reads would be included in the total count of Orthopox, but not the self count of Orthopox. You can see all the STAT metadata fields [here](https://www.ncbi.nlm.nih.gov/sra/docs/sra-cloud-based-taxonomy-analysis-table/)."
   ]
  },
  {
   "cell_type": "code",
   "execution_count": null,
   "id": "28f5f9ef-2d19-470d-abaf-ccb4e008b626",
   "metadata": {},
   "outputs": [],
   "source": [
    "# look at the df\n",
    "df"
   ]
  },
  {
   "cell_type": "markdown",
   "id": "197596ef-6bad-439f-bf8d-f9e3f2ae481b",
   "metadata": {},
   "source": [
    "Now we have a pandas data frame and you can filter and manipulate as desired."
   ]
  },
  {
   "cell_type": "code",
   "execution_count": null,
   "id": "b2a264f3-329c-428b-bb58-28826abf444a",
   "metadata": {},
   "outputs": [],
   "source": [
    "print(df['organism'].unique())"
   ]
  },
  {
   "cell_type": "code",
   "execution_count": null,
   "id": "dd4578f8-354d-44b6-9afb-adb6b6278302",
   "metadata": {},
   "outputs": [],
   "source": [
    "# for example we can look at just wastewater samples \n",
    "df_filt = df[df['organism'] == 'wastewater metagenome']\n",
    "df_filt"
   ]
  },
  {
   "cell_type": "markdown",
   "id": "cb2f0320-54e4-499c-8925-57b539d20e34",
   "metadata": {},
   "source": [
    "You can also write to an outfile."
   ]
  },
  {
   "cell_type": "code",
   "execution_count": null,
   "id": "bb8698e0-21bd-4282-b2cb-04160a33b6f2",
   "metadata": {},
   "outputs": [],
   "source": [
    "# Specify the columns to be written to the text file\n",
    "columns_to_write = [\"acc\",\"name\",\"total_count\",\"self_count\",\"center_name\",\"librarysource\",\"organism\",\"releasedate\",\"geo_loc_name_sam\"]\n",
    "\n",
    "# Write the specified columns to a text file\n",
    "output_file = 'stat_results_mpox.txt'\n",
    "df[columns_to_write].to_csv(output_file, sep='\\t', index=False)"
   ]
  },
  {
   "cell_type": "markdown",
   "id": "04eabbd9-24dc-4035-8dee-dd6f049a3270",
   "metadata": {},
   "source": [
    "If you want to experiment a bit, rerun the query with a different tax id, modify the total_count, and modify the time Interval and see how your results change. Or, we can run a few more example queries from the [NCBI STAT page](https://www.ncbi.nlm.nih.gov/sra/docs/sra-cloud-based-taxonomy-analysis-table/). "
   ]
  },
  {
   "cell_type": "markdown",
   "metadata": {},
   "source": [
    "## Conclusion\n",
    "Here you ran SQL queries using BigQuery to view STAT tables hosted in the cloud. "
   ]
  },
  {
   "cell_type": "markdown",
   "metadata": {},
   "source": [
    "## Clean Up\n",
    "Feel free to delete the Vertex AI instance where you ran this notebook"
   ]
  }
 ],
 "metadata": {
  "environment": {
   "kernel": "python3",
   "name": "tf2-gpu.2-11.m109",
   "type": "gcloud",
   "uri": "gcr.io/deeplearning-platform-release/tf2-gpu.2-11:m109"
  },
  "kernelspec": {
   "display_name": "Python 3",
   "language": "python",
   "name": "python3"
  },
  "language_info": {
   "codemirror_mode": {
    "name": "ipython",
    "version": 3
   },
   "file_extension": ".py",
   "mimetype": "text/x-python",
   "name": "python",
   "nbconvert_exporter": "python",
   "pygments_lexer": "ipython3",
   "version": "3.10.11"
  }
 },
 "nbformat": 4,
 "nbformat_minor": 5
}
